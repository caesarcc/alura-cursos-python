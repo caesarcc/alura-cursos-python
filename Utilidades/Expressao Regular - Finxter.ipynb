{
 "metadata": {
  "language_info": {
   "codemirror_mode": {
    "name": "ipython",
    "version": 3
   },
   "file_extension": ".py",
   "mimetype": "text/x-python",
   "name": "python",
   "nbconvert_exporter": "python",
   "pygments_lexer": "ipython3",
   "version": "3.8.6"
  },
  "orig_nbformat": 2,
  "kernelspec": {
   "name": "python386jvsc74a57bd018b1ce8544883839c972dcbef6ca9b6c1211bf92b87583781111d4ad38dddbf1",
   "display_name": "Python 3.8.6 64-bit ('py38_jupyter': conda)"
  }
 },
 "nbformat": 4,
 "nbformat_minor": 2,
 "cells": [
  {
   "cell_type": "code",
   "execution_count": 1,
   "metadata": {},
   "outputs": [
    {
     "output_type": "stream",
     "name": "stdout",
     "text": [
      "['she', 'she', 'she', 'she']\n<re.Match object; span=(34, 37), match='she'>\nNone\nNone\n['', 'LADY CAPULET', '', \"    Alack the day, she's dead, she's dead, she's dead!\", '', 'CAPULET', '', \"    Ha! let me see her: out, alas! she's cold:\", '    Her blood is settled, and her joints are stiff;', '    Life and these lips have long been separated:', '    Death lies on her like an untimely frost', '    Upon the sweetest flower of all the field.', '', 'Nurse', '', '    O lamentable day!', '']\n\nLADY CAPULET\n\n    Alack the day, he's dead, he's dead, he's dead!\n\nCAPULET\n\n    Ha! let me see her: out, alas! he's cold:\n    Her blood is settled, and her joints are stiff;\n    Life and these lips have long been separated:\n    Death lies on her like an untimely frost\n    Upon the sweetest flower of all the field.\n\nNurse\n\n    O lamentable day!\n\n"
     ]
    }
   ],
   "source": [
    "import re\n",
    "\n",
    "text = '''\n",
    "LADY CAPULET\n",
    "\n",
    "    Alack the day, she's dead, she's dead, she's dead!\n",
    "\n",
    "CAPULET\n",
    "\n",
    "    Ha! let me see her: out, alas! she's cold:\n",
    "    Her blood is settled, and her joints are stiff;\n",
    "    Life and these lips have long been separated:\n",
    "    Death lies on her like an untimely frost\n",
    "    Upon the sweetest flower of all the field.\n",
    "\n",
    "Nurse\n",
    "\n",
    "    O lamentable day!\n",
    "'''\n",
    "\n",
    "print(re.findall('she', text))\n",
    "'''\n",
    "Finds the pattern 'she' four times in the text:\n",
    "['she', 'she', 'she', 'she']\n",
    "'''\n",
    "\n",
    "print(re.search('she', text))\n",
    "'''\n",
    "Finds the first match of 'she' in the text:\n",
    "<re.Match object; span=(34, 37), match='she'>\n",
    "\n",
    "The match object contains important information such as the matched position.\n",
    "'''\n",
    "\n",
    "print(re.match('she', text))\n",
    "'''\n",
    "Tries to match any string prefix -- but nothing found:\n",
    "None\n",
    "'''\n",
    "\n",
    "print(re.fullmatch('she', text))\n",
    "'''\n",
    "Fails to match the whole string with the pattern 'she':\n",
    "None\n",
    "'''\n",
    "\n",
    "print(re.split('\\n', text))\n",
    "'''\n",
    "Splits the whole string on the new line delimiter '\\n':\n",
    "\n",
    "['', 'LADY CAPULET', '',\n",
    "\"    Alack the day, she's dead, she's dead, she's dead!\",\n",
    "'', 'CAPULET', '',\n",
    "\"    Ha! let me see her: out, alas! she's cold:\",\n",
    "'    Her blood is settled, and her joints are stiff;',\n",
    "'    Life and these lips have long been separated:',\n",
    "'    Death lies on her like an untimely frost',\n",
    "'    Upon the sweetest flower of all the field.', '',\n",
    "'Nurse', '', '    O lamentable day!', '']\n",
    "'''\n",
    "\n",
    "# Replaces all occurrences of 'she' with 'he':\n",
    "print(re.sub('she', 'he', text))"
   ]
  }
 ]
}