{
  "nbformat": 4,
  "nbformat_minor": 0,
  "metadata": {
    "colab": {
      "name": "wtf.ipynb",
      "provenance": [],
      "collapsed_sections": [
        "NtEwqvHRRSn2",
        "NWKNzemORSn3",
        "MRqh882SRSn6",
        "CIw60--kRSn9",
        "Sf1lFvA2RSoE",
        "Bv1B1LHfRSoO",
        "KK0gMuZPRSoU",
        "Rc97yO0ORSoY",
        "2KEDthXURSob",
        "wYdc5YTDRSod",
        "CVrw5ve4RSol",
        "SAvodnmoRSoo",
        "UwrYGH5VRSoq",
        "3ldOtLznRSor",
        "RaTccgRIRSos",
        "z3sboqgGRSov",
        "SGDnScKRRSo3",
        "jcJreuWcRSo3",
        "YSy3wTpfRSo4",
        "o7JFrd7ARSo4",
        "xKHCAqDzRSo7",
        "b8Z3g2w7RSpH",
        "WV3I2FWlRSpJ",
        "oyw7_f6oRSpM",
        "os0NtsqORSpV",
        "XjLpRDaHRSpV",
        "YDSbxhEHRSpY",
        "FS_Hq44qRSpY",
        "xiHIk4XJRSpg",
        "nfJcHjZ7RSpn",
        "W2jZXdOyRSpp",
        "OM8O1TUcRSpq",
        "b7_3FPruRSpr",
        "2W2BQSoMRSpr",
        "RETik5RDRSpv",
        "N_y5YDUhRSp1",
        "kuKvqdUKRSp5",
        "Q-O1JL2hRSp5",
        "O4_Sw6--RSp6",
        "Jw12mgTQRSp7",
        "QgQQaQZrRSp-",
        "DRr2KavfRSqG",
        "YxfzkoK4RSqP",
        "RRyISZsoRSqP",
        "yJTTZ1TGRSqX",
        "E4GMbA52RSqZ",
        "ZgVVKTBCRSqi",
        "SdFYkKu-RSql",
        "8UlQFocQRSqt",
        "QJoEPrPBRSqu",
        "MChzNUIVRSqx",
        "kVlZCcUTRSqx",
        "SyPC_pIcRSqz",
        "6IxzLStORSrP",
        "5QolRf5TRSrQ",
        "LYYpnoN4RSrT",
        "Y9zRkMxdRSrW",
        "CtlRmQvmRSrf",
        "5xyr7uqfRSrg",
        "TRWl_kSeRSrg",
        "mkPjGegsRSrk",
        "hJ1UTtcTRSrt",
        "WznLtvshRSry",
        "usz8KuTbRSr0",
        "3BcTSftGRSr2",
        "rwcuJfqsRSr5",
        "YcvW4J2gRSr-",
        "--SBOHDPRSr-",
        "qFlcAHwkRSsA",
        "wKLr7NHARSsC",
        "_ZfH_rWRRSsE",
        "5wYPEJs_RSsG",
        "9QuruBjvRSsS",
        "uCciEzLZRSsS",
        "lzR0sX_RRSse",
        "a50rQfMvRSsf",
        "Z8bMKxUmRSsy",
        "0x9UfM91RSs4",
        "A8XWLeojRStB",
        "MUDnqPwDRStQ",
        "nKDDvrU5RStT",
        "NeraUvToRStT",
        "RiwbmMHNRStU",
        "FBClT9ukRStU",
        "FmrRGuR-RStX",
        "JNiwSlJURStY",
        "BtzHrg6gRStZ",
        "OSqTySsGRSta",
        "93WvS0eiRStd",
        "ss74LoU-RSte",
        "oXIU3nOcRStg",
        "JG28CGHrRStj",
        "h8k6_Yj7RStl",
        "L6kVXDUvRStm",
        "Gdwc-Yb0RSto",
        "qtwPmIvMRSto",
        "nxrKZsgGRStp",
        "KOEb_j-uRStu",
        "jLCTIRLeRStv",
        "bReucSUwRStv",
        "wGIMFIAwRStz",
        "p5k1cbRzRStz",
        "ihKEQLpwRSt0",
        "4eAt_RHwRSt1",
        "Ti9GIVHfRSt2",
        "DPvGsjLxRSt2",
        "Gpvmm0eARSt3",
        "v5yTF2D-RSt4",
        "XoJVBwQHRSt5",
        "owH85TkmRSt5",
        "dh7f6UIFRSt_",
        "7KCaMbCLRSuA",
        "l1Jkmq9ERSuD",
        "8YZ7wENNRSuE",
        "Vcbh6gy-RSuL",
        "xq7P91y6RSuL",
        "-FobUdQ3RSuL",
        "-Hvu7q5YRSuP",
        "09nZCxRkRSuQ",
        "FlS31S9QRSuS",
        "Gi82q4-iRSuS",
        "TEa2FfepRSuT",
        "ieWiEp3uRSuU"
      ]
    }
  },
  "cells": [
    {
      "cell_type": "markdown",
      "metadata": {
        "id": "dap1eysYRSng"
      },
      "source": [
        "<p align=\"center\"><img src=\"/images/logo.png\" alt=\"\"></p>\n",
        "<h1 align=\"center\">What the f*ck Python! 😱</h1>\n",
        "<p align=\"center\">Exploring and understanding Python through surprising snippets.</p>\n",
        "\n",
        "Translations: [Chinese 中文](https://github.com/leisurelicht/wtfpython-cn) | [Vietnamese Tiếng Việt](https://github.com/vuduclyunitn/wtfptyhon-vi) | [Add translation](https://github.com/satwikkansal/wtfpython/issues/new?title=Add%20translation%20for%20[LANGUAGE]&body=Expected%20time%20to%20finish:%20[X]%20weeks.%20I%27ll%20start%20working%20on%20it%20from%20[Y].)\n",
        "\n",
        "Other modes: [Interactive](https://colab.research.google.com/github/satwikkansal/wtfpython/blob/master/irrelevant/wtf.ipynb) | [CLI](https://pypi.python.org/pypi/wtfpython)\n",
        "\n",
        "Python, being a beautifully designed high-level and interpreter-based programming language, provides us with many features for the programmer's comfort. But sometimes, the outcomes of a Python snippet may not seem obvious at first sight.\n",
        "\n",
        "Here's a fun project attempting to explain what exactly is happening under the hood for some counter-intuitive snippets and lesser-known features in Python.\n",
        "\n",
        "While some of the examples you see below may not be WTFs in the truest sense, but they'll reveal some of the interesting parts of Python that you might be unaware of. I find it a nice way to learn the internals of a programming language, and I believe that you'll find it interesting too!\n",
        "\n",
        "If you're an experienced Python programmer, you can take it as a challenge to get most of them right in the first attempt. You may have already experienced some of them before, and I might be able to revive sweet old memories of yours! :sweat_smile:\n",
        "\n",
        "PS: If you're a returning reader, you can learn about the new modifications [here](https://github.com/satwikkansal/wtfpython/releases/) (the examples marked with asterisk are the ones added in the latest major revision). \n",
        "\n",
        "So, here we go...\n",
        "\n",
        "\n",
        "# Structure of the Examples\n",
        "\n",
        "All the examples are structured like below:\n",
        "\n",
        "> ### ▶ Some fancy Title\n",
        ">\n",
        "> ```py\n",
        "> # Set up the code.\n",
        "> # Preparation for the magic...\n",
        "> ```\n",
        ">\n",
        "> **Output (Python version(s)):**\n",
        ">\n",
        "> ```py\n",
        "> >>> triggering_statement\n",
        "> Some unexpected output\n",
        "> ```\n",
        "> (Optional): One line describing the unexpected output.\n",
        ">\n",
        ">\n",
        "> #### 💡 Explanation:\n",
        ">\n",
        "> * Brief explanation of what's happening and why is it happening.\n",
        "> ```py\n",
        "> # Set up code\n",
        "> # More examples for further clarification (if necessary)\n",
        "> ```\n",
        "> **Output (Python version(s)):**\n",
        ">\n",
        "> ```py\n",
        "> >>> trigger # some example that makes it easy to unveil the magic\n",
        "> # some justified output\n",
        "> ```\n",
        "\n",
        "**Note:** All the examples are tested on Python 3.5.2 interactive interpreter, and they should work for all the Python versions unless explicitly specified before the output.\n",
        "\n",
        "# Usage\n",
        "\n",
        "A nice way to get the most out of these examples, in my opinion, is to read them chronologically, and for every example:\n",
        "- Carefully read the initial code for setting up the example. If you're an experienced Python programmer, you'll successfully anticipate what's going to happen next most of the time.\n",
        "- Read the output snippets and,\n",
        "  + Check if the outputs are the same as you'd expect.\n",
        "  + Make sure if you know the exact reason behind the output being the way it is.\n",
        "    - If the answer is no (which is perfectly okay), take a deep breath, and read the explanation (and if you still don't understand, shout out! and create an issue [here](https://github.com/satwikkansal/wtfpython/issues/new)).\n",
        "    - If yes, give a gentle pat on your back, and you may skip to the next example.\n",
        "\n",
        "PS: You can also read WTFPython at the command line using the [pypi package](https://pypi.python.org/pypi/wtfpython),\n",
        "```sh\n",
        "$ pip install wtfpython -U\n",
        "$ wtfpython\n",
        "```\n",
        "---\n",
        "\n",
        "# 👀 Examples\n",
        "\n",
        "\n",
        "\n",
        "## Hosted notebook instructions\n",
        "\n",
        "This is just an experimental attempt of browsing wtfpython through jupyter notebooks. Some examples are read-only because, \n",
        "- they either require a version of Python that's not supported in the hosted runtime.\n",
        "- or they can't be reproduced in the notebook envrinonment.\n",
        "\n",
        "The expected outputs are already present in collapsed cells following the code cells. The Google colab provides Python2 (2.7) and Python3 (3.6, default) runtimes. You can switch among these for Python2 specific examples. For examples specific to other minor versions, you can simply refer to collapsed outputs (it's not possible to control the minor version in hosted notebooks as of now). You can check the active version using\n",
        "\n",
        "```py\n",
        ">>> import sys\n",
        ">>> sys.version\n",
        "# Prints out Python version here.\n",
        "```\n",
        "\n",
        "That being said, most of the examples do work as expected. If you face any trouble, feel free to consult the original content on wtfpython and create an issue in the repo. Have fun!\n",
        "\n",
        "---\n"
      ]
    },
    {
      "cell_type": "markdown",
      "metadata": {
        "id": "TecmeTzSRSns"
      },
      "source": [
        "### ▶ Strings can be tricky sometimes\n",
        "1\\.\n",
        "\n"
      ]
    },
    {
      "cell_type": "code",
      "metadata": {
        "collapsed": true,
        "id": "lObPtDzHRSnt",
        "outputId": "7949d508-b972-4846-8807-61d99b058c32"
      },
      "source": [
        "a = \"some_string\"\n",
        "id(a)\n"
      ],
      "execution_count": null,
      "outputs": [
        {
          "output_type": "execute_result",
          "data": {
            "text/plain": [
              "140420665652016\n"
            ]
          },
          "metadata": {
            "tags": []
          },
          "execution_count": 0
        }
      ]
    },
    {
      "cell_type": "code",
      "metadata": {
        "collapsed": true,
        "id": "rfAsugBFRSnw",
        "outputId": "ca1dc739-6c7b-4631-b383-37c83dce6d4a"
      },
      "source": [
        "id(\"some\" + \"_\" + \"string\") # Notice that both the ids are same.\n"
      ],
      "execution_count": null,
      "outputs": [
        {
          "output_type": "execute_result",
          "data": {
            "text/plain": [
              "140420665652016\n"
            ]
          },
          "metadata": {
            "tags": []
          },
          "execution_count": 0
        }
      ]
    },
    {
      "cell_type": "markdown",
      "metadata": {
        "id": "4BFqK55QRSnx"
      },
      "source": [
        "\n",
        "2\\.\n"
      ]
    },
    {
      "cell_type": "code",
      "metadata": {
        "collapsed": true,
        "id": "H1G3IUw5RSnx",
        "outputId": "9153df73-4838-48c5-a710-cbf12ac84c77"
      },
      "source": [
        "a = \"wtf\"\n",
        "b = \"wtf\"\n",
        "a is b\n"
      ],
      "execution_count": null,
      "outputs": [
        {
          "output_type": "execute_result",
          "data": {
            "text/plain": [
              "True\n",
              "\n"
            ]
          },
          "metadata": {
            "tags": []
          },
          "execution_count": 0
        }
      ]
    },
    {
      "cell_type": "code",
      "metadata": {
        "collapsed": true,
        "id": "h4Of6TDtRSny",
        "outputId": "d68ed308-405b-4d8f-8d7c-756aaf1d8bdb"
      },
      "source": [
        "a = \"wtf!\"\n",
        "b = \"wtf!\"\n",
        "a is b\n"
      ],
      "execution_count": null,
      "outputs": [
        {
          "output_type": "execute_result",
          "data": {
            "text/plain": [
              "False\n",
              "\n"
            ]
          },
          "metadata": {
            "tags": []
          },
          "execution_count": 0
        }
      ]
    },
    {
      "cell_type": "markdown",
      "metadata": {
        "id": "udzbHGvRRSny"
      },
      "source": [
        "\n",
        "3\\.\n",
        "\n"
      ]
    },
    {
      "cell_type": "code",
      "metadata": {
        "collapsed": true,
        "id": "0ABJtD5GRSny",
        "outputId": "bef9ddf3-10c4-4eec-c273-6fb4e2629d9d"
      },
      "source": [
        "a, b = \"wtf!\", \"wtf!\"\n",
        "a is b # All versions except 3.7.x\n"
      ],
      "execution_count": null,
      "outputs": [
        {
          "output_type": "execute_result",
          "data": {
            "text/plain": [
              "True\n",
              "\n"
            ]
          },
          "metadata": {
            "tags": []
          },
          "execution_count": 0
        }
      ]
    },
    {
      "cell_type": "code",
      "metadata": {
        "collapsed": true,
        "id": "W6rksIusRSnz",
        "outputId": "61eba858-319c-4301-8102-ae21abb49b47"
      },
      "source": [
        "a = \"wtf!\"; b = \"wtf!\"\n",
        "a is b # This will print True or False depending on where you're invoking it (python shell / ipython / as a script)\n"
      ],
      "execution_count": null,
      "outputs": [
        {
          "output_type": "execute_result",
          "data": {
            "text/plain": [
              "False\n"
            ]
          },
          "metadata": {
            "tags": []
          },
          "execution_count": 0
        }
      ]
    },
    {
      "cell_type": "markdown",
      "metadata": {
        "id": "cwBmxXfDRSn0"
      },
      "source": [
        "\n"
      ]
    },
    {
      "cell_type": "code",
      "metadata": {
        "collapsed": true,
        "id": "n485iLhGRSn0",
        "outputId": "df24923c-da6e-46dd-ff4c-4ffc1c992ba4"
      },
      "source": [
        "# This time in file some_file.py\n",
        "a = \"wtf!\"\n",
        "b = \"wtf!\"\n",
        "print(a is b)\n",
        "\n",
        "# prints True when the module is invoked!\n"
      ],
      "execution_count": null,
      "outputs": [
        {
          "output_type": "stream",
          "text": [
            ""
          ],
          "name": "stdout"
        }
      ]
    },
    {
      "cell_type": "markdown",
      "metadata": {
        "id": "EIS3VoQjRSn0"
      },
      "source": [
        "\n",
        "4\\.\n",
        "\n",
        "**Output (< Python3.7 )**\n",
        "\n"
      ]
    },
    {
      "cell_type": "code",
      "metadata": {
        "collapsed": true,
        "id": "f86BX7UNRSn1",
        "outputId": "e9b2941a-bd74-48a0-ed6c-7305a5281119"
      },
      "source": [
        "'a' * 20 is 'aaaaaaaaaaaaaaaaaaaa'\n"
      ],
      "execution_count": null,
      "outputs": [
        {
          "output_type": "execute_result",
          "data": {
            "text/plain": [
              "True\n"
            ]
          },
          "metadata": {
            "tags": []
          },
          "execution_count": 0
        }
      ]
    },
    {
      "cell_type": "code",
      "metadata": {
        "collapsed": true,
        "id": "5afECzw4RSn1",
        "outputId": "f9c9ede1-0b4c-4a7f-eb5f-bb0e3ca9abc7"
      },
      "source": [
        "'a' * 21 is 'aaaaaaaaaaaaaaaaaaaaa'\n"
      ],
      "execution_count": null,
      "outputs": [
        {
          "output_type": "execute_result",
          "data": {
            "text/plain": [
              "False\n"
            ]
          },
          "metadata": {
            "tags": []
          },
          "execution_count": 0
        }
      ]
    },
    {
      "cell_type": "markdown",
      "metadata": {
        "id": "wN0S1pErRSn2"
      },
      "source": [
        "\n",
        "Makes sense, right?\n",
        "\n"
      ]
    },
    {
      "cell_type": "markdown",
      "metadata": {
        "id": "NtEwqvHRRSn2"
      },
      "source": [
        "#### 💡 Explanation:\n",
        "+ The behavior in first and second snippets is due to a CPython optimization (called string interning) that tries to use existing immutable objects in some cases rather than creating a new object every time.\n",
        "+ After being \"interned,\" many variables may reference the same string object in memory (saving memory thereby).\n",
        "+ In the snippets above, strings are implicitly interned. The decision of when to implicitly intern a string is implementation-dependent. There are some rules that can be used to guess if a string will be interned or not:\n",
        "  * All length 0 and length 1 strings are interned.\n",
        "  * Strings are interned at compile time (`'wtf'` will be interned but `''.join(['w', 't', 'f'])` will not be interned)\n",
        "  * Strings that are not composed of ASCII letters, digits or underscores, are not interned. This explains why `'wtf!'` was not interned due to `!`. CPython implementation of this rule can be found [here](https://github.com/python/cpython/blob/3.6/Objects/codeobject.c#L19)\n",
        "  ![image](/images/string-intern/string_intern.png)\n",
        "+ When `a` and `b` are set to `\"wtf!\"` in the same line, the Python interpreter creates a new object, then references the second variable at the same time. If you do it on separate lines, it doesn't \"know\" that there's already `\"wtf!\"` as an object (because `\"wtf!\"` is not implicitly interned as per the facts mentioned above). It's a compile-time optimization. This optimization doesn't apply to 3.7.x versions of CPython (check this [issue](https://github.com/satwikkansal/wtfpython/issues/100) for more discussion).\n",
        "+ A compile unit in an interactive environment like IPython consists of a single statement, whereas it consists of the entire module in case of modules. `a, b = \"wtf!\", \"wtf!\"` is single statement, whereas `a = \"wtf!\"; b = \"wtf!\"` are two statements in a single line. This explains why the identities are different in `a = \"wtf!\"; b = \"wtf!\"`, and also explain why they are same when invoked in `some_file.py`\n",
        "+ The abrupt change in the output of the fourth snippet is due to a [peephole optimization](https://en.wikipedia.org/wiki/Peephole_optimization) technique known as Constant folding. This means the expression `'a'*20` is replaced by `'aaaaaaaaaaaaaaaaaaaa'` during compilation to save a  few clock cycles during runtime. Constant folding only occurs for strings having a length of less than 21. (Why? Imagine the size of `.pyc` file generated as a result of the expression `'a'*10**10`). [Here's](https://github.com/python/cpython/blob/3.6/Python/peephole.c#L288) the implementation source for the same.\n",
        "+ Note: In Python 3.7, Constant folding was moved out from peephole optimizer to the new AST optimizer with some change in logic as well, so the fourth snippet doesn't work for Python 3.7. You can read more about the change [here](https://bugs.python.org/issue11549). \n",
        "\n"
      ]
    },
    {
      "cell_type": "markdown",
      "metadata": {
        "id": "NWKNzemORSn3"
      },
      "source": [
        "### ▶ Be careful with chained operations\n"
      ]
    },
    {
      "cell_type": "code",
      "metadata": {
        "collapsed": true,
        "id": "ti6IWtzERSn3",
        "outputId": "5495fee2-9dfe-4e16-8711-e0faffe300fc"
      },
      "source": [
        "(False == False) in [False] # makes sense\n"
      ],
      "execution_count": null,
      "outputs": [
        {
          "output_type": "execute_result",
          "data": {
            "text/plain": [
              "False\n"
            ]
          },
          "metadata": {
            "tags": []
          },
          "execution_count": 0
        }
      ]
    },
    {
      "cell_type": "code",
      "metadata": {
        "collapsed": true,
        "id": "nq94-AJVRSn3",
        "outputId": "a0a3c835-4f55-4bd1-818d-d9e69162dfaf"
      },
      "source": [
        "False == (False in [False]) # makes sense\n"
      ],
      "execution_count": null,
      "outputs": [
        {
          "output_type": "execute_result",
          "data": {
            "text/plain": [
              "False\n"
            ]
          },
          "metadata": {
            "tags": []
          },
          "execution_count": 0
        }
      ]
    },
    {
      "cell_type": "code",
      "metadata": {
        "collapsed": true,
        "id": "BzGSXRC9RSn4",
        "outputId": "e1bb50e2-6a5a-4ecf-a276-f1b006d1d253"
      },
      "source": [
        "False == False in [False] # now what?\n"
      ],
      "execution_count": null,
      "outputs": [
        {
          "output_type": "execute_result",
          "data": {
            "text/plain": [
              "True\n",
              "\n"
            ]
          },
          "metadata": {
            "tags": []
          },
          "execution_count": 0
        }
      ]
    },
    {
      "cell_type": "code",
      "metadata": {
        "collapsed": true,
        "id": "nqQe5xccRSn4",
        "outputId": "d29116d9-6ca2-438e-958b-135fd531e9da"
      },
      "source": [
        "True is False == False\n"
      ],
      "execution_count": null,
      "outputs": [
        {
          "output_type": "execute_result",
          "data": {
            "text/plain": [
              "False\n"
            ]
          },
          "metadata": {
            "tags": []
          },
          "execution_count": 0
        }
      ]
    },
    {
      "cell_type": "code",
      "metadata": {
        "collapsed": true,
        "id": "VaGXqTiuRSn4",
        "outputId": "c5aa8f0f-1cbc-43dc-8b97-949b8e430e6a"
      },
      "source": [
        "False is False is False\n"
      ],
      "execution_count": null,
      "outputs": [
        {
          "output_type": "execute_result",
          "data": {
            "text/plain": [
              "True\n",
              "\n"
            ]
          },
          "metadata": {
            "tags": []
          },
          "execution_count": 0
        }
      ]
    },
    {
      "cell_type": "code",
      "metadata": {
        "collapsed": true,
        "id": "7Iwp2oAtRSn5",
        "outputId": "74dca5af-498f-4649-8977-45aec3bb4965"
      },
      "source": [
        "1 > 0 < 1\n"
      ],
      "execution_count": null,
      "outputs": [
        {
          "output_type": "execute_result",
          "data": {
            "text/plain": [
              "True\n"
            ]
          },
          "metadata": {
            "tags": []
          },
          "execution_count": 0
        }
      ]
    },
    {
      "cell_type": "code",
      "metadata": {
        "collapsed": true,
        "id": "qzNsl51WRSn5",
        "outputId": "59ef312c-8aa2-427b-8bc9-7195ca9fb0ef"
      },
      "source": [
        "(1 > 0) < 1\n"
      ],
      "execution_count": null,
      "outputs": [
        {
          "output_type": "execute_result",
          "data": {
            "text/plain": [
              "False\n"
            ]
          },
          "metadata": {
            "tags": []
          },
          "execution_count": 0
        }
      ]
    },
    {
      "cell_type": "code",
      "metadata": {
        "collapsed": true,
        "id": "7xj5uc1ORSn6",
        "outputId": "c68f5249-82ea-412f-8294-b212059ee295"
      },
      "source": [
        "1 > (0 < 1)\n"
      ],
      "execution_count": null,
      "outputs": [
        {
          "output_type": "execute_result",
          "data": {
            "text/plain": [
              "False\n"
            ]
          },
          "metadata": {
            "tags": []
          },
          "execution_count": 0
        }
      ]
    },
    {
      "cell_type": "markdown",
      "metadata": {
        "id": "8U7NxbmXRSn6"
      },
      "source": [
        "\n"
      ]
    },
    {
      "cell_type": "markdown",
      "metadata": {
        "id": "MRqh882SRSn6"
      },
      "source": [
        "#### 💡 Explanation:\n",
        "\n",
        "As per https://docs.python.org/3/reference/expressions.html#membership-test-operations\n",
        "\n",
        "> Formally, if a, b, c, ..., y, z are expressions and op1, op2, ..., opN are comparison operators, then a op1 b op2 c ... y opN z is equivalent to a op1 b and b op2 c and ... y opN z, except that each expression is evaluated at most once.\n",
        "\n",
        "While such behavior might seem silly to you in the above examples, it's fantastic with stuff like `a == b == c` and `0 <= x <= 100`.\n",
        "\n",
        "* `False is False is False` is equivalent to `(False is False) and (False is False)`\n",
        "* `True is False == False` is equivalent to `True is False and False == False` and since the first part of the statement (`True is False`) evaluates to `False`, the overall expression evaluates to `False`.\n",
        "* `1 > 0 < 1` is equivalent to `1 > 0 and 0 < 1` which evaluates to `True`.\n",
        "* The expression `(1 > 0) < 1` is equivalent to `True < 1` and\n"
      ]
    },
    {
      "cell_type": "code",
      "metadata": {
        "collapsed": true,
        "id": "9OKOQh3FRSn7",
        "outputId": "5867ffa1-1bc8-4918-db25-0af5ae327d6a"
      },
      "source": [
        "  int(True)\n"
      ],
      "execution_count": null,
      "outputs": [
        {
          "output_type": "execute_result",
          "data": {
            "text/plain": [
              "  1\n"
            ]
          },
          "metadata": {
            "tags": []
          },
          "execution_count": 0
        }
      ]
    },
    {
      "cell_type": "code",
      "metadata": {
        "collapsed": true,
        "id": "GttBwCJiRSn7",
        "outputId": "86d11f7e-7ffb-4a05-f1eb-8b0a30b03baa"
      },
      "source": [
        "  True + 1 #not relevant for this example, but just for fun\n"
      ],
      "execution_count": null,
      "outputs": [
        {
          "output_type": "execute_result",
          "data": {
            "text/plain": [
              "  2\n"
            ]
          },
          "metadata": {
            "tags": []
          },
          "execution_count": 0
        }
      ]
    },
    {
      "cell_type": "markdown",
      "metadata": {
        "id": "EJlUkHsvRSn8"
      },
      "source": [
        "  So, `1 < 1` evaluates to `False`\n",
        "\n"
      ]
    },
    {
      "cell_type": "markdown",
      "metadata": {
        "id": "CIw60--kRSn9"
      },
      "source": [
        "### ▶ How not to use `is` operator\n",
        "The following is a very famous example present all over the internet.\n",
        "\n",
        "1\\.\n",
        "\n"
      ]
    },
    {
      "cell_type": "code",
      "metadata": {
        "collapsed": true,
        "id": "t1fy0Rx_RSn-",
        "outputId": "2606c0cd-5ffe-4a1b-9017-2b38b91c67a5"
      },
      "source": [
        "a = 256\n",
        "b = 256\n",
        "a is b\n"
      ],
      "execution_count": null,
      "outputs": [
        {
          "output_type": "execute_result",
          "data": {
            "text/plain": [
              "True\n",
              "\n"
            ]
          },
          "metadata": {
            "tags": []
          },
          "execution_count": 0
        }
      ]
    },
    {
      "cell_type": "code",
      "metadata": {
        "collapsed": true,
        "id": "hguCg0GWRSn-",
        "outputId": "15eb8950-30e4-4442-efe7-c0d44698837a"
      },
      "source": [
        "a = 257\n",
        "b = 257\n",
        "a is b\n"
      ],
      "execution_count": null,
      "outputs": [
        {
          "output_type": "execute_result",
          "data": {
            "text/plain": [
              "False\n"
            ]
          },
          "metadata": {
            "tags": []
          },
          "execution_count": 0
        }
      ]
    },
    {
      "cell_type": "markdown",
      "metadata": {
        "id": "tUrKdpyERSn_"
      },
      "source": [
        "\n",
        "2\\.\n",
        "\n"
      ]
    },
    {
      "cell_type": "code",
      "metadata": {
        "collapsed": true,
        "id": "llVyEGIlRSoA",
        "outputId": "f56b32b0-22ab-4de1-9734-c2d5f7280278"
      },
      "source": [
        "a = []\n",
        "b = []\n",
        "a is b\n"
      ],
      "execution_count": null,
      "outputs": [
        {
          "output_type": "execute_result",
          "data": {
            "text/plain": [
              "False\n",
              "\n"
            ]
          },
          "metadata": {
            "tags": []
          },
          "execution_count": 0
        }
      ]
    },
    {
      "cell_type": "code",
      "metadata": {
        "collapsed": true,
        "id": "3qioQZBTRSoB",
        "outputId": "7eddd2bc-81b3-4314-b944-a6d9876e8990"
      },
      "source": [
        "a = tuple()\n",
        "b = tuple()\n",
        "a is b\n"
      ],
      "execution_count": null,
      "outputs": [
        {
          "output_type": "execute_result",
          "data": {
            "text/plain": [
              "True\n"
            ]
          },
          "metadata": {
            "tags": []
          },
          "execution_count": 0
        }
      ]
    },
    {
      "cell_type": "markdown",
      "metadata": {
        "id": "PNxFZTOHRSoC"
      },
      "source": [
        "\n",
        "3\\.\n",
        "**Output**\n",
        "\n"
      ]
    },
    {
      "cell_type": "code",
      "metadata": {
        "collapsed": true,
        "id": "7dKGy1yCRSoD",
        "outputId": "a394b5af-6cc4-4d2d-8158-c62ca0806a8c"
      },
      "source": [
        "a, b = 257, 257\n",
        "a is b\n"
      ],
      "execution_count": null,
      "outputs": [
        {
          "output_type": "execute_result",
          "data": {
            "text/plain": [
              "True\n"
            ]
          },
          "metadata": {
            "tags": []
          },
          "execution_count": 0
        }
      ]
    },
    {
      "cell_type": "markdown",
      "metadata": {
        "id": "KEubceEfRSoD"
      },
      "source": [
        "\n",
        "**Output (Python 3.7.x specifically)**\n",
        "\n"
      ]
    },
    {
      "cell_type": "code",
      "metadata": {
        "collapsed": true,
        "id": "g3w9GbEARSoE",
        "outputId": "564ac529-0d61-46f7-9cf4-35cf29d2a9e0"
      },
      "source": [
        "a, b = 257, 257\n"
      ],
      "execution_count": null,
      "outputs": [
        {
          "output_type": "execute_result",
          "data": {
            "text/plain": [
              ">> a is b\n",
              "False\n"
            ]
          },
          "metadata": {
            "tags": []
          },
          "execution_count": 0
        }
      ]
    },
    {
      "cell_type": "markdown",
      "metadata": {
        "id": "s_MlXbw7RSoE"
      },
      "source": [
        "\n"
      ]
    },
    {
      "cell_type": "markdown",
      "metadata": {
        "id": "Sf1lFvA2RSoE"
      },
      "source": [
        "#### 💡 Explanation:\n",
        "\n",
        "**The difference between `is` and `==`**\n",
        "\n",
        "* `is` operator checks if both the operands refer to the same object (i.e., it checks if the identity of the operands matches or not).\n",
        "* `==` operator compares the values of both the operands and checks if they are the same.\n",
        "* So `is` is for reference equality and `==` is for value equality. An example to clear things up,\n"
      ]
    },
    {
      "cell_type": "code",
      "metadata": {
        "collapsed": true,
        "id": "eVA9pY91RSoF",
        "outputId": "1acad783-1c64-4d13-e949-0e5db06993dc"
      },
      "source": [
        "  class A: pass\n",
        "  A() is A() # These are two empty objects at two different memory locations.\n"
      ],
      "execution_count": null,
      "outputs": [
        {
          "output_type": "execute_result",
          "data": {
            "text/plain": [
              "  False\n"
            ]
          },
          "metadata": {
            "tags": []
          },
          "execution_count": 0
        }
      ]
    },
    {
      "cell_type": "markdown",
      "metadata": {
        "id": "lSqUMWMpRSoF"
      },
      "source": [
        "\n",
        "**`256` is an existing object but `257` isn't**\n",
        "\n",
        "When you start up python the numbers from `-5` to `256` will be allocated. These numbers are used a lot, so it makes sense just to have them ready.\n",
        "\n",
        "Quoting from https://docs.python.org/3/c-api/long.html\n",
        "> The current implementation keeps an array of integer objects for all integers between -5 and 256, when you create an int in that range you just get back a reference to the existing object. So it should be possible to change the value of 1. I suspect the behavior of Python, in this case, is undefined. :-)\n",
        "\n"
      ]
    },
    {
      "cell_type": "code",
      "metadata": {
        "collapsed": true,
        "id": "UYVtr53MRSoF",
        "outputId": "6477a908-e553-494e-e4d3-58f361473446"
      },
      "source": [
        "id(256)\n"
      ],
      "execution_count": null,
      "outputs": [
        {
          "output_type": "execute_result",
          "data": {
            "text/plain": [
              "10922528\n"
            ]
          },
          "metadata": {
            "tags": []
          },
          "execution_count": 0
        }
      ]
    },
    {
      "cell_type": "code",
      "metadata": {
        "collapsed": true,
        "id": "DbMftY4IRSoG",
        "outputId": "723ca574-f898-4c65-d1b7-1a8309083461"
      },
      "source": [
        "a = 256\n",
        "b = 256\n",
        "id(a)\n"
      ],
      "execution_count": null,
      "outputs": [
        {
          "output_type": "execute_result",
          "data": {
            "text/plain": [
              "10922528\n"
            ]
          },
          "metadata": {
            "tags": []
          },
          "execution_count": 0
        }
      ]
    },
    {
      "cell_type": "code",
      "metadata": {
        "collapsed": true,
        "id": "Yx9hSusWRSoG",
        "outputId": "55a1f3df-f924-4808-b271-7e07b65190ff"
      },
      "source": [
        "id(b)\n"
      ],
      "execution_count": null,
      "outputs": [
        {
          "output_type": "execute_result",
          "data": {
            "text/plain": [
              "10922528\n"
            ]
          },
          "metadata": {
            "tags": []
          },
          "execution_count": 0
        }
      ]
    },
    {
      "cell_type": "code",
      "metadata": {
        "collapsed": true,
        "id": "NUY_1L3vRSoG",
        "outputId": "1b14d7aa-526a-43d5-8aa8-5a98fabdb6b3"
      },
      "source": [
        "id(257)\n"
      ],
      "execution_count": null,
      "outputs": [
        {
          "output_type": "execute_result",
          "data": {
            "text/plain": [
              "140084850247312\n"
            ]
          },
          "metadata": {
            "tags": []
          },
          "execution_count": 0
        }
      ]
    },
    {
      "cell_type": "code",
      "metadata": {
        "collapsed": true,
        "id": "TNovSJqFRSoH",
        "outputId": "59f5d2bc-01e3-49a9-98ab-cf6d3e1b23a4"
      },
      "source": [
        "x = 257\n",
        "y = 257\n",
        "id(x)\n"
      ],
      "execution_count": null,
      "outputs": [
        {
          "output_type": "execute_result",
          "data": {
            "text/plain": [
              "140084850247440\n"
            ]
          },
          "metadata": {
            "tags": []
          },
          "execution_count": 0
        }
      ]
    },
    {
      "cell_type": "code",
      "metadata": {
        "collapsed": true,
        "id": "ZzNASGJYRSoH",
        "outputId": "f32d63ff-060c-421d-c17c-cb072922c524"
      },
      "source": [
        "id(y)\n"
      ],
      "execution_count": null,
      "outputs": [
        {
          "output_type": "execute_result",
          "data": {
            "text/plain": [
              "140084850247344\n"
            ]
          },
          "metadata": {
            "tags": []
          },
          "execution_count": 0
        }
      ]
    },
    {
      "cell_type": "markdown",
      "metadata": {
        "id": "yCyi-iIARSoH"
      },
      "source": [
        "\n",
        "Here the interpreter isn't smart enough while executing `y = 257` to recognize that we've already created an integer of the value `257,` and so it goes on to create another object in the memory.\n",
        "\n",
        "Similar optimization applies to other **immutable** objects like empty tuples as well. Since lists are mutable, that's why `[] is []` will return `False` and `() is ()` will return `True`. This explains our second snippet. Let's move on to the third one, \n",
        "\n",
        "**Both `a` and `b` refer to the same object when initialized with same value in the same line.**\n",
        "\n",
        "**Output**\n",
        "\n"
      ]
    },
    {
      "cell_type": "code",
      "metadata": {
        "collapsed": true,
        "id": "UppOm_w1RSoI",
        "outputId": "3b434a3e-e292-4fe6-cf24-0610cdddb333"
      },
      "source": [
        "a, b = 257, 257\n",
        "id(a)\n"
      ],
      "execution_count": null,
      "outputs": [
        {
          "output_type": "execute_result",
          "data": {
            "text/plain": [
              "140640774013296\n"
            ]
          },
          "metadata": {
            "tags": []
          },
          "execution_count": 0
        }
      ]
    },
    {
      "cell_type": "code",
      "metadata": {
        "collapsed": true,
        "id": "-BvaYmkURSoJ",
        "outputId": "335eab38-7b59-4193-bdf1-83843bfe323b"
      },
      "source": [
        "id(b)\n"
      ],
      "execution_count": null,
      "outputs": [
        {
          "output_type": "execute_result",
          "data": {
            "text/plain": [
              "140640774013296\n"
            ]
          },
          "metadata": {
            "tags": []
          },
          "execution_count": 0
        }
      ]
    },
    {
      "cell_type": "code",
      "metadata": {
        "collapsed": true,
        "id": "G3xGtE1PRSoJ",
        "outputId": "d0a5db5b-3442-4a08-a3f4-e5e5fd38fa99"
      },
      "source": [
        "a = 257\n",
        "b = 257\n",
        "id(a)\n"
      ],
      "execution_count": null,
      "outputs": [
        {
          "output_type": "execute_result",
          "data": {
            "text/plain": [
              "140640774013392\n"
            ]
          },
          "metadata": {
            "tags": []
          },
          "execution_count": 0
        }
      ]
    },
    {
      "cell_type": "code",
      "metadata": {
        "collapsed": true,
        "id": "qBZTyw0SRSoK",
        "outputId": "6bb3df88-b90e-47ae-9042-1ee8dda92087"
      },
      "source": [
        "id(b)\n"
      ],
      "execution_count": null,
      "outputs": [
        {
          "output_type": "execute_result",
          "data": {
            "text/plain": [
              "140640774013488\n"
            ]
          },
          "metadata": {
            "tags": []
          },
          "execution_count": 0
        }
      ]
    },
    {
      "cell_type": "markdown",
      "metadata": {
        "id": "mTu-xbVCRSoK"
      },
      "source": [
        "\n",
        "* When a and b are set to `257` in the same line, the Python interpreter creates a new object, then references the second variable at the same time. If you do it on separate lines, it doesn't \"know\" that there's already `257` as an object.\n",
        "\n",
        "* It's a compiler optimization and specifically applies to the interactive environment. When you enter two lines in a live interpreter, they're compiled separately, therefore optimized separately. If you were to try this example in a `.py` file, you would not see the same behavior, because the file is compiled all at once. This optimization is not limited to integers, it works for other immutable data types like strings (check the \"Strings are tricky example\") and floats as well,\n",
        "\n"
      ]
    },
    {
      "cell_type": "code",
      "metadata": {
        "collapsed": true,
        "id": "x1bvVUQyRSoL",
        "outputId": "353734c4-0c80-43e8-c6a2-6609faddba9d"
      },
      "source": [
        "  a, b = 257.0, 257.0\n",
        "  a is b\n"
      ],
      "execution_count": null,
      "outputs": [
        {
          "output_type": "execute_result",
          "data": {
            "text/plain": [
              "  True\n"
            ]
          },
          "metadata": {
            "tags": []
          },
          "execution_count": 0
        }
      ]
    },
    {
      "cell_type": "markdown",
      "metadata": {
        "id": "b-p390WrRSoM"
      },
      "source": [
        "\n",
        "* Why didn't this work for Python 3.7? The abstract reason is because such compiler optimizations are implementation specific (i.e. may change with version, OS, etc). I'm still figuring out what exact implementation change cause the issue, you can check out this [issue](https://github.com/satwikkansal/wtfpython/issues/100) for updates.\n",
        "\n"
      ]
    },
    {
      "cell_type": "markdown",
      "metadata": {
        "id": "Bv1B1LHfRSoO"
      },
      "source": [
        "### ▶ Hash brownies\n",
        "1\\.\n"
      ]
    },
    {
      "cell_type": "code",
      "metadata": {
        "collapsed": true,
        "id": "ad6FpFwaRSoQ",
        "outputId": "088619d9-bd2a-4136-a11c-23394f955088"
      },
      "source": [
        "some_dict = {}\n",
        "some_dict[5.5] = \"JavaScript\"\n",
        "some_dict[5.0] = \"Ruby\"\n",
        "some_dict[5] = \"Python\"\n"
      ],
      "execution_count": null,
      "outputs": [
        {
          "output_type": "execute_result",
          "data": {
            "text/plain": [
              ""
            ]
          },
          "metadata": {
            "tags": []
          },
          "execution_count": 0
        }
      ]
    },
    {
      "cell_type": "markdown",
      "metadata": {
        "id": "Tr6eSXI9RSoR"
      },
      "source": [
        "\n",
        "**Output:**\n",
        "\n"
      ]
    },
    {
      "cell_type": "code",
      "metadata": {
        "collapsed": true,
        "id": "yvz43_rwRSoR",
        "outputId": "a1f191d2-8362-410c-e199-462a8e4f0f1d"
      },
      "source": [
        "some_dict[5.5]\n"
      ],
      "execution_count": null,
      "outputs": [
        {
          "output_type": "execute_result",
          "data": {
            "text/plain": [
              "\"JavaScript\"\n"
            ]
          },
          "metadata": {
            "tags": []
          },
          "execution_count": 0
        }
      ]
    },
    {
      "cell_type": "code",
      "metadata": {
        "collapsed": true,
        "id": "H4mN3NpDRSoS",
        "outputId": "b966eb37-f453-4a25-9358-2e07e010f0a0"
      },
      "source": [
        "some_dict[5.0] # \"Python\" destroyed the existence of \"Ruby\"?\n"
      ],
      "execution_count": null,
      "outputs": [
        {
          "output_type": "execute_result",
          "data": {
            "text/plain": [
              "\"Python\"\n"
            ]
          },
          "metadata": {
            "tags": []
          },
          "execution_count": 0
        }
      ]
    },
    {
      "cell_type": "code",
      "metadata": {
        "collapsed": true,
        "id": "yHtOVr4fRSoT",
        "outputId": "8bf5ba34-812a-4d98-87c7-2758f4145ccd"
      },
      "source": [
        "some_dict[5] \n"
      ],
      "execution_count": null,
      "outputs": [
        {
          "output_type": "execute_result",
          "data": {
            "text/plain": [
              "\"Python\"\n",
              "\n"
            ]
          },
          "metadata": {
            "tags": []
          },
          "execution_count": 0
        }
      ]
    },
    {
      "cell_type": "code",
      "metadata": {
        "collapsed": true,
        "id": "lV0UveMBRSoT",
        "outputId": "f4fed56c-5f54-4da6-c12b-773f181c3188"
      },
      "source": [
        "complex_five = 5 + 0j\n",
        "type(complex_five)\n"
      ],
      "execution_count": null,
      "outputs": [
        {
          "output_type": "execute_result",
          "data": {
            "text/plain": [
              "complex\n"
            ]
          },
          "metadata": {
            "tags": []
          },
          "execution_count": 0
        }
      ]
    },
    {
      "cell_type": "code",
      "metadata": {
        "collapsed": true,
        "id": "T__2MsBIRSoU",
        "outputId": "e0468ee0-c7f8-41f2-950e-d3903d25fa42"
      },
      "source": [
        "some_dict[complex_five]\n"
      ],
      "execution_count": null,
      "outputs": [
        {
          "output_type": "execute_result",
          "data": {
            "text/plain": [
              "\"Python\"\n"
            ]
          },
          "metadata": {
            "tags": []
          },
          "execution_count": 0
        }
      ]
    },
    {
      "cell_type": "markdown",
      "metadata": {
        "id": "tJFemm2BRSoU"
      },
      "source": [
        "\n",
        "So, why is Python all over the place?\n",
        "\n",
        "\n"
      ]
    },
    {
      "cell_type": "markdown",
      "metadata": {
        "id": "KK0gMuZPRSoU"
      },
      "source": [
        "#### 💡 Explanation\n",
        "\n",
        "* Uniqueness of keys in a Python dictionary is by *equivalence*, not identity. So even though `5`, `5.0`, and `5 + 0j` are distinct objects of different types, since they're equal, they can't both be in the same `dict` (or `set`). As soon as you insert any one of them, attempting to look up any distinct but equivalent key will succeed with the original mapped value (rather than failing with a `KeyError`):\n"
      ]
    },
    {
      "cell_type": "code",
      "metadata": {
        "collapsed": true,
        "id": "2XSd-BVsRSoV",
        "outputId": "22899124-373d-418a-a479-1323904b1fc7"
      },
      "source": [
        "  5 == 5.0 == 5 + 0j\n"
      ],
      "execution_count": null,
      "outputs": [
        {
          "output_type": "execute_result",
          "data": {
            "text/plain": [
              "  True\n"
            ]
          },
          "metadata": {
            "tags": []
          },
          "execution_count": 0
        }
      ]
    },
    {
      "cell_type": "code",
      "metadata": {
        "collapsed": true,
        "id": "xDsHepP9RSoV",
        "outputId": "9b562046-f2a1-46e2-c506-dc3c5ab25a43"
      },
      "source": [
        "  5 is not 5.0 is not 5 + 0j\n"
      ],
      "execution_count": null,
      "outputs": [
        {
          "output_type": "execute_result",
          "data": {
            "text/plain": [
              "  True\n"
            ]
          },
          "metadata": {
            "tags": []
          },
          "execution_count": 0
        }
      ]
    },
    {
      "cell_type": "code",
      "metadata": {
        "collapsed": true,
        "id": "-_o7zXKZRSoV",
        "outputId": "5b0a5d72-aef7-43cc-b7c1-e087c379b977"
      },
      "source": [
        "  some_dict = {}\n",
        "  some_dict[5.0] = \"Ruby\"\n",
        "  5.0 in some_dict\n"
      ],
      "execution_count": null,
      "outputs": [
        {
          "output_type": "execute_result",
          "data": {
            "text/plain": [
              "  True\n"
            ]
          },
          "metadata": {
            "tags": []
          },
          "execution_count": 0
        }
      ]
    },
    {
      "cell_type": "code",
      "metadata": {
        "collapsed": true,
        "id": "8jXz0m3qRSoW",
        "outputId": "b9b162dd-1181-4264-e7df-63786c7c1e98"
      },
      "source": [
        "  (5 in some_dict) and (5 + 0j in some_dict)\n"
      ],
      "execution_count": null,
      "outputs": [
        {
          "output_type": "execute_result",
          "data": {
            "text/plain": [
              "  True\n"
            ]
          },
          "metadata": {
            "tags": []
          },
          "execution_count": 0
        }
      ]
    },
    {
      "cell_type": "markdown",
      "metadata": {
        "id": "AuEVWpYuRSoW"
      },
      "source": [
        "* This applies when setting an item as well. So when you do `some_dict[5] = \"Python\"`, Python finds the existing item with equivalent key `5.0 -> \"Ruby\"`, overwrites its value in place, and leaves the original key alone.\n"
      ]
    },
    {
      "cell_type": "code",
      "metadata": {
        "collapsed": true,
        "id": "7hBaqRGCRSoW",
        "outputId": "695a1f7a-17c1-448b-a595-9667bcb50b2a"
      },
      "source": [
        "  some_dict\n"
      ],
      "execution_count": null,
      "outputs": [
        {
          "output_type": "execute_result",
          "data": {
            "text/plain": [
              "  {5.0: 'Ruby'}\n"
            ]
          },
          "metadata": {
            "tags": []
          },
          "execution_count": 0
        }
      ]
    },
    {
      "cell_type": "code",
      "metadata": {
        "collapsed": true,
        "id": "PeyIWrExRSoX",
        "outputId": "372fbe14-ec9c-489f-adf7-1cfdf0e6abbb"
      },
      "source": [
        "  some_dict[5] = \"Python\"\n",
        "  some_dict\n"
      ],
      "execution_count": null,
      "outputs": [
        {
          "output_type": "execute_result",
          "data": {
            "text/plain": [
              "  {5.0: 'Python'}\n"
            ]
          },
          "metadata": {
            "tags": []
          },
          "execution_count": 0
        }
      ]
    },
    {
      "cell_type": "markdown",
      "metadata": {
        "id": "BUcTn4SBRSoX"
      },
      "source": [
        "* So how can we update the key to `5` (instead of `5.0`)? We can't actually do this update in place, but what we can do is first delete the key (`del some_dict[5.0]`), and then set it (`some_dict[5]`) to get the integer `5` as the key instead of floating `5.0`, though this should be needed in rare cases.\n",
        "\n",
        "* How did Python find `5` in a dictionary containing `5.0`? Python does this in constant time without having to scan through every item by using hash functions. When Python looks up a key `foo` in a dict, it first computes `hash(foo)` (which runs in constant-time). Since in Python it is required that objects that compare equal also have the same hash value ([docs](https://docs.python.org/3/reference/datamodel.html#object.__hash__) here), `5`, `5.0`, and `5 + 0j` have the same hash value.\n"
      ]
    },
    {
      "cell_type": "code",
      "metadata": {
        "collapsed": true,
        "id": "UC7_cgETRSoX",
        "outputId": "3c7d629e-2497-4ac9-9966-fda4440995b7"
      },
      "source": [
        "  5 == 5.0 == 5 + 0j\n"
      ],
      "execution_count": null,
      "outputs": [
        {
          "output_type": "execute_result",
          "data": {
            "text/plain": [
              "  True\n"
            ]
          },
          "metadata": {
            "tags": []
          },
          "execution_count": 0
        }
      ]
    },
    {
      "cell_type": "code",
      "metadata": {
        "collapsed": true,
        "id": "LX_Rf-oERSoY",
        "outputId": "86f2d9c5-f4bb-4ae0-989b-78a1cf1e72b9"
      },
      "source": [
        "  hash(5) == hash(5.0) == hash(5 + 0j)\n"
      ],
      "execution_count": null,
      "outputs": [
        {
          "output_type": "execute_result",
          "data": {
            "text/plain": [
              "  True\n"
            ]
          },
          "metadata": {
            "tags": []
          },
          "execution_count": 0
        }
      ]
    },
    {
      "cell_type": "markdown",
      "metadata": {
        "id": "bb_4Wdz8RSoY"
      },
      "source": [
        "  **Note:** The inverse is not necessarily true: Objects with equal hash values may themselves be unequal. (This causes what's known as a [hash collision](https://en.wikipedia.org/wiki/Collision_(computer_science)), and degrades the constant-time performance that hashing usually provides.)\n",
        "\n"
      ]
    },
    {
      "cell_type": "markdown",
      "metadata": {
        "id": "Rc97yO0ORSoY"
      },
      "source": [
        "### ▶ Deep down, we're all the same.\n"
      ]
    },
    {
      "cell_type": "code",
      "metadata": {
        "collapsed": true,
        "id": "C6QzxfP1RSoY",
        "outputId": "8f851f11-90d4-41e8-d293-5f88788e607d"
      },
      "source": [
        "class WTF:\n",
        "  pass\n"
      ],
      "execution_count": null,
      "outputs": [
        {
          "output_type": "execute_result",
          "data": {
            "text/plain": [
              ""
            ]
          },
          "metadata": {
            "tags": []
          },
          "execution_count": 0
        }
      ]
    },
    {
      "cell_type": "markdown",
      "metadata": {
        "id": "n6xh8xnsRSoZ"
      },
      "source": [
        "\n",
        "**Output:**\n"
      ]
    },
    {
      "cell_type": "code",
      "metadata": {
        "collapsed": true,
        "id": "2j4j-uYPRSoZ",
        "outputId": "caab9ae3-df61-4c48-8c17-652a4c4b2889"
      },
      "source": [
        "WTF() == WTF() # two different instances can't be equal\n"
      ],
      "execution_count": null,
      "outputs": [
        {
          "output_type": "execute_result",
          "data": {
            "text/plain": [
              "False\n"
            ]
          },
          "metadata": {
            "tags": []
          },
          "execution_count": 0
        }
      ]
    },
    {
      "cell_type": "code",
      "metadata": {
        "collapsed": true,
        "id": "s2gjRPy4RSoZ",
        "outputId": "6e163a15-214f-4f89-fecf-beabe28fdfe4"
      },
      "source": [
        "WTF() is WTF() # identities are also different\n"
      ],
      "execution_count": null,
      "outputs": [
        {
          "output_type": "execute_result",
          "data": {
            "text/plain": [
              "False\n"
            ]
          },
          "metadata": {
            "tags": []
          },
          "execution_count": 0
        }
      ]
    },
    {
      "cell_type": "code",
      "metadata": {
        "collapsed": true,
        "id": "eRFIWG-YRSoa",
        "outputId": "80b9b44f-9c89-427d-8b00-dfba7c829eec"
      },
      "source": [
        "hash(WTF()) == hash(WTF()) # hashes _should_ be different as well\n"
      ],
      "execution_count": null,
      "outputs": [
        {
          "output_type": "execute_result",
          "data": {
            "text/plain": [
              "True\n"
            ]
          },
          "metadata": {
            "tags": []
          },
          "execution_count": 0
        }
      ]
    },
    {
      "cell_type": "code",
      "metadata": {
        "collapsed": true,
        "id": "LBLENMOwRSoa",
        "outputId": "aeddd09b-264b-4453-edd2-3261fefb4858"
      },
      "source": [
        "id(WTF()) == id(WTF())\n"
      ],
      "execution_count": null,
      "outputs": [
        {
          "output_type": "execute_result",
          "data": {
            "text/plain": [
              "True\n"
            ]
          },
          "metadata": {
            "tags": []
          },
          "execution_count": 0
        }
      ]
    },
    {
      "cell_type": "markdown",
      "metadata": {
        "id": "vxnOG6K2RSoa"
      },
      "source": [
        "\n"
      ]
    },
    {
      "cell_type": "markdown",
      "metadata": {
        "id": "2KEDthXURSob"
      },
      "source": [
        "#### 💡 Explanation:\n",
        "\n",
        "* When `id` was called, Python created a `WTF` class object and passed it to the `id` function. The `id` function takes its `id` (its memory location), and throws away the object. The object is destroyed.\n",
        "* When we do this twice in succession, Python allocates the same memory location to this second object as well. Since (in CPython) `id` uses the memory location as the object id, the id of the two objects is the same.\n",
        "* So, the object's id is unique only for the lifetime of the object. After the object is destroyed, or before it is created, something else can have the same id.\n",
        "* But why did the `is` operator evaluated to `False`? Let's see with this snippet.\n"
      ]
    },
    {
      "cell_type": "code",
      "metadata": {
        "collapsed": true,
        "id": "PoR1t2VeRSob",
        "outputId": "8361a981-7c7f-413b-e358-9e33075ef2ba"
      },
      "source": [
        "  class WTF(object):\n",
        "    def __init__(self): print(\"I\")\n",
        "    def __del__(self): print(\"D\")\n"
      ],
      "execution_count": null,
      "outputs": [
        {
          "output_type": "execute_result",
          "data": {
            "text/plain": [
              ""
            ]
          },
          "metadata": {
            "tags": []
          },
          "execution_count": 0
        }
      ]
    },
    {
      "cell_type": "markdown",
      "metadata": {
        "id": "KUj9IpMJRSob"
      },
      "source": [
        "\n",
        "  **Output:**\n"
      ]
    },
    {
      "cell_type": "code",
      "metadata": {
        "collapsed": true,
        "id": "ffdX7DJnRSoc",
        "outputId": "d764906f-a6dc-4e6c-bb0e-2d33b0d5531b"
      },
      "source": [
        "  WTF() is WTF()\n"
      ],
      "execution_count": null,
      "outputs": [
        {
          "output_type": "execute_result",
          "data": {
            "text/plain": [
              "  I\n",
              "  I\n",
              "  D\n",
              "  D\n",
              "  False\n"
            ]
          },
          "metadata": {
            "tags": []
          },
          "execution_count": 0
        }
      ]
    },
    {
      "cell_type": "code",
      "metadata": {
        "collapsed": true,
        "id": "KO9JmskdRSoc",
        "outputId": "14c8373b-677c-4146-a477-e9ef10c7b71e"
      },
      "source": [
        "  id(WTF()) == id(WTF())\n"
      ],
      "execution_count": null,
      "outputs": [
        {
          "output_type": "execute_result",
          "data": {
            "text/plain": [
              "  I\n",
              "  D\n",
              "  I\n",
              "  D\n",
              "  True\n"
            ]
          },
          "metadata": {
            "tags": []
          },
          "execution_count": 0
        }
      ]
    },
    {
      "cell_type": "markdown",
      "metadata": {
        "id": "g6Je4-EyRSoc"
      },
      "source": [
        "  As you may observe, the order in which the objects are destroyed is what made all the difference here.\n",
        "\n"
      ]
    },
    {
      "cell_type": "markdown",
      "metadata": {
        "id": "wYdc5YTDRSod"
      },
      "source": [
        "### ▶ Disorder within order *\n"
      ]
    },
    {
      "cell_type": "code",
      "metadata": {
        "collapsed": true,
        "id": "80FNnRj_RSod",
        "outputId": "7f239b56-a192-48e7-f2f6-2330e0cf874a"
      },
      "source": [
        "from collections import OrderedDict\n",
        "\n",
        "dictionary = dict()\n",
        "dictionary[1] = 'a'; dictionary[2] = 'b';\n",
        "\n",
        "ordered_dict = OrderedDict()\n",
        "ordered_dict[1] = 'a'; ordered_dict[2] = 'b';\n",
        "\n",
        "another_ordered_dict = OrderedDict()\n",
        "another_ordered_dict[2] = 'b'; another_ordered_dict[1] = 'a';\n",
        "\n",
        "class DictWithHash(dict):\n",
        "    \"\"\"\n",
        "    A dict that also implements __hash__ magic.\n",
        "    \"\"\"\n",
        "    __hash__ = lambda self: 0\n",
        "\n",
        "class OrderedDictWithHash(OrderedDict):\n",
        "    \"\"\"\n",
        "    An OrderedDict that also implements __hash__ magic.\n",
        "    \"\"\"\n",
        "    __hash__ = lambda self: 0\n"
      ],
      "execution_count": null,
      "outputs": [
        {
          "output_type": "execute_result",
          "data": {
            "text/plain": [
              ""
            ]
          },
          "metadata": {
            "tags": []
          },
          "execution_count": 0
        }
      ]
    },
    {
      "cell_type": "markdown",
      "metadata": {
        "id": "1iQdFri3RSog"
      },
      "source": [
        "\n",
        "**Output**\n"
      ]
    },
    {
      "cell_type": "code",
      "metadata": {
        "collapsed": true,
        "id": "VLnqW-_2RSog",
        "outputId": "c9573f1c-b501-4f7d-bf76-3c5fda89679e"
      },
      "source": [
        "dictionary == ordered_dict # If a == b\n"
      ],
      "execution_count": null,
      "outputs": [
        {
          "output_type": "execute_result",
          "data": {
            "text/plain": [
              "True\n"
            ]
          },
          "metadata": {
            "tags": []
          },
          "execution_count": 0
        }
      ]
    },
    {
      "cell_type": "code",
      "metadata": {
        "collapsed": true,
        "id": "40wQp99-RSoi",
        "outputId": "1f1ea401-8f45-46d3-c364-089cb41893ea"
      },
      "source": [
        "dictionary == another_ordered_dict # and b == c\n"
      ],
      "execution_count": null,
      "outputs": [
        {
          "output_type": "execute_result",
          "data": {
            "text/plain": [
              "True\n"
            ]
          },
          "metadata": {
            "tags": []
          },
          "execution_count": 0
        }
      ]
    },
    {
      "cell_type": "code",
      "metadata": {
        "collapsed": true,
        "id": "PRglfblORSoi",
        "outputId": "d7050ee6-b3ed-45f7-dd45-5f0edac4952f"
      },
      "source": [
        "ordered_dict == another_ordered_dict # then why isn't c == a ??\n"
      ],
      "execution_count": null,
      "outputs": [
        {
          "output_type": "execute_result",
          "data": {
            "text/plain": [
              "False\n",
              "\n",
              "# We all know that a set consists of only unique elements,\n",
              "# let's try making a set of these dictionaries and see what happens...\n",
              "\n"
            ]
          },
          "metadata": {
            "tags": []
          },
          "execution_count": 0
        }
      ]
    },
    {
      "cell_type": "code",
      "metadata": {
        "collapsed": true,
        "id": "m4ds6LeWRSoj",
        "outputId": "a99ad0fc-9335-460f-cb57-6a70e34bcfbc"
      },
      "source": [
        "len({dictionary, ordered_dict, another_ordered_dict})\n"
      ],
      "execution_count": null,
      "outputs": [
        {
          "output_type": "execute_result",
          "data": {
            "text/plain": [
              "Traceback (most recent call last):\n",
              "  File \"<stdin>\", line 1, in <module>\n",
              "TypeError: unhashable type: 'dict'\n",
              "\n",
              "# Makes sense since dict don't have __hash__ implemented, let's use\n",
              "# our wrapper classes.\n"
            ]
          },
          "metadata": {
            "tags": []
          },
          "execution_count": 0
        }
      ]
    },
    {
      "cell_type": "code",
      "metadata": {
        "collapsed": true,
        "id": "qgSub2XWRSok",
        "outputId": "330ddca8-faaa-4b5f-dbe1-d9197c83c533"
      },
      "source": [
        "dictionary = DictWithHash()\n",
        "dictionary[1] = 'a'; dictionary[2] = 'b';\n",
        "ordered_dict = OrderedDictWithHash()\n",
        "ordered_dict[1] = 'a'; ordered_dict[2] = 'b';\n",
        "another_ordered_dict = OrderedDictWithHash()\n",
        "another_ordered_dict[2] = 'b'; another_ordered_dict[1] = 'a';\n",
        "len({dictionary, ordered_dict, another_ordered_dict})\n"
      ],
      "execution_count": null,
      "outputs": [
        {
          "output_type": "execute_result",
          "data": {
            "text/plain": [
              "1\n"
            ]
          },
          "metadata": {
            "tags": []
          },
          "execution_count": 0
        }
      ]
    },
    {
      "cell_type": "code",
      "metadata": {
        "collapsed": true,
        "id": "t5e-bqDKRSok",
        "outputId": "65157bbf-da0d-4531-cc04-8a461821dac1"
      },
      "source": [
        "len({ordered_dict, another_ordered_dict, dictionary}) # changing the order\n"
      ],
      "execution_count": null,
      "outputs": [
        {
          "output_type": "execute_result",
          "data": {
            "text/plain": [
              "2\n"
            ]
          },
          "metadata": {
            "tags": []
          },
          "execution_count": 0
        }
      ]
    },
    {
      "cell_type": "markdown",
      "metadata": {
        "id": "3YBVavr-RSok"
      },
      "source": [
        "\n",
        "What is going on here?\n",
        "\n"
      ]
    },
    {
      "cell_type": "markdown",
      "metadata": {
        "id": "CVrw5ve4RSol"
      },
      "source": [
        "#### 💡 Explanation:\n",
        "\n",
        "- The reason why intransitive equality didn't hold among `dictionary`, `ordered_dict` and `another_ordered_dict` is because of the way `__eq__` method is implemented in `OrderedDict` class. From the [docs](https://docs.python.org/3/library/collections.html#ordereddict-objects)\n",
        "  \n",
        "    > Equality tests between OrderedDict objects are order-sensitive and are implemented as `list(od1.items())==list(od2.items())`. Equality tests between `OrderedDict` objects and other Mapping objects are order-insensitive like regular dictionaries.\n",
        "- The reason for this equality in behavior is that it allows `OrderedDict` objects to be directly substituted anywhere a regular dictionary is used.\n",
        "- Okay, so why did changing the order affect the length of the generated `set` object? The answer is the lack of intransitive equality only. Since sets are \"unordered\" collections of unique elements, the order in which elements are inserted shouldn't matter. But in this case, it does matter. Let's break it down a bit,\n"
      ]
    },
    {
      "cell_type": "code",
      "metadata": {
        "collapsed": true,
        "id": "FXAgku8tRSol",
        "outputId": "557e57bb-ff87-4c5c-9cb6-0df84994836b"
      },
      "source": [
        "    some_set = set()\n",
        "    some_set.add(dictionary) # these are the mapping objects from the snippets above\n",
        "    ordered_dict in some_set\n"
      ],
      "execution_count": null,
      "outputs": [
        {
          "output_type": "execute_result",
          "data": {
            "text/plain": [
              "    True\n"
            ]
          },
          "metadata": {
            "tags": []
          },
          "execution_count": 0
        }
      ]
    },
    {
      "cell_type": "code",
      "metadata": {
        "collapsed": true,
        "id": "jC8U5fQXRSol",
        "outputId": "f3386c30-9cfe-458d-dcfb-860358b680cf"
      },
      "source": [
        "    some_set.add(ordered_dict)\n",
        "    len(some_set)\n"
      ],
      "execution_count": null,
      "outputs": [
        {
          "output_type": "execute_result",
          "data": {
            "text/plain": [
              "    1\n"
            ]
          },
          "metadata": {
            "tags": []
          },
          "execution_count": 0
        }
      ]
    },
    {
      "cell_type": "code",
      "metadata": {
        "collapsed": true,
        "id": "Amiu56dRRSom",
        "outputId": "e5b799b0-ca01-494a-8246-ffdda5ccafa3"
      },
      "source": [
        "    another_ordered_dict in some_set\n"
      ],
      "execution_count": null,
      "outputs": [
        {
          "output_type": "execute_result",
          "data": {
            "text/plain": [
              "    True\n"
            ]
          },
          "metadata": {
            "tags": []
          },
          "execution_count": 0
        }
      ]
    },
    {
      "cell_type": "code",
      "metadata": {
        "collapsed": true,
        "id": "RXL3otHLRSom",
        "outputId": "5a6473e6-d0f0-4c3a-adc4-b4e7994629f1"
      },
      "source": [
        "    some_set.add(another_ordered_dict)\n",
        "    len(some_set)\n"
      ],
      "execution_count": null,
      "outputs": [
        {
          "output_type": "execute_result",
          "data": {
            "text/plain": [
              "    1\n",
              "\n"
            ]
          },
          "metadata": {
            "tags": []
          },
          "execution_count": 0
        }
      ]
    },
    {
      "cell_type": "code",
      "metadata": {
        "collapsed": true,
        "id": "7HQN77sIRSom",
        "outputId": "943f0902-f64e-4631-966e-c9139a199e75"
      },
      "source": [
        "    another_set = set()\n",
        "    another_set.add(ordered_dict)\n",
        "    another_ordered_dict in another_set\n"
      ],
      "execution_count": null,
      "outputs": [
        {
          "output_type": "execute_result",
          "data": {
            "text/plain": [
              "    False\n"
            ]
          },
          "metadata": {
            "tags": []
          },
          "execution_count": 0
        }
      ]
    },
    {
      "cell_type": "code",
      "metadata": {
        "collapsed": true,
        "id": "Lc-EEpgcRSon",
        "outputId": "5191e06d-f5ec-4644-89a1-cc1642df5044"
      },
      "source": [
        "    another_set.add(another_ordered_dict)\n",
        "    len(another_set)\n"
      ],
      "execution_count": null,
      "outputs": [
        {
          "output_type": "execute_result",
          "data": {
            "text/plain": [
              "    2\n"
            ]
          },
          "metadata": {
            "tags": []
          },
          "execution_count": 0
        }
      ]
    },
    {
      "cell_type": "code",
      "metadata": {
        "collapsed": true,
        "id": "AgumichnRSon",
        "outputId": "35f494c0-7d62-4124-d5d7-62ff65672ad8"
      },
      "source": [
        "    dictionary in another_set\n"
      ],
      "execution_count": null,
      "outputs": [
        {
          "output_type": "execute_result",
          "data": {
            "text/plain": [
              "    True\n"
            ]
          },
          "metadata": {
            "tags": []
          },
          "execution_count": 0
        }
      ]
    },
    {
      "cell_type": "code",
      "metadata": {
        "collapsed": true,
        "id": "mhYULnKxRSon",
        "outputId": "c6460e57-17cd-4141-a294-32537774609e"
      },
      "source": [
        "    another_set.add(another_ordered_dict)\n",
        "    len(another_set)\n"
      ],
      "execution_count": null,
      "outputs": [
        {
          "output_type": "execute_result",
          "data": {
            "text/plain": [
              "    2\n"
            ]
          },
          "metadata": {
            "tags": []
          },
          "execution_count": 0
        }
      ]
    },
    {
      "cell_type": "markdown",
      "metadata": {
        "id": "tASCYG8ARSoo"
      },
      "source": [
        "    So the inconsistency is due to `another_ordered_dict in another_set` being `False` because `ordered_dict` was already present in `another_set` and as observed before, `ordered_dict == another_ordered_dict` is `False`.\n",
        "\n"
      ]
    },
    {
      "cell_type": "markdown",
      "metadata": {
        "id": "SAvodnmoRSoo"
      },
      "source": [
        "### ▶ Keep trying... *\n"
      ]
    },
    {
      "cell_type": "code",
      "metadata": {
        "collapsed": true,
        "id": "EVza8xDFRSoo",
        "outputId": "b0f61361-75b6-419c-87b6-9c8c5b99fa8d"
      },
      "source": [
        "def some_func():\n",
        "    try:\n",
        "        return 'from_try'\n",
        "    finally:\n",
        "        return 'from_finally'\n",
        "\n",
        "def another_func(): \n",
        "    for _ in range(3):\n",
        "        try:\n",
        "            continue\n",
        "        finally:\n",
        "            print(\"Finally!\")\n",
        "\n",
        "def one_more_func(): # A gotcha!\n",
        "    try:\n",
        "        for i in range(3):\n",
        "            try:\n",
        "                1 / i\n",
        "            except ZeroDivisionError:\n",
        "                # Let's throw it here and handle it outside for loop\n",
        "                raise ZeroDivisionError(\"A trivial divide by zero error\")\n",
        "            finally:\n",
        "                print(\"Iteration\", i)\n",
        "                break\n",
        "    except ZeroDivisionError as e:\n",
        "        print(\"Zero division error occurred\", e)\n"
      ],
      "execution_count": null,
      "outputs": [
        {
          "output_type": "execute_result",
          "data": {
            "text/plain": [
              ""
            ]
          },
          "metadata": {
            "tags": []
          },
          "execution_count": 0
        }
      ]
    },
    {
      "cell_type": "markdown",
      "metadata": {
        "id": "ZvGDj0cCRSoo"
      },
      "source": [
        "\n",
        "**Output:**\n",
        "\n"
      ]
    },
    {
      "cell_type": "code",
      "metadata": {
        "collapsed": true,
        "id": "StETiYE-RSop",
        "outputId": "140ba0c9-96e0-40bc-8fd5-3d874d989a09"
      },
      "source": [
        "some_func()\n"
      ],
      "execution_count": null,
      "outputs": [
        {
          "output_type": "execute_result",
          "data": {
            "text/plain": [
              "'from_finally'\n",
              "\n"
            ]
          },
          "metadata": {
            "tags": []
          },
          "execution_count": 0
        }
      ]
    },
    {
      "cell_type": "code",
      "metadata": {
        "collapsed": true,
        "id": "yELaP3cjRSop",
        "outputId": "7aa70fd7-88f1-486a-aa25-4650cf83a9a3"
      },
      "source": [
        "another_func()\n"
      ],
      "execution_count": null,
      "outputs": [
        {
          "output_type": "execute_result",
          "data": {
            "text/plain": [
              "Finally!\n",
              "Finally!\n",
              "Finally!\n",
              "\n"
            ]
          },
          "metadata": {
            "tags": []
          },
          "execution_count": 0
        }
      ]
    },
    {
      "cell_type": "code",
      "metadata": {
        "collapsed": true,
        "id": "fKIz15UIRSop",
        "outputId": "3ff542cb-5c51-40b1-a4bf-a2f3217e0373"
      },
      "source": [
        "1 / 0\n"
      ],
      "execution_count": null,
      "outputs": [
        {
          "output_type": "execute_result",
          "data": {
            "text/plain": [
              "Traceback (most recent call last):\n",
              "  File \"<stdin>\", line 1, in <module>\n",
              "ZeroDivisionError: division by zero\n",
              "\n"
            ]
          },
          "metadata": {
            "tags": []
          },
          "execution_count": 0
        }
      ]
    },
    {
      "cell_type": "code",
      "metadata": {
        "collapsed": true,
        "id": "XgrPbtPLRSoq",
        "outputId": "e1883632-9d57-4672-b1e3-9d5ef21c0b0c"
      },
      "source": [
        "one_more_func()\n"
      ],
      "execution_count": null,
      "outputs": [
        {
          "output_type": "execute_result",
          "data": {
            "text/plain": [
              "Iteration 0\n",
              "\n"
            ]
          },
          "metadata": {
            "tags": []
          },
          "execution_count": 0
        }
      ]
    },
    {
      "cell_type": "markdown",
      "metadata": {
        "id": "SSt7BHXCRSoq"
      },
      "source": [
        "\n"
      ]
    },
    {
      "cell_type": "markdown",
      "metadata": {
        "id": "UwrYGH5VRSoq"
      },
      "source": [
        "#### 💡 Explanation:\n",
        "\n",
        "- When a `return`, `break` or `continue` statement is executed in the `try` suite of a \"try…finally\" statement, the `finally` clause is also executed on the way out.\n",
        "- The return value of a function is determined by the last `return` statement executed. Since the `finally` clause always executes, a `return` statement executed in the `finally` clause will always be the last one executed.\n",
        "- The caveat here is, if the finally clause executes a `return` or `break` statement, the temporarily saved exception is discarded.\n",
        "\n"
      ]
    },
    {
      "cell_type": "markdown",
      "metadata": {
        "id": "3ldOtLznRSor"
      },
      "source": [
        "### ▶ For what?\n"
      ]
    },
    {
      "cell_type": "code",
      "metadata": {
        "collapsed": true,
        "id": "bBXEyOArRSor",
        "outputId": "ffd2bf47-1132-4710-e717-be7ee30abf48"
      },
      "source": [
        "some_string = \"wtf\"\n",
        "some_dict = {}\n",
        "for i, some_dict[i] in enumerate(some_string):\n",
        "    i = 10\n"
      ],
      "execution_count": null,
      "outputs": [
        {
          "output_type": "execute_result",
          "data": {
            "text/plain": [
              ""
            ]
          },
          "metadata": {
            "tags": []
          },
          "execution_count": 0
        }
      ]
    },
    {
      "cell_type": "markdown",
      "metadata": {
        "id": "cY1r_K31RSor"
      },
      "source": [
        "\n",
        "**Output:**\n"
      ]
    },
    {
      "cell_type": "code",
      "metadata": {
        "collapsed": true,
        "id": "5-2w6aKkRSos",
        "outputId": "f3a930df-de67-4352-dfc8-46e4b35f5fa7"
      },
      "source": [
        "some_dict # An indexed dict appears.\n"
      ],
      "execution_count": null,
      "outputs": [
        {
          "output_type": "execute_result",
          "data": {
            "text/plain": [
              "{0: 'w', 1: 't', 2: 'f'}\n"
            ]
          },
          "metadata": {
            "tags": []
          },
          "execution_count": 0
        }
      ]
    },
    {
      "cell_type": "markdown",
      "metadata": {
        "id": "iWOPK2-vRSos"
      },
      "source": [
        "\n"
      ]
    },
    {
      "cell_type": "markdown",
      "metadata": {
        "id": "RaTccgRIRSos"
      },
      "source": [
        "####  💡 Explanation:\n",
        "\n",
        "* A `for` statement is defined in the [Python grammar](https://docs.python.org/3/reference/grammar.html) as:\n",
        "  ```\n",
        "  for_stmt: 'for' exprlist 'in' testlist ':' suite ['else' ':' suite]\n",
        "  ```\n",
        "  Where `exprlist` is the assignment target. This means that the equivalent of `{exprlist} = {next_value}` is **executed for each item** in the iterable.\n",
        "  An interesting example that illustrates this:\n"
      ]
    },
    {
      "cell_type": "code",
      "metadata": {
        "collapsed": true,
        "id": "yjtF4yS3RSos",
        "outputId": "29da2066-4938-4b4f-eb83-28a4f81e73af"
      },
      "source": [
        "  for i in range(4):\n",
        "      print(i)\n",
        "      i = 10\n"
      ],
      "execution_count": null,
      "outputs": [
        {
          "output_type": "execute_result",
          "data": {
            "text/plain": [
              ""
            ]
          },
          "metadata": {
            "tags": []
          },
          "execution_count": 0
        }
      ]
    },
    {
      "cell_type": "markdown",
      "metadata": {
        "id": "R8mps7B5RSot"
      },
      "source": [
        "\n",
        "  **Output:**\n",
        "  ```\n",
        "  0\n",
        "  1\n",
        "  2\n",
        "  3\n",
        "  ```\n",
        "\n",
        "  Did you expect the loop to run just once?\n",
        "\n",
        "  **💡 Explanation:**\n",
        "\n",
        "  - The assignment statement `i = 10` never affects the iterations of the loop because of the way for loops work in Python. Before the beginning of every iteration, the next item provided by the iterator (`range(4)` in this case) is unpacked and assigned the target list variables (`i` in this case).\n",
        "\n",
        "* The `enumerate(some_string)` function yields a new value `i` (a counter going up) and a character from the `some_string` in each iteration. It then sets the (just assigned) `i` key of the dictionary `some_dict` to that character. The unrolling of the loop can be simplified as:\n"
      ]
    },
    {
      "cell_type": "code",
      "metadata": {
        "collapsed": true,
        "id": "XkGJdOtpRSot",
        "outputId": "c2a136f6-b9aa-4c57-a827-40612ae14510"
      },
      "source": [
        "  i, some_dict[i] = (0, 'w')\n",
        "  i, some_dict[i] = (1, 't')\n",
        "  i, some_dict[i] = (2, 'f')\n",
        "  some_dict\n"
      ],
      "execution_count": null,
      "outputs": [
        {
          "output_type": "execute_result",
          "data": {
            "text/plain": [
              ""
            ]
          },
          "metadata": {
            "tags": []
          },
          "execution_count": 0
        }
      ]
    },
    {
      "cell_type": "markdown",
      "metadata": {
        "id": "PkA3c6dZRSou"
      },
      "source": [
        "\n"
      ]
    },
    {
      "cell_type": "markdown",
      "metadata": {
        "id": "z3sboqgGRSov"
      },
      "source": [
        "### ▶ Evaluation time discrepancy\n",
        "1\\.\n"
      ]
    },
    {
      "cell_type": "code",
      "metadata": {
        "collapsed": true,
        "id": "dO2_nKErRSov",
        "outputId": "ff788a67-6507-49c8-f150-b8699d8acc9c"
      },
      "source": [
        "array = [1, 8, 15]\n",
        "# A typical generator expression\n",
        "gen = (x for x in array if array.count(x) > 0)\n",
        "array = [2, 8, 22]\n"
      ],
      "execution_count": null,
      "outputs": [
        {
          "output_type": "execute_result",
          "data": {
            "text/plain": [
              ""
            ]
          },
          "metadata": {
            "tags": []
          },
          "execution_count": 0
        }
      ]
    },
    {
      "cell_type": "markdown",
      "metadata": {
        "id": "wH1zHJfbRSow"
      },
      "source": [
        "\n",
        "**Output:**\n",
        "\n"
      ]
    },
    {
      "cell_type": "code",
      "metadata": {
        "collapsed": true,
        "id": "-zzFFWsTRSox",
        "outputId": "e4e02355-73db-4bb5-ccd5-16ce9751454b"
      },
      "source": [
        "print(list(gen)) # Where did the other values go?\n"
      ],
      "execution_count": null,
      "outputs": [
        {
          "output_type": "stream",
          "text": [
            "[8]\n"
          ],
          "name": "stdout"
        }
      ]
    },
    {
      "cell_type": "markdown",
      "metadata": {
        "id": "wItbbf37RSoy"
      },
      "source": [
        "\n",
        "2\\.\n",
        "\n"
      ]
    },
    {
      "cell_type": "code",
      "metadata": {
        "collapsed": true,
        "id": "XCgNFMoTRSoy",
        "outputId": "a5679788-115d-432e-cf51-f270e818917f"
      },
      "source": [
        "array_1 = [1,2,3,4]\n",
        "gen_1 = (x for x in array_1)\n",
        "array_1 = [1,2,3,4,5]\n",
        "\n",
        "array_2 = [1,2,3,4]\n",
        "gen_2 = (x for x in array_2)\n",
        "array_2[:] = [1,2,3,4,5]\n"
      ],
      "execution_count": null,
      "outputs": [
        {
          "output_type": "execute_result",
          "data": {
            "text/plain": [
              ""
            ]
          },
          "metadata": {
            "tags": []
          },
          "execution_count": 0
        }
      ]
    },
    {
      "cell_type": "markdown",
      "metadata": {
        "id": "T18QHbHBRSoz"
      },
      "source": [
        "\n",
        "**Output:**\n"
      ]
    },
    {
      "cell_type": "code",
      "metadata": {
        "collapsed": true,
        "id": "_pySjJNiRSo0",
        "outputId": "710ee3dd-9512-43c1-c20b-06df85046bb8"
      },
      "source": [
        "print(list(gen_1))\n"
      ],
      "execution_count": null,
      "outputs": [
        {
          "output_type": "stream",
          "text": [
            "[1, 2, 3, 4]\n",
            "\n"
          ],
          "name": "stdout"
        }
      ]
    },
    {
      "cell_type": "code",
      "metadata": {
        "collapsed": true,
        "id": "GFn-wCb-RSo0",
        "outputId": "35a31fe8-9ed7-40fd-c055-fcfcd67836db"
      },
      "source": [
        "print(list(gen_2))\n"
      ],
      "execution_count": null,
      "outputs": [
        {
          "output_type": "stream",
          "text": [
            "[1, 2, 3, 4, 5]\n"
          ],
          "name": "stdout"
        }
      ]
    },
    {
      "cell_type": "markdown",
      "metadata": {
        "id": "-_t5Sg2lRSo1"
      },
      "source": [
        "\n",
        "3\\.\n",
        "\n"
      ]
    },
    {
      "cell_type": "code",
      "metadata": {
        "collapsed": true,
        "id": "VsGmoQXzRSo1",
        "outputId": "ac8b9eb5-362c-47ce-c611-3e9a582e1743"
      },
      "source": [
        "array_3 = [1, 2, 3]\n",
        "array_4 = [10, 20, 30]\n",
        "gen = (i + j for i in array_3 for j in array_4)\n",
        "\n",
        "array_3 = [4, 5, 6]\n",
        "array_4 = [400, 500, 600]\n"
      ],
      "execution_count": null,
      "outputs": [
        {
          "output_type": "execute_result",
          "data": {
            "text/plain": [
              ""
            ]
          },
          "metadata": {
            "tags": []
          },
          "execution_count": 0
        }
      ]
    },
    {
      "cell_type": "markdown",
      "metadata": {
        "id": "9kEtUtD5RSo2"
      },
      "source": [
        "\n",
        "**Output:**\n"
      ]
    },
    {
      "cell_type": "code",
      "metadata": {
        "collapsed": true,
        "id": "sX8mwiijRSo2",
        "outputId": "29b4d054-0a6c-43d4-8432-1053b0438483"
      },
      "source": [
        "print(list(gen))\n"
      ],
      "execution_count": null,
      "outputs": [
        {
          "output_type": "stream",
          "text": [
            "[401, 501, 601, 402, 502, 602, 403, 503, 603]\n"
          ],
          "name": "stdout"
        }
      ]
    },
    {
      "cell_type": "markdown",
      "metadata": {
        "id": "ioJe6j5BRSo2"
      },
      "source": [
        "\n"
      ]
    },
    {
      "cell_type": "markdown",
      "metadata": {
        "id": "SGDnScKRRSo3"
      },
      "source": [
        "#### 💡 Explanation\n",
        "\n",
        "- In a [generator](https://wiki.python.org/moin/Generators) expression, the `in` clause is evaluated at declaration time, but the conditional clause is evaluated at runtime.\n",
        "- So before runtime, `array` is re-assigned to the list `[2, 8, 22]`, and since out of `1`, `8` and `15`, only the count of `8` is greater than `0`, the generator only yields `8`.\n",
        "- The differences in the output of `g1` and `g2` in the second part is due the way variables `array_1` and `array_2` are re-assigned values.\n",
        "- In the first case, `array_1` is binded to the new object `[1,2,3,4,5]` and since the `in` clause is evaluated at the declaration time it still refers to the old object `[1,2,3,4]` (which is not destroyed).\n",
        "- In the second case, the slice assignment to `array_2` updates the same old object `[1,2,3,4]` to `[1,2,3,4,5]`. Hence both the `g2` and `array_2` still have reference to the same object (which has now been updated to `[1,2,3,4,5]`).\n",
        "- Okay, going by the logic discussed so far, shouldn't be the value of `list(g)` in the third snippet be `[11, 21, 31, 12, 22, 32, 13, 23, 33]`? (because `array_3` and `array_4` are going to behave just like `array_1`). The reason why (only) `array_4` values got updated is explained in [PEP-289](https://www.python.org/dev/peps/pep-0289/#the-details)\n",
        "  \n",
        "    > Only the outermost for-expression is evaluated immediately, the other expressions are deferred until the generator is run.\n",
        "\n"
      ]
    },
    {
      "cell_type": "markdown",
      "metadata": {
        "id": "jcJreuWcRSo3"
      },
      "source": [
        "### ▶ `is not ...` is not `is (not ...)`\n"
      ]
    },
    {
      "cell_type": "code",
      "metadata": {
        "collapsed": true,
        "id": "4OhUq5rjRSo3",
        "outputId": "ce40400f-70c6-4714-d5da-cb05de72e4fe"
      },
      "source": [
        "'something' is not None\n"
      ],
      "execution_count": null,
      "outputs": [
        {
          "output_type": "execute_result",
          "data": {
            "text/plain": [
              "True\n"
            ]
          },
          "metadata": {
            "tags": []
          },
          "execution_count": 0
        }
      ]
    },
    {
      "cell_type": "code",
      "metadata": {
        "collapsed": true,
        "id": "2BelE0kBRSo3",
        "outputId": "f45387b2-0abc-478a-8974-c0f2bf41fdf9"
      },
      "source": [
        "'something' is (not None)\n"
      ],
      "execution_count": null,
      "outputs": [
        {
          "output_type": "execute_result",
          "data": {
            "text/plain": [
              "False\n"
            ]
          },
          "metadata": {
            "tags": []
          },
          "execution_count": 0
        }
      ]
    },
    {
      "cell_type": "markdown",
      "metadata": {
        "id": "u2r_RgosRSo4"
      },
      "source": [
        "\n"
      ]
    },
    {
      "cell_type": "markdown",
      "metadata": {
        "id": "YSy3wTpfRSo4"
      },
      "source": [
        "#### 💡 Explanation\n",
        "\n",
        "- `is not` is a single binary operator, and has behavior different than using `is` and `not` separated.\n",
        "- `is not` evaluates to `False` if the variables on either side of the operator point to the same object and `True` otherwise. \n",
        "- In the example, `(not None)` evaluates to `True` since the value `None` is `False` in a boolean context, so the expression becomes `'something' is True`.\n",
        "\n"
      ]
    },
    {
      "cell_type": "markdown",
      "metadata": {
        "id": "o7JFrd7ARSo4"
      },
      "source": [
        "### ▶ A tic-tac-toe where X wins in the first attempt!\n"
      ]
    },
    {
      "cell_type": "code",
      "metadata": {
        "collapsed": true,
        "id": "KJO457b7RSo5",
        "outputId": "266b5c8e-8f48-41c8-e3af-e409ef8dfaf7"
      },
      "source": [
        "# Let's initialize a row\n",
        "row = [\"\"] * 3 #row i['', '', '']\n",
        "# Let's make a board\n",
        "board = [row] * 3\n"
      ],
      "execution_count": null,
      "outputs": [
        {
          "output_type": "execute_result",
          "data": {
            "text/plain": [
              ""
            ]
          },
          "metadata": {
            "tags": []
          },
          "execution_count": 0
        }
      ]
    },
    {
      "cell_type": "markdown",
      "metadata": {
        "id": "15zepG3ORSo5"
      },
      "source": [
        "\n",
        "**Output:**\n",
        "\n"
      ]
    },
    {
      "cell_type": "code",
      "metadata": {
        "collapsed": true,
        "id": "n7xQTFUtRSo5",
        "outputId": "4a6f9c0e-11f2-498a-a8a4-529bd53ef1dd"
      },
      "source": [
        "board\n"
      ],
      "execution_count": null,
      "outputs": [
        {
          "output_type": "execute_result",
          "data": {
            "text/plain": [
              "[['', '', ''], ['', '', ''], ['', '', '']]\n"
            ]
          },
          "metadata": {
            "tags": []
          },
          "execution_count": 0
        }
      ]
    },
    {
      "cell_type": "code",
      "metadata": {
        "collapsed": true,
        "id": "y6gy4HEaRSo6",
        "outputId": "35591840-6931-4684-f16b-99a5b3cc5a14"
      },
      "source": [
        "board[0]\n"
      ],
      "execution_count": null,
      "outputs": [
        {
          "output_type": "execute_result",
          "data": {
            "text/plain": [
              "['', '', '']\n"
            ]
          },
          "metadata": {
            "tags": []
          },
          "execution_count": 0
        }
      ]
    },
    {
      "cell_type": "code",
      "metadata": {
        "collapsed": true,
        "id": "n793zSD_RSo6",
        "outputId": "3c222821-cbe2-4fa2-b1d7-dfc24c7b1094"
      },
      "source": [
        "board[0][0]\n"
      ],
      "execution_count": null,
      "outputs": [
        {
          "output_type": "execute_result",
          "data": {
            "text/plain": [
              "''\n"
            ]
          },
          "metadata": {
            "tags": []
          },
          "execution_count": 0
        }
      ]
    },
    {
      "cell_type": "code",
      "metadata": {
        "collapsed": true,
        "id": "4MT1ToOuRSo6",
        "outputId": "2e7d88bd-db3a-406e-cd58-5962b49eb6da"
      },
      "source": [
        "board[0][0] = \"X\"\n",
        "board\n"
      ],
      "execution_count": null,
      "outputs": [
        {
          "output_type": "execute_result",
          "data": {
            "text/plain": [
              "[['X', '', ''], ['X', '', ''], ['X', '', '']]\n"
            ]
          },
          "metadata": {
            "tags": []
          },
          "execution_count": 0
        }
      ]
    },
    {
      "cell_type": "markdown",
      "metadata": {
        "id": "T3x2Xrt5RSo7"
      },
      "source": [
        "\n",
        "We didn't assign three `\"X\"`s, did we?\n",
        "\n"
      ]
    },
    {
      "cell_type": "markdown",
      "metadata": {
        "id": "xKHCAqDzRSo7"
      },
      "source": [
        "#### 💡 Explanation:\n",
        "\n",
        "When we initialize `row` variable, this visualization explains what happens in the memory\n",
        "\n",
        "![image](/images/tic-tac-toe/after_row_initialized.png)\n",
        "\n",
        "And when the `board` is initialized by multiplying the `row`, this is what happens inside the memory (each of the elements `board[0]`, `board[1]` and `board[2]` is a reference to the same list referred by `row`)\n",
        "\n",
        "![image](/images/tic-tac-toe/after_board_initialized.png)\n",
        "\n",
        "We can avoid this scenario here by not using `row` variable to generate `board`. (Asked in [this](https://github.com/satwikkansal/wtfpython/issues/68) issue).\n",
        "\n"
      ]
    },
    {
      "cell_type": "code",
      "metadata": {
        "collapsed": true,
        "id": "dl1hvJX3RSo7",
        "outputId": "cd7baa02-ef17-4ca4-8c5b-bd37e98bf44f"
      },
      "source": [
        "board = [['']*3 for _ in range(3)]\n",
        "board[0][0] = \"X\"\n",
        "board\n"
      ],
      "execution_count": null,
      "outputs": [
        {
          "output_type": "execute_result",
          "data": {
            "text/plain": [
              "[['X', '', ''], ['', '', ''], ['', '', '']]\n"
            ]
          },
          "metadata": {
            "tags": []
          },
          "execution_count": 0
        }
      ]
    },
    {
      "cell_type": "markdown",
      "metadata": {
        "id": "o-Zz87z0RSpG"
      },
      "source": [
        "\n"
      ]
    },
    {
      "cell_type": "markdown",
      "metadata": {
        "id": "b8Z3g2w7RSpH"
      },
      "source": [
        "### ▶ Schrödinger's variable *\n"
      ]
    },
    {
      "cell_type": "code",
      "metadata": {
        "collapsed": true,
        "id": "foIIk8rHRSpH",
        "outputId": "c3d66edb-35dd-4830-c59f-d8bbb2084e58"
      },
      "source": [
        "funcs = []\n",
        "results = []\n",
        "for x in range(7):\n",
        "    def some_func():\n",
        "        return x\n",
        "    funcs.append(some_func)\n",
        "    results.append(some_func())  # note the function call here\n",
        "\n",
        "funcs_results = [func() for func in funcs]\n"
      ],
      "execution_count": null,
      "outputs": [
        {
          "output_type": "execute_result",
          "data": {
            "text/plain": [
              ""
            ]
          },
          "metadata": {
            "tags": []
          },
          "execution_count": 0
        }
      ]
    },
    {
      "cell_type": "markdown",
      "metadata": {
        "id": "NTviMjmcRSpH"
      },
      "source": [
        "\n",
        "**Output (Python version):**\n"
      ]
    },
    {
      "cell_type": "code",
      "metadata": {
        "collapsed": true,
        "id": "S7cMd8v8RSpI",
        "outputId": "090cb0c9-0e90-47d5-d143-943be8dba36f"
      },
      "source": [
        "results\n"
      ],
      "execution_count": null,
      "outputs": [
        {
          "output_type": "execute_result",
          "data": {
            "text/plain": [
              "[0, 1, 2, 3, 4, 5, 6]\n"
            ]
          },
          "metadata": {
            "tags": []
          },
          "execution_count": 0
        }
      ]
    },
    {
      "cell_type": "code",
      "metadata": {
        "collapsed": true,
        "id": "a_bZb-hkRSpI",
        "outputId": "f268608a-af0e-49c6-c6a6-4c5ab2db7a10"
      },
      "source": [
        "funcs_results\n"
      ],
      "execution_count": null,
      "outputs": [
        {
          "output_type": "execute_result",
          "data": {
            "text/plain": [
              "[6, 6, 6, 6, 6, 6, 6]\n"
            ]
          },
          "metadata": {
            "tags": []
          },
          "execution_count": 0
        }
      ]
    },
    {
      "cell_type": "markdown",
      "metadata": {
        "id": "Uiw35kKSRSpI"
      },
      "source": [
        "\n",
        "The values of `x` were different in every iteration prior to appending `some_func` to `funcs`, but all the functions return 6 when they're evaluated after the loop completes.\n",
        "\n",
        "2.\n",
        "\n"
      ]
    },
    {
      "cell_type": "code",
      "metadata": {
        "collapsed": true,
        "id": "au3hXIM_RSpJ",
        "outputId": "52d9735b-18ea-41a7-db05-f0a31d5e9563"
      },
      "source": [
        "powers_of_x = [lambda x: x**i for i in range(10)]\n",
        "[f(2) for f in powers_of_x]\n"
      ],
      "execution_count": null,
      "outputs": [
        {
          "output_type": "execute_result",
          "data": {
            "text/plain": [
              "[512, 512, 512, 512, 512, 512, 512, 512, 512, 512]\n"
            ]
          },
          "metadata": {
            "tags": []
          },
          "execution_count": 0
        }
      ]
    },
    {
      "cell_type": "markdown",
      "metadata": {
        "id": "0OxoJmZzRSpJ"
      },
      "source": [
        "\n"
      ]
    },
    {
      "cell_type": "markdown",
      "metadata": {
        "id": "WV3I2FWlRSpJ"
      },
      "source": [
        "#### 💡 Explanation:\n",
        "* When defining a function inside a loop that uses the loop variable in its body, the loop function's closure is bound to the *variable*, not its *value*. The function looks up `x` in the surrounding context, rather than using the value of `x` at the time the function is created. So all of the functions use the latest value assigned to the variable for computation. We can see that it's using the `x` from the surrounding context (i.e. *not* a local variable) with:\n"
      ]
    },
    {
      "cell_type": "code",
      "metadata": {
        "collapsed": true,
        "id": "VJdzX0_NRSpJ",
        "outputId": "40fab766-23ea-47f3-9c82-241643d64bbd"
      },
      "source": [
        "import inspect\n",
        "inspect.getclosurevals(funcs[0])\n"
      ],
      "execution_count": null,
      "outputs": [
        {
          "output_type": "execute_result",
          "data": {
            "text/plain": [
              "ClosureVars(nonlocals={}, globals={'x': 6}, builtins={}, unbound=set())\n"
            ]
          },
          "metadata": {
            "tags": []
          },
          "execution_count": 0
        }
      ]
    },
    {
      "cell_type": "markdown",
      "metadata": {
        "id": "YDxYBIcQRSpK"
      },
      "source": [
        "Since `x` is a global value, we can change the value that the `funcs` will lookup and return by updating `x`:\n",
        "\n"
      ]
    },
    {
      "cell_type": "code",
      "metadata": {
        "collapsed": true,
        "id": "5-ZDVzuJRSpK",
        "outputId": "be4a1467-5d86-45e2-8c32-e7548583ebfe"
      },
      "source": [
        "x = 42\n",
        "[func() for func in funcs]\n"
      ],
      "execution_count": null,
      "outputs": [
        {
          "output_type": "execute_result",
          "data": {
            "text/plain": [
              "[42, 42, 42, 42, 42, 42, 42]\n"
            ]
          },
          "metadata": {
            "tags": []
          },
          "execution_count": 0
        }
      ]
    },
    {
      "cell_type": "markdown",
      "metadata": {
        "id": "NhsuTQHGRSpK"
      },
      "source": [
        "\n",
        "* To get the desired behavior you can pass in the loop variable as a named variable to the function. **Why does this work?** Because this will define the variable *inside* the function's scope. It will no longer go to the surrounding (global) scope to look up the variables value but will create a local variable that stores the value of `x` at that point in time.\n",
        "\n"
      ]
    },
    {
      "cell_type": "code",
      "metadata": {
        "collapsed": true,
        "id": "NfJW5KxXRSpL",
        "outputId": "eb503943-7881-4772-a5d9-b0929caf4377"
      },
      "source": [
        "funcs = []\n",
        "for x in range(7):\n",
        "    def some_func(x=x):\n",
        "        return x\n",
        "    funcs.append(some_func)\n"
      ],
      "execution_count": null,
      "outputs": [
        {
          "output_type": "execute_result",
          "data": {
            "text/plain": [
              ""
            ]
          },
          "metadata": {
            "tags": []
          },
          "execution_count": 0
        }
      ]
    },
    {
      "cell_type": "markdown",
      "metadata": {
        "id": "3i7-5aByRSpL"
      },
      "source": [
        "\n",
        "**Output:**\n",
        "\n"
      ]
    },
    {
      "cell_type": "code",
      "metadata": {
        "collapsed": true,
        "id": "m1PuL9pvRSpL",
        "outputId": "47e24502-2ca7-4106-82e9-4ee0f4ab8764"
      },
      "source": [
        "funcs_results = [func() for func in funcs]\n",
        "funcs_results\n"
      ],
      "execution_count": null,
      "outputs": [
        {
          "output_type": "execute_result",
          "data": {
            "text/plain": [
              "[0, 1, 2, 3, 4, 5, 6]\n"
            ]
          },
          "metadata": {
            "tags": []
          },
          "execution_count": 0
        }
      ]
    },
    {
      "cell_type": "markdown",
      "metadata": {
        "id": "rracSMvpRSpM"
      },
      "source": [
        "\n",
        "It is not longer using the `x` in the global scope:\n",
        "\n"
      ]
    },
    {
      "cell_type": "code",
      "metadata": {
        "collapsed": true,
        "id": "iYcNvICoRSpM",
        "outputId": "142ee736-85f7-492c-ba88-cb9657d74a01"
      },
      "source": [
        "inspect.getclosurevars(funcs[0])\n"
      ],
      "execution_count": null,
      "outputs": [
        {
          "output_type": "execute_result",
          "data": {
            "text/plain": [
              "ClosureVars(nonlocals={}, globals={}, builtins={}, unbound=set())\n"
            ]
          },
          "metadata": {
            "tags": []
          },
          "execution_count": 0
        }
      ]
    },
    {
      "cell_type": "markdown",
      "metadata": {
        "id": "cAA9lk4FRSpM"
      },
      "source": [
        "\n"
      ]
    },
    {
      "cell_type": "markdown",
      "metadata": {
        "id": "oyw7_f6oRSpM"
      },
      "source": [
        "### ▶ The chicken-egg problem *\n",
        "1\\.\n"
      ]
    },
    {
      "cell_type": "code",
      "metadata": {
        "collapsed": true,
        "id": "Lxf1Bj9tRSpN",
        "outputId": "3c65a16f-6f8e-4fcc-9ea5-a8441edb67fb"
      },
      "source": [
        "isinstance(3, int)\n"
      ],
      "execution_count": null,
      "outputs": [
        {
          "output_type": "execute_result",
          "data": {
            "text/plain": [
              "True\n"
            ]
          },
          "metadata": {
            "tags": []
          },
          "execution_count": 0
        }
      ]
    },
    {
      "cell_type": "code",
      "metadata": {
        "collapsed": true,
        "id": "WPjmumXXRSpN",
        "outputId": "442272ce-6887-4928-9339-3d6cfd2457be"
      },
      "source": [
        "isinstance(type, object)\n"
      ],
      "execution_count": null,
      "outputs": [
        {
          "output_type": "execute_result",
          "data": {
            "text/plain": [
              "True\n"
            ]
          },
          "metadata": {
            "tags": []
          },
          "execution_count": 0
        }
      ]
    },
    {
      "cell_type": "code",
      "metadata": {
        "collapsed": true,
        "id": "9E5TBluURSpN",
        "outputId": "a666cc69-9839-4ef5-8f69-56257ce2f7f9"
      },
      "source": [
        "isinstance(object, type)\n"
      ],
      "execution_count": null,
      "outputs": [
        {
          "output_type": "execute_result",
          "data": {
            "text/plain": [
              "True\n"
            ]
          },
          "metadata": {
            "tags": []
          },
          "execution_count": 0
        }
      ]
    },
    {
      "cell_type": "markdown",
      "metadata": {
        "id": "Bc7c3YptRSpO"
      },
      "source": [
        "\n",
        "So which is the \"ultimate\" base class? There's more to the confusion by the way,\n",
        "\n",
        "2\\. \n",
        "\n"
      ]
    },
    {
      "cell_type": "code",
      "metadata": {
        "collapsed": true,
        "id": "HEe46nGFRSpO",
        "outputId": "e2bc4440-54b6-4d70-f085-71284da4e589"
      },
      "source": [
        "class A: pass\n",
        "isinstance(A, A)\n"
      ],
      "execution_count": null,
      "outputs": [
        {
          "output_type": "execute_result",
          "data": {
            "text/plain": [
              "False\n"
            ]
          },
          "metadata": {
            "tags": []
          },
          "execution_count": 0
        }
      ]
    },
    {
      "cell_type": "code",
      "metadata": {
        "collapsed": true,
        "id": "PC-nzSl-RSpP",
        "outputId": "fff84389-8aa2-4553-e01f-b1dad1e8edbe"
      },
      "source": [
        "isinstance(type, type)\n"
      ],
      "execution_count": null,
      "outputs": [
        {
          "output_type": "execute_result",
          "data": {
            "text/plain": [
              "True\n"
            ]
          },
          "metadata": {
            "tags": []
          },
          "execution_count": 0
        }
      ]
    },
    {
      "cell_type": "code",
      "metadata": {
        "collapsed": true,
        "id": "es2qT04tRSpP",
        "outputId": "d6ac03e8-c48c-486e-f4f8-950b24f9632f"
      },
      "source": [
        "isinstance(object, object)\n"
      ],
      "execution_count": null,
      "outputs": [
        {
          "output_type": "execute_result",
          "data": {
            "text/plain": [
              "True\n"
            ]
          },
          "metadata": {
            "tags": []
          },
          "execution_count": 0
        }
      ]
    },
    {
      "cell_type": "markdown",
      "metadata": {
        "id": "pR22-hKgRSpQ"
      },
      "source": [
        "\n",
        "3\\.\n",
        "\n"
      ]
    },
    {
      "cell_type": "code",
      "metadata": {
        "collapsed": true,
        "id": "OANV9JE6RSpR",
        "outputId": "841fda10-57e5-4726-ba66-8cde2e4213f9"
      },
      "source": [
        "issubclass(int, object)\n"
      ],
      "execution_count": null,
      "outputs": [
        {
          "output_type": "execute_result",
          "data": {
            "text/plain": [
              "True\n"
            ]
          },
          "metadata": {
            "tags": []
          },
          "execution_count": 0
        }
      ]
    },
    {
      "cell_type": "code",
      "metadata": {
        "collapsed": true,
        "id": "Ejh0UNnNRSpT",
        "outputId": "6d8e237f-d37d-41ad-b1cf-dd1bb687158d"
      },
      "source": [
        "issubclass(type, object)\n"
      ],
      "execution_count": null,
      "outputs": [
        {
          "output_type": "execute_result",
          "data": {
            "text/plain": [
              "True\n"
            ]
          },
          "metadata": {
            "tags": []
          },
          "execution_count": 0
        }
      ]
    },
    {
      "cell_type": "code",
      "metadata": {
        "collapsed": true,
        "id": "xAW8WMjFRSpU",
        "outputId": "edc5ce74-59bb-4426-bd90-469334bfd41b"
      },
      "source": [
        "issubclass(object, type)\n"
      ],
      "execution_count": null,
      "outputs": [
        {
          "output_type": "execute_result",
          "data": {
            "text/plain": [
              "False\n"
            ]
          },
          "metadata": {
            "tags": []
          },
          "execution_count": 0
        }
      ]
    },
    {
      "cell_type": "markdown",
      "metadata": {
        "id": "uT94ekL-RSpU"
      },
      "source": [
        "\n",
        "\n"
      ]
    },
    {
      "cell_type": "markdown",
      "metadata": {
        "id": "os0NtsqORSpV"
      },
      "source": [
        "#### 💡 Explanation\n",
        "\n",
        "- `type` is a [metaclass](https://realpython.com/python-metaclasses/) in Python.\n",
        "- **Everything** is an `object` in Python, which includes classes as well as their objects (instances).\n",
        "- class `type` is the metaclass of class `object`, and every class (including `type`) has inherited directly or indirectly from `object`.\n",
        "- There is no real base class among `object` and `type`. The confusion in the above snippets is arising because we're thinking about these relationships (`issubclass` and `isinstance`) in terms of Python classes. The relationship between `object` and `type` can't be reproduced in pure python. To be more precise the following relationships can't be reproduced in pure Python,\n",
        "    + class A is an instance of class B, and class B is an instance of class A.\n",
        "    + class A is an instance of itself.\n",
        "- These relationships between `object` and `type` (both being instances of each other as well as themselves) exist in Python because of \"cheating\" at the implementation level.\n",
        "\n"
      ]
    },
    {
      "cell_type": "markdown",
      "metadata": {
        "id": "XjLpRDaHRSpV"
      },
      "source": [
        "### ▶ Subclass relationships\n",
        "**Output:**\n"
      ]
    },
    {
      "cell_type": "code",
      "metadata": {
        "collapsed": true,
        "id": "CAnwh8AnRSpW",
        "outputId": "98d1c252-2cb9-4908-9923-4f7b0df5070e"
      },
      "source": [
        "from collections import Hashable\n",
        "issubclass(list, object)\n"
      ],
      "execution_count": null,
      "outputs": [
        {
          "output_type": "execute_result",
          "data": {
            "text/plain": [
              "True\n"
            ]
          },
          "metadata": {
            "tags": []
          },
          "execution_count": 0
        }
      ]
    },
    {
      "cell_type": "code",
      "metadata": {
        "collapsed": true,
        "id": "FZ8NKOz0RSpX",
        "outputId": "39240a99-ee5c-40fa-91b9-e864b4a50f4e"
      },
      "source": [
        "issubclass(object, Hashable)\n"
      ],
      "execution_count": null,
      "outputs": [
        {
          "output_type": "execute_result",
          "data": {
            "text/plain": [
              "True\n"
            ]
          },
          "metadata": {
            "tags": []
          },
          "execution_count": 0
        }
      ]
    },
    {
      "cell_type": "code",
      "metadata": {
        "collapsed": true,
        "id": "iM4hFVQZRSpX",
        "outputId": "36c899ee-5a56-4408-f201-65d3128cd4fa"
      },
      "source": [
        "issubclass(list, Hashable)\n"
      ],
      "execution_count": null,
      "outputs": [
        {
          "output_type": "execute_result",
          "data": {
            "text/plain": [
              "False\n"
            ]
          },
          "metadata": {
            "tags": []
          },
          "execution_count": 0
        }
      ]
    },
    {
      "cell_type": "markdown",
      "metadata": {
        "id": "ydtRbuj5RSpY"
      },
      "source": [
        "\n",
        "The Subclass relationships were expected to be transitive, right? (i.e., if `A` is a subclass of `B`, and `B` is a subclass of `C`, the `A` _should_ a subclass of `C`)\n",
        "\n"
      ]
    },
    {
      "cell_type": "markdown",
      "metadata": {
        "id": "YDSbxhEHRSpY"
      },
      "source": [
        "#### 💡 Explanation:\n",
        "\n",
        "* Subclass relationships are not necessarily transitive in Python. Anyone is allowed to define their own, arbitrary `__subclasscheck__` in a metaclass.\n",
        "* When `issubclass(cls, Hashable)` is called, it simply looks for non-Falsey \"`__hash__`\" method in `cls` or anything it inherits from.\n",
        "* Since `object` is hashable, but `list` is non-hashable, it breaks the transitivity relation.\n",
        "* More detailed explanation can be found [here](https://www.naftaliharris.com/blog/python-subclass-intransitivity/).\n",
        "\n"
      ]
    },
    {
      "cell_type": "markdown",
      "metadata": {
        "id": "FS_Hq44qRSpY"
      },
      "source": [
        "### ▶ Methods equality and identity\n",
        "1.\n"
      ]
    },
    {
      "cell_type": "code",
      "metadata": {
        "collapsed": true,
        "id": "YK6-GNi4RSpY",
        "outputId": "ab362527-aac1-44e3-8ef0-84791ccdcbfe"
      },
      "source": [
        "class SomeClass:\n",
        "    def method(self):\n",
        "        pass\n",
        "\n",
        "    @classmethod\n",
        "    def classm(cls):\n",
        "        pass\n",
        "\n",
        "    @staticmethod\n",
        "    def staticm():\n",
        "        pass\n"
      ],
      "execution_count": null,
      "outputs": [
        {
          "output_type": "execute_result",
          "data": {
            "text/plain": [
              ""
            ]
          },
          "metadata": {
            "tags": []
          },
          "execution_count": 0
        }
      ]
    },
    {
      "cell_type": "markdown",
      "metadata": {
        "id": "TFViy8-_RSpZ"
      },
      "source": [
        "\n",
        "**Output:**\n"
      ]
    },
    {
      "cell_type": "code",
      "metadata": {
        "collapsed": true,
        "id": "fyDL2_PZRSpZ",
        "outputId": "53696aea-908b-4d7c-dc23-544b61194366"
      },
      "source": [
        "print(SomeClass.method is SomeClass.method)\n"
      ],
      "execution_count": null,
      "outputs": [
        {
          "output_type": "stream",
          "text": [
            "True\n"
          ],
          "name": "stdout"
        }
      ]
    },
    {
      "cell_type": "code",
      "metadata": {
        "collapsed": true,
        "id": "QZnn2JnnRSpZ",
        "outputId": "e2605aaf-6f4f-41ae-df63-07c63c331b7e"
      },
      "source": [
        "print(SomeClass.classm is SomeClass.classm)\n"
      ],
      "execution_count": null,
      "outputs": [
        {
          "output_type": "stream",
          "text": [
            "False\n"
          ],
          "name": "stdout"
        }
      ]
    },
    {
      "cell_type": "code",
      "metadata": {
        "collapsed": true,
        "id": "tN-gYzdjRSpb",
        "outputId": "ccbc6f1b-8d84-431d-d4a9-19b4937ee04e"
      },
      "source": [
        "print(SomeClass.classm == SomeClass.classm)\n"
      ],
      "execution_count": null,
      "outputs": [
        {
          "output_type": "stream",
          "text": [
            "True\n"
          ],
          "name": "stdout"
        }
      ]
    },
    {
      "cell_type": "code",
      "metadata": {
        "collapsed": true,
        "id": "pG96Z6ACRSpb",
        "outputId": "247d1eba-9b74-4adc-86ce-09291a743e5b"
      },
      "source": [
        "print(SomeClass.staticm is SomeClass.staticm)\n"
      ],
      "execution_count": null,
      "outputs": [
        {
          "output_type": "stream",
          "text": [
            "True\n"
          ],
          "name": "stdout"
        }
      ]
    },
    {
      "cell_type": "markdown",
      "metadata": {
        "id": "oGWxQUEzRSpb"
      },
      "source": [
        "\n",
        "Accessing `classm` twice, we get an equal object, but not the *same* one? Let's see what happens\n",
        "with instances of `SomeClass`:\n",
        "\n",
        "2.\n"
      ]
    },
    {
      "cell_type": "code",
      "metadata": {
        "collapsed": true,
        "id": "S0Kdr4yoRSpc",
        "outputId": "45b382c7-bf9f-4a72-c001-7f0d26e90791"
      },
      "source": [
        "o1 = SomeClass()\n",
        "o2 = SomeClass()\n"
      ],
      "execution_count": null,
      "outputs": [
        {
          "output_type": "execute_result",
          "data": {
            "text/plain": [
              ""
            ]
          },
          "metadata": {
            "tags": []
          },
          "execution_count": 0
        }
      ]
    },
    {
      "cell_type": "markdown",
      "metadata": {
        "id": "xE4pqYbvRSpc"
      },
      "source": [
        "\n",
        "**Output:**\n"
      ]
    },
    {
      "cell_type": "code",
      "metadata": {
        "collapsed": true,
        "id": "5ZOhcPaBRSpc",
        "outputId": "7acf6283-68c4-4cbb-f124-39b7a7be583d"
      },
      "source": [
        "print(o1.method == o2.method)\n"
      ],
      "execution_count": null,
      "outputs": [
        {
          "output_type": "stream",
          "text": [
            "False\n"
          ],
          "name": "stdout"
        }
      ]
    },
    {
      "cell_type": "code",
      "metadata": {
        "collapsed": true,
        "id": "8Yc764d0RSpc",
        "outputId": "4c5fa8ed-be79-40f9-baad-d6d8f64e49ec"
      },
      "source": [
        "print(o1.method == o1.method)\n"
      ],
      "execution_count": null,
      "outputs": [
        {
          "output_type": "stream",
          "text": [
            "True\n"
          ],
          "name": "stdout"
        }
      ]
    },
    {
      "cell_type": "code",
      "metadata": {
        "collapsed": true,
        "id": "dsOIugY8RSpd",
        "outputId": "a6e9d79a-e819-4e82-b1f2-81b6fa24d77e"
      },
      "source": [
        "print(o1.method is o1.method)\n"
      ],
      "execution_count": null,
      "outputs": [
        {
          "output_type": "stream",
          "text": [
            "False\n"
          ],
          "name": "stdout"
        }
      ]
    },
    {
      "cell_type": "code",
      "metadata": {
        "collapsed": true,
        "id": "mL3tzFTERSpd",
        "outputId": "2c9bc5de-694f-4a79-dfee-e28fbead3140"
      },
      "source": [
        "print(o1.classm is o1.classm)\n"
      ],
      "execution_count": null,
      "outputs": [
        {
          "output_type": "stream",
          "text": [
            "False\n"
          ],
          "name": "stdout"
        }
      ]
    },
    {
      "cell_type": "code",
      "metadata": {
        "collapsed": true,
        "id": "XAxX9nXnRSpe",
        "outputId": "cb731325-7ff5-4cc3-c765-9be22f36f950"
      },
      "source": [
        "print(o1.classm == o1.classm == o2.classm == SomeClass.classm)\n"
      ],
      "execution_count": null,
      "outputs": [
        {
          "output_type": "stream",
          "text": [
            "True\n"
          ],
          "name": "stdout"
        }
      ]
    },
    {
      "cell_type": "code",
      "metadata": {
        "collapsed": true,
        "id": "KBLlv61XRSpf",
        "outputId": "d626c00b-27a2-478a-edc7-54fb481a21a5"
      },
      "source": [
        "print(o1.staticm is o1.staticm is o2.staticm is SomeClass.staticm)\n"
      ],
      "execution_count": null,
      "outputs": [
        {
          "output_type": "stream",
          "text": [
            "True\n"
          ],
          "name": "stdout"
        }
      ]
    },
    {
      "cell_type": "markdown",
      "metadata": {
        "id": "SQGEBpVIRSpg"
      },
      "source": [
        "\n",
        "Accessing` classm` or `method` twice, creates equal but not *same* objects for the same instance of `SomeClass`.\n",
        "\n"
      ]
    },
    {
      "cell_type": "markdown",
      "metadata": {
        "id": "xiHIk4XJRSpg"
      },
      "source": [
        "#### 💡 Explanation\n",
        "* Functions are [descriptors](https://docs.python.org/3/howto/descriptor.html). Whenever a function is accessed as an\n",
        "attribute, the descriptor is invoked, creating a method object which \"binds\" the function with the object owning the\n",
        "attribute. If called, the method calls the function, implicitly passing the bound object as the first argument\n",
        "(this is how we get `self` as the first argument, despite not passing it explicitly).\n"
      ]
    },
    {
      "cell_type": "code",
      "metadata": {
        "collapsed": true,
        "id": "H-ighIJoRSph",
        "outputId": "429ffec3-79e7-4d92-d879-a8fb93cfa2fa"
      },
      "source": [
        "o1.method\n"
      ],
      "execution_count": null,
      "outputs": [
        {
          "output_type": "execute_result",
          "data": {
            "text/plain": [
              "<bound method SomeClass.method of <__main__.SomeClass object at ...>>\n"
            ]
          },
          "metadata": {
            "tags": []
          },
          "execution_count": 0
        }
      ]
    },
    {
      "cell_type": "markdown",
      "metadata": {
        "id": "Gnt2CcxrRSpi"
      },
      "source": [
        "* Accessing the attribute multiple times creates a method object every time! Therefore `o1.method is o1.method` is\n",
        "never truthy. Accessing functions as class attributes (as opposed to instance) does not create methods, however; so\n",
        "`SomeClass.method is SomeClass.method` is truthy.\n"
      ]
    },
    {
      "cell_type": "code",
      "metadata": {
        "collapsed": true,
        "id": "Isq46wpTRSpj",
        "outputId": "f6cd2227-70d4-4137-fc8c-72253a7c2408"
      },
      "source": [
        "SomeClass.method\n"
      ],
      "execution_count": null,
      "outputs": [
        {
          "output_type": "execute_result",
          "data": {
            "text/plain": [
              "<function SomeClass.method at ...>\n"
            ]
          },
          "metadata": {
            "tags": []
          },
          "execution_count": 0
        }
      ]
    },
    {
      "cell_type": "markdown",
      "metadata": {
        "id": "HIDj0t8URSpk"
      },
      "source": [
        "* `classmethod` transforms functions into class methods. Class methods are descriptors that, when accessed, create\n",
        "a method object which binds the *class* (type) of the object, instead of the object itself.\n"
      ]
    },
    {
      "cell_type": "code",
      "metadata": {
        "collapsed": true,
        "id": "zIX2DXz2RSpk",
        "outputId": "b103a06b-ad55-450d-90fd-c2422e87d859"
      },
      "source": [
        "o1.classm\n"
      ],
      "execution_count": null,
      "outputs": [
        {
          "output_type": "execute_result",
          "data": {
            "text/plain": [
              "<bound method SomeClass.classm of <class '__main__.SomeClass'>>\n"
            ]
          },
          "metadata": {
            "tags": []
          },
          "execution_count": 0
        }
      ]
    },
    {
      "cell_type": "markdown",
      "metadata": {
        "id": "Gxi7Q2KSRSpl"
      },
      "source": [
        "* Unlike functions, `classmethod`s will create a method also when accessed as class attributes (in which case they\n",
        "bind the class, not to the type of it). So `SomeClass.classm is SomeClass.classm` is falsy.\n"
      ]
    },
    {
      "cell_type": "code",
      "metadata": {
        "collapsed": true,
        "id": "VkXaHoSMRSpl",
        "outputId": "6536da7d-030a-4836-dca3-2c75c1bac730"
      },
      "source": [
        "SomeClass.classm\n"
      ],
      "execution_count": null,
      "outputs": [
        {
          "output_type": "execute_result",
          "data": {
            "text/plain": [
              "<bound method SomeClass.classm of <class '__main__.SomeClass'>>\n"
            ]
          },
          "metadata": {
            "tags": []
          },
          "execution_count": 0
        }
      ]
    },
    {
      "cell_type": "markdown",
      "metadata": {
        "id": "0nVzzgYuRSpm"
      },
      "source": [
        "* A method object compares equal when both the functions are equal, and the bound objects are the same. So\n",
        "`o1.method == o1.method` is truthy, although not the same object in memory.\n",
        "* `staticmethod` transforms functions into a \"no-op\" descriptor, which returns the function as-is. No method\n",
        "objects are ever created, so comparison with `is` is truthy.\n"
      ]
    },
    {
      "cell_type": "code",
      "metadata": {
        "collapsed": true,
        "id": "wH_vuEQBRSpm",
        "outputId": "c59bd8d8-1f59-4113-bdd4-62b94fbf45ff"
      },
      "source": [
        "o1.staticm\n"
      ],
      "execution_count": null,
      "outputs": [
        {
          "output_type": "execute_result",
          "data": {
            "text/plain": [
              "<function SomeClass.staticm at ...>\n"
            ]
          },
          "metadata": {
            "tags": []
          },
          "execution_count": 0
        }
      ]
    },
    {
      "cell_type": "code",
      "metadata": {
        "collapsed": true,
        "id": "B9aKgfyzRSpn",
        "outputId": "57715900-c10d-48eb-bd17-9287ba5351c5"
      },
      "source": [
        "SomeClass.staticm\n"
      ],
      "execution_count": null,
      "outputs": [
        {
          "output_type": "execute_result",
          "data": {
            "text/plain": [
              "<function SomeClass.staticm at ...>\n"
            ]
          },
          "metadata": {
            "tags": []
          },
          "execution_count": 0
        }
      ]
    },
    {
      "cell_type": "markdown",
      "metadata": {
        "id": "Hk4FEB6IRSpn"
      },
      "source": [
        "* Having to create new \"method\" objects every time Python calls instance methods and having to modify the arguments\n",
        "every time in order to insert `self` affected performance badly.\n",
        "CPython 3.7 [solved it](https://bugs.python.org/issue26110) by introducing new opcodes that deal with calling methods\n",
        "without creating the temporary method objects. This is used only when the accessed function is actually called, so the\n",
        "snippets here are not affected, and still generate methods :)\n",
        "\n"
      ]
    },
    {
      "cell_type": "markdown",
      "metadata": {
        "id": "nfJcHjZ7RSpn"
      },
      "source": [
        "### ▶ All-true-ation *\n"
      ]
    },
    {
      "cell_type": "code",
      "metadata": {
        "collapsed": true,
        "id": "_NsavAWJRSpo",
        "outputId": "0d1ad46f-09a7-4c28-dd26-7d3951dc6bf5"
      },
      "source": [
        "all([True, True, True])\n"
      ],
      "execution_count": null,
      "outputs": [
        {
          "output_type": "execute_result",
          "data": {
            "text/plain": [
              "True\n"
            ]
          },
          "metadata": {
            "tags": []
          },
          "execution_count": 0
        }
      ]
    },
    {
      "cell_type": "code",
      "metadata": {
        "collapsed": true,
        "id": "oZZT37SrRSpo",
        "outputId": "b014ccf3-f2eb-4e04-c406-a4d027dacbc1"
      },
      "source": [
        "all([True, True, False])\n"
      ],
      "execution_count": null,
      "outputs": [
        {
          "output_type": "execute_result",
          "data": {
            "text/plain": [
              "False\n",
              "\n"
            ]
          },
          "metadata": {
            "tags": []
          },
          "execution_count": 0
        }
      ]
    },
    {
      "cell_type": "code",
      "metadata": {
        "collapsed": true,
        "id": "qmzvARG7RSpo",
        "outputId": "9059f0f8-ed2a-49e5-974d-1510158cfdf1"
      },
      "source": [
        "all([])\n"
      ],
      "execution_count": null,
      "outputs": [
        {
          "output_type": "execute_result",
          "data": {
            "text/plain": [
              "True\n"
            ]
          },
          "metadata": {
            "tags": []
          },
          "execution_count": 0
        }
      ]
    },
    {
      "cell_type": "code",
      "metadata": {
        "collapsed": true,
        "id": "VTFZu-0bRSpo",
        "outputId": "46f122f8-cc00-483b-e6e7-8bc2f21f473a"
      },
      "source": [
        "all([[]])\n"
      ],
      "execution_count": null,
      "outputs": [
        {
          "output_type": "execute_result",
          "data": {
            "text/plain": [
              "False\n"
            ]
          },
          "metadata": {
            "tags": []
          },
          "execution_count": 0
        }
      ]
    },
    {
      "cell_type": "code",
      "metadata": {
        "collapsed": true,
        "id": "vd5eMDEfRSpp",
        "outputId": "92ef744e-f003-4b00-e652-f14f93344c12"
      },
      "source": [
        "all([[[]]])\n"
      ],
      "execution_count": null,
      "outputs": [
        {
          "output_type": "execute_result",
          "data": {
            "text/plain": [
              "True\n"
            ]
          },
          "metadata": {
            "tags": []
          },
          "execution_count": 0
        }
      ]
    },
    {
      "cell_type": "markdown",
      "metadata": {
        "id": "oWk_mdMjRSpp"
      },
      "source": [
        "\n",
        "Why's this True-False alteration?\n",
        "\n"
      ]
    },
    {
      "cell_type": "markdown",
      "metadata": {
        "id": "W2jZXdOyRSpp"
      },
      "source": [
        "#### 💡 Explanation:\n",
        "\n",
        "- The implementation of `all` function is equivalent to\n",
        "\n",
        "- ```py\n",
        "  def all(iterable):\n",
        "      for element in iterable:\n",
        "          if not element:\n",
        "              return False\n",
        "      return True\n",
        "  ```\n",
        "\n",
        "- `all([])` returns `True` since the iterable is empty. \n",
        "- `all([[]])` returns `False` because `not []` is `True` is equivalent to `not False` as the list inside the iterable is empty.\n",
        "- `all([[[]]])` and higher recursive variants are always `True` since `not [[]]`, `not [[[]]]`, and so on are equivalent to `not True`.\n",
        "\n"
      ]
    },
    {
      "cell_type": "markdown",
      "metadata": {
        "id": "OM8O1TUcRSpq"
      },
      "source": [
        "### ▶ The surprising comma\n",
        "**Output (< 3.6):**\n",
        "\n"
      ]
    },
    {
      "cell_type": "code",
      "metadata": {
        "collapsed": true,
        "id": "dUWtOAbkRSpq",
        "outputId": "d732fa48-f120-4800-ebfe-21882063b71d"
      },
      "source": [
        "def f(x, y,):\n",
        "     print(x, y)\n",
        "\n",
        "def g(x=4, y=5,):\n",
        "     print(x, y)\n",
        "\n",
        "def h(x, **kwargs,):\n"
      ],
      "execution_count": null,
      "outputs": [
        {
          "output_type": "execute_result",
          "data": {
            "text/plain": [
              "  File \"<stdin>\", line 1\n",
              "    def h(x, **kwargs,):\n",
              "                     ^\n",
              "SyntaxError: invalid syntax\n",
              "\n"
            ]
          },
          "metadata": {
            "tags": []
          },
          "execution_count": 0
        }
      ]
    },
    {
      "cell_type": "code",
      "metadata": {
        "collapsed": true,
        "id": "-JsRICFhRSpq",
        "outputId": "7073f3b0-c9da-4ed5-bd4e-1cccb259f91f"
      },
      "source": [
        "def h(*args,):\n"
      ],
      "execution_count": null,
      "outputs": [
        {
          "output_type": "execute_result",
          "data": {
            "text/plain": [
              "  File \"<stdin>\", line 1\n",
              "    def h(*args,):\n",
              "                ^\n",
              "SyntaxError: invalid syntax\n"
            ]
          },
          "metadata": {
            "tags": []
          },
          "execution_count": 0
        }
      ]
    },
    {
      "cell_type": "markdown",
      "metadata": {
        "id": "65ZIEBXgRSpq"
      },
      "source": [
        "\n"
      ]
    },
    {
      "cell_type": "markdown",
      "metadata": {
        "id": "b7_3FPruRSpr"
      },
      "source": [
        "#### 💡 Explanation:\n",
        "\n",
        "- Trailing comma is not always legal in formal parameters list of a Python function.\n",
        "-  In Python, the argument list is defined partially with leading commas and partially with trailing commas. This conflict causes situations where a comma is trapped in the middle, and no rule accepts it.\n",
        "-  **Note:** The trailing comma problem is [fixed in Python 3.6](https://bugs.python.org/issue9232). The remarks in [this](https://bugs.python.org/issue9232#msg248399) post discuss in brief different usages of trailing commas in Python.\n",
        "\n"
      ]
    },
    {
      "cell_type": "markdown",
      "metadata": {
        "id": "2W2BQSoMRSpr"
      },
      "source": [
        "### ▶ Strings and the backslashes\n",
        "**Output:**\n"
      ]
    },
    {
      "cell_type": "code",
      "metadata": {
        "collapsed": true,
        "id": "AGhSjFPxRSpr",
        "outputId": "cccb3ab9-ef1f-45c6-a8ce-a5c73c4ff61b"
      },
      "source": [
        "print(\"\\\"\")\n"
      ],
      "execution_count": null,
      "outputs": [
        {
          "output_type": "stream",
          "text": [
            "\"\n",
            "\n"
          ],
          "name": "stdout"
        }
      ]
    },
    {
      "cell_type": "code",
      "metadata": {
        "collapsed": true,
        "id": "LxczDa84RSps",
        "outputId": "cda3b2a3-c0fe-4a5b-f9a9-7c21890e080a"
      },
      "source": [
        "print(r\"\\\"\")\n"
      ],
      "execution_count": null,
      "outputs": [
        {
          "output_type": "stream",
          "text": [
            "\\\"\n",
            "\n"
          ],
          "name": "stdout"
        }
      ]
    },
    {
      "cell_type": "code",
      "metadata": {
        "collapsed": true,
        "id": "dA1JjkTbRSpt",
        "outputId": "442b94b2-90bd-4100-e17a-351d0bf453fb"
      },
      "source": [
        "print(r\"\\\")\n"
      ],
      "execution_count": null,
      "outputs": [
        {
          "output_type": "stream",
          "text": [
            "File \"<stdin>\", line 1\n",
            "    print(r\"\\\")\n",
            "              ^\n",
            "SyntaxError: EOL while scanning string literal\n",
            "\n"
          ],
          "name": "stdout"
        }
      ]
    },
    {
      "cell_type": "code",
      "metadata": {
        "collapsed": true,
        "id": "8f-GCpGvRSpu",
        "outputId": "1b5e0f3b-3982-4c38-be02-8f48e63780d9"
      },
      "source": [
        "r'\\'' == \"\\\\'\"\n"
      ],
      "execution_count": null,
      "outputs": [
        {
          "output_type": "execute_result",
          "data": {
            "text/plain": [
              "True\n"
            ]
          },
          "metadata": {
            "tags": []
          },
          "execution_count": 0
        }
      ]
    },
    {
      "cell_type": "markdown",
      "metadata": {
        "id": "tCXqpFp1RSpv"
      },
      "source": [
        "\n"
      ]
    },
    {
      "cell_type": "markdown",
      "metadata": {
        "id": "RETik5RDRSpv"
      },
      "source": [
        "#### 💡 Explanation\n",
        "\n",
        "- In a usual python string, the backslash is used to escape characters that may have a special meaning (like single-quote, double-quote, and the backslash itself).\n"
      ]
    },
    {
      "cell_type": "code",
      "metadata": {
        "collapsed": true,
        "id": "cdfnghnFRSpw",
        "outputId": "cbb64662-4c04-4c2e-d381-119d60447bc5"
      },
      "source": [
        "    \"wt\\\"f\"\n"
      ],
      "execution_count": null,
      "outputs": [
        {
          "output_type": "execute_result",
          "data": {
            "text/plain": [
              "    'wt\"f'\n"
            ]
          },
          "metadata": {
            "tags": []
          },
          "execution_count": 0
        }
      ]
    },
    {
      "cell_type": "markdown",
      "metadata": {
        "id": "DmTTdrp_RSpw"
      },
      "source": [
        "- In a raw string literal (as indicated by the prefix `r`),  the backslashes pass themselves as is along with the behavior of escaping the following character.\n"
      ]
    },
    {
      "cell_type": "code",
      "metadata": {
        "collapsed": true,
        "id": "XlBJVVeNRSpw",
        "outputId": "96dd1c2a-657b-4cf9-fd96-bd5795bc6387"
      },
      "source": [
        "    r'wt\\\"f' == 'wt\\\\\"f'\n"
      ],
      "execution_count": null,
      "outputs": [
        {
          "output_type": "execute_result",
          "data": {
            "text/plain": [
              "    True\n"
            ]
          },
          "metadata": {
            "tags": []
          },
          "execution_count": 0
        }
      ]
    },
    {
      "cell_type": "code",
      "metadata": {
        "collapsed": true,
        "id": "DA22ge_3RSpz",
        "outputId": "b9720e55-f3e9-4007-ad62-e3d617f71c63"
      },
      "source": [
        "    print(repr(r'wt\\\"f')\n"
      ],
      "execution_count": null,
      "outputs": [
        {
          "output_type": "execute_result",
          "data": {
            "text/plain": [
              "    'wt\\\\\"f'\n",
              "\n"
            ]
          },
          "metadata": {
            "tags": []
          },
          "execution_count": 0
        }
      ]
    },
    {
      "cell_type": "code",
      "metadata": {
        "collapsed": true,
        "id": "cNUHd7uqRSp0",
        "outputId": "27a8eeca-75bd-4a34-e04d-1a99ba7733ea"
      },
      "source": [
        "    print(\"\\n\")\n"
      ],
      "execution_count": null,
      "outputs": [
        {
          "output_type": "execute_result",
          "data": {
            "text/plain": [
              "\n"
            ]
          },
          "metadata": {
            "tags": []
          },
          "execution_count": 0
        }
      ]
    },
    {
      "cell_type": "code",
      "metadata": {
        "collapsed": true,
        "id": "zQhbYTM7RSp0",
        "outputId": "1eafbe75-0638-40a5-aead-38b3adbbfbc4"
      },
      "source": [
        "    print(r\"\\\\n\")\n"
      ],
      "execution_count": null,
      "outputs": [
        {
          "output_type": "execute_result",
          "data": {
            "text/plain": [
              "    '\\\\n'\n"
            ]
          },
          "metadata": {
            "tags": []
          },
          "execution_count": 0
        }
      ]
    },
    {
      "cell_type": "markdown",
      "metadata": {
        "id": "tpVsYcG5RSp1"
      },
      "source": [
        "- This means when a parser encounters a backslash in a raw string, it expects another character following it. And in our case (`print(r\"\\\")`), the backslash escaped the trailing quote, leaving the parser without a terminating quote (hence the `SyntaxError`). That's why backslashes don't work at the end of a raw string.\n",
        "\n"
      ]
    },
    {
      "cell_type": "markdown",
      "metadata": {
        "id": "N_y5YDUhRSp1"
      },
      "source": [
        "### ▶ not knot!\n"
      ]
    },
    {
      "cell_type": "code",
      "metadata": {
        "collapsed": true,
        "id": "1l8Mz6DcRSp2",
        "outputId": "4d080088-2ab8-4290-8298-6afc510fb020"
      },
      "source": [
        "x = True\n",
        "y = False\n"
      ],
      "execution_count": null,
      "outputs": [
        {
          "output_type": "execute_result",
          "data": {
            "text/plain": [
              ""
            ]
          },
          "metadata": {
            "tags": []
          },
          "execution_count": 0
        }
      ]
    },
    {
      "cell_type": "markdown",
      "metadata": {
        "id": "TVCVIuxJRSp2"
      },
      "source": [
        "\n",
        "**Output:**\n"
      ]
    },
    {
      "cell_type": "code",
      "metadata": {
        "collapsed": true,
        "id": "8roqa9-ERSp3",
        "outputId": "ac846208-c170-4608-dd03-4ca4fd055ebd"
      },
      "source": [
        "not x == y\n"
      ],
      "execution_count": null,
      "outputs": [
        {
          "output_type": "execute_result",
          "data": {
            "text/plain": [
              "True\n"
            ]
          },
          "metadata": {
            "tags": []
          },
          "execution_count": 0
        }
      ]
    },
    {
      "cell_type": "code",
      "metadata": {
        "collapsed": true,
        "id": "j18MAS_YRSp3",
        "outputId": "eeb0b02f-7086-4d53-b208-9bb4098d3a35"
      },
      "source": [
        "x == not y\n"
      ],
      "execution_count": null,
      "outputs": [
        {
          "output_type": "execute_result",
          "data": {
            "text/plain": [
              "  File \"<input>\", line 1\n",
              "    x == not y\n",
              "           ^\n",
              "SyntaxError: invalid syntax\n"
            ]
          },
          "metadata": {
            "tags": []
          },
          "execution_count": 0
        }
      ]
    },
    {
      "cell_type": "markdown",
      "metadata": {
        "id": "Mg8Q9iLXRSp5"
      },
      "source": [
        "\n"
      ]
    },
    {
      "cell_type": "markdown",
      "metadata": {
        "id": "kuKvqdUKRSp5"
      },
      "source": [
        "#### 💡 Explanation:\n",
        "\n",
        "* Operator precedence affects how an expression is evaluated, and `==` operator has higher precedence than `not` operator in Python.\n",
        "* So `not x == y` is equivalent to `not (x == y)` which is equivalent to `not (True == False)` finally evaluating to `True`.\n",
        "* But `x == not y` raises a `SyntaxError` because it can be thought of being equivalent to `(x == not) y` and not `x == (not y)` which you might have expected at first sight.\n",
        "* The parser expected the `not` token to be a part of the `not in` operator (because both `==` and `not in` operators have the same precedence), but after not being able to find an `in` token following the `not` token, it raises a `SyntaxError`.\n",
        "\n"
      ]
    },
    {
      "cell_type": "markdown",
      "metadata": {
        "id": "Q-O1JL2hRSp5"
      },
      "source": [
        "### ▶ Half triple-quoted strings\n",
        "**Output:**\n"
      ]
    },
    {
      "cell_type": "code",
      "metadata": {
        "collapsed": true,
        "id": "RerIiVcfRSp5",
        "outputId": "99767acb-c018-410d-deb6-7df81f7ef055"
      },
      "source": [
        "print('wtfpython''')\n"
      ],
      "execution_count": null,
      "outputs": [
        {
          "output_type": "stream",
          "text": [
            "wtfpython\n"
          ],
          "name": "stdout"
        }
      ]
    },
    {
      "cell_type": "code",
      "metadata": {
        "collapsed": true,
        "id": "DAxomNULRSp6",
        "outputId": "c9d00291-12b4-492a-f60e-9e7d225d7753"
      },
      "source": [
        "print(\"wtfpython\"\"\")\n"
      ],
      "execution_count": null,
      "outputs": [
        {
          "output_type": "stream",
          "text": [
            "wtfpython\n"
          ],
          "name": "stdout"
        }
      ]
    },
    {
      "cell_type": "code",
      "metadata": {
        "collapsed": true,
        "id": "RODJIO2dRSp6",
        "outputId": "4d4be6dc-d0d4-4580-c191-b4bfd8ca5bbf"
      },
      "source": [
        "# The following statements raise `SyntaxError`\n",
        "# print('''wtfpython')\n",
        "# print(\"\"\"wtfpython\")\n"
      ],
      "execution_count": null,
      "outputs": [
        {
          "output_type": "execute_result",
          "data": {
            "text/plain": [
              "  File \"<input>\", line 3\n",
              "    print(\"\"\"wtfpython\")\n",
              "                        ^\n",
              "SyntaxError: EOF while scanning triple-quoted string literal\n"
            ]
          },
          "metadata": {
            "tags": []
          },
          "execution_count": 0
        }
      ]
    },
    {
      "cell_type": "markdown",
      "metadata": {
        "id": "siR_hfiKRSp6"
      },
      "source": [
        "\n"
      ]
    },
    {
      "cell_type": "markdown",
      "metadata": {
        "id": "O4_Sw6--RSp6"
      },
      "source": [
        "#### 💡 Explanation:\n",
        "+ Python supports implicit [string literal concatenation](https://docs.python.org/3/reference/lexical_analysis.html#string-literal-concatenation), Example,\n",
        "  ```\n",
        "  >>> print(\"wtf\" \"python\")\n",
        "  wtfpython\n",
        "  >>> print(\"wtf\" \"\") # or \"wtf\"\"\"\n",
        "  wtf\n",
        "  ```\n",
        "+ `'''` and `\"\"\"` are also string delimiters in Python which causes a SyntaxError because the Python interpreter was expecting a terminating triple quote as delimiter while scanning the currently encountered triple quoted string literal.\n",
        "\n"
      ]
    },
    {
      "cell_type": "markdown",
      "metadata": {
        "id": "Jw12mgTQRSp7"
      },
      "source": [
        "### ▶ What's wrong with booleans?\n",
        "1\\.\n",
        "\n"
      ]
    },
    {
      "cell_type": "code",
      "metadata": {
        "collapsed": true,
        "id": "9cL1sT6-RSp7",
        "outputId": "56218136-fd84-4d74-fccc-11567f37b513"
      },
      "source": [
        "# A simple example to count the number of booleans and\n",
        "# integers in an iterable of mixed data types.\n",
        "mixed_list = [False, 1.0, \"some_string\", 3, True, [], False]\n",
        "integers_found_so_far = 0\n",
        "booleans_found_so_far = 0\n",
        "\n",
        "for item in mixed_list:\n",
        "    if isinstance(item, int):\n",
        "        integers_found_so_far += 1\n",
        "    elif isinstance(item, bool):\n",
        "        booleans_found_so_far += 1\n"
      ],
      "execution_count": null,
      "outputs": [
        {
          "output_type": "execute_result",
          "data": {
            "text/plain": [
              ""
            ]
          },
          "metadata": {
            "tags": []
          },
          "execution_count": 0
        }
      ]
    },
    {
      "cell_type": "markdown",
      "metadata": {
        "id": "dozyVTEJRSp7"
      },
      "source": [
        "\n",
        "**Output:**\n"
      ]
    },
    {
      "cell_type": "code",
      "metadata": {
        "collapsed": true,
        "id": "xxJjkeDGRSp7",
        "outputId": "3616b9b7-93e3-4611-d7bd-d8f51eebd9f3"
      },
      "source": [
        "integers_found_so_far\n"
      ],
      "execution_count": null,
      "outputs": [
        {
          "output_type": "execute_result",
          "data": {
            "text/plain": [
              "4\n"
            ]
          },
          "metadata": {
            "tags": []
          },
          "execution_count": 0
        }
      ]
    },
    {
      "cell_type": "code",
      "metadata": {
        "collapsed": true,
        "id": "J1DtyQlmRSp8",
        "outputId": "d114e0b8-2a5e-47fb-9781-f4c1a0bb73c4"
      },
      "source": [
        "booleans_found_so_far\n"
      ],
      "execution_count": null,
      "outputs": [
        {
          "output_type": "execute_result",
          "data": {
            "text/plain": [
              "0\n"
            ]
          },
          "metadata": {
            "tags": []
          },
          "execution_count": 0
        }
      ]
    },
    {
      "cell_type": "markdown",
      "metadata": {
        "id": "N14w4KLKRSp8"
      },
      "source": [
        "\n",
        "\n",
        "2\\.\n"
      ]
    },
    {
      "cell_type": "code",
      "metadata": {
        "collapsed": true,
        "id": "EvXNs3bPRSp8",
        "outputId": "d8da057c-d0b4-4eb7-e8d4-042383322f24"
      },
      "source": [
        "some_bool = True\n",
        "\"wtf\" * some_bool\n"
      ],
      "execution_count": null,
      "outputs": [
        {
          "output_type": "execute_result",
          "data": {
            "text/plain": [
              "'wtf'\n"
            ]
          },
          "metadata": {
            "tags": []
          },
          "execution_count": 0
        }
      ]
    },
    {
      "cell_type": "code",
      "metadata": {
        "collapsed": true,
        "id": "G6CaceI_RSp9",
        "outputId": "9b2813be-8b95-43f9-ab40-f648521744bf"
      },
      "source": [
        "some_bool = False\n",
        "\"wtf\" * some_bool\n"
      ],
      "execution_count": null,
      "outputs": [
        {
          "output_type": "execute_result",
          "data": {
            "text/plain": [
              "''\n"
            ]
          },
          "metadata": {
            "tags": []
          },
          "execution_count": 0
        }
      ]
    },
    {
      "cell_type": "markdown",
      "metadata": {
        "id": "wHeJaLxyRSp9"
      },
      "source": [
        "\n",
        "3\\.\n",
        "\n"
      ]
    },
    {
      "cell_type": "code",
      "metadata": {
        "collapsed": true,
        "id": "-lLhDv-aRSp9",
        "outputId": "44244e73-2421-4870-b521-89a555eff194"
      },
      "source": [
        "def tell_truth():\n",
        "    True = False\n",
        "    if True == False:\n",
        "        print(\"I have lost faith in truth!\")\n"
      ],
      "execution_count": null,
      "outputs": [
        {
          "output_type": "execute_result",
          "data": {
            "text/plain": [
              ""
            ]
          },
          "metadata": {
            "tags": []
          },
          "execution_count": 0
        }
      ]
    },
    {
      "cell_type": "markdown",
      "metadata": {
        "id": "5kgG8U6gRSp-"
      },
      "source": [
        "\n",
        "**Output (< 3.x):**\n",
        "\n"
      ]
    },
    {
      "cell_type": "code",
      "metadata": {
        "collapsed": true,
        "id": "Ev7MyZjSRSp-",
        "outputId": "89a60df9-96c9-48b1-f921-c873ebee3a48"
      },
      "source": [
        "tell_truth()\n"
      ],
      "execution_count": null,
      "outputs": [
        {
          "output_type": "execute_result",
          "data": {
            "text/plain": [
              "I have lost faith in truth!\n"
            ]
          },
          "metadata": {
            "tags": []
          },
          "execution_count": 0
        }
      ]
    },
    {
      "cell_type": "markdown",
      "metadata": {
        "id": "wr_ASqceRSp-"
      },
      "source": [
        "\n",
        "\n",
        "\n"
      ]
    },
    {
      "cell_type": "markdown",
      "metadata": {
        "id": "QgQQaQZrRSp-"
      },
      "source": [
        "#### 💡 Explanation:\n",
        "\n",
        "* `bool` is a subclass of `int` in Python\n",
        "    \n"
      ]
    },
    {
      "cell_type": "code",
      "metadata": {
        "collapsed": true,
        "id": "7JtHrxL5RSp_",
        "outputId": "ccf087d2-deb0-41a0-fe6c-7936d3299044"
      },
      "source": [
        "    issubclass(bool, int)\n"
      ],
      "execution_count": null,
      "outputs": [
        {
          "output_type": "execute_result",
          "data": {
            "text/plain": [
              "    True\n"
            ]
          },
          "metadata": {
            "tags": []
          },
          "execution_count": 0
        }
      ]
    },
    {
      "cell_type": "code",
      "metadata": {
        "collapsed": true,
        "id": "9TGCWtQvRSp_",
        "outputId": "48533e11-51dd-4ab6-b28a-7096f2191563"
      },
      "source": [
        "    issubclass(int, bool)\n"
      ],
      "execution_count": null,
      "outputs": [
        {
          "output_type": "execute_result",
          "data": {
            "text/plain": [
              "    False\n"
            ]
          },
          "metadata": {
            "tags": []
          },
          "execution_count": 0
        }
      ]
    },
    {
      "cell_type": "markdown",
      "metadata": {
        "id": "wPXoCj5lRSp_"
      },
      "source": [
        "    \n",
        "* And thus, `True` and `False` are instances of `int`\n"
      ]
    },
    {
      "cell_type": "code",
      "metadata": {
        "collapsed": true,
        "id": "WOgxryJcRSqA",
        "outputId": "b4b1087c-87d4-4503-d419-e81b4670677c"
      },
      "source": [
        "  isinstance(True, int)\n"
      ],
      "execution_count": null,
      "outputs": [
        {
          "output_type": "execute_result",
          "data": {
            "text/plain": [
              "  True\n"
            ]
          },
          "metadata": {
            "tags": []
          },
          "execution_count": 0
        }
      ]
    },
    {
      "cell_type": "code",
      "metadata": {
        "collapsed": true,
        "id": "9da1AlnFRSqB",
        "outputId": "a92800c4-57f9-4d8c-b98b-2d0744d418aa"
      },
      "source": [
        "  isinstance(False, int)\n"
      ],
      "execution_count": null,
      "outputs": [
        {
          "output_type": "execute_result",
          "data": {
            "text/plain": [
              "  True\n"
            ]
          },
          "metadata": {
            "tags": []
          },
          "execution_count": 0
        }
      ]
    },
    {
      "cell_type": "markdown",
      "metadata": {
        "id": "QehPKnWoRSqD"
      },
      "source": [
        "\n",
        "* The integer value of `True` is `1` and that of `False` is `0`.\n"
      ]
    },
    {
      "cell_type": "code",
      "metadata": {
        "collapsed": true,
        "id": "Qyu-DF9_RSqE",
        "outputId": "61d43114-593c-4f56-8f56-7fb9a2f091d9"
      },
      "source": [
        "  int(True)\n"
      ],
      "execution_count": null,
      "outputs": [
        {
          "output_type": "execute_result",
          "data": {
            "text/plain": [
              "  1\n"
            ]
          },
          "metadata": {
            "tags": []
          },
          "execution_count": 0
        }
      ]
    },
    {
      "cell_type": "code",
      "metadata": {
        "collapsed": true,
        "id": "l8m2EPr0RSqF",
        "outputId": "2de7e4db-5ed9-4d51-facd-f15fd66ea593"
      },
      "source": [
        "  int(False)\n"
      ],
      "execution_count": null,
      "outputs": [
        {
          "output_type": "execute_result",
          "data": {
            "text/plain": [
              "  0\n"
            ]
          },
          "metadata": {
            "tags": []
          },
          "execution_count": 0
        }
      ]
    },
    {
      "cell_type": "markdown",
      "metadata": {
        "id": "VmqKeQwnRSqG"
      },
      "source": [
        "\n",
        "* See this StackOverflow [answer](https://stackoverflow.com/a/8169049/4354153) for the rationale behind it.\n",
        "\n",
        "* Initially, Python used to have no `bool` type (people used 0 for false and non-zero value like 1 for true).  `True`, `False`, and a `bool` type was added in 2.x versions, but, for backward compatibility, `True` and `False` couldn't be made constants. They just were built-in variables, and it was possible to reassign them\n",
        "\n",
        "* Python 3 was backward-incompatible, the issue was finally fixed, and thus the last snippet won't work with Python 3.x!\n",
        "\n"
      ]
    },
    {
      "cell_type": "markdown",
      "metadata": {
        "id": "DRr2KavfRSqG"
      },
      "source": [
        "### ▶ Class attributes and instance attributes\n",
        "1\\.\n"
      ]
    },
    {
      "cell_type": "code",
      "metadata": {
        "collapsed": true,
        "id": "YIj5yDDrRSqH",
        "outputId": "1cf913cc-4528-40f1-ea87-0b364dfde5af"
      },
      "source": [
        "class A:\n",
        "    x = 1\n",
        "\n",
        "class B(A):\n",
        "    pass\n",
        "\n",
        "class C(A):\n",
        "    pass\n"
      ],
      "execution_count": null,
      "outputs": [
        {
          "output_type": "execute_result",
          "data": {
            "text/plain": [
              ""
            ]
          },
          "metadata": {
            "tags": []
          },
          "execution_count": 0
        }
      ]
    },
    {
      "cell_type": "markdown",
      "metadata": {
        "id": "HX1x4ZjRRSqH"
      },
      "source": [
        "\n",
        "**Output:**\n"
      ]
    },
    {
      "cell_type": "code",
      "metadata": {
        "collapsed": true,
        "id": "eZZ5zcCXRSqI",
        "outputId": "c93bb763-6b5e-4b89-c22d-1bf070da214d"
      },
      "source": [
        "A.x, B.x, C.x\n"
      ],
      "execution_count": null,
      "outputs": [
        {
          "output_type": "execute_result",
          "data": {
            "text/plain": [
              "(1, 1, 1)\n"
            ]
          },
          "metadata": {
            "tags": []
          },
          "execution_count": 0
        }
      ]
    },
    {
      "cell_type": "code",
      "metadata": {
        "collapsed": true,
        "id": "ZMdkrANGRSqI",
        "outputId": "c7d42608-0171-4798-bd1a-7f6560ee36ed"
      },
      "source": [
        "B.x = 2\n",
        "A.x, B.x, C.x\n"
      ],
      "execution_count": null,
      "outputs": [
        {
          "output_type": "execute_result",
          "data": {
            "text/plain": [
              "(1, 2, 1)\n"
            ]
          },
          "metadata": {
            "tags": []
          },
          "execution_count": 0
        }
      ]
    },
    {
      "cell_type": "code",
      "metadata": {
        "collapsed": true,
        "id": "v9n3vjOARSqJ",
        "outputId": "7ad57e9f-d93d-463c-fbe9-4604e19cdab2"
      },
      "source": [
        "A.x = 3\n",
        "A.x, B.x, C.x # C.x changed, but B.x didn't\n"
      ],
      "execution_count": null,
      "outputs": [
        {
          "output_type": "execute_result",
          "data": {
            "text/plain": [
              "(3, 2, 3)\n"
            ]
          },
          "metadata": {
            "tags": []
          },
          "execution_count": 0
        }
      ]
    },
    {
      "cell_type": "code",
      "metadata": {
        "collapsed": true,
        "id": "p13GYtz1RSqJ",
        "outputId": "3707f34b-a2b1-4e3f-ea51-8f6a9cdc59a3"
      },
      "source": [
        "a = A()\n",
        "a.x, A.x\n"
      ],
      "execution_count": null,
      "outputs": [
        {
          "output_type": "execute_result",
          "data": {
            "text/plain": [
              "(3, 3)\n"
            ]
          },
          "metadata": {
            "tags": []
          },
          "execution_count": 0
        }
      ]
    },
    {
      "cell_type": "code",
      "metadata": {
        "collapsed": true,
        "id": "HntNTui6RSqJ",
        "outputId": "20fd5164-3e60-4c78-fe0c-1bdb2e582623"
      },
      "source": [
        "a.x += 1\n",
        "a.x, A.x\n"
      ],
      "execution_count": null,
      "outputs": [
        {
          "output_type": "execute_result",
          "data": {
            "text/plain": [
              "(4, 3)\n"
            ]
          },
          "metadata": {
            "tags": []
          },
          "execution_count": 0
        }
      ]
    },
    {
      "cell_type": "markdown",
      "metadata": {
        "id": "hWSDWU9hRSqK"
      },
      "source": [
        "\n",
        "2\\.\n"
      ]
    },
    {
      "cell_type": "code",
      "metadata": {
        "collapsed": true,
        "id": "RxR8RbRrRSqK",
        "outputId": "2526c5d8-7b72-46db-d289-1b8c65cdb877"
      },
      "source": [
        "class SomeClass:\n",
        "    some_var = 15\n",
        "    some_list = [5]\n",
        "    another_list = [5]\n",
        "    def __init__(self, x):\n",
        "        self.some_var = x + 1\n",
        "        self.some_list = self.some_list + [x]\n",
        "        self.another_list += [x]\n"
      ],
      "execution_count": null,
      "outputs": [
        {
          "output_type": "execute_result",
          "data": {
            "text/plain": [
              ""
            ]
          },
          "metadata": {
            "tags": []
          },
          "execution_count": 0
        }
      ]
    },
    {
      "cell_type": "markdown",
      "metadata": {
        "id": "kwwm-c1KRSqL"
      },
      "source": [
        "\n",
        "**Output:**\n",
        "\n"
      ]
    },
    {
      "cell_type": "code",
      "metadata": {
        "collapsed": true,
        "id": "vu7ArT7qRSqL",
        "outputId": "52479792-5f66-434e-d45c-19b795d88165"
      },
      "source": [
        "some_obj = SomeClass(420)\n",
        "some_obj.some_list\n"
      ],
      "execution_count": null,
      "outputs": [
        {
          "output_type": "execute_result",
          "data": {
            "text/plain": [
              "[5, 420]\n"
            ]
          },
          "metadata": {
            "tags": []
          },
          "execution_count": 0
        }
      ]
    },
    {
      "cell_type": "code",
      "metadata": {
        "collapsed": true,
        "id": "OJZEG7nrRSqM",
        "outputId": "2daafa33-080f-410b-82bc-e311c60422ac"
      },
      "source": [
        "some_obj.another_list\n"
      ],
      "execution_count": null,
      "outputs": [
        {
          "output_type": "execute_result",
          "data": {
            "text/plain": [
              "[5, 420]\n"
            ]
          },
          "metadata": {
            "tags": []
          },
          "execution_count": 0
        }
      ]
    },
    {
      "cell_type": "code",
      "metadata": {
        "collapsed": true,
        "id": "HoMQtlD7RSqM",
        "outputId": "2d9c7480-10f0-48d8-ef74-14c54a3476d0"
      },
      "source": [
        "another_obj = SomeClass(111)\n",
        "another_obj.some_list\n"
      ],
      "execution_count": null,
      "outputs": [
        {
          "output_type": "execute_result",
          "data": {
            "text/plain": [
              "[5, 111]\n"
            ]
          },
          "metadata": {
            "tags": []
          },
          "execution_count": 0
        }
      ]
    },
    {
      "cell_type": "code",
      "metadata": {
        "collapsed": true,
        "id": "AFTVVwiaRSqN",
        "outputId": "9f6708b2-e2c8-462c-c240-de20b1daf4d8"
      },
      "source": [
        "another_obj.another_list\n"
      ],
      "execution_count": null,
      "outputs": [
        {
          "output_type": "execute_result",
          "data": {
            "text/plain": [
              "[5, 420, 111]\n"
            ]
          },
          "metadata": {
            "tags": []
          },
          "execution_count": 0
        }
      ]
    },
    {
      "cell_type": "code",
      "metadata": {
        "collapsed": true,
        "id": "1_WAoJ-cRSqN",
        "outputId": "61ea7d7e-66e7-4b68-e5fa-a317e18426e7"
      },
      "source": [
        "another_obj.another_list is SomeClass.another_list\n"
      ],
      "execution_count": null,
      "outputs": [
        {
          "output_type": "execute_result",
          "data": {
            "text/plain": [
              "True\n"
            ]
          },
          "metadata": {
            "tags": []
          },
          "execution_count": 0
        }
      ]
    },
    {
      "cell_type": "code",
      "metadata": {
        "collapsed": true,
        "id": "ygFddQC9RSqO",
        "outputId": "8fc3a4c1-6251-4764-c71b-d88622346273"
      },
      "source": [
        "another_obj.another_list is some_obj.another_list\n"
      ],
      "execution_count": null,
      "outputs": [
        {
          "output_type": "execute_result",
          "data": {
            "text/plain": [
              "True\n"
            ]
          },
          "metadata": {
            "tags": []
          },
          "execution_count": 0
        }
      ]
    },
    {
      "cell_type": "markdown",
      "metadata": {
        "id": "eTOeEy5QRSqP"
      },
      "source": [
        "\n"
      ]
    },
    {
      "cell_type": "markdown",
      "metadata": {
        "id": "YxfzkoK4RSqP"
      },
      "source": [
        "#### 💡 Explanation:\n",
        "\n",
        "* Class variables and variables in class instances are internally handled as dictionaries of a class object. If a variable name is not found in the dictionary of the current class, the parent classes are searched for it.\n",
        "* The `+=` operator modifies the mutable object in-place without creating a new object. So changing the attribute of one instance affects the other instances and the class attribute as well.\n",
        "\n"
      ]
    },
    {
      "cell_type": "markdown",
      "metadata": {
        "id": "RRyISZsoRSqP"
      },
      "source": [
        "### ▶ yielding None\n"
      ]
    },
    {
      "cell_type": "code",
      "metadata": {
        "collapsed": true,
        "id": "8IzTX4b4RSqR",
        "outputId": "22a87b1c-4768-400c-dc73-cf7c9aba5dd6"
      },
      "source": [
        "some_iterable = ('a', 'b')\n",
        "\n",
        "def some_func(val):\n",
        "    return \"something\"\n"
      ],
      "execution_count": null,
      "outputs": [
        {
          "output_type": "execute_result",
          "data": {
            "text/plain": [
              ""
            ]
          },
          "metadata": {
            "tags": []
          },
          "execution_count": 0
        }
      ]
    },
    {
      "cell_type": "markdown",
      "metadata": {
        "id": "YvRKHugFRSqS"
      },
      "source": [
        "\n",
        "**Output (<= 3.7.x):**\n",
        "\n"
      ]
    },
    {
      "cell_type": "code",
      "metadata": {
        "collapsed": true,
        "id": "TvBJ1uvuRSqT",
        "outputId": "fd47d90c-5c43-4229-895f-206dace715d0"
      },
      "source": [
        "[x for x in some_iterable]\n"
      ],
      "execution_count": null,
      "outputs": [
        {
          "output_type": "execute_result",
          "data": {
            "text/plain": [
              "['a', 'b']\n"
            ]
          },
          "metadata": {
            "tags": []
          },
          "execution_count": 0
        }
      ]
    },
    {
      "cell_type": "code",
      "metadata": {
        "collapsed": true,
        "id": "GF39kaMoRSqV",
        "outputId": "c9d37d96-e88a-487e-e87a-304ae2e201b8"
      },
      "source": [
        "[(yield x) for x in some_iterable]\n"
      ],
      "execution_count": null,
      "outputs": [
        {
          "output_type": "execute_result",
          "data": {
            "text/plain": [
              "<generator object <listcomp> at 0x7f70b0a4ad58>\n"
            ]
          },
          "metadata": {
            "tags": []
          },
          "execution_count": 0
        }
      ]
    },
    {
      "cell_type": "code",
      "metadata": {
        "collapsed": true,
        "id": "AmURS8UCRSqW",
        "outputId": "c96924d0-dcea-4526-c349-6272b9bd27c8"
      },
      "source": [
        "list([(yield x) for x in some_iterable])\n"
      ],
      "execution_count": null,
      "outputs": [
        {
          "output_type": "execute_result",
          "data": {
            "text/plain": [
              "['a', 'b']\n"
            ]
          },
          "metadata": {
            "tags": []
          },
          "execution_count": 0
        }
      ]
    },
    {
      "cell_type": "code",
      "metadata": {
        "collapsed": true,
        "id": "m9AppLAFRSqW",
        "outputId": "74b40804-e4ae-4d03-99cb-cebaf621950f"
      },
      "source": [
        "list((yield x) for x in some_iterable)\n"
      ],
      "execution_count": null,
      "outputs": [
        {
          "output_type": "execute_result",
          "data": {
            "text/plain": [
              "['a', None, 'b', None]\n"
            ]
          },
          "metadata": {
            "tags": []
          },
          "execution_count": 0
        }
      ]
    },
    {
      "cell_type": "code",
      "metadata": {
        "collapsed": true,
        "id": "c2kX8zbJRSqW",
        "outputId": "61fc7bee-eb07-4238-ca0d-a1928441d456"
      },
      "source": [
        "list(some_func((yield x)) for x in some_iterable)\n"
      ],
      "execution_count": null,
      "outputs": [
        {
          "output_type": "execute_result",
          "data": {
            "text/plain": [
              "['a', 'something', 'b', 'something']\n"
            ]
          },
          "metadata": {
            "tags": []
          },
          "execution_count": 0
        }
      ]
    },
    {
      "cell_type": "markdown",
      "metadata": {
        "id": "4QtovzotRSqX"
      },
      "source": [
        "\n"
      ]
    },
    {
      "cell_type": "markdown",
      "metadata": {
        "id": "yJTTZ1TGRSqX"
      },
      "source": [
        "#### 💡 Explanation:\n",
        "- This is a bug in CPython's handling of `yield` in generators and comprehensions.\n",
        "- Source and explanation can be found here: https://stackoverflow.com/questions/32139885/yield-in-list-comprehensions-and-generator-expressions\n",
        "- Related bug report: https://bugs.python.org/issue10544\n",
        "- Python 3.8+ no longer allows `yield` inside list comprehension and will throw a `SyntaxError`.\n",
        "\n"
      ]
    },
    {
      "cell_type": "markdown",
      "metadata": {
        "id": "E4GMbA52RSqZ"
      },
      "source": [
        "### ▶ Yielding from... return! *\n",
        "1\\.\n",
        "\n"
      ]
    },
    {
      "cell_type": "code",
      "metadata": {
        "collapsed": true,
        "id": "PH1VJUMKRSqa",
        "outputId": "017edd78-950e-4066-a97b-1e31758bf2f4"
      },
      "source": [
        "def some_func(x):\n",
        "    if x == 3:\n",
        "        return [\"wtf\"]\n",
        "    else:\n",
        "        yield from range(x)\n"
      ],
      "execution_count": null,
      "outputs": [
        {
          "output_type": "execute_result",
          "data": {
            "text/plain": [
              ""
            ]
          },
          "metadata": {
            "tags": []
          },
          "execution_count": 0
        }
      ]
    },
    {
      "cell_type": "markdown",
      "metadata": {
        "id": "r_pDHZqzRSqa"
      },
      "source": [
        "\n",
        "**Output (> 3.3):**\n",
        "\n"
      ]
    },
    {
      "cell_type": "code",
      "metadata": {
        "collapsed": true,
        "id": "BAHsqQG_RSqb",
        "outputId": "897d5e1e-8a0c-481c-fd2c-8db0cc47045d"
      },
      "source": [
        "list(some_func(3))\n"
      ],
      "execution_count": null,
      "outputs": [
        {
          "output_type": "execute_result",
          "data": {
            "text/plain": [
              "[]\n"
            ]
          },
          "metadata": {
            "tags": []
          },
          "execution_count": 0
        }
      ]
    },
    {
      "cell_type": "markdown",
      "metadata": {
        "id": "kEv0PtWIRSqd"
      },
      "source": [
        "\n",
        "Where did the `\"wtf\"` go? Is it due to some special effect of `yield from`? Let's validate that,\n",
        "\n",
        "2\\.\n",
        "\n"
      ]
    },
    {
      "cell_type": "code",
      "metadata": {
        "collapsed": true,
        "id": "g5hmPdEPRSqf",
        "outputId": "f81c6bde-40d4-4e41-eecb-5b4a17362622"
      },
      "source": [
        "def some_func(x):\n",
        "    if x == 3:\n",
        "        return [\"wtf\"]\n",
        "    else:\n",
        "        for i in range(x):\n",
        "          yield i\n"
      ],
      "execution_count": null,
      "outputs": [
        {
          "output_type": "execute_result",
          "data": {
            "text/plain": [
              ""
            ]
          },
          "metadata": {
            "tags": []
          },
          "execution_count": 0
        }
      ]
    },
    {
      "cell_type": "markdown",
      "metadata": {
        "id": "3bcOJUueRSqh"
      },
      "source": [
        "\n",
        "**Output:**\n",
        "\n"
      ]
    },
    {
      "cell_type": "code",
      "metadata": {
        "collapsed": true,
        "id": "rJ1XVhFIRSqh",
        "outputId": "f0cd4e61-eb4d-4aef-b218-d67a581310c7"
      },
      "source": [
        "list(some_func(3))\n"
      ],
      "execution_count": null,
      "outputs": [
        {
          "output_type": "execute_result",
          "data": {
            "text/plain": [
              "[]\n"
            ]
          },
          "metadata": {
            "tags": []
          },
          "execution_count": 0
        }
      ]
    },
    {
      "cell_type": "markdown",
      "metadata": {
        "id": "KFIUDDEtRSqi"
      },
      "source": [
        "\n",
        "The same result, this didn't work either.\n",
        "\n"
      ]
    },
    {
      "cell_type": "markdown",
      "metadata": {
        "id": "ZgVVKTBCRSqi"
      },
      "source": [
        "#### 💡 Explanation:\n",
        "\n",
        "+ From Python 3.3 onwards, it became possible to use `return` statement with values inside generators (See [PEP380](https://www.python.org/dev/peps/pep-0380/)). The [official docs](https://www.python.org/dev/peps/pep-0380/#enhancements-to-stopiteration) say that,\n",
        "\n",
        "> \"... `return expr` in a generator causes `StopIteration(expr)` to be raised upon exit from the generator.\"\n",
        "\n",
        "+ In the case of `some_func(3)`, `StopIteration` is raised at the beginning because of `return` statement. The `StopIteration` exception is automatically caught inside the `list(...)` wrapper and the `for` loop. Therefore, the above two snippets result in an empty list.\n",
        "\n",
        "+ To get `[\"wtf\"]` from the generator `some_func` we need to catch the `StopIteration` exception,\n",
        "\n"
      ]
    },
    {
      "cell_type": "code",
      "metadata": {
        "collapsed": true,
        "id": "QsQAE1sDRSqi",
        "outputId": "bc496703-deca-4de4-b140-cc26865762ed"
      },
      "source": [
        "  try:\n",
        "      next(some_func(3))\n",
        "  except StopIteration as e:\n",
        "      some_string = e.value\n"
      ],
      "execution_count": null,
      "outputs": [
        {
          "output_type": "execute_result",
          "data": {
            "text/plain": [
              ""
            ]
          },
          "metadata": {
            "tags": []
          },
          "execution_count": 0
        }
      ]
    },
    {
      "cell_type": "markdown",
      "metadata": {
        "id": "sw0FrZ-dRSqj"
      },
      "source": [
        "\n"
      ]
    },
    {
      "cell_type": "code",
      "metadata": {
        "collapsed": true,
        "id": "HZtiQn0ORSqj",
        "outputId": "bb462e1d-1041-4e29-9d00-2302675d58cf"
      },
      "source": [
        "  some_string\n"
      ],
      "execution_count": null,
      "outputs": [
        {
          "output_type": "execute_result",
          "data": {
            "text/plain": [
              "  [\"wtf\"]\n"
            ]
          },
          "metadata": {
            "tags": []
          },
          "execution_count": 0
        }
      ]
    },
    {
      "cell_type": "markdown",
      "metadata": {
        "id": "eC6Q0JzhRSql"
      },
      "source": [
        "\n"
      ]
    },
    {
      "cell_type": "markdown",
      "metadata": {
        "id": "SdFYkKu-RSql"
      },
      "source": [
        "### ▶ Nan-reflexivity *\n",
        "1\\.\n",
        "\n"
      ]
    },
    {
      "cell_type": "code",
      "metadata": {
        "collapsed": true,
        "id": "v7IkZ266RSql",
        "outputId": "9dd4ebad-f8aa-4314-d0f3-bb83df132ba5"
      },
      "source": [
        "a = float('inf')\n",
        "b = float('nan')\n",
        "c = float('-iNf')  # These strings are case-insensitive\n",
        "d = float('nan')\n"
      ],
      "execution_count": null,
      "outputs": [
        {
          "output_type": "execute_result",
          "data": {
            "text/plain": [
              ""
            ]
          },
          "metadata": {
            "tags": []
          },
          "execution_count": 0
        }
      ]
    },
    {
      "cell_type": "markdown",
      "metadata": {
        "id": "mwgxFzHuRSqm"
      },
      "source": [
        "\n",
        "**Output:**\n",
        "\n"
      ]
    },
    {
      "cell_type": "code",
      "metadata": {
        "collapsed": true,
        "id": "Os8pJebPRSqm",
        "outputId": "d46e46d1-dded-4e6e-d1dc-f423fa2ad5da"
      },
      "source": [
        "a\n"
      ],
      "execution_count": null,
      "outputs": [
        {
          "output_type": "execute_result",
          "data": {
            "text/plain": [
              "inf\n"
            ]
          },
          "metadata": {
            "tags": []
          },
          "execution_count": 0
        }
      ]
    },
    {
      "cell_type": "code",
      "metadata": {
        "collapsed": true,
        "id": "cbWksWhNRSqm",
        "outputId": "9947ec7d-e6ff-4f7e-9574-b0815cc67d80"
      },
      "source": [
        "b\n"
      ],
      "execution_count": null,
      "outputs": [
        {
          "output_type": "execute_result",
          "data": {
            "text/plain": [
              "nan\n"
            ]
          },
          "metadata": {
            "tags": []
          },
          "execution_count": 0
        }
      ]
    },
    {
      "cell_type": "code",
      "metadata": {
        "collapsed": true,
        "id": "aSKkIKcHRSqn",
        "outputId": "0fdcb354-937a-4e8c-c68b-1b15d52f0530"
      },
      "source": [
        "c\n"
      ],
      "execution_count": null,
      "outputs": [
        {
          "output_type": "execute_result",
          "data": {
            "text/plain": [
              "-inf\n"
            ]
          },
          "metadata": {
            "tags": []
          },
          "execution_count": 0
        }
      ]
    },
    {
      "cell_type": "code",
      "metadata": {
        "collapsed": true,
        "id": "QWOHkzjMRSqn",
        "outputId": "e247847f-0661-420c-895a-3c52ce11ae3d"
      },
      "source": [
        "float('some_other_string')\n"
      ],
      "execution_count": null,
      "outputs": [
        {
          "output_type": "execute_result",
          "data": {
            "text/plain": [
              "ValueError: could not convert string to float: some_other_string\n"
            ]
          },
          "metadata": {
            "tags": []
          },
          "execution_count": 0
        }
      ]
    },
    {
      "cell_type": "code",
      "metadata": {
        "collapsed": true,
        "id": "EzdRBKv_RSqo",
        "outputId": "bf541a2b-cf8c-4326-f9a0-d28b8b3f4cad"
      },
      "source": [
        "a == -c # inf==inf\n"
      ],
      "execution_count": null,
      "outputs": [
        {
          "output_type": "execute_result",
          "data": {
            "text/plain": [
              "True\n"
            ]
          },
          "metadata": {
            "tags": []
          },
          "execution_count": 0
        }
      ]
    },
    {
      "cell_type": "code",
      "metadata": {
        "collapsed": true,
        "id": "ZUM1u_A9RSqp",
        "outputId": "c74258b0-3c32-4888-f933-83cd77ac81fc"
      },
      "source": [
        "None == None # None == None\n"
      ],
      "execution_count": null,
      "outputs": [
        {
          "output_type": "execute_result",
          "data": {
            "text/plain": [
              "True\n"
            ]
          },
          "metadata": {
            "tags": []
          },
          "execution_count": 0
        }
      ]
    },
    {
      "cell_type": "code",
      "metadata": {
        "collapsed": true,
        "id": "0lh55P0dRSqp",
        "outputId": "df90b93f-3efb-44e1-8066-30684c9de4cd"
      },
      "source": [
        "b == d # but nan!=nan\n"
      ],
      "execution_count": null,
      "outputs": [
        {
          "output_type": "execute_result",
          "data": {
            "text/plain": [
              "False\n"
            ]
          },
          "metadata": {
            "tags": []
          },
          "execution_count": 0
        }
      ]
    },
    {
      "cell_type": "code",
      "metadata": {
        "collapsed": true,
        "id": "cxZpbHBHRSqq",
        "outputId": "35f8bb9a-6e42-492e-d897-bb5fc8602b89"
      },
      "source": [
        "50 / a\n"
      ],
      "execution_count": null,
      "outputs": [
        {
          "output_type": "execute_result",
          "data": {
            "text/plain": [
              "0.0\n"
            ]
          },
          "metadata": {
            "tags": []
          },
          "execution_count": 0
        }
      ]
    },
    {
      "cell_type": "code",
      "metadata": {
        "collapsed": true,
        "id": "jc-qKfitRSqq",
        "outputId": "2289222f-b8a4-437c-f16c-119d6fa21290"
      },
      "source": [
        "a / a\n"
      ],
      "execution_count": null,
      "outputs": [
        {
          "output_type": "execute_result",
          "data": {
            "text/plain": [
              "nan\n"
            ]
          },
          "metadata": {
            "tags": []
          },
          "execution_count": 0
        }
      ]
    },
    {
      "cell_type": "code",
      "metadata": {
        "collapsed": true,
        "id": "CqxD1IVvRSqq",
        "outputId": "126123bf-b530-464a-b19c-0af3a71afd2e"
      },
      "source": [
        "23 + b\n"
      ],
      "execution_count": null,
      "outputs": [
        {
          "output_type": "execute_result",
          "data": {
            "text/plain": [
              "nan\n"
            ]
          },
          "metadata": {
            "tags": []
          },
          "execution_count": 0
        }
      ]
    },
    {
      "cell_type": "markdown",
      "metadata": {
        "id": "cvhcTgS6RSqr"
      },
      "source": [
        "\n",
        "2\\.\n",
        "\n"
      ]
    },
    {
      "cell_type": "code",
      "metadata": {
        "collapsed": true,
        "id": "Y9Hbk0ldRSqr",
        "outputId": "2b9dbfa8-109d-4638-9603-caeddbc0f0db"
      },
      "source": [
        "x = float('nan')\n",
        "y = x / x\n",
        "y is y # identity holds\n"
      ],
      "execution_count": null,
      "outputs": [
        {
          "output_type": "execute_result",
          "data": {
            "text/plain": [
              "True\n"
            ]
          },
          "metadata": {
            "tags": []
          },
          "execution_count": 0
        }
      ]
    },
    {
      "cell_type": "code",
      "metadata": {
        "collapsed": true,
        "id": "Q5grAweCRSqs",
        "outputId": "3f202cef-a68e-4a53-ae06-09490e88c376"
      },
      "source": [
        "y == y # equality fails of y\n"
      ],
      "execution_count": null,
      "outputs": [
        {
          "output_type": "execute_result",
          "data": {
            "text/plain": [
              "False\n"
            ]
          },
          "metadata": {
            "tags": []
          },
          "execution_count": 0
        }
      ]
    },
    {
      "cell_type": "code",
      "metadata": {
        "collapsed": true,
        "id": "PVZLPcOlRSqt",
        "outputId": "07c2e5f5-b4a8-49ec-a640-8a166e70a005"
      },
      "source": [
        "[y] == [y] # but the equality succeeds for the list containing y\n"
      ],
      "execution_count": null,
      "outputs": [
        {
          "output_type": "execute_result",
          "data": {
            "text/plain": [
              "True\n"
            ]
          },
          "metadata": {
            "tags": []
          },
          "execution_count": 0
        }
      ]
    },
    {
      "cell_type": "markdown",
      "metadata": {
        "id": "Ry4l4kVqRSqt"
      },
      "source": [
        "\n",
        "\n",
        "\n"
      ]
    },
    {
      "cell_type": "markdown",
      "metadata": {
        "id": "8UlQFocQRSqt"
      },
      "source": [
        "#### 💡 Explanation:\n",
        "\n",
        "- `'inf'` and `'nan'` are special strings (case-insensitive), which, when explicitly typecast-ed to `float` type, are used to represent mathematical \"infinity\" and \"not a number\" respectively.\n",
        "\n",
        "- Since according to IEEE standards ` NaN != NaN`, obeying this rule breaks the reflexivity assumption of a collection element in Python i.e. if `x` is a part of a collection like `list`, the implementations like comparison are based on the assumption that `x == x`.  Because of this assumption, the identity is compared first (since it's faster) while comparing two elements, and the values are compared only when the identities mismatch. The following snippet will make things clearer,\n",
        "\n"
      ]
    },
    {
      "cell_type": "code",
      "metadata": {
        "collapsed": true,
        "id": "RUqxwif2RSqt",
        "outputId": "219d3498-bda2-4adc-9d2f-6a3af95f4192"
      },
      "source": [
        "  x = float('nan')\n",
        "  x == x, [x] == [x]\n"
      ],
      "execution_count": null,
      "outputs": [
        {
          "output_type": "execute_result",
          "data": {
            "text/plain": [
              "  (False, True)\n"
            ]
          },
          "metadata": {
            "tags": []
          },
          "execution_count": 0
        }
      ]
    },
    {
      "cell_type": "code",
      "metadata": {
        "collapsed": true,
        "id": "eij8pGspRSqu",
        "outputId": "502f4387-be21-4e35-ec18-e46e80ba52ca"
      },
      "source": [
        "  y = float('nan')\n",
        "  y == y, [y] == [y]\n"
      ],
      "execution_count": null,
      "outputs": [
        {
          "output_type": "execute_result",
          "data": {
            "text/plain": [
              "  (False, True)\n"
            ]
          },
          "metadata": {
            "tags": []
          },
          "execution_count": 0
        }
      ]
    },
    {
      "cell_type": "code",
      "metadata": {
        "collapsed": true,
        "id": "DvLsPSwkRSqu",
        "outputId": "6b94299a-0e37-4e89-a038-0036ffc699ba"
      },
      "source": [
        "  x == y, [x] == [y]\n"
      ],
      "execution_count": null,
      "outputs": [
        {
          "output_type": "execute_result",
          "data": {
            "text/plain": [
              "  (False, False)\n"
            ]
          },
          "metadata": {
            "tags": []
          },
          "execution_count": 0
        }
      ]
    },
    {
      "cell_type": "markdown",
      "metadata": {
        "id": "T-ATwOdqRSqu"
      },
      "source": [
        "\n",
        "  Since the identities of `x` and `y` are different, the values are considered, which are also different; hence the comparison returns `False` this time.\n",
        "\n",
        "- Interesting read: [Reflexivity, and other pillars of civilization](https://bertrandmeyer.com/2010/02/06/reflexivity-and-other-pillars-of-civilization/)\n",
        "\n"
      ]
    },
    {
      "cell_type": "markdown",
      "metadata": {
        "id": "QJoEPrPBRSqu"
      },
      "source": [
        "### ▶ Mutating the immutable!\n",
        "This might seem trivial if you know how references work in Python.\n",
        "\n"
      ]
    },
    {
      "cell_type": "code",
      "metadata": {
        "collapsed": true,
        "id": "-nQdFrSRRSqv",
        "outputId": "a0d0d494-3a2e-4d4d-dafe-02f9e823e10b"
      },
      "source": [
        "some_tuple = (\"A\", \"tuple\", \"with\", \"values\")\n",
        "another_tuple = ([1, 2], [3, 4], [5, 6])\n"
      ],
      "execution_count": null,
      "outputs": [
        {
          "output_type": "execute_result",
          "data": {
            "text/plain": [
              ""
            ]
          },
          "metadata": {
            "tags": []
          },
          "execution_count": 0
        }
      ]
    },
    {
      "cell_type": "markdown",
      "metadata": {
        "id": "2DO5_4UbRSqv"
      },
      "source": [
        "\n",
        "**Output:**\n"
      ]
    },
    {
      "cell_type": "code",
      "metadata": {
        "collapsed": true,
        "id": "2W2e11qiRSqv",
        "outputId": "8e970419-008d-45e5-d53f-5510d54607a8"
      },
      "source": [
        "some_tuple[2] = \"change this\"\n"
      ],
      "execution_count": null,
      "outputs": [
        {
          "output_type": "execute_result",
          "data": {
            "text/plain": [
              "TypeError: 'tuple' object does not support item assignment\n"
            ]
          },
          "metadata": {
            "tags": []
          },
          "execution_count": 0
        }
      ]
    },
    {
      "cell_type": "code",
      "metadata": {
        "collapsed": true,
        "id": "IbU1ARW0RSqw",
        "outputId": "4241bdb6-ff4f-493e-f6fa-85e80e43cd64"
      },
      "source": [
        "another_tuple[2].append(1000) #This throws no error\n",
        "another_tuple\n"
      ],
      "execution_count": null,
      "outputs": [
        {
          "output_type": "execute_result",
          "data": {
            "text/plain": [
              "([1, 2], [3, 4], [5, 6, 1000])\n"
            ]
          },
          "metadata": {
            "tags": []
          },
          "execution_count": 0
        }
      ]
    },
    {
      "cell_type": "code",
      "metadata": {
        "collapsed": true,
        "id": "J5q8O_0PRSqw",
        "outputId": "9fe31bda-c859-4312-f729-8e2ea541fddd"
      },
      "source": [
        "another_tuple[2] += [99, 999]\n"
      ],
      "execution_count": null,
      "outputs": [
        {
          "output_type": "execute_result",
          "data": {
            "text/plain": [
              "TypeError: 'tuple' object does not support item assignment\n"
            ]
          },
          "metadata": {
            "tags": []
          },
          "execution_count": 0
        }
      ]
    },
    {
      "cell_type": "code",
      "metadata": {
        "collapsed": true,
        "id": "ewVZuDTFRSqw",
        "outputId": "4107e95e-353b-42f3-ac4a-faf3da25c900"
      },
      "source": [
        "another_tuple\n"
      ],
      "execution_count": null,
      "outputs": [
        {
          "output_type": "execute_result",
          "data": {
            "text/plain": [
              "([1, 2], [3, 4], [5, 6, 1000, 99, 999])\n"
            ]
          },
          "metadata": {
            "tags": []
          },
          "execution_count": 0
        }
      ]
    },
    {
      "cell_type": "markdown",
      "metadata": {
        "id": "U096SDkgRSqx"
      },
      "source": [
        "\n",
        "But I thought tuples were immutable...\n",
        "\n"
      ]
    },
    {
      "cell_type": "markdown",
      "metadata": {
        "id": "MChzNUIVRSqx"
      },
      "source": [
        "#### 💡 Explanation:\n",
        "\n",
        "* Quoting from https://docs.python.org/3/reference/datamodel.html\n",
        "\n",
        "    > Immutable sequences\n",
        "        An object of an immutable sequence type cannot change once it is created. (If the object contains references to other objects, these other objects may be mutable and may be modified; however, the collection of objects directly referenced by an immutable object cannot change.)\n",
        "\n",
        "* `+=` operator changes the list in-place. The item assignment doesn't work, but when the exception occurs, the item has already been changed in place.\n",
        "* There's also an explanation in [official Python FAQ](https://docs.python.org/3/faq/programming.html#why-does-a-tuple-i-item-raise-an-exception-when-the-addition-works).\n",
        "\n"
      ]
    },
    {
      "cell_type": "markdown",
      "metadata": {
        "id": "kVlZCcUTRSqx"
      },
      "source": [
        "### ▶ The disappearing variable from outer scope\n"
      ]
    },
    {
      "cell_type": "code",
      "metadata": {
        "collapsed": true,
        "id": "0wO07DP4RSqy",
        "outputId": "43476b7e-c741-45c9-fde7-8d314cd0165f"
      },
      "source": [
        "e = 7\n",
        "try:\n",
        "    raise Exception()\n",
        "except Exception as e:\n",
        "    pass\n"
      ],
      "execution_count": null,
      "outputs": [
        {
          "output_type": "execute_result",
          "data": {
            "text/plain": [
              ""
            ]
          },
          "metadata": {
            "tags": []
          },
          "execution_count": 0
        }
      ]
    },
    {
      "cell_type": "markdown",
      "metadata": {
        "id": "tNONzVNrRSqy"
      },
      "source": [
        "\n",
        "**Output (Python 2.x):**\n"
      ]
    },
    {
      "cell_type": "code",
      "metadata": {
        "collapsed": true,
        "id": "VawgkJrhRSqy",
        "outputId": "78d61b1e-b913-48c4-cd53-63c5e510975a"
      },
      "source": [
        "print(e)\n"
      ],
      "execution_count": null,
      "outputs": [
        {
          "output_type": "stream",
          "text": [
            "# prints nothing\n"
          ],
          "name": "stdout"
        }
      ]
    },
    {
      "cell_type": "markdown",
      "metadata": {
        "id": "ZKgDzsOcRSqz"
      },
      "source": [
        "\n",
        "**Output (Python 3.x):**\n"
      ]
    },
    {
      "cell_type": "code",
      "metadata": {
        "collapsed": true,
        "id": "xybl2znMRSqz",
        "outputId": "54ff90e2-f909-4810-f819-4bb09de0d4d9"
      },
      "source": [
        "print(e)\n"
      ],
      "execution_count": null,
      "outputs": [
        {
          "output_type": "stream",
          "text": [
            "NameError: name 'e' is not defined\n"
          ],
          "name": "stdout"
        }
      ]
    },
    {
      "cell_type": "markdown",
      "metadata": {
        "id": "CK-nKyyERSqz"
      },
      "source": [
        "\n"
      ]
    },
    {
      "cell_type": "markdown",
      "metadata": {
        "id": "SyPC_pIcRSqz"
      },
      "source": [
        "#### 💡 Explanation:\n",
        "\n",
        "* Source: https://docs.python.org/3/reference/compound_stmts.html#except\n",
        "\n",
        "  When an exception has been assigned using `as` target, it is cleared at the end of the `except` clause. This is as if\n",
        "\n"
      ]
    },
    {
      "cell_type": "code",
      "metadata": {
        "collapsed": true,
        "id": "60chvTdpRSq0",
        "outputId": "1ac2fda7-ac4c-4537-8a3e-d398edfb7982"
      },
      "source": [
        "  except E as N:\n",
        "      foo\n"
      ],
      "execution_count": null,
      "outputs": [
        {
          "output_type": "execute_result",
          "data": {
            "text/plain": [
              ""
            ]
          },
          "metadata": {
            "tags": []
          },
          "execution_count": 0
        }
      ]
    },
    {
      "cell_type": "markdown",
      "metadata": {
        "id": "Pf-VBKapRSq1"
      },
      "source": [
        "\n",
        "  was translated into\n",
        "\n"
      ]
    },
    {
      "cell_type": "code",
      "metadata": {
        "collapsed": true,
        "id": "btqzwtnPRSq7",
        "outputId": "b76eea76-74e7-4d97-edd1-4dc1f8b43751"
      },
      "source": [
        "  except E as N:\n",
        "      try:\n",
        "          foo\n",
        "      finally:\n",
        "          del N\n"
      ],
      "execution_count": null,
      "outputs": [
        {
          "output_type": "execute_result",
          "data": {
            "text/plain": [
              ""
            ]
          },
          "metadata": {
            "tags": []
          },
          "execution_count": 0
        }
      ]
    },
    {
      "cell_type": "markdown",
      "metadata": {
        "id": "z3qs4ArfRSq-"
      },
      "source": [
        "\n",
        "  This means the exception must be assigned to a different name to be able to refer to it after the except clause. Exceptions are cleared because, with the traceback attached to them, they form a reference cycle with the stack frame, keeping all locals in that frame alive until the next garbage collection occurs.\n",
        "\n",
        "* The clauses are not scoped in Python. Everything in the example is present in the same scope, and the variable `e` got removed due to the execution of the `except` clause. The same is not the case with functions that have their separate inner-scopes. The example below illustrates this:\n",
        "\n"
      ]
    },
    {
      "cell_type": "code",
      "metadata": {
        "collapsed": true,
        "id": "2c49sLX3RSq_",
        "outputId": "c36d4363-cad1-430a-a593-e733ae722ec2"
      },
      "source": [
        "     def f(x):\n",
        "         del(x)\n",
        "         print(x)\n",
        "\n",
        "     x = 5\n",
        "     y = [5, 4, 3]\n"
      ],
      "execution_count": null,
      "outputs": [
        {
          "output_type": "execute_result",
          "data": {
            "text/plain": [
              ""
            ]
          },
          "metadata": {
            "tags": []
          },
          "execution_count": 0
        }
      ]
    },
    {
      "cell_type": "markdown",
      "metadata": {
        "id": "Y09S5L30RSrL"
      },
      "source": [
        "\n",
        "     **Output:**\n"
      ]
    },
    {
      "cell_type": "code",
      "metadata": {
        "collapsed": true,
        "id": "rzyaVThPRSrL",
        "outputId": "bc8515f9-482b-4ae8-b22a-e11dd4012282"
      },
      "source": [
        "     >>>f(x)\n",
        "     UnboundLocalError: local variable 'x' referenced before assignment\n",
        "     >>>f(y)\n",
        "     UnboundLocalError: local variable 'x' referenced before assignment\n",
        "     x\n"
      ],
      "execution_count": null,
      "outputs": [
        {
          "output_type": "execute_result",
          "data": {
            "text/plain": [
              "     5\n"
            ]
          },
          "metadata": {
            "tags": []
          },
          "execution_count": 0
        }
      ]
    },
    {
      "cell_type": "code",
      "metadata": {
        "collapsed": true,
        "id": "Y9BHep40RSrN",
        "outputId": "7948b9c6-20fa-42a2-fdf9-63366e881ef2"
      },
      "source": [
        "     y\n"
      ],
      "execution_count": null,
      "outputs": [
        {
          "output_type": "execute_result",
          "data": {
            "text/plain": [
              "     [5, 4, 3]\n"
            ]
          },
          "metadata": {
            "tags": []
          },
          "execution_count": 0
        }
      ]
    },
    {
      "cell_type": "markdown",
      "metadata": {
        "id": "1OO60QBTRSrN"
      },
      "source": [
        "\n",
        "* In Python 2.x, the variable name `e` gets assigned to `Exception()` instance, so when you try to print, it prints nothing.\n",
        "\n",
        "    **Output (Python 2.x):**\n"
      ]
    },
    {
      "cell_type": "code",
      "metadata": {
        "collapsed": true,
        "id": "A5wpNEwGRSrO",
        "outputId": "c442747b-9905-4e1b-9eb8-bd6bb43698c0"
      },
      "source": [
        "    e\n"
      ],
      "execution_count": null,
      "outputs": [
        {
          "output_type": "execute_result",
          "data": {
            "text/plain": [
              "    Exception()\n"
            ]
          },
          "metadata": {
            "tags": []
          },
          "execution_count": 0
        }
      ]
    },
    {
      "cell_type": "code",
      "metadata": {
        "collapsed": true,
        "id": "-HwCXju0RSrO",
        "outputId": "b2720fdc-9429-45e3-eb13-83f31b78e0c6"
      },
      "source": [
        "    print e\n"
      ],
      "execution_count": null,
      "outputs": [
        {
          "output_type": "execute_result",
          "data": {
            "text/plain": [
              "    # Nothing is printed!\n"
            ]
          },
          "metadata": {
            "tags": []
          },
          "execution_count": 0
        }
      ]
    },
    {
      "cell_type": "markdown",
      "metadata": {
        "id": "hUCvUqXNRSrP"
      },
      "source": [
        "\n"
      ]
    },
    {
      "cell_type": "markdown",
      "metadata": {
        "id": "6IxzLStORSrP"
      },
      "source": [
        "### ▶ The mysterious key type conversion\n"
      ]
    },
    {
      "cell_type": "code",
      "metadata": {
        "collapsed": true,
        "id": "2jM3wZQDRSrP",
        "outputId": "43d359db-a745-404c-ec7c-3c932849ce15"
      },
      "source": [
        "class SomeClass(str):\n",
        "    pass\n",
        "\n",
        "some_dict = {'s': 42}\n"
      ],
      "execution_count": null,
      "outputs": [
        {
          "output_type": "execute_result",
          "data": {
            "text/plain": [
              ""
            ]
          },
          "metadata": {
            "tags": []
          },
          "execution_count": 0
        }
      ]
    },
    {
      "cell_type": "markdown",
      "metadata": {
        "id": "iXH9kTkPRSrP"
      },
      "source": [
        "\n",
        "**Output:**\n"
      ]
    },
    {
      "cell_type": "code",
      "metadata": {
        "collapsed": true,
        "id": "vPN2fc0uRSrP",
        "outputId": "adc62c72-9de1-42c2-d706-68de8948af6d"
      },
      "source": [
        "type(list(some_dict.keys())[0])\n"
      ],
      "execution_count": null,
      "outputs": [
        {
          "output_type": "execute_result",
          "data": {
            "text/plain": [
              "str\n"
            ]
          },
          "metadata": {
            "tags": []
          },
          "execution_count": 0
        }
      ]
    },
    {
      "cell_type": "code",
      "metadata": {
        "collapsed": true,
        "id": "e-kHCNvPRSrQ",
        "outputId": "13fb8cee-9e52-4627-b428-fd817626b52a"
      },
      "source": [
        "s = SomeClass('s')\n",
        "some_dict[s] = 40\n",
        "some_dict # expected: Two different keys-value pairs\n"
      ],
      "execution_count": null,
      "outputs": [
        {
          "output_type": "execute_result",
          "data": {
            "text/plain": [
              "{'s': 40}\n"
            ]
          },
          "metadata": {
            "tags": []
          },
          "execution_count": 0
        }
      ]
    },
    {
      "cell_type": "code",
      "metadata": {
        "collapsed": true,
        "id": "PXpiaj0xRSrQ",
        "outputId": "d21d411a-f8bd-47dd-d33d-2688fca65282"
      },
      "source": [
        "type(list(some_dict.keys())[0])\n"
      ],
      "execution_count": null,
      "outputs": [
        {
          "output_type": "execute_result",
          "data": {
            "text/plain": [
              "str\n"
            ]
          },
          "metadata": {
            "tags": []
          },
          "execution_count": 0
        }
      ]
    },
    {
      "cell_type": "markdown",
      "metadata": {
        "id": "JMqeu73DRSrQ"
      },
      "source": [
        "\n"
      ]
    },
    {
      "cell_type": "markdown",
      "metadata": {
        "id": "5QolRf5TRSrQ"
      },
      "source": [
        "#### 💡 Explanation:\n",
        "\n",
        "* Both the object `s` and the string `\"s\"` hash to the same value because `SomeClass` inherits the `__hash__` method of `str` class.\n",
        "* `SomeClass(\"s\") == \"s\"` evaluates to `True` because `SomeClass` also inherits `__eq__` method from `str` class.\n",
        "* Since both the objects hash to the same value and are equal, they are represented by the same key in the dictionary.\n",
        "* For the desired behavior, we can redefine the `__eq__` method in `SomeClass`\n"
      ]
    },
    {
      "cell_type": "code",
      "metadata": {
        "collapsed": true,
        "id": "pByAPSSjRSrR",
        "outputId": "128f12b4-28c3-4270-d18b-4b694fa53eff"
      },
      "source": [
        "  class SomeClass(str):\n",
        "    def __eq__(self, other):\n",
        "        return (\n",
        "            type(self) is SomeClass\n",
        "            and type(other) is SomeClass\n",
        "            and super().__eq__(other)\n",
        "        )\n",
        "\n",
        "    # When we define a custom __eq__, Python stops automatically inheriting the\n",
        "    # __hash__ method, so we need to define it as well\n",
        "    __hash__ = str.__hash__\n",
        "\n",
        "  some_dict = {'s':42}\n"
      ],
      "execution_count": null,
      "outputs": [
        {
          "output_type": "execute_result",
          "data": {
            "text/plain": [
              ""
            ]
          },
          "metadata": {
            "tags": []
          },
          "execution_count": 0
        }
      ]
    },
    {
      "cell_type": "markdown",
      "metadata": {
        "id": "poMR7-wNRSrS"
      },
      "source": [
        "\n",
        "  **Output:**\n"
      ]
    },
    {
      "cell_type": "code",
      "metadata": {
        "collapsed": true,
        "id": "I_WLp7S1RSrS",
        "outputId": "4cef3791-de70-455a-cac7-f8f8452cffb7"
      },
      "source": [
        "  s = SomeClass('s')\n",
        "  some_dict[s] = 40\n",
        "  some_dict\n"
      ],
      "execution_count": null,
      "outputs": [
        {
          "output_type": "execute_result",
          "data": {
            "text/plain": [
              "  {'s': 40, 's': 42}\n"
            ]
          },
          "metadata": {
            "tags": []
          },
          "execution_count": 0
        }
      ]
    },
    {
      "cell_type": "code",
      "metadata": {
        "collapsed": true,
        "id": "qqW2-mZZRSrT",
        "outputId": "27b7c4c9-5d18-4fb0-9b89-a02292278faa"
      },
      "source": [
        "  keys = list(some_dict.keys())\n",
        "  type(keys[0]), type(keys[1])\n"
      ],
      "execution_count": null,
      "outputs": [
        {
          "output_type": "execute_result",
          "data": {
            "text/plain": [
              "  (__main__.SomeClass, str)\n"
            ]
          },
          "metadata": {
            "tags": []
          },
          "execution_count": 0
        }
      ]
    },
    {
      "cell_type": "markdown",
      "metadata": {
        "id": "FgRKEDQKRSrT"
      },
      "source": [
        "\n"
      ]
    },
    {
      "cell_type": "markdown",
      "metadata": {
        "id": "LYYpnoN4RSrT"
      },
      "source": [
        "### ▶ Let's see if you can guess this?\n"
      ]
    },
    {
      "cell_type": "code",
      "metadata": {
        "collapsed": true,
        "id": "mx26WQJ4RSrU",
        "outputId": "3a1ddf24-4312-401a-fb86-311227f26f22"
      },
      "source": [
        "a, b = a[b] = {}, 5\n"
      ],
      "execution_count": null,
      "outputs": [
        {
          "output_type": "execute_result",
          "data": {
            "text/plain": [
              ""
            ]
          },
          "metadata": {
            "tags": []
          },
          "execution_count": 0
        }
      ]
    },
    {
      "cell_type": "markdown",
      "metadata": {
        "id": "sGy-nVY3RSrU"
      },
      "source": [
        "\n",
        "**Output:**\n"
      ]
    },
    {
      "cell_type": "code",
      "metadata": {
        "collapsed": true,
        "id": "_3b2oLVHRSrU",
        "outputId": "d3445637-4b1f-4763-c8b6-4a44647beadb"
      },
      "source": [
        "a\n"
      ],
      "execution_count": null,
      "outputs": [
        {
          "output_type": "execute_result",
          "data": {
            "text/plain": [
              "{5: ({...}, 5)}\n"
            ]
          },
          "metadata": {
            "tags": []
          },
          "execution_count": 0
        }
      ]
    },
    {
      "cell_type": "markdown",
      "metadata": {
        "id": "Xumf0z_ZRSrU"
      },
      "source": [
        "\n"
      ]
    },
    {
      "cell_type": "markdown",
      "metadata": {
        "id": "Y9zRkMxdRSrW"
      },
      "source": [
        "#### 💡 Explanation:\n",
        "\n",
        "* According to [Python language reference](https://docs.python.org/3/reference/simple_stmts.html#assignment-statements), assignment statements have the form\n",
        "  ```\n",
        "  (target_list \"=\")+ (expression_list | yield_expression)\n",
        "  ```\n",
        "  and\n",
        "  \n",
        "> An assignment statement evaluates the expression list (remember that this can be a single expression or a comma-separated list, the latter yielding a tuple) and assigns the single resulting object to each of the target lists, from left to right.\n",
        "\n",
        "* The `+` in `(target_list \"=\")+` means there can be **one or more** target lists. In this case, target lists are `a, b` and `a[b]` (note the expression list is exactly one, which in our case is `{}, 5`).\n",
        "\n",
        "* After the expression list is evaluated, its value is unpacked to the target lists from **left to right**. So, in our case, first the `{}, 5` tuple is unpacked to `a, b` and we now have `a = {}` and `b = 5`.\n",
        "\n",
        "* `a` is now assigned to `{}`, which is a mutable object.\n",
        "\n",
        "* The second target list is `a[b]` (you may expect this to throw an error because both `a` and `b` have not been defined in the statements before. But remember, we just assigned `a` to `{}` and `b` to `5`).\n",
        "\n",
        "* Now, we are setting the key `5` in the dictionary to the tuple `({}, 5)` creating a circular reference (the `{...}` in the output refers to the same object that `a` is already referencing). Another simpler example of circular reference could be\n"
      ]
    },
    {
      "cell_type": "code",
      "metadata": {
        "collapsed": true,
        "id": "0CzM71GvRSrX",
        "outputId": "a408262d-efc7-4816-ba5e-582cad9c2c1e"
      },
      "source": [
        "  some_list = some_list[0] = [0]\n",
        "  some_list\n"
      ],
      "execution_count": null,
      "outputs": [
        {
          "output_type": "execute_result",
          "data": {
            "text/plain": [
              "  [[...]]\n"
            ]
          },
          "metadata": {
            "tags": []
          },
          "execution_count": 0
        }
      ]
    },
    {
      "cell_type": "code",
      "metadata": {
        "collapsed": true,
        "id": "r6OkKx5uRSrY",
        "outputId": "b76c71b7-16f0-43dc-884e-ea8c6d9538d5"
      },
      "source": [
        "  some_list[0]\n"
      ],
      "execution_count": null,
      "outputs": [
        {
          "output_type": "execute_result",
          "data": {
            "text/plain": [
              "  [[...]]\n"
            ]
          },
          "metadata": {
            "tags": []
          },
          "execution_count": 0
        }
      ]
    },
    {
      "cell_type": "code",
      "metadata": {
        "collapsed": true,
        "id": "Anb0xRbYRSrY",
        "outputId": "8c34cc0e-bbe5-428e-d135-f9be6b1bdab3"
      },
      "source": [
        "  some_list is some_list[0]\n"
      ],
      "execution_count": null,
      "outputs": [
        {
          "output_type": "execute_result",
          "data": {
            "text/plain": [
              "  True\n"
            ]
          },
          "metadata": {
            "tags": []
          },
          "execution_count": 0
        }
      ]
    },
    {
      "cell_type": "code",
      "metadata": {
        "collapsed": true,
        "id": "nQlRpImnRSrZ",
        "outputId": "783db58e-6ae2-401a-9fc0-7246f7aca995"
      },
      "source": [
        "  some_list[0][0][0][0][0][0] == some_list\n"
      ],
      "execution_count": null,
      "outputs": [
        {
          "output_type": "execute_result",
          "data": {
            "text/plain": [
              "  True\n"
            ]
          },
          "metadata": {
            "tags": []
          },
          "execution_count": 0
        }
      ]
    },
    {
      "cell_type": "markdown",
      "metadata": {
        "id": "yQnjDa23RSrc"
      },
      "source": [
        "  Similar is the case in our example (`a[b][0]` is the same object as `a`)\n",
        "\n",
        "* So to sum it up, you can break the example down to\n"
      ]
    },
    {
      "cell_type": "code",
      "metadata": {
        "collapsed": true,
        "id": "rFbVulGORSrd",
        "outputId": "f37179f6-faf4-497d-c1c9-036019e0ddd4"
      },
      "source": [
        "  a, b = {}, 5\n",
        "  a[b] = a, b\n"
      ],
      "execution_count": null,
      "outputs": [
        {
          "output_type": "execute_result",
          "data": {
            "text/plain": [
              ""
            ]
          },
          "metadata": {
            "tags": []
          },
          "execution_count": 0
        }
      ]
    },
    {
      "cell_type": "markdown",
      "metadata": {
        "id": "pJX2GKoBRSrd"
      },
      "source": [
        "  And the circular reference can be justified by the fact that `a[b][0]` is the same object as `a`\n"
      ]
    },
    {
      "cell_type": "code",
      "metadata": {
        "collapsed": true,
        "id": "Is02WRNzRSre",
        "outputId": "ba536042-35ce-47b8-eb52-1eca5c07cc34"
      },
      "source": [
        "  a[b][0] is a\n"
      ],
      "execution_count": null,
      "outputs": [
        {
          "output_type": "execute_result",
          "data": {
            "text/plain": [
              "  True\n"
            ]
          },
          "metadata": {
            "tags": []
          },
          "execution_count": 0
        }
      ]
    },
    {
      "cell_type": "markdown",
      "metadata": {
        "id": "APRAvNnZRSrf"
      },
      "source": [
        "\n"
      ]
    },
    {
      "cell_type": "markdown",
      "metadata": {
        "id": "CtlRmQvmRSrf"
      },
      "source": [
        "### ▶ Modifying a dictionary while iterating over it\n"
      ]
    },
    {
      "cell_type": "code",
      "metadata": {
        "collapsed": true,
        "id": "uL_zmJ1-RSrf",
        "outputId": "805d24ef-d44c-4af5-9a52-dfde5f062e91"
      },
      "source": [
        "x = {0: None}\n",
        "\n",
        "for i in x:\n",
        "    del x[i]\n",
        "    x[i+1] = None\n",
        "    print(i)\n"
      ],
      "execution_count": null,
      "outputs": [
        {
          "output_type": "execute_result",
          "data": {
            "text/plain": [
              ""
            ]
          },
          "metadata": {
            "tags": []
          },
          "execution_count": 0
        }
      ]
    },
    {
      "cell_type": "markdown",
      "metadata": {
        "id": "bnsi0IM3RSrg"
      },
      "source": [
        "\n",
        "**Output (Python 2.7- Python 3.5):**\n",
        "\n",
        "```\n",
        "0\n",
        "1\n",
        "2\n",
        "3\n",
        "4\n",
        "5\n",
        "6\n",
        "7\n",
        "```\n",
        "\n",
        "Yes, it runs for exactly **eight** times and stops.\n",
        "\n"
      ]
    },
    {
      "cell_type": "markdown",
      "metadata": {
        "id": "5xyr7uqfRSrg"
      },
      "source": [
        "#### 💡 Explanation:\n",
        "\n",
        "* Iteration over a dictionary that you edit at the same time is not supported.\n",
        "* It runs eight times because that's the point at which the dictionary resizes to hold more keys (we have eight deletion entries, so a resize is needed). This is actually an implementation detail.\n",
        "* How deleted keys are handled and when the resize occurs might be different for different Python implementations.\n",
        "* So for Python versions other than Python 2.7 - Python 3.5, the count might be different from 8 (but whatever the count is, it's going to be the same every time you run it). You can find some discussion around this [here](https://github.com/satwikkansal/wtfpython/issues/53) or in [this](https://stackoverflow.com/questions/44763802/bug-in-python-dict) StackOverflow thread.\n",
        "* Python 3.7.6 onwards, you'll see `RuntimeError: dictionary keys changed during iteration` exception if you try to do this.\n",
        "\n"
      ]
    },
    {
      "cell_type": "markdown",
      "metadata": {
        "id": "TRWl_kSeRSrg"
      },
      "source": [
        "### ▶ The out of scope variable\n",
        "1\\.\n"
      ]
    },
    {
      "cell_type": "code",
      "metadata": {
        "collapsed": true,
        "id": "xEK1Xz04RSrh",
        "outputId": "06e3fbc4-c361-4d82-f33e-f8515246516c"
      },
      "source": [
        "a = 1\n",
        "def some_func():\n",
        "    return a\n",
        "\n",
        "def another_func():\n",
        "    a += 1\n",
        "    return a\n"
      ],
      "execution_count": null,
      "outputs": [
        {
          "output_type": "execute_result",
          "data": {
            "text/plain": [
              ""
            ]
          },
          "metadata": {
            "tags": []
          },
          "execution_count": 0
        }
      ]
    },
    {
      "cell_type": "markdown",
      "metadata": {
        "id": "-A-uE52tRSrh"
      },
      "source": [
        "\n",
        "2\\.\n"
      ]
    },
    {
      "cell_type": "code",
      "metadata": {
        "collapsed": true,
        "id": "wM0KMC-aRSri",
        "outputId": "ec3a4438-2590-4e80-b1a1-36a6a61e4fc8"
      },
      "source": [
        "def some_closure_func():\n",
        "    a = 1\n",
        "    def some_inner_func():\n",
        "        return a\n",
        "    return some_inner_func()\n",
        "\n",
        "def another_closure_func():\n",
        "    a = 1\n",
        "    def another_inner_func():\n",
        "        a += 1\n",
        "        return a\n",
        "    return another_inner_func()\n"
      ],
      "execution_count": null,
      "outputs": [
        {
          "output_type": "execute_result",
          "data": {
            "text/plain": [
              ""
            ]
          },
          "metadata": {
            "tags": []
          },
          "execution_count": 0
        }
      ]
    },
    {
      "cell_type": "markdown",
      "metadata": {
        "id": "T5hbaoUURSri"
      },
      "source": [
        "\n",
        "**Output:**\n"
      ]
    },
    {
      "cell_type": "code",
      "metadata": {
        "collapsed": true,
        "id": "i1al-tlARSri",
        "outputId": "a30a932e-e474-494f-a978-46b23d85d974"
      },
      "source": [
        "some_func()\n"
      ],
      "execution_count": null,
      "outputs": [
        {
          "output_type": "execute_result",
          "data": {
            "text/plain": [
              "1\n"
            ]
          },
          "metadata": {
            "tags": []
          },
          "execution_count": 0
        }
      ]
    },
    {
      "cell_type": "code",
      "metadata": {
        "collapsed": true,
        "id": "buKHz7duRSrj",
        "outputId": "9d8578e3-c202-4575-8d70-16e8b3ad23b6"
      },
      "source": [
        "another_func()\n"
      ],
      "execution_count": null,
      "outputs": [
        {
          "output_type": "execute_result",
          "data": {
            "text/plain": [
              "UnboundLocalError: local variable 'a' referenced before assignment\n",
              "\n"
            ]
          },
          "metadata": {
            "tags": []
          },
          "execution_count": 0
        }
      ]
    },
    {
      "cell_type": "code",
      "metadata": {
        "collapsed": true,
        "id": "QBH01CdRRSrj",
        "outputId": "0c82b5c5-bab9-412f-9f52-250a94601f16"
      },
      "source": [
        "some_closure_func()\n"
      ],
      "execution_count": null,
      "outputs": [
        {
          "output_type": "execute_result",
          "data": {
            "text/plain": [
              "1\n"
            ]
          },
          "metadata": {
            "tags": []
          },
          "execution_count": 0
        }
      ]
    },
    {
      "cell_type": "code",
      "metadata": {
        "collapsed": true,
        "id": "1Lv246egRSrj",
        "outputId": "c60f0f8d-4f1b-421c-abed-6c0beb65b1b8"
      },
      "source": [
        "another_closure_func()\n"
      ],
      "execution_count": null,
      "outputs": [
        {
          "output_type": "execute_result",
          "data": {
            "text/plain": [
              "UnboundLocalError: local variable 'a' referenced before assignment\n"
            ]
          },
          "metadata": {
            "tags": []
          },
          "execution_count": 0
        }
      ]
    },
    {
      "cell_type": "markdown",
      "metadata": {
        "id": "9A4furMhRSrk"
      },
      "source": [
        "\n"
      ]
    },
    {
      "cell_type": "markdown",
      "metadata": {
        "id": "mkPjGegsRSrk"
      },
      "source": [
        "#### 💡 Explanation:\n",
        "* When you make an assignment to a variable in scope, it becomes local to that scope. So `a` becomes local to the scope of `another_func`, but it has not been initialized previously in the same scope, which throws an error.\n",
        "* To modify the outer scope variable `a` in `another_func`, we have to use the `global` keyword.\n"
      ]
    },
    {
      "cell_type": "code",
      "metadata": {
        "collapsed": true,
        "id": "utQ_I6OKRSrl",
        "outputId": "9c6a0329-e9e7-4e24-84c1-1ecaf394300c"
      },
      "source": [
        "  def another_func()\n",
        "      global a\n",
        "      a += 1\n",
        "      return a\n"
      ],
      "execution_count": null,
      "outputs": [
        {
          "output_type": "execute_result",
          "data": {
            "text/plain": [
              ""
            ]
          },
          "metadata": {
            "tags": []
          },
          "execution_count": 0
        }
      ]
    },
    {
      "cell_type": "markdown",
      "metadata": {
        "id": "ku-JgwvzRSrq"
      },
      "source": [
        "\n",
        "  **Output:**\n"
      ]
    },
    {
      "cell_type": "code",
      "metadata": {
        "collapsed": true,
        "id": "Bckg8llqRSrr",
        "outputId": "8ce7096c-1ea1-4096-a79d-1b61c0825d76"
      },
      "source": [
        "  another_func()\n"
      ],
      "execution_count": null,
      "outputs": [
        {
          "output_type": "execute_result",
          "data": {
            "text/plain": [
              "  2\n"
            ]
          },
          "metadata": {
            "tags": []
          },
          "execution_count": 0
        }
      ]
    },
    {
      "cell_type": "markdown",
      "metadata": {
        "id": "2Wn1RBR5RSrs"
      },
      "source": [
        "* In `another_closure_func`, `a` becomes local to the scope of `another_inner_func`, but it has not been initialized previously in the same scope, which is why it throws an error. \n",
        "* To modify the outer scope variable `a` in `another_inner_func`, use the `nonlocal` keyword. The nonlocal statement is used to refer to variables defined in the nearest outer (excluding the global) scope.\n"
      ]
    },
    {
      "cell_type": "code",
      "metadata": {
        "collapsed": true,
        "id": "YM3I9TK-RSrs",
        "outputId": "f93f50f9-65b4-4936-cb72-29d20f99e8c1"
      },
      "source": [
        "  def another_func():\n",
        "      a = 1\n",
        "      def another_inner_func():\n",
        "          nonlocal a\n",
        "          a += 1\n",
        "          return a\n",
        "      return another_inner_func()\n"
      ],
      "execution_count": null,
      "outputs": [
        {
          "output_type": "execute_result",
          "data": {
            "text/plain": [
              ""
            ]
          },
          "metadata": {
            "tags": []
          },
          "execution_count": 0
        }
      ]
    },
    {
      "cell_type": "markdown",
      "metadata": {
        "id": "mYDW5Oz4RSrs"
      },
      "source": [
        "\n",
        "  **Output:**\n"
      ]
    },
    {
      "cell_type": "code",
      "metadata": {
        "collapsed": true,
        "id": "8LavYWh1RSrt",
        "outputId": "052ddd8f-b9c4-40cb-d7f0-438772ac7518"
      },
      "source": [
        "  another_func()\n"
      ],
      "execution_count": null,
      "outputs": [
        {
          "output_type": "execute_result",
          "data": {
            "text/plain": [
              "  2\n"
            ]
          },
          "metadata": {
            "tags": []
          },
          "execution_count": 0
        }
      ]
    },
    {
      "cell_type": "markdown",
      "metadata": {
        "id": "0mFwN2BmRSrt"
      },
      "source": [
        "* The keywords `global` and `nonlocal` tell the python interpreter to not delcare new variables and look them up in the corresponding outer scopes.\n",
        "* Read [this](https://sebastianraschka.com/Articles/2014_python_scope_and_namespaces.html) short but an awesome guide to learn more about how namespaces and scope resolution works in Python.\n",
        "\n"
      ]
    },
    {
      "cell_type": "markdown",
      "metadata": {
        "id": "hJ1UTtcTRSrt"
      },
      "source": [
        "### ▶ Deleting a list item while iterating\n"
      ]
    },
    {
      "cell_type": "code",
      "metadata": {
        "collapsed": true,
        "id": "ViREyVLVRSru",
        "outputId": "af621951-b3f5-4a04-d54d-98be1d279cdc"
      },
      "source": [
        "list_1 = [1, 2, 3, 4]\n",
        "list_2 = [1, 2, 3, 4]\n",
        "list_3 = [1, 2, 3, 4]\n",
        "list_4 = [1, 2, 3, 4]\n",
        "\n",
        "for idx, item in enumerate(list_1):\n",
        "    del item\n",
        "\n",
        "for idx, item in enumerate(list_2):\n",
        "    list_2.remove(item)\n",
        "\n",
        "for idx, item in enumerate(list_3[:]):\n",
        "    list_3.remove(item)\n",
        "\n",
        "for idx, item in enumerate(list_4):\n",
        "    list_4.pop(idx)\n"
      ],
      "execution_count": null,
      "outputs": [
        {
          "output_type": "execute_result",
          "data": {
            "text/plain": [
              ""
            ]
          },
          "metadata": {
            "tags": []
          },
          "execution_count": 0
        }
      ]
    },
    {
      "cell_type": "markdown",
      "metadata": {
        "id": "b0n7iYG4RSru"
      },
      "source": [
        "\n",
        "**Output:**\n"
      ]
    },
    {
      "cell_type": "code",
      "metadata": {
        "collapsed": true,
        "id": "Iy8BhNSHRSru",
        "outputId": "22cb8f9b-81f9-4de5-8e57-8deb3da52d76"
      },
      "source": [
        "list_1\n"
      ],
      "execution_count": null,
      "outputs": [
        {
          "output_type": "execute_result",
          "data": {
            "text/plain": [
              "[1, 2, 3, 4]\n"
            ]
          },
          "metadata": {
            "tags": []
          },
          "execution_count": 0
        }
      ]
    },
    {
      "cell_type": "code",
      "metadata": {
        "collapsed": true,
        "id": "re-aJpgJRSrv",
        "outputId": "30869ea4-2834-4cb1-fd23-68defe89a5ed"
      },
      "source": [
        "list_2\n"
      ],
      "execution_count": null,
      "outputs": [
        {
          "output_type": "execute_result",
          "data": {
            "text/plain": [
              "[2, 4]\n"
            ]
          },
          "metadata": {
            "tags": []
          },
          "execution_count": 0
        }
      ]
    },
    {
      "cell_type": "code",
      "metadata": {
        "collapsed": true,
        "id": "hvbAn1UWRSrw",
        "outputId": "a7f12c6a-2d06-449f-edff-8295141856a6"
      },
      "source": [
        "list_3\n"
      ],
      "execution_count": null,
      "outputs": [
        {
          "output_type": "execute_result",
          "data": {
            "text/plain": [
              "[]\n"
            ]
          },
          "metadata": {
            "tags": []
          },
          "execution_count": 0
        }
      ]
    },
    {
      "cell_type": "code",
      "metadata": {
        "collapsed": true,
        "id": "QbzTgaxaRSrx",
        "outputId": "55504348-f6b9-40cc-c23c-a18c39fb05da"
      },
      "source": [
        "list_4\n"
      ],
      "execution_count": null,
      "outputs": [
        {
          "output_type": "execute_result",
          "data": {
            "text/plain": [
              "[2, 4]\n"
            ]
          },
          "metadata": {
            "tags": []
          },
          "execution_count": 0
        }
      ]
    },
    {
      "cell_type": "markdown",
      "metadata": {
        "id": "sPbm29mbRSry"
      },
      "source": [
        "\n",
        "Can you guess why the output is `[2, 4]`?\n",
        "\n"
      ]
    },
    {
      "cell_type": "markdown",
      "metadata": {
        "id": "WznLtvshRSry"
      },
      "source": [
        "#### 💡 Explanation:\n",
        "\n",
        "* It's never a good idea to change the object you're iterating over. The correct way to do so is to iterate over a copy of the object instead, and `list_3[:]` does just that.\n",
        "\n"
      ]
    },
    {
      "cell_type": "code",
      "metadata": {
        "collapsed": true,
        "id": "gOFC9ZBtRSrz",
        "outputId": "2917d1f8-f4a9-4f0d-ecab-4425d0277cbf"
      },
      "source": [
        "     some_list = [1, 2, 3, 4]\n",
        "     id(some_list)\n"
      ],
      "execution_count": null,
      "outputs": [
        {
          "output_type": "execute_result",
          "data": {
            "text/plain": [
              "     139798789457608\n"
            ]
          },
          "metadata": {
            "tags": []
          },
          "execution_count": 0
        }
      ]
    },
    {
      "cell_type": "code",
      "metadata": {
        "collapsed": true,
        "id": "cXmPTm7TRSr0",
        "outputId": "75e05b89-14d4-4cd5-c67e-db7f759e4242"
      },
      "source": [
        "     id(some_list[:]) # Notice that python creates new object for sliced list.\n"
      ],
      "execution_count": null,
      "outputs": [
        {
          "output_type": "execute_result",
          "data": {
            "text/plain": [
              "     139798779601192\n"
            ]
          },
          "metadata": {
            "tags": []
          },
          "execution_count": 0
        }
      ]
    },
    {
      "cell_type": "markdown",
      "metadata": {
        "id": "5TVmxzenRSr0"
      },
      "source": [
        "\n",
        "**Difference between `del`, `remove`, and `pop`:**\n",
        "* `del var_name` just removes the binding of the `var_name` from the local or global namespace (That's why the `list_1` is unaffected).\n",
        "* `remove` removes the first matching value, not a specific index, raises `ValueError` if the value is not found.\n",
        "* `pop` removes the element at a specific index and returns it, raises `IndexError` if an invalid index is specified.\n",
        "\n",
        "**Why the output is `[2, 4]`?**\n",
        "- The list iteration is done index by index, and when we remove `1` from `list_2` or `list_4`, the contents of the lists are now `[2, 3, 4]`. The remaining elements are shifted down, i.e., `2` is at index 0, and `3` is at index 1. Since the next iteration is going to look at index 1 (which is the `3`), the `2` gets skipped entirely. A similar thing will happen with every alternate element in the list sequence.\n",
        "\n",
        "* Refer to this StackOverflow [thread](https://stackoverflow.com/questions/45946228/what-happens-when-you-try-to-delete-a-list-element-while-iterating-over-it) explaining the example\n",
        "* See also this nice StackOverflow [thread](https://stackoverflow.com/questions/45877614/how-to-change-all-the-dictionary-keys-in-a-for-loop-with-d-items) for a similar example related to dictionaries in Python.\n",
        "\n"
      ]
    },
    {
      "cell_type": "markdown",
      "metadata": {
        "id": "usz8KuTbRSr0"
      },
      "source": [
        "### ▶ Lossy zip of iterators *\n"
      ]
    },
    {
      "cell_type": "code",
      "metadata": {
        "collapsed": true,
        "id": "Lfo2VHxMRSr0",
        "outputId": "1f13ae08-e8e5-42bf-a1bd-2743cb130e66"
      },
      "source": [
        "numbers = list(range(7))\n",
        "numbers\n"
      ],
      "execution_count": null,
      "outputs": [
        {
          "output_type": "execute_result",
          "data": {
            "text/plain": [
              "[0, 1, 2, 3, 4, 5, 6]\n"
            ]
          },
          "metadata": {
            "tags": []
          },
          "execution_count": 0
        }
      ]
    },
    {
      "cell_type": "code",
      "metadata": {
        "collapsed": true,
        "id": "Qq7da0m4RSr1",
        "outputId": "8c4e269b-df68-4901-e97a-d693196cfe83"
      },
      "source": [
        "first_three, remaining = numbers[:3], numbers[3:]\n",
        "first_three, remaining\n"
      ],
      "execution_count": null,
      "outputs": [
        {
          "output_type": "execute_result",
          "data": {
            "text/plain": [
              "([0, 1, 2], [3, 4, 5, 6])\n"
            ]
          },
          "metadata": {
            "tags": []
          },
          "execution_count": 0
        }
      ]
    },
    {
      "cell_type": "code",
      "metadata": {
        "collapsed": true,
        "id": "CXPOf2LBRSr1",
        "outputId": "a7ace5de-3e7d-43a5-e3a9-c4be556f578a"
      },
      "source": [
        "numbers_iter = iter(numbers)\n",
        "list(zip(numbers_iter, first_three)) \n"
      ],
      "execution_count": null,
      "outputs": [
        {
          "output_type": "execute_result",
          "data": {
            "text/plain": [
              "[(0, 0), (1, 1), (2, 2)]\n",
              "# so far so good, let's zip the remaining\n"
            ]
          },
          "metadata": {
            "tags": []
          },
          "execution_count": 0
        }
      ]
    },
    {
      "cell_type": "code",
      "metadata": {
        "collapsed": true,
        "id": "TTEDNmwnRSr1",
        "outputId": "bfdaaa02-23f7-4a7f-c995-62b2f35be996"
      },
      "source": [
        "list(zip(numbers_iter, remaining))\n"
      ],
      "execution_count": null,
      "outputs": [
        {
          "output_type": "execute_result",
          "data": {
            "text/plain": [
              "[(4, 3), (5, 4), (6, 5)]\n"
            ]
          },
          "metadata": {
            "tags": []
          },
          "execution_count": 0
        }
      ]
    },
    {
      "cell_type": "markdown",
      "metadata": {
        "id": "Zw5cd1RTRSr1"
      },
      "source": [
        "Where did element `3` go from the `numbers` list?\n",
        "\n"
      ]
    },
    {
      "cell_type": "markdown",
      "metadata": {
        "id": "3BcTSftGRSr2"
      },
      "source": [
        "#### 💡 Explanation:\n",
        "\n",
        "- From Python [docs](https://docs.python.org/3.3/library/functions.html#zip), here's an approximate implementation of zip function,\n"
      ]
    },
    {
      "cell_type": "code",
      "metadata": {
        "collapsed": true,
        "id": "ryL0ZnecRSr2",
        "outputId": "d56d9744-9ffe-4e64-c05c-0db03aa8fbed"
      },
      "source": [
        "    def zip(*iterables):\n",
        "        sentinel = object()\n",
        "        iterators = [iter(it) for it in iterables]\n",
        "        while iterators:\n",
        "            result = []\n",
        "            for it in iterators:\n",
        "                elem = next(it, sentinel)\n",
        "                if elem is sentinel: return\n",
        "                result.append(elem)\n",
        "            yield tuple(result)\n"
      ],
      "execution_count": null,
      "outputs": [
        {
          "output_type": "execute_result",
          "data": {
            "text/plain": [
              ""
            ]
          },
          "metadata": {
            "tags": []
          },
          "execution_count": 0
        }
      ]
    },
    {
      "cell_type": "markdown",
      "metadata": {
        "id": "qRS_AS7URSr3"
      },
      "source": [
        "- So the function takes in arbitrary number of iterable objects, adds each of their items to the `result` list by calling the `next` function on them, and stops whenever any of the iterable is exhausted. \n",
        "- The caveat here is when any iterable is exhausted, the existing elements in the `result` list are discarded. That's what happened with `3` in the `numbers_iter`.\n",
        "- The correct way to do the above using `zip` would be,\n"
      ]
    },
    {
      "cell_type": "code",
      "metadata": {
        "collapsed": true,
        "id": "x9AlOeZDRSr4",
        "outputId": "41435938-6442-4acd-e038-93bec4275c4a"
      },
      "source": [
        "    numbers = list(range(7))\n",
        "    numbers_iter = iter(numbers)\n",
        "    list(zip(first_three, numbers_iter))\n"
      ],
      "execution_count": null,
      "outputs": [
        {
          "output_type": "execute_result",
          "data": {
            "text/plain": [
              "    [(0, 0), (1, 1), (2, 2)]\n"
            ]
          },
          "metadata": {
            "tags": []
          },
          "execution_count": 0
        }
      ]
    },
    {
      "cell_type": "code",
      "metadata": {
        "collapsed": true,
        "id": "ljEtuu8oRSr5",
        "outputId": "8138558c-4cf2-4f4d-d72b-4582fb4e6491"
      },
      "source": [
        "    list(zip(remaining, numbers_iter))\n"
      ],
      "execution_count": null,
      "outputs": [
        {
          "output_type": "execute_result",
          "data": {
            "text/plain": [
              "    [(3, 3), (4, 4), (5, 5), (6, 6)]\n"
            ]
          },
          "metadata": {
            "tags": []
          },
          "execution_count": 0
        }
      ]
    },
    {
      "cell_type": "markdown",
      "metadata": {
        "id": "Wv8myZC_RSr5"
      },
      "source": [
        "    The first argument of zip should be the one with fewest elements.\n",
        "\n"
      ]
    },
    {
      "cell_type": "markdown",
      "metadata": {
        "id": "rwcuJfqsRSr5"
      },
      "source": [
        "### ▶ Loop variables leaking out!\n",
        "1\\.\n"
      ]
    },
    {
      "cell_type": "code",
      "metadata": {
        "collapsed": true,
        "id": "B2S4U33SRSr5",
        "outputId": "69e1cff3-50d3-43e9-d10f-3983e9bf54ef"
      },
      "source": [
        "for x in range(7):\n",
        "    if x == 6:\n",
        "        print(x, ': for x inside loop')\n",
        "print(x, ': x in global')\n"
      ],
      "execution_count": null,
      "outputs": [
        {
          "output_type": "stream",
          "text": [
            ""
          ],
          "name": "stdout"
        }
      ]
    },
    {
      "cell_type": "markdown",
      "metadata": {
        "id": "LuhhX6NRRSr6"
      },
      "source": [
        "\n",
        "**Output:**\n"
      ]
    },
    {
      "cell_type": "code",
      "metadata": {
        "collapsed": true,
        "id": "5UwGoKYORSr6",
        "outputId": "e5976985-4c3f-452f-a6ad-3c67b2b6aa83"
      },
      "source": [
        "6 : for x inside loop\n",
        "6 : x in global\n"
      ],
      "execution_count": null,
      "outputs": [
        {
          "output_type": "execute_result",
          "data": {
            "text/plain": [
              ""
            ]
          },
          "metadata": {
            "tags": []
          },
          "execution_count": 0
        }
      ]
    },
    {
      "cell_type": "markdown",
      "metadata": {
        "id": "xi9RMhSYRSr7"
      },
      "source": [
        "\n",
        "But `x` was never defined outside the scope of for loop...\n",
        "\n",
        "2\\.\n"
      ]
    },
    {
      "cell_type": "code",
      "metadata": {
        "collapsed": true,
        "id": "RkxRo6rARSr7",
        "outputId": "6cb6ca00-4d85-4c23-bb61-687ba06b5c20"
      },
      "source": [
        "# This time let's initialize x first\n",
        "x = -1\n",
        "for x in range(7):\n",
        "    if x == 6:\n",
        "        print(x, ': for x inside loop')\n",
        "print(x, ': x in global')\n"
      ],
      "execution_count": null,
      "outputs": [
        {
          "output_type": "stream",
          "text": [
            ""
          ],
          "name": "stdout"
        }
      ]
    },
    {
      "cell_type": "markdown",
      "metadata": {
        "id": "-FuP4alyRSr8"
      },
      "source": [
        "\n",
        "**Output:**\n"
      ]
    },
    {
      "cell_type": "code",
      "metadata": {
        "collapsed": true,
        "id": "KMWSvj-DRSr8",
        "outputId": "3b8b6860-5f79-4da0-deb7-2e7aad1ef346"
      },
      "source": [
        "6 : for x inside loop\n",
        "6 : x in global\n"
      ],
      "execution_count": null,
      "outputs": [
        {
          "output_type": "execute_result",
          "data": {
            "text/plain": [
              ""
            ]
          },
          "metadata": {
            "tags": []
          },
          "execution_count": 0
        }
      ]
    },
    {
      "cell_type": "markdown",
      "metadata": {
        "id": "D1crns7dRSr8"
      },
      "source": [
        "\n",
        "3\\.\n",
        "\n",
        "**Output (Python 2.x):**\n"
      ]
    },
    {
      "cell_type": "code",
      "metadata": {
        "collapsed": true,
        "id": "baaMzOtxRSr8",
        "outputId": "abf38447-9b4c-4d41-f872-afa7c32c8148"
      },
      "source": [
        "x = 1\n",
        "print([x for x in range(5)])\n"
      ],
      "execution_count": null,
      "outputs": [
        {
          "output_type": "stream",
          "text": [
            "[0, 1, 2, 3, 4]\n"
          ],
          "name": "stdout"
        }
      ]
    },
    {
      "cell_type": "code",
      "metadata": {
        "collapsed": true,
        "id": "Ei6lAaBcRSr9",
        "outputId": "cb87ce96-cdab-447f-df16-763a4a8c325d"
      },
      "source": [
        "print(x)\n"
      ],
      "execution_count": null,
      "outputs": [
        {
          "output_type": "stream",
          "text": [
            "4\n"
          ],
          "name": "stdout"
        }
      ]
    },
    {
      "cell_type": "markdown",
      "metadata": {
        "id": "0DDv2B0zRSr9"
      },
      "source": [
        "\n",
        "**Output (Python 3.x):**\n"
      ]
    },
    {
      "cell_type": "code",
      "metadata": {
        "collapsed": true,
        "id": "vCscZOWpRSr9",
        "outputId": "44c9b402-1492-4659-d404-c786ba518f08"
      },
      "source": [
        "x = 1\n",
        "print([x for x in range(5)])\n"
      ],
      "execution_count": null,
      "outputs": [
        {
          "output_type": "stream",
          "text": [
            "[0, 1, 2, 3, 4]\n"
          ],
          "name": "stdout"
        }
      ]
    },
    {
      "cell_type": "code",
      "metadata": {
        "collapsed": true,
        "id": "cfEY2jtoRSr9",
        "outputId": "6125c264-2543-469c-aff0-554a4634a045"
      },
      "source": [
        "print(x)\n"
      ],
      "execution_count": null,
      "outputs": [
        {
          "output_type": "stream",
          "text": [
            "1\n"
          ],
          "name": "stdout"
        }
      ]
    },
    {
      "cell_type": "markdown",
      "metadata": {
        "id": "H2yn_O4kRSr9"
      },
      "source": [
        "\n"
      ]
    },
    {
      "cell_type": "markdown",
      "metadata": {
        "id": "YcvW4J2gRSr-"
      },
      "source": [
        "#### 💡 Explanation:\n",
        "\n",
        "- In Python, for-loops use the scope they exist in and leave their defined loop-variable behind. This also applies if we explicitly defined the for-loop variable in the global namespace before. In this case, it will rebind the existing variable.\n",
        "\n",
        "- The differences in the output of Python 2.x and Python 3.x interpreters for list comprehension example can be explained by following change documented in [What’s New In Python 3.0](https://docs.python.org/3/whatsnew/3.0.html) changelog:\n",
        "\n",
        "    > \"List comprehensions no longer support the syntactic form `[... for var in item1, item2, ...]`. Use `[... for var in (item1, item2, ...)]` instead. Also, note that list comprehensions have different semantics: they are closer to syntactic sugar for a generator expression inside a `list()` constructor, and in particular, the loop control variables are no longer leaked into the surrounding scope.\"\n",
        "\n"
      ]
    },
    {
      "cell_type": "markdown",
      "metadata": {
        "id": "--SBOHDPRSr-"
      },
      "source": [
        "### ▶ Beware of default mutable arguments!\n"
      ]
    },
    {
      "cell_type": "code",
      "metadata": {
        "collapsed": true,
        "id": "KR6RBsMJRSr-",
        "outputId": "5afcb2c8-98f9-415d-a324-c37ea0001c3e"
      },
      "source": [
        "def some_func(default_arg=[]):\n",
        "    default_arg.append(\"some_string\")\n",
        "    return default_arg\n"
      ],
      "execution_count": null,
      "outputs": [
        {
          "output_type": "execute_result",
          "data": {
            "text/plain": [
              ""
            ]
          },
          "metadata": {
            "tags": []
          },
          "execution_count": 0
        }
      ]
    },
    {
      "cell_type": "markdown",
      "metadata": {
        "id": "MgWgaUKxRSr-"
      },
      "source": [
        "\n",
        "**Output:**\n"
      ]
    },
    {
      "cell_type": "code",
      "metadata": {
        "collapsed": true,
        "id": "xg0h0Z6mRSr-",
        "outputId": "49a6ecba-f1fd-47f0-cc7d-dacf4cf32d75"
      },
      "source": [
        "some_func()\n"
      ],
      "execution_count": null,
      "outputs": [
        {
          "output_type": "execute_result",
          "data": {
            "text/plain": [
              "['some_string']\n"
            ]
          },
          "metadata": {
            "tags": []
          },
          "execution_count": 0
        }
      ]
    },
    {
      "cell_type": "code",
      "metadata": {
        "collapsed": true,
        "id": "EzlVs-BfRSr_",
        "outputId": "a113ab60-dfa8-45fa-8196-fe5e1c47075a"
      },
      "source": [
        "some_func()\n"
      ],
      "execution_count": null,
      "outputs": [
        {
          "output_type": "execute_result",
          "data": {
            "text/plain": [
              "['some_string', 'some_string']\n"
            ]
          },
          "metadata": {
            "tags": []
          },
          "execution_count": 0
        }
      ]
    },
    {
      "cell_type": "code",
      "metadata": {
        "collapsed": true,
        "id": "eimtJY0kRSr_",
        "outputId": "16bbb6f6-801c-4d9c-f5ec-d81a3968f34d"
      },
      "source": [
        "some_func([])\n"
      ],
      "execution_count": null,
      "outputs": [
        {
          "output_type": "execute_result",
          "data": {
            "text/plain": [
              "['some_string']\n"
            ]
          },
          "metadata": {
            "tags": []
          },
          "execution_count": 0
        }
      ]
    },
    {
      "cell_type": "code",
      "metadata": {
        "collapsed": true,
        "id": "P3m6I6XJRSr_",
        "outputId": "f2c94714-4ed3-4a51-f8aa-b543b1d0df02"
      },
      "source": [
        "some_func()\n"
      ],
      "execution_count": null,
      "outputs": [
        {
          "output_type": "execute_result",
          "data": {
            "text/plain": [
              "['some_string', 'some_string', 'some_string']\n"
            ]
          },
          "metadata": {
            "tags": []
          },
          "execution_count": 0
        }
      ]
    },
    {
      "cell_type": "markdown",
      "metadata": {
        "id": "G7cG3qycRSr_"
      },
      "source": [
        "\n"
      ]
    },
    {
      "cell_type": "markdown",
      "metadata": {
        "id": "qFlcAHwkRSsA"
      },
      "source": [
        "#### 💡 Explanation:\n",
        "\n",
        "- The default mutable arguments of functions in Python aren't really initialized every time you call the function. Instead, the recently assigned value to them is used as the default value. When we explicitly passed `[]` to `some_func` as the argument, the default value of the `default_arg` variable was not used, so the function returned as expected.\n",
        "\n"
      ]
    },
    {
      "cell_type": "code",
      "metadata": {
        "collapsed": true,
        "id": "XbSTDD2URSsA",
        "outputId": "03941fe7-b8ba-4355-b1bb-6b01d53a3120"
      },
      "source": [
        "    def some_func(default_arg=[]):\n",
        "        default_arg.append(\"some_string\")\n",
        "        return default_arg\n"
      ],
      "execution_count": null,
      "outputs": [
        {
          "output_type": "execute_result",
          "data": {
            "text/plain": [
              ""
            ]
          },
          "metadata": {
            "tags": []
          },
          "execution_count": 0
        }
      ]
    },
    {
      "cell_type": "markdown",
      "metadata": {
        "id": "us4ip8DrRSsA"
      },
      "source": [
        "\n",
        "    **Output:**\n"
      ]
    },
    {
      "cell_type": "code",
      "metadata": {
        "collapsed": true,
        "id": "jbFj__1RRSsA",
        "outputId": "401cedf2-965d-44bc-97aa-fb11fd8e584a"
      },
      "source": [
        "    some_func.__defaults__ #This will show the default argument values for the function\n"
      ],
      "execution_count": null,
      "outputs": [
        {
          "output_type": "execute_result",
          "data": {
            "text/plain": [
              "    ([],)\n"
            ]
          },
          "metadata": {
            "tags": []
          },
          "execution_count": 0
        }
      ]
    },
    {
      "cell_type": "code",
      "metadata": {
        "collapsed": true,
        "id": "E84zElwRRSsB",
        "outputId": "867a8755-998f-4eb0-f14d-d660d895ff77"
      },
      "source": [
        "    some_func()\n",
        "    some_func.__defaults__\n"
      ],
      "execution_count": null,
      "outputs": [
        {
          "output_type": "execute_result",
          "data": {
            "text/plain": [
              "    (['some_string'],)\n"
            ]
          },
          "metadata": {
            "tags": []
          },
          "execution_count": 0
        }
      ]
    },
    {
      "cell_type": "code",
      "metadata": {
        "collapsed": true,
        "id": "NnboKyUKRSsB",
        "outputId": "b2110c42-db84-43e1-bd4f-563f307afe26"
      },
      "source": [
        "    some_func()\n",
        "    some_func.__defaults__\n"
      ],
      "execution_count": null,
      "outputs": [
        {
          "output_type": "execute_result",
          "data": {
            "text/plain": [
              "    (['some_string', 'some_string'],)\n"
            ]
          },
          "metadata": {
            "tags": []
          },
          "execution_count": 0
        }
      ]
    },
    {
      "cell_type": "code",
      "metadata": {
        "collapsed": true,
        "id": "pOjAqjIfRSsB",
        "outputId": "04b5920a-5ac9-4c6f-8d55-42bcb8d514c3"
      },
      "source": [
        "    some_func([])\n",
        "    some_func.__defaults__\n"
      ],
      "execution_count": null,
      "outputs": [
        {
          "output_type": "execute_result",
          "data": {
            "text/plain": [
              "    (['some_string', 'some_string'],)\n"
            ]
          },
          "metadata": {
            "tags": []
          },
          "execution_count": 0
        }
      ]
    },
    {
      "cell_type": "markdown",
      "metadata": {
        "id": "pujDb9TfRSsB"
      },
      "source": [
        "\n",
        "- A common practice to avoid bugs due to mutable arguments is to assign `None` as the default value and later check if any value is passed to the function corresponding to that argument. Example:\n",
        "\n"
      ]
    },
    {
      "cell_type": "code",
      "metadata": {
        "collapsed": true,
        "id": "Amvj1_roRSsB",
        "outputId": "163cdebe-15d3-4cf6-9f4a-0ab24dffe5c6"
      },
      "source": [
        "    def some_func(default_arg=None):\n",
        "        if default_arg is None:\n",
        "            default_arg = []\n",
        "        default_arg.append(\"some_string\")\n",
        "        return default_arg\n"
      ],
      "execution_count": null,
      "outputs": [
        {
          "output_type": "execute_result",
          "data": {
            "text/plain": [
              ""
            ]
          },
          "metadata": {
            "tags": []
          },
          "execution_count": 0
        }
      ]
    },
    {
      "cell_type": "markdown",
      "metadata": {
        "id": "3Zf3ONSsRSsC"
      },
      "source": [
        "\n"
      ]
    },
    {
      "cell_type": "markdown",
      "metadata": {
        "id": "wKLr7NHARSsC"
      },
      "source": [
        "### ▶ Catching the Exceptions\n"
      ]
    },
    {
      "cell_type": "code",
      "metadata": {
        "collapsed": true,
        "id": "TcHtvbTNRSsC",
        "outputId": "9bfa549f-6377-4e46-b9da-713dadade93c"
      },
      "source": [
        "some_list = [1, 2, 3]\n",
        "try:\n",
        "    # This should raise an ``IndexError``\n",
        "    print(some_list[4])\n",
        "except IndexError, ValueError:\n",
        "    print(\"Caught!\")\n",
        "\n",
        "try:\n",
        "    # This should raise a ``ValueError``\n",
        "    some_list.remove(4)\n",
        "except IndexError, ValueError:\n",
        "    print(\"Caught again!\")\n"
      ],
      "execution_count": null,
      "outputs": [
        {
          "output_type": "execute_result",
          "data": {
            "text/plain": [
              ""
            ]
          },
          "metadata": {
            "tags": []
          },
          "execution_count": 0
        }
      ]
    },
    {
      "cell_type": "markdown",
      "metadata": {
        "id": "6XoFrzfMRSsC"
      },
      "source": [
        "\n",
        "**Output (Python 2.x):**\n"
      ]
    },
    {
      "cell_type": "code",
      "metadata": {
        "collapsed": true,
        "id": "NPUvsydVRSsC",
        "outputId": "8aa2796e-446d-4f74-decf-04c3bf2c2ed7"
      },
      "source": [
        "Caught!\n",
        "\n",
        "ValueError: list.remove(x): x not in list\n"
      ],
      "execution_count": null,
      "outputs": [
        {
          "output_type": "execute_result",
          "data": {
            "text/plain": [
              ""
            ]
          },
          "metadata": {
            "tags": []
          },
          "execution_count": 0
        }
      ]
    },
    {
      "cell_type": "markdown",
      "metadata": {
        "id": "TT0uU0iXRSsD"
      },
      "source": [
        "\n",
        "**Output (Python 3.x):**\n"
      ]
    },
    {
      "cell_type": "code",
      "metadata": {
        "collapsed": true,
        "id": "tEGxlEnWRSsD",
        "outputId": "4ce2f920-6126-4025-e900-683981b36b62"
      },
      "source": [
        "  File \"<input>\", line 3\n",
        "    except IndexError, ValueError:\n",
        "                     ^\n",
        "SyntaxError: invalid syntax\n"
      ],
      "execution_count": null,
      "outputs": [
        {
          "output_type": "execute_result",
          "data": {
            "text/plain": [
              ""
            ]
          },
          "metadata": {
            "tags": []
          },
          "execution_count": 0
        }
      ]
    },
    {
      "cell_type": "markdown",
      "metadata": {
        "id": "A9UsDyW9RSsE"
      },
      "source": [
        "\n"
      ]
    },
    {
      "cell_type": "markdown",
      "metadata": {
        "id": "_ZfH_rWRRSsE"
      },
      "source": [
        "#### 💡 Explanation\n",
        "\n",
        "* To add multiple Exceptions to the except clause, you need to pass them as parenthesized tuple as the first argument. The second argument is an optional name, which when supplied will bind the Exception instance that has been raised. Example,\n"
      ]
    },
    {
      "cell_type": "code",
      "metadata": {
        "collapsed": true,
        "id": "VNjqQ-5qRSsE",
        "outputId": "6ff45995-71b4-44ea-889b-d3fef7fa974a"
      },
      "source": [
        "  some_list = [1, 2, 3]\n",
        "  try:\n",
        "     # This should raise a ``ValueError``\n",
        "     some_list.remove(4)\n",
        "  except (IndexError, ValueError), e:\n",
        "     print(\"Caught again!\")\n",
        "     print(e)\n"
      ],
      "execution_count": null,
      "outputs": [
        {
          "output_type": "execute_result",
          "data": {
            "text/plain": [
              ""
            ]
          },
          "metadata": {
            "tags": []
          },
          "execution_count": 0
        }
      ]
    },
    {
      "cell_type": "markdown",
      "metadata": {
        "id": "oukd7kyURSsE"
      },
      "source": [
        "  **Output (Python 2.x):**\n",
        "  ```\n",
        "  Caught again!\n",
        "  list.remove(x): x not in list\n",
        "  ```\n",
        "  **Output (Python 3.x):**\n"
      ]
    },
    {
      "cell_type": "code",
      "metadata": {
        "collapsed": true,
        "id": "C5DBHOl2RSsF",
        "outputId": "3f23be3c-706d-45d0-cc33-2326eef0c9ca"
      },
      "source": [
        "    File \"<input>\", line 4\n",
        "      except (IndexError, ValueError), e:\n",
        "                                       ^\n",
        "  IndentationError: unindent does not match any outer indentation level\n"
      ],
      "execution_count": null,
      "outputs": [
        {
          "output_type": "execute_result",
          "data": {
            "text/plain": [
              ""
            ]
          },
          "metadata": {
            "tags": []
          },
          "execution_count": 0
        }
      ]
    },
    {
      "cell_type": "markdown",
      "metadata": {
        "id": "WyhXaP0tRSsF"
      },
      "source": [
        "\n",
        "* Separating the exception from the variable with a comma is deprecated and does not work in Python 3; the correct way is to use `as`. Example,\n"
      ]
    },
    {
      "cell_type": "code",
      "metadata": {
        "collapsed": true,
        "id": "oN05E3FyRSsF",
        "outputId": "4a76e954-5532-44d1-d5ad-a7541fdde66b"
      },
      "source": [
        "  some_list = [1, 2, 3]\n",
        "  try:\n",
        "      some_list.remove(4)\n",
        "\n",
        "  except (IndexError, ValueError) as e:\n",
        "      print(\"Caught again!\")\n",
        "      print(e)\n"
      ],
      "execution_count": null,
      "outputs": [
        {
          "output_type": "execute_result",
          "data": {
            "text/plain": [
              ""
            ]
          },
          "metadata": {
            "tags": []
          },
          "execution_count": 0
        }
      ]
    },
    {
      "cell_type": "markdown",
      "metadata": {
        "id": "bXKC64fQRSsF"
      },
      "source": [
        "  **Output:**\n",
        "  ```\n",
        "  Caught again!\n",
        "  list.remove(x): x not in list\n",
        "  ```\n",
        "\n"
      ]
    },
    {
      "cell_type": "markdown",
      "metadata": {
        "id": "5wYPEJs_RSsG"
      },
      "source": [
        "### ▶ Same operands, different story!\n",
        "1\\.\n"
      ]
    },
    {
      "cell_type": "code",
      "metadata": {
        "collapsed": true,
        "id": "pzTVL9YoRSsG",
        "outputId": "56f53f41-20e4-48b4-a81a-1c78d371d149"
      },
      "source": [
        "a = [1, 2, 3, 4]\n",
        "b = a\n",
        "a = a + [5, 6, 7, 8]\n"
      ],
      "execution_count": null,
      "outputs": [
        {
          "output_type": "execute_result",
          "data": {
            "text/plain": [
              ""
            ]
          },
          "metadata": {
            "tags": []
          },
          "execution_count": 0
        }
      ]
    },
    {
      "cell_type": "markdown",
      "metadata": {
        "id": "uBvwEUYdRSsG"
      },
      "source": [
        "\n",
        "**Output:**\n"
      ]
    },
    {
      "cell_type": "code",
      "metadata": {
        "collapsed": true,
        "id": "0wt47ZAFRSsG",
        "outputId": "0a8297d2-2d26-404c-f142-5751b6eaaa15"
      },
      "source": [
        "a\n"
      ],
      "execution_count": null,
      "outputs": [
        {
          "output_type": "execute_result",
          "data": {
            "text/plain": [
              "[1, 2, 3, 4, 5, 6, 7, 8]\n"
            ]
          },
          "metadata": {
            "tags": []
          },
          "execution_count": 0
        }
      ]
    },
    {
      "cell_type": "code",
      "metadata": {
        "collapsed": true,
        "id": "vA9mVPLnRSsH",
        "outputId": "4fc016c8-6b5d-4770-e387-01c74699265a"
      },
      "source": [
        "b\n"
      ],
      "execution_count": null,
      "outputs": [
        {
          "output_type": "execute_result",
          "data": {
            "text/plain": [
              "[1, 2, 3, 4]\n"
            ]
          },
          "metadata": {
            "tags": []
          },
          "execution_count": 0
        }
      ]
    },
    {
      "cell_type": "markdown",
      "metadata": {
        "id": "Lx2m50oWRSsI"
      },
      "source": [
        "\n",
        "2\\.\n"
      ]
    },
    {
      "cell_type": "code",
      "metadata": {
        "collapsed": true,
        "id": "b3XXCWApRSsK",
        "outputId": "ad232caf-c3f6-497e-8916-67383126fb2c"
      },
      "source": [
        "a = [1, 2, 3, 4]\n",
        "b = a\n",
        "a += [5, 6, 7, 8]\n"
      ],
      "execution_count": null,
      "outputs": [
        {
          "output_type": "execute_result",
          "data": {
            "text/plain": [
              ""
            ]
          },
          "metadata": {
            "tags": []
          },
          "execution_count": 0
        }
      ]
    },
    {
      "cell_type": "markdown",
      "metadata": {
        "id": "JMA3o0S5RSsO"
      },
      "source": [
        "\n",
        "**Output:**\n"
      ]
    },
    {
      "cell_type": "code",
      "metadata": {
        "collapsed": true,
        "id": "s57aI5yORSsP",
        "outputId": "df3ec240-0d78-4173-cad1-fb5beafa4fc5"
      },
      "source": [
        "a\n"
      ],
      "execution_count": null,
      "outputs": [
        {
          "output_type": "execute_result",
          "data": {
            "text/plain": [
              "[1, 2, 3, 4, 5, 6, 7, 8]\n"
            ]
          },
          "metadata": {
            "tags": []
          },
          "execution_count": 0
        }
      ]
    },
    {
      "cell_type": "code",
      "metadata": {
        "collapsed": true,
        "id": "cMOVGLX0RSsQ",
        "outputId": "7f19c863-909c-4abd-aeae-09303a8fe928"
      },
      "source": [
        "b\n"
      ],
      "execution_count": null,
      "outputs": [
        {
          "output_type": "execute_result",
          "data": {
            "text/plain": [
              "[1, 2, 3, 4, 5, 6, 7, 8]\n"
            ]
          },
          "metadata": {
            "tags": []
          },
          "execution_count": 0
        }
      ]
    },
    {
      "cell_type": "markdown",
      "metadata": {
        "id": "NDKczhjFRSsR"
      },
      "source": [
        "\n"
      ]
    },
    {
      "cell_type": "markdown",
      "metadata": {
        "id": "9QuruBjvRSsS"
      },
      "source": [
        "#### 💡 Explanation:\n",
        "\n",
        "*  `a += b` doesn't always behave the same way as `a = a + b`.  Classes *may* implement the *`op=`* operators differently, and lists do this.\n",
        "\n",
        "* The expression `a = a + [5,6,7,8]` generates a new list and sets `a`'s reference to that new list, leaving `b` unchanged.\n",
        "\n",
        "* The expression `a += [5,6,7,8]` is actually mapped to an \"extend\" function that operates on the list such that `a` and `b` still point to the same list that has been modified in-place.\n",
        "\n"
      ]
    },
    {
      "cell_type": "markdown",
      "metadata": {
        "id": "uCciEzLZRSsS"
      },
      "source": [
        "### ▶ Name resolution ignoring class scope\n",
        "1\\.\n"
      ]
    },
    {
      "cell_type": "code",
      "metadata": {
        "collapsed": true,
        "id": "xfgF6HBgRSsT",
        "outputId": "d9a788dd-944a-46b3-c0dd-a2906669a8d3"
      },
      "source": [
        "x = 5\n",
        "class SomeClass:\n",
        "    x = 17\n",
        "    y = (x for i in range(10))\n"
      ],
      "execution_count": null,
      "outputs": [
        {
          "output_type": "execute_result",
          "data": {
            "text/plain": [
              ""
            ]
          },
          "metadata": {
            "tags": []
          },
          "execution_count": 0
        }
      ]
    },
    {
      "cell_type": "markdown",
      "metadata": {
        "id": "QLwVg0PzRSsT"
      },
      "source": [
        "\n",
        "**Output:**\n"
      ]
    },
    {
      "cell_type": "code",
      "metadata": {
        "collapsed": true,
        "id": "8ZmesZWGRSsT",
        "outputId": "fa9a6c99-c626-4ae6-a162-a21dd3f8364d"
      },
      "source": [
        "list(SomeClass.y)[0]\n"
      ],
      "execution_count": null,
      "outputs": [
        {
          "output_type": "execute_result",
          "data": {
            "text/plain": [
              "5\n"
            ]
          },
          "metadata": {
            "tags": []
          },
          "execution_count": 0
        }
      ]
    },
    {
      "cell_type": "markdown",
      "metadata": {
        "id": "I669RL8iRSsU"
      },
      "source": [
        "\n",
        "2\\.\n"
      ]
    },
    {
      "cell_type": "code",
      "metadata": {
        "collapsed": true,
        "id": "YfxvgSS_RSsV",
        "outputId": "8924f57f-95c5-4a26-b9df-efb1b7e5260d"
      },
      "source": [
        "x = 5\n",
        "class SomeClass:\n",
        "    x = 17\n",
        "    y = [x for i in range(10)]\n"
      ],
      "execution_count": null,
      "outputs": [
        {
          "output_type": "execute_result",
          "data": {
            "text/plain": [
              ""
            ]
          },
          "metadata": {
            "tags": []
          },
          "execution_count": 0
        }
      ]
    },
    {
      "cell_type": "markdown",
      "metadata": {
        "id": "YBx0dEM5RSsW"
      },
      "source": [
        "\n",
        "**Output (Python 2.x):**\n"
      ]
    },
    {
      "cell_type": "code",
      "metadata": {
        "collapsed": true,
        "id": "YXpjf8VDRSsW",
        "outputId": "a27d48b9-5a24-440c-a70b-a1f02e8f4a4d"
      },
      "source": [
        "SomeClass.y[0]\n"
      ],
      "execution_count": null,
      "outputs": [
        {
          "output_type": "execute_result",
          "data": {
            "text/plain": [
              "17\n"
            ]
          },
          "metadata": {
            "tags": []
          },
          "execution_count": 0
        }
      ]
    },
    {
      "cell_type": "markdown",
      "metadata": {
        "id": "IE2HgbxvRSsX"
      },
      "source": [
        "\n",
        "**Output (Python 3.x):**\n"
      ]
    },
    {
      "cell_type": "code",
      "metadata": {
        "collapsed": true,
        "id": "SkzaZavvRSsa",
        "outputId": "7d78b305-b342-40bc-d4d4-ee5cd9bbef7a"
      },
      "source": [
        "SomeClass.y[0]\n"
      ],
      "execution_count": null,
      "outputs": [
        {
          "output_type": "execute_result",
          "data": {
            "text/plain": [
              "5\n"
            ]
          },
          "metadata": {
            "tags": []
          },
          "execution_count": 0
        }
      ]
    },
    {
      "cell_type": "markdown",
      "metadata": {
        "id": "7cPYLKK5RSsc"
      },
      "source": [
        "\n"
      ]
    },
    {
      "cell_type": "markdown",
      "metadata": {
        "id": "lzR0sX_RRSse"
      },
      "source": [
        "#### 💡 Explanation\n",
        "- Scopes nested inside class definition ignore names bound at the class level.\n",
        "- A generator expression has its own scope.\n",
        "- Starting from Python 3.X, list comprehensions also have their own scope.\n",
        "\n"
      ]
    },
    {
      "cell_type": "markdown",
      "metadata": {
        "id": "a50rQfMvRSsf"
      },
      "source": [
        "### ▶ Needles in a Haystack *\n",
        "I haven't met even a single experience Pythonist till date who has not come across one or more of the following scenarios,\n",
        "\n",
        "1\\.\n",
        "\n"
      ]
    },
    {
      "cell_type": "code",
      "metadata": {
        "collapsed": true,
        "id": "jOCv3MvaRSsg",
        "outputId": "4012bb67-5ea0-47bb-be72-ec375569aaf9"
      },
      "source": [
        "x, y = (0, 1) if True else None, None\n"
      ],
      "execution_count": null,
      "outputs": [
        {
          "output_type": "execute_result",
          "data": {
            "text/plain": [
              ""
            ]
          },
          "metadata": {
            "tags": []
          },
          "execution_count": 0
        }
      ]
    },
    {
      "cell_type": "markdown",
      "metadata": {
        "id": "7Pg-sdWYRSsg"
      },
      "source": [
        "\n",
        "**Output:**\n",
        "\n"
      ]
    },
    {
      "cell_type": "code",
      "metadata": {
        "collapsed": true,
        "id": "gFwSo0LTRSsh",
        "outputId": "cee71d50-282f-4f18-be61-9a0b5310f2ea"
      },
      "source": [
        "x, y  # expected (0, 1)\n"
      ],
      "execution_count": null,
      "outputs": [
        {
          "output_type": "execute_result",
          "data": {
            "text/plain": [
              "((0, 1), None)\n"
            ]
          },
          "metadata": {
            "tags": []
          },
          "execution_count": 0
        }
      ]
    },
    {
      "cell_type": "markdown",
      "metadata": {
        "id": "eGXnbrgYRSsh"
      },
      "source": [
        "\n",
        "2\\.\n",
        "\n"
      ]
    },
    {
      "cell_type": "code",
      "metadata": {
        "collapsed": true,
        "id": "8MAetecORSsh",
        "outputId": "ec95df23-e996-4771-d6e8-4938a53dceb3"
      },
      "source": [
        "t = ('one', 'two')\n",
        "for i in t:\n",
        "    print(i)\n",
        "\n",
        "t = ('one')\n",
        "for i in t:\n",
        "    print(i)\n",
        "\n",
        "t = ()\n",
        "print(t)\n"
      ],
      "execution_count": null,
      "outputs": [
        {
          "output_type": "stream",
          "text": [
            ""
          ],
          "name": "stdout"
        }
      ]
    },
    {
      "cell_type": "markdown",
      "metadata": {
        "id": "S402jtYSRSsi"
      },
      "source": [
        "\n",
        "**Output:**\n",
        "\n"
      ]
    },
    {
      "cell_type": "code",
      "metadata": {
        "collapsed": true,
        "id": "CGzgXPQWRSsi",
        "outputId": "3704c138-b207-416b-8fc3-5fca02f7e6af"
      },
      "source": [
        "one\n",
        "two\n",
        "o\n",
        "n\n",
        "e\n",
        "tuple()\n"
      ],
      "execution_count": null,
      "outputs": [
        {
          "output_type": "execute_result",
          "data": {
            "text/plain": [
              ""
            ]
          },
          "metadata": {
            "tags": []
          },
          "execution_count": 0
        }
      ]
    },
    {
      "cell_type": "markdown",
      "metadata": {
        "id": "rXJ2XQS5RSsj"
      },
      "source": [
        "\n",
        "3\\.\n",
        "\n",
        "```\n",
        "ten_words_list = [\n",
        "    \"some\",\n",
        "    \"very\",\n",
        "    \"big\",\n",
        "    \"list\",\n",
        "    \"that\"\n",
        "    \"consists\",\n",
        "    \"of\",\n",
        "    \"exactly\",\n",
        "    \"ten\",\n",
        "    \"words\"\n",
        "]\n",
        "```\n",
        "\n",
        "**Output**\n",
        "\n"
      ]
    },
    {
      "cell_type": "code",
      "metadata": {
        "collapsed": true,
        "id": "DS_-ZaQvRSsj",
        "outputId": "d590d9ba-50a5-40cf-fc84-2ad412689c5a"
      },
      "source": [
        "len(ten_words_list)\n"
      ],
      "execution_count": null,
      "outputs": [
        {
          "output_type": "execute_result",
          "data": {
            "text/plain": [
              "9\n"
            ]
          },
          "metadata": {
            "tags": []
          },
          "execution_count": 0
        }
      ]
    },
    {
      "cell_type": "markdown",
      "metadata": {
        "id": "wc4taem6RSsk"
      },
      "source": [
        "\n",
        "4\\. Not asserting strongly enough\n",
        "\n"
      ]
    },
    {
      "cell_type": "code",
      "metadata": {
        "collapsed": true,
        "id": "Uu9fZEIORSsk",
        "outputId": "516f3530-fb90-4e43-a866-be429b070cf2"
      },
      "source": [
        "a = \"python\"\n",
        "b = \"javascript\"\n"
      ],
      "execution_count": null,
      "outputs": [
        {
          "output_type": "execute_result",
          "data": {
            "text/plain": [
              ""
            ]
          },
          "metadata": {
            "tags": []
          },
          "execution_count": 0
        }
      ]
    },
    {
      "cell_type": "markdown",
      "metadata": {
        "id": "kDirNK_1RSsk"
      },
      "source": [
        "\n",
        "**Output:**\n",
        "\n"
      ]
    },
    {
      "cell_type": "code",
      "metadata": {
        "collapsed": true,
        "id": "tXQ3a_B3RSsl",
        "outputId": "2d96e2e7-1cc4-4d6d-8251-9ec862d50d0e"
      },
      "source": [
        "# An assert statement with an assertion failure message.\n",
        "assert(a == b, \"Both languages are different\")\n"
      ],
      "execution_count": null,
      "outputs": [
        {
          "output_type": "execute_result",
          "data": {
            "text/plain": [
              "# No AssertionError is raised\n"
            ]
          },
          "metadata": {
            "tags": []
          },
          "execution_count": 0
        }
      ]
    },
    {
      "cell_type": "markdown",
      "metadata": {
        "id": "skmuJeDmRSsl"
      },
      "source": [
        "\n",
        "5\\.\n",
        "\n"
      ]
    },
    {
      "cell_type": "code",
      "metadata": {
        "collapsed": true,
        "id": "M2gp-gXiRSsl",
        "outputId": "5b40ee48-2612-4930-a4e4-e0a72a692843"
      },
      "source": [
        "some_list = [1, 2, 3]\n",
        "some_dict = {\n",
        "  \"key_1\": 1,\n",
        "  \"key_2\": 2,\n",
        "  \"key_3\": 3\n",
        "}\n",
        "\n",
        "some_list = some_list.append(4) \n",
        "some_dict = some_dict.update({\"key_4\": 4})\n"
      ],
      "execution_count": null,
      "outputs": [
        {
          "output_type": "execute_result",
          "data": {
            "text/plain": [
              ""
            ]
          },
          "metadata": {
            "tags": []
          },
          "execution_count": 0
        }
      ]
    },
    {
      "cell_type": "markdown",
      "metadata": {
        "id": "1pVPI9XoRSsm"
      },
      "source": [
        "\n",
        "**Output:**\n",
        "\n"
      ]
    },
    {
      "cell_type": "code",
      "metadata": {
        "collapsed": true,
        "id": "A8gGUuBgRSsm",
        "outputId": "5c0288c1-059e-4e2c-8acb-c9b8b16b9243"
      },
      "source": [
        "print(some_list)\n"
      ],
      "execution_count": null,
      "outputs": [
        {
          "output_type": "stream",
          "text": [
            "None\n"
          ],
          "name": "stdout"
        }
      ]
    },
    {
      "cell_type": "code",
      "metadata": {
        "collapsed": true,
        "id": "NLm5d3g6RSsm",
        "outputId": "5dc7717f-69eb-4df3-8bc2-b3f6f6fc1fe2"
      },
      "source": [
        "print(some_dict)\n"
      ],
      "execution_count": null,
      "outputs": [
        {
          "output_type": "stream",
          "text": [
            "None\n"
          ],
          "name": "stdout"
        }
      ]
    },
    {
      "cell_type": "markdown",
      "metadata": {
        "id": "C1VHWL_rRSsm"
      },
      "source": [
        "\n",
        "6\\.\n",
        "\n"
      ]
    },
    {
      "cell_type": "code",
      "metadata": {
        "collapsed": true,
        "id": "UfFBbEqiRSsn",
        "outputId": "a30aa22f-920c-47a1-8288-e12c8c46fd41"
      },
      "source": [
        "def some_recursive_func(a):\n",
        "    if a[0] == 0:\n",
        "        return\n",
        "    a[0] -= 1\n",
        "    some_recursive_func(a)\n",
        "    return a\n",
        "\n",
        "def similar_recursive_func(a):\n",
        "    if a == 0:\n",
        "        return a\n",
        "    a -= 1\n",
        "    similar_recursive_func(a)\n",
        "    return a\n"
      ],
      "execution_count": null,
      "outputs": [
        {
          "output_type": "execute_result",
          "data": {
            "text/plain": [
              ""
            ]
          },
          "metadata": {
            "tags": []
          },
          "execution_count": 0
        }
      ]
    },
    {
      "cell_type": "markdown",
      "metadata": {
        "id": "1LOubYW9RSsn"
      },
      "source": [
        "\n",
        "**Output:**\n",
        "\n"
      ]
    },
    {
      "cell_type": "code",
      "metadata": {
        "collapsed": true,
        "id": "mcKc-kcrRSsw",
        "outputId": "25dd9173-ff31-42d5-a52b-d6ed6d697ab5"
      },
      "source": [
        "some_recursive_func([5, 0])\n"
      ],
      "execution_count": null,
      "outputs": [
        {
          "output_type": "execute_result",
          "data": {
            "text/plain": [
              "[0, 0]\n"
            ]
          },
          "metadata": {
            "tags": []
          },
          "execution_count": 0
        }
      ]
    },
    {
      "cell_type": "code",
      "metadata": {
        "collapsed": true,
        "id": "67cEwNrWRSsx",
        "outputId": "ff657cc5-0a26-44e0-aff2-a1f0dfcb8a18"
      },
      "source": [
        "similar_recursive_func(5)\n"
      ],
      "execution_count": null,
      "outputs": [
        {
          "output_type": "execute_result",
          "data": {
            "text/plain": [
              "4\n"
            ]
          },
          "metadata": {
            "tags": []
          },
          "execution_count": 0
        }
      ]
    },
    {
      "cell_type": "markdown",
      "metadata": {
        "id": "r0pBkORXRSsx"
      },
      "source": [
        "\n"
      ]
    },
    {
      "cell_type": "markdown",
      "metadata": {
        "id": "Z8bMKxUmRSsy"
      },
      "source": [
        "#### 💡 Explanation:\n",
        "\n",
        "* For 1, the correct statement for expected behavior is `x, y = (0, 1) if True else (None, None)`.\n",
        "\n",
        "* For 2, the correct statement for expected behavior is `t = ('one',)` or `t = 'one',` (missing comma) otherwise the interpreter considers `t` to be a `str` and iterates over it character by character.\n",
        "\n",
        "* `()` is a special token and denotes empty `tuple`.\n",
        "\n",
        "* In 3, as you might have already figured out, there's a missing comma after 5th element (`\"that\"`) in the list. So by implicit string literal concatenation,\n",
        "\n"
      ]
    },
    {
      "cell_type": "code",
      "metadata": {
        "collapsed": true,
        "id": "8ymVYQS_RSsz",
        "outputId": "07b00ed5-27a4-4828-b640-a4d6d47594ea"
      },
      "source": [
        "  ten_words_list\n"
      ],
      "execution_count": null,
      "outputs": [
        {
          "output_type": "execute_result",
          "data": {
            "text/plain": [
              "  ['some', 'very', 'big', 'list', 'thatconsists', 'of', 'exactly', 'ten', 'words']\n"
            ]
          },
          "metadata": {
            "tags": []
          },
          "execution_count": 0
        }
      ]
    },
    {
      "cell_type": "markdown",
      "metadata": {
        "id": "0CnUR_2ORSs0"
      },
      "source": [
        "\n",
        "* No `AssertionError` was raised in 4th snippet because instead of asserting the individual expression `a == b`, we're asserting entire tuple. The following snippet will clear things up,\n",
        "\n"
      ]
    },
    {
      "cell_type": "code",
      "metadata": {
        "collapsed": true,
        "id": "au-h6ATDRSs0",
        "outputId": "c4076640-eb30-4dff-f64b-ef915d0a7ed4"
      },
      "source": [
        "  a = \"python\"\n",
        "  b = \"javascript\"\n",
        "  assert a == b\n"
      ],
      "execution_count": null,
      "outputs": [
        {
          "output_type": "execute_result",
          "data": {
            "text/plain": [
              "  Traceback (most recent call last):\n",
              "      File \"<stdin>\", line 1, in <module>\n",
              "  AssertionError\n",
              "  \n"
            ]
          },
          "metadata": {
            "tags": []
          },
          "execution_count": 0
        }
      ]
    },
    {
      "cell_type": "code",
      "metadata": {
        "collapsed": true,
        "id": "Yej-OcXrRSs0",
        "outputId": "7c2f2305-17e7-4f11-c4d4-155118883c3e"
      },
      "source": [
        "  assert (a == b, \"Values are not equal\")\n"
      ],
      "execution_count": null,
      "outputs": [
        {
          "output_type": "execute_result",
          "data": {
            "text/plain": [
              "  <stdin>:1: SyntaxWarning: assertion is always true, perhaps remove parentheses?\n",
              "  \n"
            ]
          },
          "metadata": {
            "tags": []
          },
          "execution_count": 0
        }
      ]
    },
    {
      "cell_type": "code",
      "metadata": {
        "collapsed": true,
        "id": "69rgzqbbRSs1",
        "outputId": "a7206560-d993-4efc-9368-dfca49aa420c"
      },
      "source": [
        "  assert a == b, \"Values are not equal\"\n"
      ],
      "execution_count": null,
      "outputs": [
        {
          "output_type": "execute_result",
          "data": {
            "text/plain": [
              "  Traceback (most recent call last):\n",
              "      File \"<stdin>\", line 1, in <module>\n",
              "  AssertionError: Values are not equal\n"
            ]
          },
          "metadata": {
            "tags": []
          },
          "execution_count": 0
        }
      ]
    },
    {
      "cell_type": "markdown",
      "metadata": {
        "id": "9L4gEsbxRSs1"
      },
      "source": [
        "\n",
        "* As for the fifth snippet, most methods that modify the items of sequence/mapping objects like `list.append`, `dict.update`, `list.sort`, etc. modify the objects in-place and return `None`. The rationale behind this is to improve performance by avoiding making a copy of the object if the operation can be done in-place (Referred from [here](https://docs.python.org/3/faq/design.html#why-doesn-t-list-sort-return-the-sorted-list)).\n",
        "\n",
        "* Last one should be fairly obvious, mutable object (like `list`) can be altered in the function, and the reassignation of an immutable (`a -= 1`) is not an alteration of the value.\n",
        "\n",
        "* Being aware of these nitpicks can save you hours of debugging effort in the long run. \n",
        "\n"
      ]
    },
    {
      "cell_type": "markdown",
      "metadata": {
        "id": "0x9UfM91RSs4"
      },
      "source": [
        "### ▶ Splitsies *\n"
      ]
    },
    {
      "cell_type": "code",
      "metadata": {
        "collapsed": true,
        "id": "HpsBbS4bRSs-",
        "outputId": "acd86e4d-4430-435d-a360-3f97c00cbf4d"
      },
      "source": [
        "'a'.split()\n"
      ],
      "execution_count": null,
      "outputs": [
        {
          "output_type": "execute_result",
          "data": {
            "text/plain": [
              "['a']\n",
              "\n",
              "# is same as\n"
            ]
          },
          "metadata": {
            "tags": []
          },
          "execution_count": 0
        }
      ]
    },
    {
      "cell_type": "code",
      "metadata": {
        "collapsed": true,
        "id": "PnYw2ZudRSs_",
        "outputId": "6d9e05a0-7aed-4979-aad0-f60a03439588"
      },
      "source": [
        "'a'.split(' ')\n"
      ],
      "execution_count": null,
      "outputs": [
        {
          "output_type": "execute_result",
          "data": {
            "text/plain": [
              "['a']\n",
              "\n",
              "# but\n"
            ]
          },
          "metadata": {
            "tags": []
          },
          "execution_count": 0
        }
      ]
    },
    {
      "cell_type": "code",
      "metadata": {
        "collapsed": true,
        "id": "BxO-JJ1ERStA",
        "outputId": "367358b6-53bb-408d-e56b-22f7109cf6c1"
      },
      "source": [
        "len(''.split())\n"
      ],
      "execution_count": null,
      "outputs": [
        {
          "output_type": "execute_result",
          "data": {
            "text/plain": [
              "0\n",
              "\n",
              "# isn't the same as\n"
            ]
          },
          "metadata": {
            "tags": []
          },
          "execution_count": 0
        }
      ]
    },
    {
      "cell_type": "code",
      "metadata": {
        "collapsed": true,
        "id": "uVHWz6PmRStA",
        "outputId": "1d7e0621-4d0b-46b0-e41e-1db84ec6ec2c"
      },
      "source": [
        "len(''.split(' '))\n"
      ],
      "execution_count": null,
      "outputs": [
        {
          "output_type": "execute_result",
          "data": {
            "text/plain": [
              "1\n"
            ]
          },
          "metadata": {
            "tags": []
          },
          "execution_count": 0
        }
      ]
    },
    {
      "cell_type": "markdown",
      "metadata": {
        "id": "08x_QwJSRStA"
      },
      "source": [
        "\n"
      ]
    },
    {
      "cell_type": "markdown",
      "metadata": {
        "id": "A8XWLeojRStB"
      },
      "source": [
        "#### 💡 Explanation:\n",
        "\n",
        "- It might appear at first that the default separator for split is a single space `' '`, but as per the [docs](https://docs.python.org/3/library/stdtypes.html#str.split)\n",
        "    >  If sep is not specified or is `None`, a different splitting algorithm is applied: runs of consecutive whitespace are regarded as a single separator, and the result will contain no empty strings at the start or end if the string has leading or trailing whitespace. Consequently, splitting an empty string or a string consisting of just whitespace with a None separator returns `[]`.\n",
        "    > If sep is given, consecutive delimiters are not grouped together and are deemed to delimit empty strings (for example, `'1,,2'.split(',')` returns `['1', '', '2']`). Splitting an empty string with a specified separator returns `['']`.\n",
        "- Noticing how the leading and trailing whitespaces are handled in the following snippet will make things clear,\n"
      ]
    },
    {
      "cell_type": "code",
      "metadata": {
        "collapsed": true,
        "id": "mOPR-wjcRStB",
        "outputId": "40d92051-0650-4330-99de-649148e19420"
      },
      "source": [
        "    ' a '.split(' ')\n"
      ],
      "execution_count": null,
      "outputs": [
        {
          "output_type": "execute_result",
          "data": {
            "text/plain": [
              "    ['', 'a', '']\n"
            ]
          },
          "metadata": {
            "tags": []
          },
          "execution_count": 0
        }
      ]
    },
    {
      "cell_type": "code",
      "metadata": {
        "collapsed": true,
        "id": "kxxkMpC7RStB",
        "outputId": "832c09fe-32c0-4398-a40f-c7351f2ecfd3"
      },
      "source": [
        "    ' a '.split()\n"
      ],
      "execution_count": null,
      "outputs": [
        {
          "output_type": "execute_result",
          "data": {
            "text/plain": [
              "    ['a']\n"
            ]
          },
          "metadata": {
            "tags": []
          },
          "execution_count": 0
        }
      ]
    },
    {
      "cell_type": "code",
      "metadata": {
        "collapsed": true,
        "id": "2PL91BgPRStB",
        "outputId": "6e24b0e2-6599-4b9c-f6d3-282fe527acf6"
      },
      "source": [
        "    ''.split(' ')\n"
      ],
      "execution_count": null,
      "outputs": [
        {
          "output_type": "execute_result",
          "data": {
            "text/plain": [
              "    ['']\n"
            ]
          },
          "metadata": {
            "tags": []
          },
          "execution_count": 0
        }
      ]
    },
    {
      "cell_type": "markdown",
      "metadata": {
        "id": "cbDcAQxVRStC"
      },
      "source": [
        "\n"
      ]
    },
    {
      "cell_type": "markdown",
      "metadata": {
        "id": "MUDnqPwDRStQ"
      },
      "source": [
        "### ▶ All sorted? *\n"
      ]
    },
    {
      "cell_type": "code",
      "metadata": {
        "collapsed": true,
        "id": "q5PvfcAWRStQ",
        "outputId": "73c08e55-f80e-4fd7-d7c1-c86293d33585"
      },
      "source": [
        "x = 7, 8, 9\n",
        "sorted(x) == x\n"
      ],
      "execution_count": null,
      "outputs": [
        {
          "output_type": "execute_result",
          "data": {
            "text/plain": [
              "False\n"
            ]
          },
          "metadata": {
            "tags": []
          },
          "execution_count": 0
        }
      ]
    },
    {
      "cell_type": "code",
      "metadata": {
        "collapsed": true,
        "id": "O7_VtqwFRStR",
        "outputId": "13c332d7-2b3d-4d7b-a8b0-69c17ae81bd0"
      },
      "source": [
        "sorted(x) == sorted(x)\n"
      ],
      "execution_count": null,
      "outputs": [
        {
          "output_type": "execute_result",
          "data": {
            "text/plain": [
              "True\n",
              "\n"
            ]
          },
          "metadata": {
            "tags": []
          },
          "execution_count": 0
        }
      ]
    },
    {
      "cell_type": "code",
      "metadata": {
        "collapsed": true,
        "id": "ovmKPhKtRStS",
        "outputId": "4ba21168-b210-4b6c-e3d9-b5a357f1f868"
      },
      "source": [
        "y = reversed(x)\n",
        "sorted(y) == sorted(y)\n"
      ],
      "execution_count": null,
      "outputs": [
        {
          "output_type": "execute_result",
          "data": {
            "text/plain": [
              "False\n"
            ]
          },
          "metadata": {
            "tags": []
          },
          "execution_count": 0
        }
      ]
    },
    {
      "cell_type": "markdown",
      "metadata": {
        "id": "M14StalHRStS"
      },
      "source": [
        "\n"
      ]
    },
    {
      "cell_type": "markdown",
      "metadata": {
        "id": "nKDDvrU5RStT"
      },
      "source": [
        "#### 💡 Explanation:\n",
        "\n",
        "- The `sorted` method always returns a list, and comparing lists and tuples always returns `False` in Python. \n",
        "\n",
        "- ```py\n",
        "  >>> [] == tuple()\n",
        "  False\n",
        "  >>> x = 7, 8, 9\n",
        "  >>> type(x), type(sorted(x))\n",
        "  (tuple, list)\n",
        "  ```\n",
        "\n",
        "- Unlike `sorted`, the `reversed` method returns an iterator. Why? Because sorting requires the iterator to be either modified in-place or use an extra container (a list), whereas reversing can simply work by iterating from the last index to the first.\n",
        "\n",
        "- So during comparison `sorted(y) == sorted(y)`, the first call to `sorted()` will consume the iterator `y`, and the next call will just return an empty list.\n",
        "\n"
      ]
    },
    {
      "cell_type": "code",
      "metadata": {
        "collapsed": true,
        "id": "SmcSpmbPRStT",
        "outputId": "caf2885a-caca-4c1f-f399-19e8321e3e48"
      },
      "source": [
        "  x = 7, 8, 9\n",
        "  y = reversed(x)\n",
        "  sorted(y), sorted(y)\n"
      ],
      "execution_count": null,
      "outputs": [
        {
          "output_type": "execute_result",
          "data": {
            "text/plain": [
              "  ([7, 8, 9], [])\n"
            ]
          },
          "metadata": {
            "tags": []
          },
          "execution_count": 0
        }
      ]
    },
    {
      "cell_type": "markdown",
      "metadata": {
        "id": "h4iHrEnBRStT"
      },
      "source": [
        "\n"
      ]
    },
    {
      "cell_type": "markdown",
      "metadata": {
        "id": "NeraUvToRStT"
      },
      "source": [
        "### ▶ Midnight time doesn't exist?\n"
      ]
    },
    {
      "cell_type": "code",
      "metadata": {
        "collapsed": true,
        "id": "SIrsNYrpRStT",
        "outputId": "b9fd6f86-feac-42bc-9b87-2965e208a8cb"
      },
      "source": [
        "from datetime import datetime\n",
        "\n",
        "midnight = datetime(2018, 1, 1, 0, 0)\n",
        "midnight_time = midnight.time()\n",
        "\n",
        "noon = datetime(2018, 1, 1, 12, 0)\n",
        "noon_time = noon.time()\n",
        "\n",
        "if midnight_time:\n",
        "    print(\"Time at midnight is\", midnight_time)\n",
        "\n",
        "if noon_time:\n",
        "    print(\"Time at noon is\", noon_time)\n"
      ],
      "execution_count": null,
      "outputs": [
        {
          "output_type": "execute_result",
          "data": {
            "text/plain": [
              ""
            ]
          },
          "metadata": {
            "tags": []
          },
          "execution_count": 0
        }
      ]
    },
    {
      "cell_type": "markdown",
      "metadata": {
        "id": "zBk1IZL6RStU"
      },
      "source": [
        "\n",
        "**Output (< 3.5):**\n",
        "\n"
      ]
    },
    {
      "cell_type": "code",
      "metadata": {
        "collapsed": true,
        "id": "UUgB8bpxRStU",
        "outputId": "c2da3400-1b42-4578-cae6-a43ed2ff839d"
      },
      "source": [
        "('Time at noon is', datetime.time(12, 0))\n"
      ],
      "execution_count": null,
      "outputs": [
        {
          "output_type": "execute_result",
          "data": {
            "text/plain": [
              ""
            ]
          },
          "metadata": {
            "tags": []
          },
          "execution_count": 0
        }
      ]
    },
    {
      "cell_type": "markdown",
      "metadata": {
        "id": "AFXHnvBERStU"
      },
      "source": [
        "The midnight time is not printed.\n",
        "\n"
      ]
    },
    {
      "cell_type": "markdown",
      "metadata": {
        "id": "RiwbmMHNRStU"
      },
      "source": [
        "#### 💡 Explanation:\n",
        "\n",
        "Before Python 3.5, the boolean value for `datetime.time` object was considered to be `False` if it represented midnight in UTC. It is error-prone when using the `if obj:` syntax to check if the `obj` is null or some equivalent of \"empty.\"\n",
        "\n"
      ]
    },
    {
      "cell_type": "markdown",
      "metadata": {
        "id": "FBClT9ukRStU"
      },
      "source": [
        "### ▶ Okay Python, Can you make me fly?\n",
        "Well, here you go\n",
        "\n"
      ]
    },
    {
      "cell_type": "code",
      "metadata": {
        "collapsed": true,
        "id": "r9UG7l0cRStV",
        "outputId": "24d7a5e6-a4ff-491b-a1de-c5083f69efd8"
      },
      "source": [
        "import antigravity\n"
      ],
      "execution_count": null,
      "outputs": [
        {
          "output_type": "execute_result",
          "data": {
            "text/plain": [
              ""
            ]
          },
          "metadata": {
            "tags": []
          },
          "execution_count": 0
        }
      ]
    },
    {
      "cell_type": "markdown",
      "metadata": {
        "id": "MaoTZcGwRStX"
      },
      "source": [
        "\n",
        "**Output:**\n",
        "Sshh... It's a super-secret.\n",
        "\n"
      ]
    },
    {
      "cell_type": "markdown",
      "metadata": {
        "id": "FmrRGuR-RStX"
      },
      "source": [
        "#### 💡 Explanation:\n",
        "+ `antigravity` module is one of the few easter eggs released by Python developers.\n",
        "+ `import antigravity` opens up a web browser pointing to the [classic XKCD comic](https://xkcd.com/353/) about Python.\n",
        "+ Well, there's more to it. There's **another easter egg inside the easter egg**. If you look at the [code](https://github.com/python/cpython/blob/master/Lib/antigravity.py#L7-L17), there's a function defined that purports to implement the [XKCD's geohashing algorithm](https://xkcd.com/426/).\n",
        "\n"
      ]
    },
    {
      "cell_type": "markdown",
      "metadata": {
        "id": "JNiwSlJURStY"
      },
      "source": [
        "### ▶ `goto`, but why?\n"
      ]
    },
    {
      "cell_type": "code",
      "metadata": {
        "collapsed": true,
        "id": "yLRNf1jlRStY",
        "outputId": "8f62d708-22c1-4a52-cb04-2685d671e7a5"
      },
      "source": [
        "from goto import goto, label\n",
        "for i in range(9):\n",
        "    for j in range(9):\n",
        "        for k in range(9):\n",
        "            print(\"I am trapped, please rescue!\")\n",
        "            if k == 2:\n",
        "                goto .breakout # breaking out from a deeply nested loop\n",
        "label .breakout\n",
        "print(\"Freedom!\")\n"
      ],
      "execution_count": null,
      "outputs": [
        {
          "output_type": "stream",
          "text": [
            ""
          ],
          "name": "stdout"
        }
      ]
    },
    {
      "cell_type": "markdown",
      "metadata": {
        "id": "WKhFlkz1RStY"
      },
      "source": [
        "\n",
        "**Output (Python 2.3):**\n"
      ]
    },
    {
      "cell_type": "code",
      "metadata": {
        "collapsed": true,
        "id": "bTbnA4AVRStZ",
        "outputId": "014f2226-6c61-4160-acdb-649ca33e4f6f"
      },
      "source": [
        "I am trapped, please rescue!\n",
        "I am trapped, please rescue!\n",
        "Freedom!\n"
      ],
      "execution_count": null,
      "outputs": [
        {
          "output_type": "execute_result",
          "data": {
            "text/plain": [
              ""
            ]
          },
          "metadata": {
            "tags": []
          },
          "execution_count": 0
        }
      ]
    },
    {
      "cell_type": "markdown",
      "metadata": {
        "id": "iC6fd0tDRStZ"
      },
      "source": [
        "\n"
      ]
    },
    {
      "cell_type": "markdown",
      "metadata": {
        "id": "BtzHrg6gRStZ"
      },
      "source": [
        "#### 💡 Explanation:\n",
        "- A working version of `goto` in Python was [announced](https://mail.python.org/pipermail/python-announce-list/2004-April/002982.html) as an April Fool's joke on 1st April 2004.\n",
        "- Current versions of Python do not have this module.\n",
        "- Although it works, but please don't use it. Here's the [reason](https://docs.python.org/3/faq/design.html#why-is-there-no-goto) to why `goto` is not present in Python.\n",
        "\n"
      ]
    },
    {
      "cell_type": "markdown",
      "metadata": {
        "id": "OSqTySsGRSta"
      },
      "source": [
        "### ▶ Brace yourself!\n",
        "If you are one of the people who doesn't like using whitespace in Python to denote scopes, you can use the C-style {} by importing,\n",
        "\n"
      ]
    },
    {
      "cell_type": "code",
      "metadata": {
        "collapsed": true,
        "id": "wLgCO4lhRSta",
        "outputId": "9215ac34-4399-4d1c-a3aa-ffc095e5dd22"
      },
      "source": [
        "from __future__ import braces\n"
      ],
      "execution_count": null,
      "outputs": [
        {
          "output_type": "execute_result",
          "data": {
            "text/plain": [
              ""
            ]
          },
          "metadata": {
            "tags": []
          },
          "execution_count": 0
        }
      ]
    },
    {
      "cell_type": "markdown",
      "metadata": {
        "id": "7afxdo1KRStb"
      },
      "source": [
        "\n",
        "**Output:**\n"
      ]
    },
    {
      "cell_type": "code",
      "metadata": {
        "collapsed": true,
        "id": "7TUrLW8-RStc",
        "outputId": "0f8547ef-667f-4470-e545-2cb4e782850b"
      },
      "source": [
        "  File \"some_file.py\", line 1\n",
        "    from __future__ import braces\n",
        "SyntaxError: not a chance\n"
      ],
      "execution_count": null,
      "outputs": [
        {
          "output_type": "execute_result",
          "data": {
            "text/plain": [
              ""
            ]
          },
          "metadata": {
            "tags": []
          },
          "execution_count": 0
        }
      ]
    },
    {
      "cell_type": "markdown",
      "metadata": {
        "id": "cwDf8fD1RStd"
      },
      "source": [
        "\n",
        "Braces? No way! If you think that's disappointing, use Java. Okay, another surprising thing, can you find where's the `SyntaxError` raised in `__future__` module [code](https://github.com/python/cpython/blob/master/Lib/__future__.py)?\n",
        "\n"
      ]
    },
    {
      "cell_type": "markdown",
      "metadata": {
        "id": "93WvS0eiRStd"
      },
      "source": [
        "#### 💡 Explanation:\n",
        "+ The `__future__` module is normally used to provide features from future versions of Python. The \"future\" in this specific context is however, ironic.\n",
        "+ This is an easter egg concerned with the community's feelings on this issue.\n",
        "+ The code is actually present [here](https://github.com/python/cpython/blob/025eb98dc0c1dc27404df6c544fc2944e0fa9f3a/Python/future.c#L49) in `future.c` file.\n",
        "+ When the CPython compiler encounters a [future statement](https://docs.python.org/3.3/reference/simple_stmts.html#future-statements), it first runs the appropriate code in `future.c` before treating it as a normal import statement.\n",
        "\n"
      ]
    },
    {
      "cell_type": "markdown",
      "metadata": {
        "id": "ss74LoU-RSte"
      },
      "source": [
        "### ▶ Let's meet Friendly Language Uncle For Life\n",
        "**Output (Python 3.x)**\n"
      ]
    },
    {
      "cell_type": "code",
      "metadata": {
        "collapsed": true,
        "id": "F0XFPQDtRSte",
        "outputId": "d85b415b-5ee0-434f-b5b8-03cdce0d90bd"
      },
      "source": [
        "from __future__ import barry_as_FLUFL\n",
        "\"Ruby\" != \"Python\" # there's no doubt about it\n"
      ],
      "execution_count": null,
      "outputs": [
        {
          "output_type": "execute_result",
          "data": {
            "text/plain": [
              "  File \"some_file.py\", line 1\n",
              "    \"Ruby\" != \"Python\"\n",
              "              ^\n",
              "SyntaxError: invalid syntax\n",
              "\n"
            ]
          },
          "metadata": {
            "tags": []
          },
          "execution_count": 0
        }
      ]
    },
    {
      "cell_type": "code",
      "metadata": {
        "collapsed": true,
        "id": "WiPRT1QCRStf",
        "outputId": "b5468b2a-46cf-4bdb-e7d5-90d3f805ef9b"
      },
      "source": [
        "\"Ruby\" <> \"Python\"\n"
      ],
      "execution_count": null,
      "outputs": [
        {
          "output_type": "execute_result",
          "data": {
            "text/plain": [
              "True\n"
            ]
          },
          "metadata": {
            "tags": []
          },
          "execution_count": 0
        }
      ]
    },
    {
      "cell_type": "markdown",
      "metadata": {
        "id": "RKYMRYsDRStf"
      },
      "source": [
        "\n",
        "There we go.\n",
        "\n"
      ]
    },
    {
      "cell_type": "markdown",
      "metadata": {
        "id": "oXIU3nOcRStg"
      },
      "source": [
        "#### 💡 Explanation:\n",
        "- This is relevant to [PEP-401](https://www.python.org/dev/peps/pep-0401/) released on April 1, 2009 (now you know, what it means).\n",
        "- Quoting from the PEP-401\n",
        "  \n",
        "  > Recognized that the != inequality operator in Python 3.0 was a horrible, finger-pain inducing mistake, the FLUFL reinstates the <> diamond operator as the sole spelling.\n",
        "- There were more things that Uncle Barry had to share in the PEP; you can read them [here](https://www.python.org/dev/peps/pep-0401/).\n",
        "- It works well in an interactive environment, but it will raise a `SyntaxError` when you run via python file (see this [issue](https://github.com/satwikkansal/wtfpython/issues/94)). However, you can wrap the statement inside an `eval` or `compile` to get it working,\n"
      ]
    },
    {
      "cell_type": "code",
      "metadata": {
        "collapsed": true,
        "id": "tYJTD_3vRSth",
        "outputId": "3fcb7335-5d68-4082-e2f4-5814b74a8ed9"
      },
      "source": [
        "    from __future__ import barry_as_FLUFL\n",
        "    print(eval('\"Ruby\" <> \"Python\"'))\n"
      ],
      "execution_count": null,
      "outputs": [
        {
          "output_type": "execute_result",
          "data": {
            "text/plain": [
              ""
            ]
          },
          "metadata": {
            "tags": []
          },
          "execution_count": 0
        }
      ]
    },
    {
      "cell_type": "markdown",
      "metadata": {
        "id": "YKVa6JAoRSti"
      },
      "source": [
        "\n"
      ]
    },
    {
      "cell_type": "markdown",
      "metadata": {
        "id": "JG28CGHrRStj"
      },
      "source": [
        "### ▶ Even Python understands that love is complicated\n"
      ]
    },
    {
      "cell_type": "code",
      "metadata": {
        "collapsed": true,
        "id": "ug_R8_jzRStj",
        "outputId": "a78eda34-f1da-4c12-d566-5e055d76a4c2"
      },
      "source": [
        "import this\n"
      ],
      "execution_count": null,
      "outputs": [
        {
          "output_type": "execute_result",
          "data": {
            "text/plain": [
              ""
            ]
          },
          "metadata": {
            "tags": []
          },
          "execution_count": 0
        }
      ]
    },
    {
      "cell_type": "markdown",
      "metadata": {
        "id": "czNtWlUQRStj"
      },
      "source": [
        "\n",
        "Wait, what's **this**? `this` is love :heart:\n",
        "\n",
        "**Output:**\n",
        "```\n",
        "The Zen of Python, by Tim Peters\n",
        "\n",
        "Beautiful is better than ugly.\n",
        "Explicit is better than implicit.\n",
        "Simple is better than complex.\n",
        "Complex is better than complicated.\n",
        "Flat is better than nested.\n",
        "Sparse is better than dense.\n",
        "Readability counts.\n",
        "Special cases aren't special enough to break the rules.\n",
        "Although practicality beats purity.\n",
        "Errors should never pass silently.\n",
        "Unless explicitly silenced.\n",
        "In the face of ambiguity, refuse the temptation to guess.\n",
        "There should be one-- and preferably only one --obvious way to do it.\n",
        "Although that way may not be obvious at first unless you're Dutch.\n",
        "Now is better than never.\n",
        "Although never is often better than *right* now.\n",
        "If the implementation is hard to explain, it's a bad idea.\n",
        "If the implementation is easy to explain, it may be a good idea.\n",
        "Namespaces are one honking great idea -- let's do more of those!\n",
        "```\n",
        "\n",
        "It's the Zen of Python!\n",
        "\n"
      ]
    },
    {
      "cell_type": "code",
      "metadata": {
        "collapsed": true,
        "id": "kGF8LeqzRStk",
        "outputId": "e67d729b-e6aa-4dd2-867f-058997d1e674"
      },
      "source": [
        "love = this\n",
        "this is love\n"
      ],
      "execution_count": null,
      "outputs": [
        {
          "output_type": "execute_result",
          "data": {
            "text/plain": [
              "True\n"
            ]
          },
          "metadata": {
            "tags": []
          },
          "execution_count": 0
        }
      ]
    },
    {
      "cell_type": "code",
      "metadata": {
        "collapsed": true,
        "id": "RqVMtuBSRStk",
        "outputId": "561c7b4a-cddd-432b-9a38-827d0ae05b9b"
      },
      "source": [
        "love is True\n"
      ],
      "execution_count": null,
      "outputs": [
        {
          "output_type": "execute_result",
          "data": {
            "text/plain": [
              "False\n"
            ]
          },
          "metadata": {
            "tags": []
          },
          "execution_count": 0
        }
      ]
    },
    {
      "cell_type": "code",
      "metadata": {
        "collapsed": true,
        "id": "noGyj-oCRStl",
        "outputId": "1e8d84f1-4ae4-45f6-b22a-f6a5723fafd6"
      },
      "source": [
        "love is False\n"
      ],
      "execution_count": null,
      "outputs": [
        {
          "output_type": "execute_result",
          "data": {
            "text/plain": [
              "False\n"
            ]
          },
          "metadata": {
            "tags": []
          },
          "execution_count": 0
        }
      ]
    },
    {
      "cell_type": "code",
      "metadata": {
        "collapsed": true,
        "id": "53Eo7Bf6RStl",
        "outputId": "2f3c3a5d-2132-426c-bc1c-c4bafb388b8f"
      },
      "source": [
        "love is not True or False\n"
      ],
      "execution_count": null,
      "outputs": [
        {
          "output_type": "execute_result",
          "data": {
            "text/plain": [
              "True\n"
            ]
          },
          "metadata": {
            "tags": []
          },
          "execution_count": 0
        }
      ]
    },
    {
      "cell_type": "code",
      "metadata": {
        "collapsed": true,
        "id": "uHSFsiHzRStl",
        "outputId": "3649e5f2-d4ec-48e6-b397-4eefa734f6f2"
      },
      "source": [
        "love is not True or False; love is love  # Love is complicated\n"
      ],
      "execution_count": null,
      "outputs": [
        {
          "output_type": "execute_result",
          "data": {
            "text/plain": [
              "True\n"
            ]
          },
          "metadata": {
            "tags": []
          },
          "execution_count": 0
        }
      ]
    },
    {
      "cell_type": "markdown",
      "metadata": {
        "id": "-ysuQ5mRRStl"
      },
      "source": [
        "\n"
      ]
    },
    {
      "cell_type": "markdown",
      "metadata": {
        "id": "h8k6_Yj7RStl"
      },
      "source": [
        "#### 💡 Explanation:\n",
        "\n",
        "* `this` module in Python is an easter egg for The Zen Of Python ([PEP 20](https://www.python.org/dev/peps/pep-0020)).\n",
        "* And if you think that's already interesting enough, check out the implementation of [this.py](https://hg.python.org/cpython/file/c3896275c0f6/Lib/this.py). Interestingly, **the code for the Zen violates itself** (and that's probably the only place where this happens).\n",
        "* Regarding the statement `love is not True or False; love is love`, ironic but it's self-explanatory (if not, please see the examples related to `is` and `is not` operators).\n",
        "\n"
      ]
    },
    {
      "cell_type": "markdown",
      "metadata": {
        "id": "L6kVXDUvRStm"
      },
      "source": [
        "### ▶ Yes, it exists!\n",
        "**The `else` clause for loops.** One typical example might be:\n",
        "\n"
      ]
    },
    {
      "cell_type": "code",
      "metadata": {
        "collapsed": true,
        "id": "wMIL7oa1RStm",
        "outputId": "b5deac48-0998-4d46-8604-96ca4253ce15"
      },
      "source": [
        "  def does_exists_num(l, to_find):\n",
        "      for num in l:\n",
        "          if num == to_find:\n",
        "              print(\"Exists!\")\n",
        "              break\n",
        "      else:\n",
        "          print(\"Does not exist\")\n"
      ],
      "execution_count": null,
      "outputs": [
        {
          "output_type": "execute_result",
          "data": {
            "text/plain": [
              ""
            ]
          },
          "metadata": {
            "tags": []
          },
          "execution_count": 0
        }
      ]
    },
    {
      "cell_type": "markdown",
      "metadata": {
        "id": "dUTCyLeMRStm"
      },
      "source": [
        "\n",
        "**Output:**\n"
      ]
    },
    {
      "cell_type": "code",
      "metadata": {
        "collapsed": true,
        "id": "q3DdaE_IRStm",
        "outputId": "3be70d8e-aa01-4b32-afc6-c9de0541c23c"
      },
      "source": [
        "some_list = [1, 2, 3, 4, 5]\n",
        "does_exists_num(some_list, 4)\n"
      ],
      "execution_count": null,
      "outputs": [
        {
          "output_type": "execute_result",
          "data": {
            "text/plain": [
              "Exists!\n"
            ]
          },
          "metadata": {
            "tags": []
          },
          "execution_count": 0
        }
      ]
    },
    {
      "cell_type": "code",
      "metadata": {
        "collapsed": true,
        "id": "IiI7vxz8RStm",
        "outputId": "8a864b9e-5ff2-45c9-fc83-391ea21b8a26"
      },
      "source": [
        "does_exists_num(some_list, -1)\n"
      ],
      "execution_count": null,
      "outputs": [
        {
          "output_type": "execute_result",
          "data": {
            "text/plain": [
              "Does not exist\n"
            ]
          },
          "metadata": {
            "tags": []
          },
          "execution_count": 0
        }
      ]
    },
    {
      "cell_type": "markdown",
      "metadata": {
        "id": "0DNKN4pKRStn"
      },
      "source": [
        "\n",
        "**The `else` clause in exception handling.** An example,\n",
        "\n"
      ]
    },
    {
      "cell_type": "code",
      "metadata": {
        "collapsed": true,
        "id": "udUVGDOBRStn",
        "outputId": "186933b9-3e33-4204-aef1-3d5a40899188"
      },
      "source": [
        "try:\n",
        "    pass\n",
        "except:\n",
        "    print(\"Exception occurred!!!\")\n",
        "else:\n",
        "    print(\"Try block executed successfully...\")\n"
      ],
      "execution_count": null,
      "outputs": [
        {
          "output_type": "execute_result",
          "data": {
            "text/plain": [
              ""
            ]
          },
          "metadata": {
            "tags": []
          },
          "execution_count": 0
        }
      ]
    },
    {
      "cell_type": "markdown",
      "metadata": {
        "id": "igPBtApZRStn"
      },
      "source": [
        "\n",
        "**Output:**\n"
      ]
    },
    {
      "cell_type": "code",
      "metadata": {
        "collapsed": true,
        "id": "SRhzKVq9RStn",
        "outputId": "e410f065-7871-4690-fe14-44c13d3ef202"
      },
      "source": [
        "Try block executed successfully...\n"
      ],
      "execution_count": null,
      "outputs": [
        {
          "output_type": "execute_result",
          "data": {
            "text/plain": [
              ""
            ]
          },
          "metadata": {
            "tags": []
          },
          "execution_count": 0
        }
      ]
    },
    {
      "cell_type": "markdown",
      "metadata": {
        "id": "KnpLnjqCRSto"
      },
      "source": [
        "\n"
      ]
    },
    {
      "cell_type": "markdown",
      "metadata": {
        "id": "Gdwc-Yb0RSto"
      },
      "source": [
        "#### 💡 Explanation:\n",
        "- The `else` clause after a loop is executed only when there's no explicit `break` after all the iterations. You can think of it as a \"nobreak\" clause.\n",
        "- `else` clause after a try block is also called \"completion clause\" as reaching the `else` clause in a `try` statement means that the try block actually completed successfully.\n",
        "\n"
      ]
    },
    {
      "cell_type": "markdown",
      "metadata": {
        "id": "qtwPmIvMRSto"
      },
      "source": [
        "### ▶ Ellipsis *\n"
      ]
    },
    {
      "cell_type": "code",
      "metadata": {
        "collapsed": true,
        "id": "GVzhEoU6RSto",
        "outputId": "4fb409c0-354c-4467-e290-eee3f1e422b2"
      },
      "source": [
        "def some_func():\n",
        "    Ellipsis\n"
      ],
      "execution_count": null,
      "outputs": [
        {
          "output_type": "execute_result",
          "data": {
            "text/plain": [
              ""
            ]
          },
          "metadata": {
            "tags": []
          },
          "execution_count": 0
        }
      ]
    },
    {
      "cell_type": "markdown",
      "metadata": {
        "id": "Z1gU5jtnRSto"
      },
      "source": [
        "\n",
        "**Output**\n"
      ]
    },
    {
      "cell_type": "code",
      "metadata": {
        "collapsed": true,
        "id": "sxMizqxjRStp",
        "outputId": "361a8d5f-57dc-4ed8-ebcd-444c97ec34a4"
      },
      "source": [
        "some_func()\n"
      ],
      "execution_count": null,
      "outputs": [
        {
          "output_type": "execute_result",
          "data": {
            "text/plain": [
              "# No output, No Error\n",
              "\n"
            ]
          },
          "metadata": {
            "tags": []
          },
          "execution_count": 0
        }
      ]
    },
    {
      "cell_type": "code",
      "metadata": {
        "collapsed": true,
        "id": "qifkG4kLRStp",
        "outputId": "daf72d3a-822e-42c4-b06f-f552edf4460d"
      },
      "source": [
        "SomeRandomString\n"
      ],
      "execution_count": null,
      "outputs": [
        {
          "output_type": "execute_result",
          "data": {
            "text/plain": [
              "Traceback (most recent call last):\n",
              "  File \"<stdin>\", line 1, in <module>\n",
              "NameError: name 'SomeRandomString' is not defined\n",
              "\n"
            ]
          },
          "metadata": {
            "tags": []
          },
          "execution_count": 0
        }
      ]
    },
    {
      "cell_type": "code",
      "metadata": {
        "collapsed": true,
        "id": "lgo4EL58RStp",
        "outputId": "def3aee6-a8c7-46c5-db6f-7079565576b2"
      },
      "source": [
        "Ellipsis\n"
      ],
      "execution_count": null,
      "outputs": [
        {
          "output_type": "execute_result",
          "data": {
            "text/plain": [
              "Ellipsis\n"
            ]
          },
          "metadata": {
            "tags": []
          },
          "execution_count": 0
        }
      ]
    },
    {
      "cell_type": "markdown",
      "metadata": {
        "id": "EolPGDTyRStp"
      },
      "source": [
        "\n"
      ]
    },
    {
      "cell_type": "markdown",
      "metadata": {
        "id": "nxrKZsgGRStp"
      },
      "source": [
        "#### 💡 Explanation\n",
        "- In Python, `Ellipsis` is a globally available built-in object which is equivalent to `...`.\n"
      ]
    },
    {
      "cell_type": "code",
      "metadata": {
        "collapsed": true,
        "id": "7gZNj_2nRStq",
        "outputId": "8f6e6dfb-8687-4e70-cc06-4a1adf8773d8"
      },
      "source": [
        "    ...\n"
      ],
      "execution_count": null,
      "outputs": [
        {
          "output_type": "execute_result",
          "data": {
            "text/plain": [
              "    Ellipsis\n"
            ]
          },
          "metadata": {
            "tags": []
          },
          "execution_count": 0
        }
      ]
    },
    {
      "cell_type": "markdown",
      "metadata": {
        "id": "hg1X0BquRStq"
      },
      "source": [
        "- Eliipsis can be used for several purposes,\n",
        "    + As a placeholder for code that hasn't been written yet (just like `pass` statement)\n",
        "    + In slicing syntax to represent the full slices in remaining direction\n"
      ]
    },
    {
      "cell_type": "code",
      "metadata": {
        "collapsed": true,
        "id": "El8_bAgCRStq",
        "outputId": "b9eccb8e-2bcd-4db7-f07f-de6a0c639911"
      },
      "source": [
        "    import numpy as np\n",
        "    three_dimensional_array = np.arange(8).reshape(2, 2, 2)\n"
      ],
      "execution_count": null,
      "outputs": [
        {
          "output_type": "execute_result",
          "data": {
            "text/plain": [
              "    array([\n",
              "        [\n",
              "            [0, 1],\n",
              "            [2, 3]\n",
              "        ],\n",
              "\n",
              "        [\n",
              "            [4, 5],\n",
              "            [6, 7]\n",
              "        ]\n",
              "    ])\n"
            ]
          },
          "metadata": {
            "tags": []
          },
          "execution_count": 0
        }
      ]
    },
    {
      "cell_type": "markdown",
      "metadata": {
        "id": "XKSoqA1hRStr"
      },
      "source": [
        "    So our `three_dimensional_array` is an array of array of arrays. Let's say we want to print the second element (index `1`) of all the innermost arrays, we can use Ellipsis to bypass all the preceding dimensions\n"
      ]
    },
    {
      "cell_type": "code",
      "metadata": {
        "collapsed": true,
        "id": "srKtEkDtRSts",
        "outputId": "fb9800a4-533f-4544-d831-4ff3c16ceaa0"
      },
      "source": [
        "    three_dimensional_array[:,:,1]\n"
      ],
      "execution_count": null,
      "outputs": [
        {
          "output_type": "execute_result",
          "data": {
            "text/plain": [
              "    array([[1, 3],\n",
              "       [5, 7]])\n"
            ]
          },
          "metadata": {
            "tags": []
          },
          "execution_count": 0
        }
      ]
    },
    {
      "cell_type": "code",
      "metadata": {
        "collapsed": true,
        "id": "S6T-wICSRStt",
        "outputId": "4332426c-46c0-4238-cdd0-c35024abb1fa"
      },
      "source": [
        "    three_dimensional_array[..., 1] # using Ellipsis.\n"
      ],
      "execution_count": null,
      "outputs": [
        {
          "output_type": "execute_result",
          "data": {
            "text/plain": [
              "    array([[1, 3],\n",
              "       [5, 7]])\n"
            ]
          },
          "metadata": {
            "tags": []
          },
          "execution_count": 0
        }
      ]
    },
    {
      "cell_type": "markdown",
      "metadata": {
        "id": "8xewjZqIRStu"
      },
      "source": [
        "    Note: this will work for any number of dimensions. You can even select slice in first and last dimension and ignore the middle ones this way (`n_dimensional_array[firs_dim_slice, ..., last_dim_slice]`)\n",
        "    + In [type hinting](https://docs.python.org/3/library/typing.html) to indicate only a part of the type (like `(Callable[..., int]` or `Tuple[str, ...]`))\n",
        "    + You may also use Ellipsis as a default function argument (in the cases when you want to differentiate between the \"no argument passed\" and \"None value passed\" scenarios).\n",
        "\n"
      ]
    },
    {
      "cell_type": "markdown",
      "metadata": {
        "id": "KOEb_j-uRStu"
      },
      "source": [
        "### ▶ Inpinity\n",
        "The spelling is intended. Please, don't submit a patch for this.\n",
        "\n",
        "**Output (Python 3.x):**\n"
      ]
    },
    {
      "cell_type": "code",
      "metadata": {
        "collapsed": true,
        "id": "EKf_bOEMRStu",
        "outputId": "d240a3b1-b7b3-4309-cdad-cab5cc037838"
      },
      "source": [
        "infinity = float('infinity')\n",
        "hash(infinity)\n"
      ],
      "execution_count": null,
      "outputs": [
        {
          "output_type": "execute_result",
          "data": {
            "text/plain": [
              "314159\n"
            ]
          },
          "metadata": {
            "tags": []
          },
          "execution_count": 0
        }
      ]
    },
    {
      "cell_type": "code",
      "metadata": {
        "collapsed": true,
        "id": "m0LPxWfqRStv",
        "outputId": "83f1760b-2a16-4ecb-9e71-63e69d5e0ad3"
      },
      "source": [
        "hash(float('-inf'))\n"
      ],
      "execution_count": null,
      "outputs": [
        {
          "output_type": "execute_result",
          "data": {
            "text/plain": [
              "-314159\n"
            ]
          },
          "metadata": {
            "tags": []
          },
          "execution_count": 0
        }
      ]
    },
    {
      "cell_type": "markdown",
      "metadata": {
        "id": "BYV4RM-uRStv"
      },
      "source": [
        "\n"
      ]
    },
    {
      "cell_type": "markdown",
      "metadata": {
        "id": "jLCTIRLeRStv"
      },
      "source": [
        "#### 💡 Explanation:\n",
        "- Hash of infinity is 10⁵ x π.\n",
        "- Interestingly, the hash of `float('-inf')` is \"-10⁵ x π\" in Python 3, whereas \"-10⁵ x e\" in Python 2.\n",
        "\n"
      ]
    },
    {
      "cell_type": "markdown",
      "metadata": {
        "id": "bReucSUwRStv"
      },
      "source": [
        "### ▶ Let's mangle\n",
        "1\\.\n"
      ]
    },
    {
      "cell_type": "code",
      "metadata": {
        "collapsed": true,
        "id": "fIzKRdMpRStv",
        "outputId": "08e1984b-98d2-48af-bc90-91d86e314f2e"
      },
      "source": [
        "class Yo(object):\n",
        "    def __init__(self):\n",
        "        self.__honey = True\n",
        "        self.bro = True\n"
      ],
      "execution_count": null,
      "outputs": [
        {
          "output_type": "execute_result",
          "data": {
            "text/plain": [
              ""
            ]
          },
          "metadata": {
            "tags": []
          },
          "execution_count": 0
        }
      ]
    },
    {
      "cell_type": "markdown",
      "metadata": {
        "id": "oAzfRG7LRStw"
      },
      "source": [
        "\n",
        "**Output:**\n"
      ]
    },
    {
      "cell_type": "code",
      "metadata": {
        "collapsed": true,
        "id": "qKdpgaC7RStw",
        "outputId": "91f8382a-61f7-40ea-f896-5de182374593"
      },
      "source": [
        "Yo().bro\n"
      ],
      "execution_count": null,
      "outputs": [
        {
          "output_type": "execute_result",
          "data": {
            "text/plain": [
              "True\n"
            ]
          },
          "metadata": {
            "tags": []
          },
          "execution_count": 0
        }
      ]
    },
    {
      "cell_type": "code",
      "metadata": {
        "collapsed": true,
        "id": "EJR77AQRRStw",
        "outputId": "9166df23-7d04-4f5a-8477-b30037b5d528"
      },
      "source": [
        "Yo().__honey\n"
      ],
      "execution_count": null,
      "outputs": [
        {
          "output_type": "execute_result",
          "data": {
            "text/plain": [
              "AttributeError: 'Yo' object has no attribute '__honey'\n"
            ]
          },
          "metadata": {
            "tags": []
          },
          "execution_count": 0
        }
      ]
    },
    {
      "cell_type": "code",
      "metadata": {
        "collapsed": true,
        "id": "JaJOfYIqRStw",
        "outputId": "bce446ba-6a2d-4e71-acf4-f3ab5c452387"
      },
      "source": [
        "Yo()._Yo__honey\n"
      ],
      "execution_count": null,
      "outputs": [
        {
          "output_type": "execute_result",
          "data": {
            "text/plain": [
              "True\n"
            ]
          },
          "metadata": {
            "tags": []
          },
          "execution_count": 0
        }
      ]
    },
    {
      "cell_type": "markdown",
      "metadata": {
        "id": "fWXpWrXbRStw"
      },
      "source": [
        "\n",
        "2\\.\n"
      ]
    },
    {
      "cell_type": "code",
      "metadata": {
        "collapsed": true,
        "id": "y1ctewW1RStx",
        "outputId": "cc68d0bd-cb0f-418d-9b26-0bfb92bddafe"
      },
      "source": [
        "class Yo(object):\n",
        "    def __init__(self):\n",
        "        # Let's try something symmetrical this time\n",
        "        self.__honey__ = True\n",
        "        self.bro = True\n"
      ],
      "execution_count": null,
      "outputs": [
        {
          "output_type": "execute_result",
          "data": {
            "text/plain": [
              ""
            ]
          },
          "metadata": {
            "tags": []
          },
          "execution_count": 0
        }
      ]
    },
    {
      "cell_type": "markdown",
      "metadata": {
        "id": "19KVpb1kRStx"
      },
      "source": [
        "\n",
        "**Output:**\n"
      ]
    },
    {
      "cell_type": "code",
      "metadata": {
        "collapsed": true,
        "id": "iLsDWWFHRStx",
        "outputId": "0d96111b-7b2d-4f9a-a0ab-19a43f397950"
      },
      "source": [
        "Yo().bro\n"
      ],
      "execution_count": null,
      "outputs": [
        {
          "output_type": "execute_result",
          "data": {
            "text/plain": [
              "True\n",
              "\n"
            ]
          },
          "metadata": {
            "tags": []
          },
          "execution_count": 0
        }
      ]
    },
    {
      "cell_type": "code",
      "metadata": {
        "collapsed": true,
        "id": "rgNjWH1SRStx",
        "outputId": "d759cb39-56c2-4de5-96b6-0798c01b808e"
      },
      "source": [
        "Yo()._Yo__honey__\n"
      ],
      "execution_count": null,
      "outputs": [
        {
          "output_type": "execute_result",
          "data": {
            "text/plain": [
              "Traceback (most recent call last):\n",
              "  File \"<stdin>\", line 1, in <module>\n",
              "AttributeError: 'Yo' object has no attribute '_Yo__honey__'\n"
            ]
          },
          "metadata": {
            "tags": []
          },
          "execution_count": 0
        }
      ]
    },
    {
      "cell_type": "markdown",
      "metadata": {
        "id": "2eEpKodcRSty"
      },
      "source": [
        "\n",
        "Why did `Yo()._Yo__honey` work?\n",
        "\n",
        "3\\.\n",
        "\n"
      ]
    },
    {
      "cell_type": "code",
      "metadata": {
        "collapsed": true,
        "id": "gPuJ7oUbRSty",
        "outputId": "d5e2f31e-4a24-4758-c7c8-0f94a8fb37f2"
      },
      "source": [
        "_A__variable = \"Some value\"\n",
        "\n",
        "class A(object):\n",
        "    def some_func(self):\n",
        "        return __variable # not initialized anywhere yet\n"
      ],
      "execution_count": null,
      "outputs": [
        {
          "output_type": "execute_result",
          "data": {
            "text/plain": [
              ""
            ]
          },
          "metadata": {
            "tags": []
          },
          "execution_count": 0
        }
      ]
    },
    {
      "cell_type": "markdown",
      "metadata": {
        "id": "ST6RKQvIRSty"
      },
      "source": [
        "\n",
        "**Output:**\n"
      ]
    },
    {
      "cell_type": "code",
      "metadata": {
        "collapsed": true,
        "id": "SuCrXJzURSty",
        "outputId": "23d9be25-825a-4062-a57c-ae341e448108"
      },
      "source": [
        "A().__variable\n"
      ],
      "execution_count": null,
      "outputs": [
        {
          "output_type": "execute_result",
          "data": {
            "text/plain": [
              "Traceback (most recent call last):\n",
              "  File \"<stdin>\", line 1, in <module>\n",
              "AttributeError: 'A' object has no attribute '__variable'\n",
              "\n"
            ]
          },
          "metadata": {
            "tags": []
          },
          "execution_count": 0
        }
      ]
    },
    {
      "cell_type": "code",
      "metadata": {
        "collapsed": true,
        "id": "jyFAPZl_RSty",
        "outputId": "e0dbc2f5-62c0-49bd-ba8d-496bd281c78f"
      },
      "source": [
        "A().some_func()\n"
      ],
      "execution_count": null,
      "outputs": [
        {
          "output_type": "execute_result",
          "data": {
            "text/plain": [
              "'Some value'\n"
            ]
          },
          "metadata": {
            "tags": []
          },
          "execution_count": 0
        }
      ]
    },
    {
      "cell_type": "markdown",
      "metadata": {
        "id": "IOafKzM2RStz"
      },
      "source": [
        "\n",
        "\n"
      ]
    },
    {
      "cell_type": "markdown",
      "metadata": {
        "id": "wGIMFIAwRStz"
      },
      "source": [
        "#### 💡 Explanation:\n",
        "\n",
        "* [Name Mangling](https://en.wikipedia.org/wiki/Name_mangling) is used to avoid naming collisions between different namespaces.\n",
        "* In Python, the interpreter modifies (mangles) the class member names starting with `__` (double underscore a.k.a \"dunder\") and not ending with more than one trailing underscore by adding `_NameOfTheClass` in front.\n",
        "* So, to access `__honey` attribute in the first snippet, we had to append `_Yo` to the front, which would prevent conflicts with the same name attribute defined in any other class.\n",
        "* But then why didn't it work in the second snippet? Because name mangling excludes the names ending with double underscores.\n",
        "* The third snippet was also a consequence of name mangling. The name `__variable` in the statement `return __variable` was mangled to `_A__variable`, which also happens to be the name of the variable we declared in the outer scope.\n",
        "* Also, if the mangled name is longer than 255 characters, truncation will happen.\n",
        "\n"
      ]
    },
    {
      "cell_type": "markdown",
      "metadata": {
        "id": "p5k1cbRzRStz"
      },
      "source": [
        "### ▶ Skipping lines?\n",
        "**Output:**\n"
      ]
    },
    {
      "cell_type": "code",
      "metadata": {
        "collapsed": true,
        "id": "zLVjEyvqRStz",
        "outputId": "82408c8e-acad-4151-aa30-e80a45e5b4f5"
      },
      "source": [
        "value = 11\n",
        "valuе = 32\n",
        "value\n"
      ],
      "execution_count": null,
      "outputs": [
        {
          "output_type": "execute_result",
          "data": {
            "text/plain": [
              "11\n"
            ]
          },
          "metadata": {
            "tags": []
          },
          "execution_count": 0
        }
      ]
    },
    {
      "cell_type": "markdown",
      "metadata": {
        "id": "LXAQmOYzRStz"
      },
      "source": [
        "\n",
        "Wut?\n",
        "\n",
        "**Note:** The easiest way to reproduce this is to simply copy the statements from the above snippet and paste them into your file/shell.\n",
        "\n"
      ]
    },
    {
      "cell_type": "markdown",
      "metadata": {
        "id": "ihKEQLpwRSt0"
      },
      "source": [
        "#### 💡 Explanation\n",
        "\n",
        "Some non-Western characters look identical to letters in the English alphabet but are considered distinct by the interpreter.\n",
        "\n"
      ]
    },
    {
      "cell_type": "code",
      "metadata": {
        "collapsed": true,
        "id": "PJ_jt8_TRSt0",
        "outputId": "898db80b-9788-426e-ce9d-c7605d7afd73"
      },
      "source": [
        "ord('е') # cyrillic 'e' (Ye)\n"
      ],
      "execution_count": null,
      "outputs": [
        {
          "output_type": "execute_result",
          "data": {
            "text/plain": [
              "1077\n"
            ]
          },
          "metadata": {
            "tags": []
          },
          "execution_count": 0
        }
      ]
    },
    {
      "cell_type": "code",
      "metadata": {
        "collapsed": true,
        "id": "vS5H-q2iRSt0",
        "outputId": "dc5c51ab-a77b-4f30-da38-d85af0c3e202"
      },
      "source": [
        "ord('e') # latin 'e', as used in English and typed using standard keyboard\n"
      ],
      "execution_count": null,
      "outputs": [
        {
          "output_type": "execute_result",
          "data": {
            "text/plain": [
              "101\n"
            ]
          },
          "metadata": {
            "tags": []
          },
          "execution_count": 0
        }
      ]
    },
    {
      "cell_type": "code",
      "metadata": {
        "collapsed": true,
        "id": "HmpJRnZ1RSt0",
        "outputId": "9f192810-a718-4829-b550-c00968011b76"
      },
      "source": [
        "'е' == 'e'\n"
      ],
      "execution_count": null,
      "outputs": [
        {
          "output_type": "execute_result",
          "data": {
            "text/plain": [
              "False\n",
              "\n"
            ]
          },
          "metadata": {
            "tags": []
          },
          "execution_count": 0
        }
      ]
    },
    {
      "cell_type": "code",
      "metadata": {
        "collapsed": true,
        "id": "u0-JDjP1RSt0",
        "outputId": "c69f8a43-96f5-440f-ed97-5441fcece5c2"
      },
      "source": [
        "value = 42 # latin e\n",
        "valuе = 23 # cyrillic 'e', Python 2.x interpreter would raise a `SyntaxError` here\n",
        "value\n"
      ],
      "execution_count": null,
      "outputs": [
        {
          "output_type": "execute_result",
          "data": {
            "text/plain": [
              "42\n"
            ]
          },
          "metadata": {
            "tags": []
          },
          "execution_count": 0
        }
      ]
    },
    {
      "cell_type": "markdown",
      "metadata": {
        "id": "TK96iubZRSt1"
      },
      "source": [
        "\n",
        "The built-in `ord()` function returns a character's Unicode [code point](https://en.wikipedia.org/wiki/Code_point), and different code positions of Cyrillic 'e' and Latin 'e' justify the behavior of the above example.\n",
        "\n"
      ]
    },
    {
      "cell_type": "markdown",
      "metadata": {
        "id": "4eAt_RHwRSt1"
      },
      "source": [
        "### ▶ Teleportation\n"
      ]
    },
    {
      "cell_type": "code",
      "metadata": {
        "collapsed": true,
        "id": "1081QaH2RSt1",
        "outputId": "37fbe3dc-b23d-44f3-9eee-4a780b1de26a"
      },
      "source": [
        "# `pip install numpy` first.\n",
        "import numpy as np\n",
        "\n",
        "def energy_send(x):\n",
        "    # Initializing a numpy array\n",
        "    np.array([float(x)])\n",
        "\n",
        "def energy_receive():\n",
        "    # Return an empty numpy array\n",
        "    return np.empty((), dtype=np.float).tolist()\n"
      ],
      "execution_count": null,
      "outputs": [
        {
          "output_type": "execute_result",
          "data": {
            "text/plain": [
              ""
            ]
          },
          "metadata": {
            "tags": []
          },
          "execution_count": 0
        }
      ]
    },
    {
      "cell_type": "markdown",
      "metadata": {
        "id": "8sS-SgW_RSt1"
      },
      "source": [
        "\n",
        "**Output:**\n"
      ]
    },
    {
      "cell_type": "code",
      "metadata": {
        "collapsed": true,
        "id": "z4JWw8U9RSt2",
        "outputId": "ffee4220-e769-4ff8-892f-f488534b8897"
      },
      "source": [
        "energy_send(123.456)\n",
        "energy_receive()\n"
      ],
      "execution_count": null,
      "outputs": [
        {
          "output_type": "execute_result",
          "data": {
            "text/plain": [
              "123.456\n"
            ]
          },
          "metadata": {
            "tags": []
          },
          "execution_count": 0
        }
      ]
    },
    {
      "cell_type": "markdown",
      "metadata": {
        "id": "wpJlILpjRSt2"
      },
      "source": [
        "\n",
        "Where's the Nobel Prize?\n",
        "\n"
      ]
    },
    {
      "cell_type": "markdown",
      "metadata": {
        "id": "Ti9GIVHfRSt2"
      },
      "source": [
        "#### 💡 Explanation:\n",
        "\n",
        "* Notice that the numpy array created in the `energy_send` function is not returned, so that memory space is free to reallocate.\n",
        "* `numpy.empty()` returns the next free memory slot without reinitializing it. This memory spot just happens to be the same one that was just freed (usually, but not always).\n",
        "\n"
      ]
    },
    {
      "cell_type": "markdown",
      "metadata": {
        "id": "DPvGsjLxRSt2"
      },
      "source": [
        "### ▶ Well, something is fishy...\n"
      ]
    },
    {
      "cell_type": "code",
      "metadata": {
        "collapsed": true,
        "id": "UACgKJjGRSt2",
        "outputId": "44c9ca8b-04ed-4c08-f6a2-742bbae6aad5"
      },
      "source": [
        "def square(x):\n",
        "    \"\"\"\n",
        "    A simple function to calculate the square of a number by addition.\n",
        "    \"\"\"\n",
        "    sum_so_far = 0\n",
        "    for counter in range(x):\n",
        "        sum_so_far = sum_so_far + x\n",
        "  return sum_so_far\n"
      ],
      "execution_count": null,
      "outputs": [
        {
          "output_type": "execute_result",
          "data": {
            "text/plain": [
              ""
            ]
          },
          "metadata": {
            "tags": []
          },
          "execution_count": 0
        }
      ]
    },
    {
      "cell_type": "markdown",
      "metadata": {
        "id": "higVM3aLRSt2"
      },
      "source": [
        "\n",
        "**Output (Python 2.x):**\n",
        "\n"
      ]
    },
    {
      "cell_type": "code",
      "metadata": {
        "collapsed": true,
        "id": "bx80y0ohRSt3",
        "outputId": "f6219703-5f09-4f4f-b9f0-9aba02f7dde2"
      },
      "source": [
        "square(10)\n"
      ],
      "execution_count": null,
      "outputs": [
        {
          "output_type": "execute_result",
          "data": {
            "text/plain": [
              "10\n"
            ]
          },
          "metadata": {
            "tags": []
          },
          "execution_count": 0
        }
      ]
    },
    {
      "cell_type": "markdown",
      "metadata": {
        "id": "HOaQ5CxXRSt3"
      },
      "source": [
        "\n",
        "Shouldn't that be 100?\n",
        "\n",
        "**Note:** If you're not able to reproduce this, try running the file [mixed_tabs_and_spaces.py](/mixed_tabs_and_spaces.py) via the shell.\n",
        "\n"
      ]
    },
    {
      "cell_type": "markdown",
      "metadata": {
        "id": "Gpvmm0eARSt3"
      },
      "source": [
        "#### 💡 Explanation\n",
        "\n",
        "* **Don't mix tabs and spaces!** The character just preceding return is a \"tab\",  and the code is indented by multiple of \"4 spaces\" elsewhere in the example.\n",
        "* This is how Python handles tabs:\n",
        "  \n",
        "  > First, tabs are replaced (from left to right) by one to eight spaces such that the total number of characters up to and including the replacement is a multiple of eight <...>\n",
        "* So the \"tab\" at the last line of `square` function is replaced with eight spaces, and it gets into the loop.\n",
        "* Python 3 is kind enough to throw an error for such cases automatically.\n",
        "\n",
        "    **Output (Python 3.x):**\n"
      ]
    },
    {
      "cell_type": "code",
      "metadata": {
        "collapsed": true,
        "id": "h-ASm3UiRSt3",
        "outputId": "d4bb8dcb-2335-4063-f3b8-8564e7bdd880"
      },
      "source": [
        "    TabError: inconsistent use of tabs and spaces in indentation\n"
      ],
      "execution_count": null,
      "outputs": [
        {
          "output_type": "execute_result",
          "data": {
            "text/plain": [
              ""
            ]
          },
          "metadata": {
            "tags": []
          },
          "execution_count": 0
        }
      ]
    },
    {
      "cell_type": "markdown",
      "metadata": {
        "id": "KB96tf4qRSt3"
      },
      "source": [
        "\n"
      ]
    },
    {
      "cell_type": "markdown",
      "metadata": {
        "id": "v5yTF2D-RSt4"
      },
      "source": [
        "### ▶ `+=` is faster\n"
      ]
    },
    {
      "cell_type": "code",
      "metadata": {
        "collapsed": true,
        "id": "VW7E5qO4RSt4",
        "outputId": "cf01eaa9-d46b-4909-c185-13fbc1639fe3"
      },
      "source": [
        "# using \"+\", three strings:\n",
        "timeit.timeit(\"s1 = s1 + s2 + s3\", setup=\"s1 = ' ' * 100000; s2 = ' ' * 100000; s3 = ' ' * 100000\", number=100)\n"
      ],
      "execution_count": null,
      "outputs": [
        {
          "output_type": "execute_result",
          "data": {
            "text/plain": [
              "0.25748300552368164\n",
              "# using \"+=\", three strings:\n"
            ]
          },
          "metadata": {
            "tags": []
          },
          "execution_count": 0
        }
      ]
    },
    {
      "cell_type": "code",
      "metadata": {
        "collapsed": true,
        "id": "qJ4anI6QRSt4",
        "outputId": "c84b52a8-f7e4-40a5-d633-abdd895f1038"
      },
      "source": [
        "timeit.timeit(\"s1 += s2 + s3\", setup=\"s1 = ' ' * 100000; s2 = ' ' * 100000; s3 = ' ' * 100000\", number=100)\n"
      ],
      "execution_count": null,
      "outputs": [
        {
          "output_type": "execute_result",
          "data": {
            "text/plain": [
              "0.012188911437988281\n"
            ]
          },
          "metadata": {
            "tags": []
          },
          "execution_count": 0
        }
      ]
    },
    {
      "cell_type": "markdown",
      "metadata": {
        "id": "p9_8yORSRSt4"
      },
      "source": [
        "\n"
      ]
    },
    {
      "cell_type": "markdown",
      "metadata": {
        "id": "XoJVBwQHRSt5"
      },
      "source": [
        "#### 💡 Explanation:\n",
        "+ `+=` is faster than `+` for concatenating more than two strings because the first string (example, `s1` for `s1 += s2 + s3`) is not destroyed while calculating the complete string.\n",
        "\n"
      ]
    },
    {
      "cell_type": "markdown",
      "metadata": {
        "id": "owH85TkmRSt5"
      },
      "source": [
        "### ▶ Let's make a giant string!\n"
      ]
    },
    {
      "cell_type": "code",
      "metadata": {
        "collapsed": true,
        "id": "e8yLiZ2lRSt5",
        "outputId": "a9967b9d-8881-40f1-f269-f32b46a7d214"
      },
      "source": [
        "def add_string_with_plus(iters):\n",
        "    s = \"\"\n",
        "    for i in range(iters):\n",
        "        s += \"xyz\"\n",
        "    assert len(s) == 3*iters\n",
        "\n",
        "def add_bytes_with_plus(iters):\n",
        "    s = b\"\"\n",
        "    for i in range(iters):\n",
        "        s += b\"xyz\"\n",
        "    assert len(s) == 3*iters\n",
        "\n",
        "def add_string_with_format(iters):\n",
        "    fs = \"{}\"*iters\n",
        "    s = fs.format(*([\"xyz\"]*iters))\n",
        "    assert len(s) == 3*iters\n",
        "\n",
        "def add_string_with_join(iters):\n",
        "    l = []\n",
        "    for i in range(iters):\n",
        "        l.append(\"xyz\")\n",
        "    s = \"\".join(l)\n",
        "    assert len(s) == 3*iters\n",
        "\n",
        "def convert_list_to_string(l, iters):\n",
        "    s = \"\".join(l)\n",
        "    assert len(s) == 3*iters\n"
      ],
      "execution_count": null,
      "outputs": [
        {
          "output_type": "execute_result",
          "data": {
            "text/plain": [
              ""
            ]
          },
          "metadata": {
            "tags": []
          },
          "execution_count": 0
        }
      ]
    },
    {
      "cell_type": "markdown",
      "metadata": {
        "id": "BV9z3xtERSt6"
      },
      "source": [
        "\n",
        "**Output:**\n",
        "\n"
      ]
    },
    {
      "cell_type": "code",
      "metadata": {
        "collapsed": true,
        "id": "FDhqE2rGRSt6",
        "outputId": "1c8c7f29-34ad-4d87-ebe8-46739de26554"
      },
      "source": [
        "# Executed in ipython shell using %timeit for better readability of results.\n",
        "# You can also use the timeit module in normal python shell/scriptm=, example usage below\n",
        "# timeit.timeit('add_string_with_plus(10000)', number=1000, globals=globals())\n",
        "\n",
        "NUM_ITERS = 1000\n",
        "%timeit -n1000 add_string_with_plus(NUM_ITERS)\n"
      ],
      "execution_count": null,
      "outputs": [
        {
          "output_type": "execute_result",
          "data": {
            "text/plain": [
              "124 µs ± 4.73 µs per loop (mean ± std. dev. of 7 runs, 100 loops each)\n"
            ]
          },
          "metadata": {
            "tags": []
          },
          "execution_count": 0
        }
      ]
    },
    {
      "cell_type": "code",
      "metadata": {
        "collapsed": true,
        "id": "-dcGE1wbRSt6",
        "outputId": "1a60860b-ec2f-4ffb-ea7b-ab9e7c8b7840"
      },
      "source": [
        "%timeit -n1000 add_bytes_with_plus(NUM_ITERS)\n"
      ],
      "execution_count": null,
      "outputs": [
        {
          "output_type": "execute_result",
          "data": {
            "text/plain": [
              "211 µs ± 10.5 µs per loop (mean ± std. dev. of 7 runs, 1000 loops each)\n"
            ]
          },
          "metadata": {
            "tags": []
          },
          "execution_count": 0
        }
      ]
    },
    {
      "cell_type": "code",
      "metadata": {
        "collapsed": true,
        "id": "KhqnPLZ-RSt6",
        "outputId": "8317e762-e671-4211-95c3-b323462f228e"
      },
      "source": [
        "%timeit -n1000 add_string_with_format(NUM_ITERS)\n"
      ],
      "execution_count": null,
      "outputs": [
        {
          "output_type": "execute_result",
          "data": {
            "text/plain": [
              "61 µs ± 2.18 µs per loop (mean ± std. dev. of 7 runs, 1000 loops each)\n"
            ]
          },
          "metadata": {
            "tags": []
          },
          "execution_count": 0
        }
      ]
    },
    {
      "cell_type": "code",
      "metadata": {
        "collapsed": true,
        "id": "DQRtHYgORSt7",
        "outputId": "a3a05063-a4df-437a-c6bc-c9070b637212"
      },
      "source": [
        "%timeit -n1000 add_string_with_join(NUM_ITERS)\n"
      ],
      "execution_count": null,
      "outputs": [
        {
          "output_type": "execute_result",
          "data": {
            "text/plain": [
              "117 µs ± 3.21 µs per loop (mean ± std. dev. of 7 runs, 1000 loops each)\n"
            ]
          },
          "metadata": {
            "tags": []
          },
          "execution_count": 0
        }
      ]
    },
    {
      "cell_type": "code",
      "metadata": {
        "collapsed": true,
        "id": "zZx41eTQRSt7",
        "outputId": "1ec99bb2-e26c-4a2d-f037-369777187e7c"
      },
      "source": [
        "l = [\"xyz\"]*NUM_ITERS\n",
        "%timeit -n1000 convert_list_to_string(l, NUM_ITERS)\n"
      ],
      "execution_count": null,
      "outputs": [
        {
          "output_type": "execute_result",
          "data": {
            "text/plain": [
              "10.1 µs ± 1.06 µs per loop (mean ± std. dev. of 7 runs, 1000 loops each)\n"
            ]
          },
          "metadata": {
            "tags": []
          },
          "execution_count": 0
        }
      ]
    },
    {
      "cell_type": "markdown",
      "metadata": {
        "id": "uJGNWDArRSt7"
      },
      "source": [
        "\n",
        "Let's increase the number of iterations by a factor of 10.\n",
        "\n"
      ]
    },
    {
      "cell_type": "code",
      "metadata": {
        "collapsed": true,
        "id": "gzlfOGhpRSt8",
        "outputId": "da48f1a1-52b3-480a-d16f-4c0b866837cb"
      },
      "source": [
        "NUM_ITERS = 10000\n",
        "%timeit -n1000 add_string_with_plus(NUM_ITERS) # Linear increase in execution time\n"
      ],
      "execution_count": null,
      "outputs": [
        {
          "output_type": "execute_result",
          "data": {
            "text/plain": [
              "1.26 ms ± 76.8 µs per loop (mean ± std. dev. of 7 runs, 1000 loops each)\n"
            ]
          },
          "metadata": {
            "tags": []
          },
          "execution_count": 0
        }
      ]
    },
    {
      "cell_type": "code",
      "metadata": {
        "collapsed": true,
        "id": "r13-If3lRSt9",
        "outputId": "0f971dc8-2ca3-4343-80e1-91262447aed9"
      },
      "source": [
        "%timeit -n1000 add_bytes_with_plus(NUM_ITERS) # Quadratic increase\n"
      ],
      "execution_count": null,
      "outputs": [
        {
          "output_type": "execute_result",
          "data": {
            "text/plain": [
              "6.82 ms ± 134 µs per loop (mean ± std. dev. of 7 runs, 1000 loops each)\n"
            ]
          },
          "metadata": {
            "tags": []
          },
          "execution_count": 0
        }
      ]
    },
    {
      "cell_type": "code",
      "metadata": {
        "collapsed": true,
        "id": "lnTWihweRSt9",
        "outputId": "dc4ffc01-b247-4814-e2e1-856e96358782"
      },
      "source": [
        "%timeit -n1000 add_string_with_format(NUM_ITERS) # Linear increase\n"
      ],
      "execution_count": null,
      "outputs": [
        {
          "output_type": "execute_result",
          "data": {
            "text/plain": [
              "645 µs ± 24.5 µs per loop (mean ± std. dev. of 7 runs, 1000 loops each)\n"
            ]
          },
          "metadata": {
            "tags": []
          },
          "execution_count": 0
        }
      ]
    },
    {
      "cell_type": "code",
      "metadata": {
        "collapsed": true,
        "id": "bNcQA3AuRSt-",
        "outputId": "4036f8c5-f27c-43bb-b358-bbaceef3e174"
      },
      "source": [
        "%timeit -n1000 add_string_with_join(NUM_ITERS) # Linear increase\n"
      ],
      "execution_count": null,
      "outputs": [
        {
          "output_type": "execute_result",
          "data": {
            "text/plain": [
              "1.17 ms ± 7.25 µs per loop (mean ± std. dev. of 7 runs, 1000 loops each)\n"
            ]
          },
          "metadata": {
            "tags": []
          },
          "execution_count": 0
        }
      ]
    },
    {
      "cell_type": "code",
      "metadata": {
        "collapsed": true,
        "id": "ZTCf-mxyRSt-",
        "outputId": "00f173eb-5a45-427e-e9f7-40b20e7019c8"
      },
      "source": [
        "l = [\"xyz\"]*NUM_ITERS\n",
        "%timeit -n1000 convert_list_to_string(l, NUM_ITERS) # Linear increase\n"
      ],
      "execution_count": null,
      "outputs": [
        {
          "output_type": "execute_result",
          "data": {
            "text/plain": [
              "86.3 µs ± 2 µs per loop (mean ± std. dev. of 7 runs, 1000 loops each)\n"
            ]
          },
          "metadata": {
            "tags": []
          },
          "execution_count": 0
        }
      ]
    },
    {
      "cell_type": "markdown",
      "metadata": {
        "id": "SAEws1dhRSt_"
      },
      "source": [
        "\n"
      ]
    },
    {
      "cell_type": "markdown",
      "metadata": {
        "id": "dh7f6UIFRSt_"
      },
      "source": [
        "#### 💡 Explanation\n",
        "- You can read more about [timeit](https://docs.python.org/3/library/timeit.html) or [%timeit](https://ipython.org/ipython-doc/dev/interactive/magics.html#magic-timeit) on these links. They are used to measure the execution time of code pieces.\n",
        "- Don't use `+` for generating long strings — In Python, `str` is immutable, so the left and right strings have to be copied into the new string for every pair of concatenations. If you concatenate four strings of length 10, you'll be copying (10+10) + ((10+10)+10) + (((10+10)+10)+10) = 90 characters instead of just 40 characters. Things get quadratically worse as the number and size of the string increases (justified with the execution times of `add_bytes_with_plus` function)\n",
        "- Therefore, it's advised to use `.format.` or `%` syntax (however, they are slightly slower than `+` for very short strings).\n",
        "- Or better, if already you've contents available in the form of an iterable object, then use `''.join(iterable_object)` which is much faster.\n",
        "- Unlike `add_bytes_with_plus` because of the `+=` optimizations discussed in the previous example, `add_string_with_plus` didn't show a quadratic increase in execution time. Had the statement been `s = s + \"x\" + \"y\" + \"z\"` instead of `s += \"xyz\"`, the increase would have been quadratic.\n"
      ]
    },
    {
      "cell_type": "code",
      "metadata": {
        "collapsed": true,
        "id": "qihAWdbLRSt_",
        "outputId": "5485feab-e26d-42ea-de7e-3c4acbaa5b86"
      },
      "source": [
        "  def add_string_with_plus(iters):\n",
        "      s = \"\"\n",
        "      for i in range(iters):\n",
        "          s = s + \"x\" + \"y\" + \"z\"\n",
        "      assert len(s) == 3*iters\n",
        "\n",
        "  %timeit -n100 add_string_with_plus(1000)\n"
      ],
      "execution_count": null,
      "outputs": [
        {
          "output_type": "execute_result",
          "data": {
            "text/plain": [
              "  388 µs ± 22.4 µs per loop (mean ± std. dev. of 7 runs, 1000 loops each)\n"
            ]
          },
          "metadata": {
            "tags": []
          },
          "execution_count": 0
        }
      ]
    },
    {
      "cell_type": "code",
      "metadata": {
        "collapsed": true,
        "id": "TNdRdoQHRSt_",
        "outputId": "0e364147-9bba-41db-a167-5a700afd4c5e"
      },
      "source": [
        "  %timeit -n100 add_string_with_plus(10000) # Quadratic increase in execution time\n"
      ],
      "execution_count": null,
      "outputs": [
        {
          "output_type": "execute_result",
          "data": {
            "text/plain": [
              "  9 ms ± 298 µs per loop (mean ± std. dev. of 7 runs, 100 loops each)\n"
            ]
          },
          "metadata": {
            "tags": []
          },
          "execution_count": 0
        }
      ]
    },
    {
      "cell_type": "markdown",
      "metadata": {
        "id": "k8jg5bZjRSuA"
      },
      "source": [
        "- So many ways to format and create a giant string are somewhat in contrast to the [Zen of Python](https://www.python.org/dev/peps/pep-0020/), according to which,\n",
        "  \n",
        "    > There should be one-- and preferably only one --obvious way to do it.\n",
        "\n"
      ]
    },
    {
      "cell_type": "markdown",
      "metadata": {
        "id": "7KCaMbCLRSuA"
      },
      "source": [
        "### ▶ Slowing down `dict` lookups *\n"
      ]
    },
    {
      "cell_type": "code",
      "metadata": {
        "collapsed": true,
        "id": "Si9i-D1sRSuA",
        "outputId": "9830b489-28a2-4a88-f9ca-93024a9e76af"
      },
      "source": [
        "some_dict = {str(i): 1 for i in range(1_000_000)}\n",
        "another_dict = {str(i): 1 for i in range(1_000_000)}\n"
      ],
      "execution_count": null,
      "outputs": [
        {
          "output_type": "execute_result",
          "data": {
            "text/plain": [
              ""
            ]
          },
          "metadata": {
            "tags": []
          },
          "execution_count": 0
        }
      ]
    },
    {
      "cell_type": "markdown",
      "metadata": {
        "id": "pXCrO12TRSuA"
      },
      "source": [
        "\n",
        "**Output:**\n"
      ]
    },
    {
      "cell_type": "code",
      "metadata": {
        "collapsed": true,
        "id": "yLdh1FCURSuA",
        "outputId": "0721b745-af8d-4e5b-e5c1-4b2b4e873cde"
      },
      "source": [
        "%timeit some_dict['5']\n"
      ],
      "execution_count": null,
      "outputs": [
        {
          "output_type": "execute_result",
          "data": {
            "text/plain": [
              "28.6 ns ± 0.115 ns per loop (mean ± std. dev. of 7 runs, 10000000 loops each)\n"
            ]
          },
          "metadata": {
            "tags": []
          },
          "execution_count": 0
        }
      ]
    },
    {
      "cell_type": "code",
      "metadata": {
        "collapsed": true,
        "id": "MNXHUa1DRSuB",
        "outputId": "7af342f0-8d5e-46c0-db7d-f493313f9832"
      },
      "source": [
        "some_dict[1] = 1\n",
        "%timeit some_dict['5']\n"
      ],
      "execution_count": null,
      "outputs": [
        {
          "output_type": "execute_result",
          "data": {
            "text/plain": [
              "37.2 ns ± 0.265 ns per loop (mean ± std. dev. of 7 runs, 10000000 loops each)\n",
              "\n"
            ]
          },
          "metadata": {
            "tags": []
          },
          "execution_count": 0
        }
      ]
    },
    {
      "cell_type": "code",
      "metadata": {
        "collapsed": true,
        "id": "FF1jtPZyRSuB",
        "outputId": "d77cdba8-1dde-49aa-9469-82602da891cd"
      },
      "source": [
        "%timeit another_dict['5']\n"
      ],
      "execution_count": null,
      "outputs": [
        {
          "output_type": "execute_result",
          "data": {
            "text/plain": [
              "28.5 ns ± 0.142 ns per loop (mean ± std. dev. of 7 runs, 10000000 loops each)\n"
            ]
          },
          "metadata": {
            "tags": []
          },
          "execution_count": 0
        }
      ]
    },
    {
      "cell_type": "code",
      "metadata": {
        "collapsed": true,
        "id": "0rfZoEilRSuB",
        "outputId": "0c0c646d-a4a7-4f52-b847-078c7e7c9348"
      },
      "source": [
        "another_dict[1]  # Trying to access a key that doesn't exist\n"
      ],
      "execution_count": null,
      "outputs": [
        {
          "output_type": "execute_result",
          "data": {
            "text/plain": [
              "Traceback (most recent call last):\n",
              "  File \"<stdin>\", line 1, in <module>\n",
              "KeyError: 1\n"
            ]
          },
          "metadata": {
            "tags": []
          },
          "execution_count": 0
        }
      ]
    },
    {
      "cell_type": "code",
      "metadata": {
        "collapsed": true,
        "id": "PIWSyZS4RSuB",
        "outputId": "b97b2294-e103-483b-e066-21371f595541"
      },
      "source": [
        "%timeit another_dict['5']\n"
      ],
      "execution_count": null,
      "outputs": [
        {
          "output_type": "execute_result",
          "data": {
            "text/plain": [
              "38.5 ns ± 0.0913 ns per loop (mean ± std. dev. of 7 runs, 10000000 loops each)\n"
            ]
          },
          "metadata": {
            "tags": []
          },
          "execution_count": 0
        }
      ]
    },
    {
      "cell_type": "markdown",
      "metadata": {
        "id": "iRO5yxCCRSuD"
      },
      "source": [
        "Why are same lookups becoming slower?\n",
        "\n"
      ]
    },
    {
      "cell_type": "markdown",
      "metadata": {
        "id": "l1Jkmq9ERSuD"
      },
      "source": [
        "#### 💡 Explanation:\n",
        "+ CPython has a generic dictionary lookup function that handles all types of keys (`str`, `int`, any object ...), and a specialized one for the common case of dictionaries composed of `str`-only keys.\n",
        "+ The specialized function (named `lookdict_unicode` in CPython's [source](https://github.com/python/cpython/blob/522691c46e2ae51faaad5bbbce7d959dd61770df/Objects/dictobject.c#L841)) knows all existing keys (including the looked-up key) are strings, and uses the faster & simpler string comparison to compare keys, instead of calling the `__eq__` method.\n",
        "+ The first time a `dict` instance is accessed with a non-`str` key, it's modified so future lookups use the generic function.\n",
        "+ This process is not reversible for the particular `dict` instance, and the key doesn't even have to exist in the dictionary. That's why attempting a failed lookup has the same effect.\n",
        "\n",
        "\n"
      ]
    },
    {
      "cell_type": "markdown",
      "metadata": {
        "id": "8YZ7wENNRSuE"
      },
      "source": [
        "### ▶ Bloating instance `dict`s *\n"
      ]
    },
    {
      "cell_type": "code",
      "metadata": {
        "collapsed": true,
        "id": "OaP_ZZnzRSuE",
        "outputId": "0a284686-3b57-4d75-d8ca-b2504ee65bbe"
      },
      "source": [
        "import sys\n",
        "\n",
        "class SomeClass:\n",
        "    def __init__(self):\n",
        "        self.some_attr1 = 1\n",
        "        self.some_attr2 = 2\n",
        "        self.some_attr3 = 3\n",
        "        self.some_attr4 = 4\n",
        "\n",
        "\n",
        "def dict_size(o):\n",
        "    return sys.getsizeof(o.__dict__)\n",
        "\n"
      ],
      "execution_count": null,
      "outputs": [
        {
          "output_type": "execute_result",
          "data": {
            "text/plain": [
              ""
            ]
          },
          "metadata": {
            "tags": []
          },
          "execution_count": 0
        }
      ]
    },
    {
      "cell_type": "markdown",
      "metadata": {
        "id": "Tam-LlpRRSuF"
      },
      "source": [
        "\n",
        "**Output:** (Python 3.8, other Python 3 versions may vary a little)\n"
      ]
    },
    {
      "cell_type": "code",
      "metadata": {
        "collapsed": true,
        "id": "H6hRQ4T7RSuF",
        "outputId": "fdbb6fc8-5711-4db4-aeb1-1b706e8aaabe"
      },
      "source": [
        "o1 = SomeClass()\n",
        "o2 = SomeClass()\n",
        "dict_size(o1)\n"
      ],
      "execution_count": null,
      "outputs": [
        {
          "output_type": "execute_result",
          "data": {
            "text/plain": [
              "104\n"
            ]
          },
          "metadata": {
            "tags": []
          },
          "execution_count": 0
        }
      ]
    },
    {
      "cell_type": "code",
      "metadata": {
        "collapsed": true,
        "id": "3VUA5qE2RSuG",
        "outputId": "d674005f-9873-4eeb-caa4-cf51e33172dc"
      },
      "source": [
        "dict_size(o2)\n"
      ],
      "execution_count": null,
      "outputs": [
        {
          "output_type": "execute_result",
          "data": {
            "text/plain": [
              "104\n"
            ]
          },
          "metadata": {
            "tags": []
          },
          "execution_count": 0
        }
      ]
    },
    {
      "cell_type": "code",
      "metadata": {
        "collapsed": true,
        "id": "U60zebKRRSuG",
        "outputId": "ce7e7658-fe95-4a4e-a50c-af179396f3cc"
      },
      "source": [
        "del o1.some_attr1\n",
        "o3 = SomeClass()\n",
        "dict_size(o3)\n"
      ],
      "execution_count": null,
      "outputs": [
        {
          "output_type": "execute_result",
          "data": {
            "text/plain": [
              "232\n"
            ]
          },
          "metadata": {
            "tags": []
          },
          "execution_count": 0
        }
      ]
    },
    {
      "cell_type": "code",
      "metadata": {
        "collapsed": true,
        "id": "ECYVSJ15RSuG",
        "outputId": "12ada292-82d0-4ccc-fb81-f4568693e5f9"
      },
      "source": [
        "dict_size(o1)\n"
      ],
      "execution_count": null,
      "outputs": [
        {
          "output_type": "execute_result",
          "data": {
            "text/plain": [
              "232\n"
            ]
          },
          "metadata": {
            "tags": []
          },
          "execution_count": 0
        }
      ]
    },
    {
      "cell_type": "markdown",
      "metadata": {
        "id": "Y_0jKy5WRSuH"
      },
      "source": [
        "\n",
        "Let's try again... In a new interpreter:\n",
        "\n"
      ]
    },
    {
      "cell_type": "code",
      "metadata": {
        "collapsed": true,
        "id": "slboSSGDRSuJ",
        "outputId": "c66bcaab-8d05-4e13-b239-2c4b2c1c22e8"
      },
      "source": [
        "o1 = SomeClass()\n",
        "o2 = SomeClass()\n",
        "dict_size(o1)\n"
      ],
      "execution_count": null,
      "outputs": [
        {
          "output_type": "execute_result",
          "data": {
            "text/plain": [
              "104  # as expected\n"
            ]
          },
          "metadata": {
            "tags": []
          },
          "execution_count": 0
        }
      ]
    },
    {
      "cell_type": "code",
      "metadata": {
        "collapsed": true,
        "id": "xdbp5jBcRSuK",
        "outputId": "53d09371-dcdc-4a3a-abe2-b7503c7d7f01"
      },
      "source": [
        "o1.some_attr5 = 5\n",
        "o1.some_attr6 = 6\n",
        "dict_size(o1)\n"
      ],
      "execution_count": null,
      "outputs": [
        {
          "output_type": "execute_result",
          "data": {
            "text/plain": [
              "360\n"
            ]
          },
          "metadata": {
            "tags": []
          },
          "execution_count": 0
        }
      ]
    },
    {
      "cell_type": "code",
      "metadata": {
        "collapsed": true,
        "id": "ZCj6V1R5RSuK",
        "outputId": "2a91c536-b12c-43be-b871-352f09cc53f4"
      },
      "source": [
        "dict_size(o2)\n"
      ],
      "execution_count": null,
      "outputs": [
        {
          "output_type": "execute_result",
          "data": {
            "text/plain": [
              "272\n"
            ]
          },
          "metadata": {
            "tags": []
          },
          "execution_count": 0
        }
      ]
    },
    {
      "cell_type": "code",
      "metadata": {
        "collapsed": true,
        "id": "rFZPbV_sRSuK",
        "outputId": "b31299ef-c96d-44a7-f579-70f3acaec512"
      },
      "source": [
        "o3 = SomeClass()\n",
        "dict_size(o3)\n"
      ],
      "execution_count": null,
      "outputs": [
        {
          "output_type": "execute_result",
          "data": {
            "text/plain": [
              "232\n"
            ]
          },
          "metadata": {
            "tags": []
          },
          "execution_count": 0
        }
      ]
    },
    {
      "cell_type": "markdown",
      "metadata": {
        "id": "0KqYlojdRSuL"
      },
      "source": [
        "\n",
        "What makes those dictionaries become bloated? And why are newly created objects bloated as well?\n",
        "\n"
      ]
    },
    {
      "cell_type": "markdown",
      "metadata": {
        "id": "Vcbh6gy-RSuL"
      },
      "source": [
        "#### 💡 Explanation:\n",
        "+ CPython is able to reuse the same \"keys\" object in multiple dictionaries. This was added in [PEP 412](https://www.python.org/dev/peps/pep-0412/) with the motivation to reduce memory usage, specifically in dictionaries of instances - where keys (instance attributes) tend to be common to all instances.\n",
        "+ This optimization is entirely seamless for instance dictionaries, but it is disabled if certain assumptions are broken.\n",
        "+ Key-sharing dictionaries do not support deletion; if an instance attribute is deleted, the dictionary is \"unshared\", and key-sharing is disabled for all future instances of the same class.\n",
        "+ Additionaly, if the dictionary keys have be resized (because new keys are inserted), they are kept shared *only* if they are used by a exactly single dictionary (this allows adding many attributes in the `__init__` of the very first created instance, without causing an \"unshare\"). If multiple instances exist when a resize happens, key-sharing is disabled for all future instances of the same class: CPython can't tell if your instances are using the same set of attributes anymore, and decides to bail out on attempting to share their keys.\n",
        "+ A small tip, if you aim to lower your program's memory footprint: don't delete instance attributes, and make sure to initialize all attributes in your `__init__`!\n",
        "\n",
        "\n"
      ]
    },
    {
      "cell_type": "markdown",
      "metadata": {
        "id": "xq7P91y6RSuL"
      },
      "source": [
        "### ▶ Minor Ones *\n",
        "* `join()` is a string operation instead of list operation. (sort of counter-intuitive at first usage)\n",
        "\n",
        "  **💡 Explanation:** If `join()` is a method on a string, then it can operate on any iterable (list, tuple, iterators). If it were a method on a list, it'd have to be implemented separately by every type. Also, it doesn't make much sense to put a string-specific method on a generic `list` object API.\n",
        "  \n",
        "* Few weird looking but semantically correct statements:\n",
        "  + `[] = ()` is a semantically correct statement (unpacking an empty `tuple` into an empty `list`)\n",
        "  + `'a'[0][0][0][0][0]` is also a semantically correct statement as strings are [sequences](https://docs.python.org/3/glossary.html#term-sequence)(iterables supporting element access using integer indices) in Python.\n",
        "  + `3 --0-- 5 == 8` and `--5 == 5` are both semantically correct statements and evaluate to `True`.\n",
        "\n",
        "* Given that `a` is a number, `++a` and `--a` are both valid Python statements but don't behave the same way as compared with similar statements in languages like C, C++, or Java.\n",
        "  ```py\n",
        "  >>> a = 5\n",
        "  >>> a\n",
        "  5\n",
        "  >>> ++a\n",
        "  5\n",
        "  >>> --a\n",
        "  5\n",
        "  ```\n",
        "\n",
        "  **💡 Explanation:**\n",
        "  + There is no `++` operator in Python grammar. It is actually two `+` operators.\n",
        "  + `++a` parses as `+(+a)` which translates to `a`. Similarly, the output of the statement `--a` can be justified.\n",
        "  + This StackOverflow [thread](https://stackoverflow.com/questions/3654830/why-are-there-no-and-operators-in-python) discusses the rationale behind the absence of increment and decrement operators in Python.\n",
        "\n",
        "* You must be aware of the Walrus operator in Python. But have you ever heard about *the space-invader operator*?\n",
        "  ```py\n",
        "  >>> a = 42\n",
        "  >>> a -=- 1\n",
        "  >>> a\n",
        "  43\n",
        "  ```\n",
        "  It is used as an alternative incrementation operator, together with another one\n",
        "  ```py\n",
        "  >>> a +=+ 1\n",
        "  >>> a\n",
        "  >>> 44\n",
        "  ```\n",
        "  **💡 Explanation:** This prank comes from [Raymond Hettinger's tweet](https://twitter.com/raymondh/status/1131103570856632321?lang=en). The space invader operator is actually just a malformatted `a -= (-1)`. Which is equivalent to `a = a - (- 1)`. Similar for the `a += (+ 1)` case.\n",
        "  \n",
        "* Python has an undocumented [converse implication](https://en.wikipedia.org/wiki/Converse_implication) operator. \n",
        "     \n",
        "     ```py\n",
        "     >>> False ** False == True\n",
        "     True\n",
        "     >>> False ** True == False\n",
        "     True\n",
        "     >>> True ** False == True\n",
        "     True\n",
        "     >>> True ** True == True\n",
        "     True\n",
        "     ```\n",
        "\n",
        "     **💡 Explanation:** If you replace `False` and `True` by 0 and 1 and do the maths, the truth table is equivalent to a converse implication operator. ([Source](https://github.com/cosmologicon/pywat/blob/master/explanation.md#the-undocumented-converse-implication-operator))\n",
        "     \n",
        "* Since we are talking operators, there's also `@` operator for matrix multiplication (don't worry, this time it's for real).\n",
        "\n",
        "     ```py\n",
        "     >>> import numpy as np\n",
        "     >>> np.array([2, 2, 2]) @ np.array([7, 8, 8])\n",
        "     46\n",
        "     ```\n",
        "\n",
        "     **💡 Explanation:** The `@` operator was added in Python 3.5 keeping the scientific community in mind. Any object can overload `__matmul__` magic method to define behavior for this operator.\n",
        "\n",
        "* From Python 3.8 onwards you can use a typical f-string syntax like `f'{some_var=}` for quick debugging. Example,\n",
        "    ```py\n",
        "    >>> some_string = \"wtfpython\"\n",
        "    >>> f'{some_string=}'\n",
        "    \"some_string='wtfpython'\"\n",
        "    ``` \n",
        "\n",
        "* Python uses 2 bytes for local variable storage in functions. In theory, this means that only 65536 variables can be defined in a function. However, python has a handy solution built in that can be used to store more than 2^16 variable names. The following code demonstrates what happens in the stack when more than 65536 local variables are defined (Warning: This code prints around 2^18 lines of text, so be prepared!):\n",
        "     \n",
        "     ```py\n",
        "     import dis\n",
        "    exec(\"\"\"\n",
        "    def f():\n",
        "        \"\"\" + \"\"\"\n",
        "        \"\"\".join([\"X\" + str(x) + \"=\" + str(x) for x in range(65539)]))\n",
        "\n",
        "    f()\n",
        "\n",
        "    print(dis.dis(f))\n",
        "    ```\n",
        "     \n",
        "* Multiple Python threads won't run your *Python code* concurrently (yes, you heard it right!). It may seem intuitive to spawn several threads and let them execute your Python code concurrently, but, because of the [Global Interpreter Lock](https://wiki.python.org/moin/GlobalInterpreterLock) in Python, all you're doing is making your threads execute on the same core turn by turn. Python threads are good for IO-bound tasks, but to achieve actual parallelization in Python for CPU-bound tasks, you might want to use the Python [multiprocessing](https://docs.python.org/3/library/multiprocessing.html) module.\n",
        "\n",
        "* Sometimes, the `print` method might not print values immediately. For example,\n",
        "\n",
        "     ```py\n",
        "     # File some_file.py\n",
        "     import time\n",
        "     \n",
        "     print(\"wtfpython\", end=\"_\")\n",
        "     time.sleep(3)\n",
        "     ```\n",
        "\n",
        "     This will print the `wtfpython` after 3 seconds due to the `end` argument because the output buffer is flushed either after encountering `\\n` or when the program finishes execution. We can force the buffer to flush by passing `flush=True` argument.\n",
        "\n",
        "* List slicing with out of the bounds indices throws no errors\n",
        "  ```py\n",
        "  >>> some_list = [1, 2, 3, 4, 5]\n",
        "  >>> some_list[111:]\n",
        "  []\n",
        "  ```\n",
        "\n",
        "* Slicing an iterable not always creates a new object. For example,\n",
        "    ```py\n",
        "    >>> some_str = \"wtfpython\"\n",
        "    >>> some_list = ['w', 't', 'f', 'p', 'y', 't', 'h', 'o', 'n']\n",
        "    >>> some_list is some_list[:] # False expected because a new object is created.\n",
        "    False\n",
        "    >>> some_str is some_str[:] # True because strings are immutable, so making a new object is of not much use.\n",
        "    True\n",
        "    ```\n",
        "\n",
        "* `int('١٢٣٤٥٦٧٨٩')` returns `123456789` in Python 3. In Python, Decimal characters include digit characters, and all characters that can be used to form decimal-radix numbers, e.g. U+0660, ARABIC-INDIC DIGIT ZERO. Here's an [interesting story](https://chris.improbable.org/2014/8/25/adventures-in-unicode-digits/) related to this behavior of Python.\n",
        "\n",
        "* You can separate numeric literals with underscores (for better readability) from Python 3 onwards.\n",
        "\n",
        "     ```py\n",
        "     >>> six_million = 6_000_000\n",
        "     >>> six_million\n",
        "     6000000\n",
        "     >>> hex_address = 0xF00D_CAFE\n",
        "     >>> hex_address\n",
        "     4027435774\n",
        "     ```\n",
        "\n",
        "* `'abc'.count('') == 4`. Here's an approximate implementation of `count` method, which would make the things more clear\n",
        "  ```py\n",
        "  def count(s, sub):\n",
        "      result = 0\n",
        "      for i in range(len(s) + 1 - len(sub)):\n",
        "          result += (s[i:i + len(sub)] == sub)\n",
        "      return result\n",
        "  ```\n",
        "  The behavior is due to the matching of empty substring(`''`) with slices of length 0 in the original string.\n",
        "\n"
      ]
    },
    {
      "cell_type": "markdown",
      "metadata": {
        "id": "-FobUdQ3RSuL"
      },
      "source": [
        "### ▶ First things first! *\n",
        "For some reason, the Python 3.8's \"Walrus\" operator (`:=`) has become quite popular. Let's check it out,\n",
        "\n",
        "1\\.\n",
        "\n"
      ]
    },
    {
      "cell_type": "markdown",
      "metadata": {
        "id": "hH_1yxm4RSuM"
      },
      "source": [
        "```py\n",
        "# Python version 3.8+\n",
        "\n",
        ">>> a = \"wtf_walrus\"\n",
        ">>> a\n",
        "```\n",
        "```py\n",
        "'wtf_walrus'\n",
        "\n",
        "```\n"
      ]
    },
    {
      "cell_type": "markdown",
      "metadata": {
        "id": "gCqnqGT2RSuM"
      },
      "source": [
        "```py\n",
        ">>> a := \"wtf_walrus\"\n",
        "```\n",
        "```py\n",
        "File \"<stdin>\", line 1\n",
        "    a := \"wtf_walrus\"\n",
        "      ^\n",
        "SyntaxError: invalid syntax\n",
        "\n",
        "```\n"
      ]
    },
    {
      "cell_type": "markdown",
      "metadata": {
        "id": "2Rg_DT19RSuM"
      },
      "source": [
        "```py\n",
        ">>> (a := \"wtf_walrus\") # This works though\n",
        "```\n",
        "```py\n",
        "'wtf_walrus'\n",
        "```\n"
      ]
    },
    {
      "cell_type": "markdown",
      "metadata": {
        "id": "NzxQ0x70RSuM"
      },
      "source": [
        "```py\n",
        ">>> a\n",
        "```\n",
        "```py\n",
        "'wtf_walrus'\n",
        "```\n"
      ]
    },
    {
      "cell_type": "markdown",
      "metadata": {
        "id": "SSiromb8RSuM"
      },
      "source": [
        "\n",
        "2 \\.\n",
        "\n"
      ]
    },
    {
      "cell_type": "markdown",
      "metadata": {
        "id": "s4wbv3RBRSuM"
      },
      "source": [
        "```py\n",
        "# Python version 3.8+\n",
        "\n",
        ">>> a = 6, 9\n",
        ">>> a\n",
        "```\n",
        "```py\n",
        "(6, 9)\n",
        "\n",
        "```\n"
      ]
    },
    {
      "cell_type": "markdown",
      "metadata": {
        "id": "LP6SwhYwRSuN"
      },
      "source": [
        "```py\n",
        ">>> (a := 6, 9)\n",
        "```\n",
        "```py\n",
        "(6, 9)\n",
        "```\n"
      ]
    },
    {
      "cell_type": "markdown",
      "metadata": {
        "id": "nQDbeHCKRSuN"
      },
      "source": [
        "```py\n",
        ">>> a\n",
        "```\n",
        "```py\n",
        "6\n",
        "\n",
        "```\n"
      ]
    },
    {
      "cell_type": "markdown",
      "metadata": {
        "id": "GBhd8L22RSuO"
      },
      "source": [
        "```py\n",
        ">>> a, b = 6, 9 # Typical unpacking\n",
        ">>> a, b\n",
        "```\n",
        "```py\n",
        "(6, 9)\n",
        "```\n"
      ]
    },
    {
      "cell_type": "markdown",
      "metadata": {
        "id": "MCDkzURbRSuO"
      },
      "source": [
        "```py\n",
        ">>> (a, b = 16, 19) # Oops\n",
        "```\n",
        "```py\n",
        "  File \"<stdin>\", line 1\n",
        "    (a, b = 6, 9)\n",
        "          ^\n",
        "SyntaxError: invalid syntax\n",
        "\n",
        "```\n"
      ]
    },
    {
      "cell_type": "markdown",
      "metadata": {
        "id": "a8C_Ab5vRSuO"
      },
      "source": [
        "```py\n",
        ">>> (a, b := 16, 19) # This prints out a weird 3-tuple\n",
        "```\n",
        "```py\n",
        "(6, 16, 19)\n",
        "\n",
        "```\n"
      ]
    },
    {
      "cell_type": "markdown",
      "metadata": {
        "id": "57uxikzdRSuO"
      },
      "source": [
        "```py\n",
        ">>> a # a is still unchanged?\n",
        "```\n",
        "```py\n",
        "6\n",
        "\n",
        "```\n"
      ]
    },
    {
      "cell_type": "markdown",
      "metadata": {
        "id": "sHtbAC7QRSuO"
      },
      "source": [
        "```py\n",
        ">>> b\n",
        "```\n",
        "```py\n",
        "16\n",
        "```\n"
      ]
    },
    {
      "cell_type": "markdown",
      "metadata": {
        "id": "HvuBBNO-RSuP"
      },
      "source": [
        "\n",
        "\n",
        "\n"
      ]
    },
    {
      "cell_type": "markdown",
      "metadata": {
        "id": "-Hvu7q5YRSuP"
      },
      "source": [
        "#### 💡 Explanation\n",
        "\n",
        "**Quick walrus operator refresher**\n",
        "\n",
        "The Walrus operator (`:=`) was introduced in Python 3.8, it can be useful in situations where you'd want to assign values to variables within an expression.\n",
        "\n"
      ]
    },
    {
      "cell_type": "markdown",
      "metadata": {
        "id": "DfFcgB68RSuP"
      },
      "source": [
        "```py\n",
        "def some_func():\n",
        "        # Assume some expensive computation here\n",
        "        # time.sleep(1000)\n",
        "        return 5\n",
        "\n",
        "# So instead of,\n",
        "if some_func():\n",
        "        print(some_func()) # Which is bad practice since computation is happening twice\n",
        "\n",
        "# or\n",
        "a = some_func()\n",
        "if a:\n",
        "    print(a)\n",
        "\n",
        "# Now you can concisely write\n",
        "if a := some_func():\n",
        "        print(a)\n",
        "```\n",
        "```py\n",
        "```\n"
      ]
    },
    {
      "cell_type": "markdown",
      "metadata": {
        "id": "b1f8SyIsRSuP"
      },
      "source": [
        "\n",
        "**Output (> 3.8):**\n",
        "\n"
      ]
    },
    {
      "cell_type": "markdown",
      "metadata": {
        "id": "DId_yYkxRSuQ"
      },
      "source": [
        "```py\n",
        "5\n",
        "5\n",
        "5\n",
        "```\n",
        "```py\n",
        "```\n"
      ]
    },
    {
      "cell_type": "markdown",
      "metadata": {
        "id": "e-5KwrL4RSuQ"
      },
      "source": [
        "\n",
        "This saved one line of code, and implicitly prevented invoking `some_func` twice.\n",
        "\n",
        "- Unparenthesized \"assignment expression\" (use of walrus operator), is restricted at the top level, hence the `SyntaxError` in the `a := \"wtf_walrus\"` statement of the first snippet. Parenthesizing it worked as expected and assigned `a`.  \n",
        "\n",
        "- As usual, parenthesizing of an expression containing `=` operator is not allowed. Hence the syntax error in `(a, b = 6, 9)`. \n",
        "\n",
        "- The syntax of the Walrus operator is of the form `NAME:= expr`, where `NAME` is a valid identifier, and `expr` is a valid expression. Hence, iterable packing and unpacking are not supported which means, \n",
        "\n",
        "  - `(a := 6, 9)` is equivalent to `((a := 6), 9)` and ultimately `(a, 9) ` (where `a`'s value is 6')\n",
        "\n"
      ]
    },
    {
      "cell_type": "markdown",
      "metadata": {
        "id": "pYesDUcbRSuQ"
      },
      "source": [
        "```py\n",
        "    >>> (a := 6, 9) == ((a := 6), 9)\n",
        "```\n",
        "```py\n",
        "    True\n",
        "```\n"
      ]
    },
    {
      "cell_type": "markdown",
      "metadata": {
        "id": "i3QD18_1RSuQ"
      },
      "source": [
        "```py\n",
        "    >>> x = (a := 696, 9)\n",
        "    >>> x\n",
        "```\n",
        "```py\n",
        "    (696, 9)\n",
        "```\n"
      ]
    },
    {
      "cell_type": "markdown",
      "metadata": {
        "id": "slWjr3GSRSuQ"
      },
      "source": [
        "```py\n",
        "    >>> x[0] is a # Both reference same memory location\n",
        "```\n",
        "```py\n",
        "    True\n",
        "```\n"
      ]
    },
    {
      "cell_type": "markdown",
      "metadata": {
        "id": "fuk-TORxRSuQ"
      },
      "source": [
        "\n",
        "  - Similarly, `(a, b := 16, 19)` is equivalent to `(a, (b := 16), 19)` which is nothing but a 3-tuple. \n",
        "\n"
      ]
    },
    {
      "cell_type": "markdown",
      "metadata": {
        "id": "09nZCxRkRSuQ"
      },
      "source": [
        "### ▶ Stubborn `del` operation\n"
      ]
    },
    {
      "cell_type": "markdown",
      "metadata": {
        "id": "B2Ls50xFRSuR"
      },
      "source": [
        "```py\n",
        "class SomeClass:\n",
        "    def __del__(self):\n",
        "        print(\"Deleted!\")\n",
        "```\n",
        "```py\n",
        "```\n"
      ]
    },
    {
      "cell_type": "markdown",
      "metadata": {
        "id": "z5zZIEeFRSuR"
      },
      "source": [
        "\n",
        "**Output:**\n",
        "1\\.\n"
      ]
    },
    {
      "cell_type": "markdown",
      "metadata": {
        "id": "mjXI8D5bRSuR"
      },
      "source": [
        "```py\n",
        ">>> x = SomeClass()\n",
        ">>> y = x\n",
        ">>> del x # this should print \"Deleted!\"\n",
        ">>> del y\n",
        "```\n",
        "```py\n",
        "Deleted!\n",
        "```\n"
      ]
    },
    {
      "cell_type": "markdown",
      "metadata": {
        "id": "JUp6UkoRRSuR"
      },
      "source": [
        "\n",
        "Phew, deleted at last. You might have guessed what saved `__del__` from being called in our first attempt to delete `x`. Let's add more twists to the example.\n",
        "\n",
        "2\\.\n"
      ]
    },
    {
      "cell_type": "markdown",
      "metadata": {
        "id": "3sut6UwORSuR"
      },
      "source": [
        "```py\n",
        ">>> x = SomeClass()\n",
        ">>> y = x\n",
        ">>> del x\n",
        ">>> y # check if y exists\n",
        "```\n",
        "```py\n",
        "<__main__.SomeClass instance at 0x7f98a1a67fc8>\n",
        "```\n"
      ]
    },
    {
      "cell_type": "markdown",
      "metadata": {
        "id": "4RgFvPU5RSuR"
      },
      "source": [
        "```py\n",
        ">>> del y # Like previously, this should print \"Deleted!\"\n",
        ">>> globals() # oh, it didn't. Let's check all our global variables and confirm\n",
        "```\n",
        "```py\n",
        "Deleted!\n",
        "{'__builtins__': <module '__builtin__' (built-in)>, 'SomeClass': <class __main__.SomeClass at 0x7f98a1a5f668>, '__package__': None, '__name__': '__main__', '__doc__': None}\n",
        "```\n"
      ]
    },
    {
      "cell_type": "markdown",
      "metadata": {
        "id": "JZ30uEY4RSuS"
      },
      "source": [
        "\n",
        "Okay, now it's deleted :confused:\n",
        "\n"
      ]
    },
    {
      "cell_type": "markdown",
      "metadata": {
        "id": "FlS31S9QRSuS"
      },
      "source": [
        "#### 💡 Explanation:\n",
        "+ `del x` doesn’t directly call `x.__del__()`.\n",
        "+ When `del x` is encountered, Python deletes the name `x` from current scope and decrements by 1 the reference count of the object `x` referenced. `__del__()` is called only when the object's reference count reaches zero.\n",
        "+ In the second output snippet, `__del__()` was not called because the previous statement (`>>> y`) in the interactive interpreter created another reference to the same object (specifically, the `_` magic variable which references the result value of the last non `None` expression on the REPL), thus preventing the reference count from reaching zero when `del y` was encountered.\n",
        "+ Calling `globals` (or really, executing anything that will have a non `None` result) caused `_` to reference the new result, dropping the existing reference. Now the reference count reached 0 and we can see \"Deleted!\" being printed (finally!).\n",
        "\n"
      ]
    },
    {
      "cell_type": "markdown",
      "metadata": {
        "id": "Gi82q4-iRSuS"
      },
      "source": [
        "### ▶ Wild imports *\n"
      ]
    },
    {
      "cell_type": "markdown",
      "metadata": {
        "id": "UXe5szWLRSuS"
      },
      "source": [
        "```py\n",
        "# File: module.py\n",
        "\n",
        "def some_weird_name_func_():\n",
        "    print(\"works!\")\n",
        "\n",
        "def _another_weird_name_func():\n",
        "    print(\"works!\")\n",
        "\n",
        "```\n",
        "```py\n",
        "```\n"
      ]
    },
    {
      "cell_type": "markdown",
      "metadata": {
        "id": "2mLPzFlWRSuS"
      },
      "source": [
        "\n",
        "**Output**\n",
        "\n"
      ]
    },
    {
      "cell_type": "markdown",
      "metadata": {
        "id": "NgXSVpBjRSuT"
      },
      "source": [
        "```py\n",
        ">>> from module import *\n",
        ">>> some_weird_name_func_()\n",
        "```\n",
        "```py\n",
        "\"works!\"\n",
        "```\n"
      ]
    },
    {
      "cell_type": "markdown",
      "metadata": {
        "id": "V34ryvQkRSuT"
      },
      "source": [
        "```py\n",
        ">>> _another_weird_name_func()\n",
        "```\n",
        "```py\n",
        "Traceback (most recent call last):\n",
        "  File \"<stdin>\", line 1, in <module>\n",
        "NameError: name '_another_weird_name_func' is not defined\n",
        "```\n"
      ]
    },
    {
      "cell_type": "markdown",
      "metadata": {
        "id": "GtBeuKmnRSuT"
      },
      "source": [
        "\n"
      ]
    },
    {
      "cell_type": "markdown",
      "metadata": {
        "id": "TEa2FfepRSuT"
      },
      "source": [
        "#### 💡 Explanation:\n",
        "\n",
        "- It is often advisable to not use wildcard imports. The first obvious reason for this is, in wildcard imports, the names with a leading underscore don't get imported. This may lead to errors during runtime.\n",
        "- Had we used `from ... import a, b, c` syntax, the above `NameError` wouldn't have occurred.\n"
      ]
    },
    {
      "cell_type": "markdown",
      "metadata": {
        "id": "MIpEM7yfRSuT"
      },
      "source": [
        "```py\n",
        "    >>> from module import some_weird_name_func_, _another_weird_name_func\n",
        "    >>> _another_weird_name_func()\n",
        "```\n",
        "```py\n",
        "    works!\n",
        "```\n"
      ]
    },
    {
      "cell_type": "markdown",
      "metadata": {
        "id": "U9yRszVoRSuT"
      },
      "source": [
        "- If you really want to use wildcard imports, then you'd have to define the list `__all__` in your module that will contain a list of public objects that'll be available when we do wildcard imports.\n"
      ]
    },
    {
      "cell_type": "markdown",
      "metadata": {
        "id": "dBevB4P0RSuU"
      },
      "source": [
        "```py\n",
        "    __all__ = ['_another_weird_name_func']\n",
        "\n",
        "    def some_weird_name_func_():\n",
        "        print(\"works!\")\n",
        "\n",
        "    def _another_weird_name_func():\n",
        "        print(\"works!\")\n",
        "```\n",
        "```py\n",
        "```\n"
      ]
    },
    {
      "cell_type": "markdown",
      "metadata": {
        "id": "EkU2CwcqRSuU"
      },
      "source": [
        "    **Output**\n",
        "\n"
      ]
    },
    {
      "cell_type": "markdown",
      "metadata": {
        "id": "Dm0N4Qp5RSuU"
      },
      "source": [
        "```py\n",
        "    >>> _another_weird_name_func()\n",
        "```\n",
        "```py\n",
        "    \"works!\"\n",
        "```\n"
      ]
    },
    {
      "cell_type": "markdown",
      "metadata": {
        "id": "jhZvRo3gRSuU"
      },
      "source": [
        "```py\n",
        "    >>> some_weird_name_func_()\n",
        "```\n",
        "```py\n",
        "    Traceback (most recent call last):\n",
        "      File \"<stdin>\", line 1, in <module>\n",
        "    NameError: name 'some_weird_name_func_' is not defined\n",
        "```\n"
      ]
    },
    {
      "cell_type": "markdown",
      "metadata": {
        "id": "Rlfb-58jRSuU"
      },
      "source": [
        "\n"
      ]
    },
    {
      "cell_type": "markdown",
      "metadata": {
        "id": "ieWiEp3uRSuU"
      },
      "source": [
        "# Contributing\n",
        "\n",
        "A few ways in which you can contribute to wtfpython,\n",
        "\n",
        "- Suggesting new examples\n",
        "- Helping with translation (See [issues labeled translation](https://github.com/satwikkansal/wtfpython/issues?q=is%3Aissue+is%3Aopen+label%3Atranslation))\n",
        "- Minor corrections like pointing out outdated snippets, typos, formatting errors, etc.\n",
        "- Identifying gaps (things like inadequate explanation, redundant examples, etc.)\n",
        "- Any creative suggestions to make this project more fun and useful\n",
        "\n",
        "Please see [CONTRIBUTING.md](/CONTRIBUTING.md) for more details. Feel free to create a new [issue](https://github.com/satwikkansal/wtfpython/issues/new) to discuss things.\n",
        "\n",
        "PS: Please don't reach out with backlinking requests, no links will be added unless they're highly relevant to the project.\n",
        "\n",
        "# Acknowledgements\n",
        "\n",
        "The idea and design for this collection were initially inspired by Denys Dovhan's awesome project [wtfjs](https://github.com/denysdovhan/wtfjs). The overwhelming support by Pythonistas gave it the shape it is in right now.\n",
        "\n",
        "#### Some nice Links!\n",
        "* https://www.youtube.com/watch?v=sH4XF6pKKmk\n",
        "* https://www.reddit.com/r/Python/comments/3cu6ej/what_are_some_wtf_things_about_python\n",
        "* https://sopython.com/wiki/Common_Gotchas_In_Python\n",
        "* https://stackoverflow.com/questions/530530/python-2-x-gotchas-and-landmines\n",
        "* https://stackoverflow.com/questions/1011431/common-pitfalls-in-python\n",
        "* https://www.python.org/doc/humor/\n",
        "* https://github.com/cosmologicon/pywat#the-undocumented-converse-implication-operator\n",
        "* https://www.codementor.io/satwikkansal/python-practices-for-efficient-code-performance-memory-and-usability-aze6oiq65\n",
        "* https://github.com/wemake-services/wemake-python-styleguide/search?q=wtfpython&type=Issues\n",
        "* WFTPython discussion threads on [Hacker News](https://news.ycombinator.com/item?id=21862073) and [Reddit](https://www.reddit.com/r/programming/comments/edsh3q/what_the_fck_python_30_exploring_and/).\n",
        "\n",
        "# 🎓 License\n",
        "\n",
        "[![WTFPL 2.0][license-image]][license-url]\n",
        "\n",
        "&copy; [Satwik Kansal](https://satwikkansal.xyz)\n",
        "\n",
        "[license-url]: http://www.wtfpl.net\n",
        "[license-image]: https://img.shields.io/badge/License-WTFPL%202.0-lightgrey.svg?style=flat-square\n",
        "\n"
      ]
    }
  ]
}