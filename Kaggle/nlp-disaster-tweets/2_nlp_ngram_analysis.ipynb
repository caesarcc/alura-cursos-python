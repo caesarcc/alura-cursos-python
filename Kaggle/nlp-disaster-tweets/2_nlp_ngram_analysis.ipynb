{
 "cells": [
  {
   "cell_type": "markdown",
   "metadata": {},
   "source": [
    "Each sample in the train and test set has the following information:\n",
    "\n",
    "- The text of a tweet\n",
    "- A keyword from that tweet (although this may be blank!)\n",
    "- The location the tweet was sent from (may also be blank)\n",
    "\n",
    "We are predicting whether a given tweet is about a real disaster or not. If so, predict a 1. If not, predict a 0.\n",
    "\n",
    "\n",
    "More details about the competition here:\n",
    "https://www.kaggle.com/c/nlp-getting-started"
   ]
  },
  {
   "cell_type": "code",
   "execution_count": 1,
   "metadata": {},
   "outputs": [
    {
     "data": {
      "application/javascript": [
       "\n",
       "            setTimeout(function() {\n",
       "                var nbb_cell_id = 1;\n",
       "                var nbb_unformatted_code = \"from IPython.core.debugger import set_trace\\n\\n%load_ext nb_black\\n\\nimport pandas as pd\\nimport numpy as np\\nimport os\\nimport matplotlib.pyplot as plt\\nimport time\\n\\nplt.style.use(style=\\\"seaborn\\\")\\n%matplotlib inline\";\n",
       "                var nbb_formatted_code = \"from IPython.core.debugger import set_trace\\n\\n%load_ext nb_black\\n\\nimport pandas as pd\\nimport numpy as np\\nimport os\\nimport matplotlib.pyplot as plt\\nimport time\\n\\nplt.style.use(style=\\\"seaborn\\\")\\n%matplotlib inline\";\n",
       "                var nbb_cells = Jupyter.notebook.get_cells();\n",
       "                for (var i = 0; i < nbb_cells.length; ++i) {\n",
       "                    if (nbb_cells[i].input_prompt_number == nbb_cell_id) {\n",
       "                        if (nbb_cells[i].get_text() == nbb_unformatted_code) {\n",
       "                             nbb_cells[i].set_text(nbb_formatted_code);\n",
       "                        }\n",
       "                        break;\n",
       "                    }\n",
       "                }\n",
       "            }, 500);\n",
       "            "
      ],
      "text/plain": [
       "<IPython.core.display.Javascript object>"
      ]
     },
     "metadata": {},
     "output_type": "display_data"
    }
   ],
   "source": [
    "from IPython.core.debugger import set_trace\n",
    "\n",
    "%load_ext nb_black\n",
    "\n",
    "import pandas as pd\n",
    "import numpy as np\n",
    "import os\n",
    "import matplotlib.pyplot as plt\n",
    "import time\n",
    "\n",
    "plt.style.use(style=\"seaborn\")\n",
    "%matplotlib inline"
   ]
  },
  {
   "cell_type": "code",
   "execution_count": 2,
   "metadata": {},
   "outputs": [
    {
     "data": {
      "application/javascript": [
       "\n",
       "            setTimeout(function() {\n",
       "                var nbb_cell_id = 2;\n",
       "                var nbb_unformatted_code = \"train = pd.read_csv(f\\\"data/train.csv\\\")\\ntest = pd.read_csv(f\\\"data/test.csv\\\")\";\n",
       "                var nbb_formatted_code = \"train = pd.read_csv(f\\\"data/train.csv\\\")\\ntest = pd.read_csv(f\\\"data/test.csv\\\")\";\n",
       "                var nbb_cells = Jupyter.notebook.get_cells();\n",
       "                for (var i = 0; i < nbb_cells.length; ++i) {\n",
       "                    if (nbb_cells[i].input_prompt_number == nbb_cell_id) {\n",
       "                        if (nbb_cells[i].get_text() == nbb_unformatted_code) {\n",
       "                             nbb_cells[i].set_text(nbb_formatted_code);\n",
       "                        }\n",
       "                        break;\n",
       "                    }\n",
       "                }\n",
       "            }, 500);\n",
       "            "
      ],
      "text/plain": [
       "<IPython.core.display.Javascript object>"
      ]
     },
     "metadata": {},
     "output_type": "display_data"
    }
   ],
   "source": [
    "train = pd.read_csv(f\"data/train.csv\")\n",
    "test = pd.read_csv(f\"data/test.csv\")"
   ]
  },
  {
   "cell_type": "code",
   "execution_count": 3,
   "metadata": {},
   "outputs": [
    {
     "data": {
      "text/html": [
       "<div>\n",
       "<style scoped>\n",
       "    .dataframe tbody tr th:only-of-type {\n",
       "        vertical-align: middle;\n",
       "    }\n",
       "\n",
       "    .dataframe tbody tr th {\n",
       "        vertical-align: top;\n",
       "    }\n",
       "\n",
       "    .dataframe thead th {\n",
       "        text-align: right;\n",
       "    }\n",
       "</style>\n",
       "<table border=\"1\" class=\"dataframe\">\n",
       "  <thead>\n",
       "    <tr style=\"text-align: right;\">\n",
       "      <th></th>\n",
       "      <th>0</th>\n",
       "      <th>1</th>\n",
       "      <th>2</th>\n",
       "      <th>3</th>\n",
       "      <th>4</th>\n",
       "    </tr>\n",
       "  </thead>\n",
       "  <tbody>\n",
       "    <tr>\n",
       "      <th>id</th>\n",
       "      <td>1</td>\n",
       "      <td>4</td>\n",
       "      <td>5</td>\n",
       "      <td>6</td>\n",
       "      <td>7</td>\n",
       "    </tr>\n",
       "    <tr>\n",
       "      <th>keyword</th>\n",
       "      <td>NaN</td>\n",
       "      <td>NaN</td>\n",
       "      <td>NaN</td>\n",
       "      <td>NaN</td>\n",
       "      <td>NaN</td>\n",
       "    </tr>\n",
       "    <tr>\n",
       "      <th>location</th>\n",
       "      <td>NaN</td>\n",
       "      <td>NaN</td>\n",
       "      <td>NaN</td>\n",
       "      <td>NaN</td>\n",
       "      <td>NaN</td>\n",
       "    </tr>\n",
       "    <tr>\n",
       "      <th>text</th>\n",
       "      <td>Our Deeds are the Reason of this #earthquake M...</td>\n",
       "      <td>Forest fire near La Ronge Sask. Canada</td>\n",
       "      <td>All residents asked to 'shelter in place' are ...</td>\n",
       "      <td>13,000 people receive #wildfires evacuation or...</td>\n",
       "      <td>Just got sent this photo from Ruby #Alaska as ...</td>\n",
       "    </tr>\n",
       "    <tr>\n",
       "      <th>target</th>\n",
       "      <td>1</td>\n",
       "      <td>1</td>\n",
       "      <td>1</td>\n",
       "      <td>1</td>\n",
       "      <td>1</td>\n",
       "    </tr>\n",
       "  </tbody>\n",
       "</table>\n",
       "</div>"
      ],
      "text/plain": [
       "                                                          0  \\\n",
       "id                                                        1   \n",
       "keyword                                                 NaN   \n",
       "location                                                NaN   \n",
       "text      Our Deeds are the Reason of this #earthquake M...   \n",
       "target                                                    1   \n",
       "\n",
       "                                               1  \\\n",
       "id                                             4   \n",
       "keyword                                      NaN   \n",
       "location                                     NaN   \n",
       "text      Forest fire near La Ronge Sask. Canada   \n",
       "target                                         1   \n",
       "\n",
       "                                                          2  \\\n",
       "id                                                        5   \n",
       "keyword                                                 NaN   \n",
       "location                                                NaN   \n",
       "text      All residents asked to 'shelter in place' are ...   \n",
       "target                                                    1   \n",
       "\n",
       "                                                          3  \\\n",
       "id                                                        6   \n",
       "keyword                                                 NaN   \n",
       "location                                                NaN   \n",
       "text      13,000 people receive #wildfires evacuation or...   \n",
       "target                                                    1   \n",
       "\n",
       "                                                          4  \n",
       "id                                                        7  \n",
       "keyword                                                 NaN  \n",
       "location                                                NaN  \n",
       "text      Just got sent this photo from Ruby #Alaska as ...  \n",
       "target                                                    1  "
      ]
     },
     "execution_count": 3,
     "metadata": {},
     "output_type": "execute_result"
    },
    {
     "data": {
      "application/javascript": [
       "\n",
       "            setTimeout(function() {\n",
       "                var nbb_cell_id = 3;\n",
       "                var nbb_unformatted_code = \"train.head().T\";\n",
       "                var nbb_formatted_code = \"train.head().T\";\n",
       "                var nbb_cells = Jupyter.notebook.get_cells();\n",
       "                for (var i = 0; i < nbb_cells.length; ++i) {\n",
       "                    if (nbb_cells[i].input_prompt_number == nbb_cell_id) {\n",
       "                        if (nbb_cells[i].get_text() == nbb_unformatted_code) {\n",
       "                             nbb_cells[i].set_text(nbb_formatted_code);\n",
       "                        }\n",
       "                        break;\n",
       "                    }\n",
       "                }\n",
       "            }, 500);\n",
       "            "
      ],
      "text/plain": [
       "<IPython.core.display.Javascript object>"
      ]
     },
     "metadata": {},
     "output_type": "display_data"
    }
   ],
   "source": [
    "train.head().T"
   ]
  },
  {
   "cell_type": "code",
   "execution_count": 4,
   "metadata": {},
   "outputs": [
    {
     "data": {
      "text/html": [
       "<div>\n",
       "<style scoped>\n",
       "    .dataframe tbody tr th:only-of-type {\n",
       "        vertical-align: middle;\n",
       "    }\n",
       "\n",
       "    .dataframe tbody tr th {\n",
       "        vertical-align: top;\n",
       "    }\n",
       "\n",
       "    .dataframe thead th {\n",
       "        text-align: right;\n",
       "    }\n",
       "</style>\n",
       "<table border=\"1\" class=\"dataframe\">\n",
       "  <thead>\n",
       "    <tr style=\"text-align: right;\">\n",
       "      <th></th>\n",
       "      <th>0</th>\n",
       "      <th>1</th>\n",
       "      <th>2</th>\n",
       "      <th>3</th>\n",
       "      <th>4</th>\n",
       "    </tr>\n",
       "  </thead>\n",
       "  <tbody>\n",
       "    <tr>\n",
       "      <th>id</th>\n",
       "      <td>0</td>\n",
       "      <td>2</td>\n",
       "      <td>3</td>\n",
       "      <td>9</td>\n",
       "      <td>11</td>\n",
       "    </tr>\n",
       "    <tr>\n",
       "      <th>keyword</th>\n",
       "      <td>NaN</td>\n",
       "      <td>NaN</td>\n",
       "      <td>NaN</td>\n",
       "      <td>NaN</td>\n",
       "      <td>NaN</td>\n",
       "    </tr>\n",
       "    <tr>\n",
       "      <th>location</th>\n",
       "      <td>NaN</td>\n",
       "      <td>NaN</td>\n",
       "      <td>NaN</td>\n",
       "      <td>NaN</td>\n",
       "      <td>NaN</td>\n",
       "    </tr>\n",
       "    <tr>\n",
       "      <th>text</th>\n",
       "      <td>Just happened a terrible car crash</td>\n",
       "      <td>Heard about #earthquake is different cities, s...</td>\n",
       "      <td>there is a forest fire at spot pond, geese are...</td>\n",
       "      <td>Apocalypse lighting. #Spokane #wildfires</td>\n",
       "      <td>Typhoon Soudelor kills 28 in China and Taiwan</td>\n",
       "    </tr>\n",
       "  </tbody>\n",
       "</table>\n",
       "</div>"
      ],
      "text/plain": [
       "                                           0  \\\n",
       "id                                         0   \n",
       "keyword                                  NaN   \n",
       "location                                 NaN   \n",
       "text      Just happened a terrible car crash   \n",
       "\n",
       "                                                          1  \\\n",
       "id                                                        2   \n",
       "keyword                                                 NaN   \n",
       "location                                                NaN   \n",
       "text      Heard about #earthquake is different cities, s...   \n",
       "\n",
       "                                                          2  \\\n",
       "id                                                        3   \n",
       "keyword                                                 NaN   \n",
       "location                                                NaN   \n",
       "text      there is a forest fire at spot pond, geese are...   \n",
       "\n",
       "                                                 3  \\\n",
       "id                                               9   \n",
       "keyword                                        NaN   \n",
       "location                                       NaN   \n",
       "text      Apocalypse lighting. #Spokane #wildfires   \n",
       "\n",
       "                                                      4  \n",
       "id                                                   11  \n",
       "keyword                                             NaN  \n",
       "location                                            NaN  \n",
       "text      Typhoon Soudelor kills 28 in China and Taiwan  "
      ]
     },
     "execution_count": 4,
     "metadata": {},
     "output_type": "execute_result"
    },
    {
     "data": {
      "application/javascript": [
       "\n",
       "            setTimeout(function() {\n",
       "                var nbb_cell_id = 4;\n",
       "                var nbb_unformatted_code = \"test.head().T\";\n",
       "                var nbb_formatted_code = \"test.head().T\";\n",
       "                var nbb_cells = Jupyter.notebook.get_cells();\n",
       "                for (var i = 0; i < nbb_cells.length; ++i) {\n",
       "                    if (nbb_cells[i].input_prompt_number == nbb_cell_id) {\n",
       "                        if (nbb_cells[i].get_text() == nbb_unformatted_code) {\n",
       "                             nbb_cells[i].set_text(nbb_formatted_code);\n",
       "                        }\n",
       "                        break;\n",
       "                    }\n",
       "                }\n",
       "            }, 500);\n",
       "            "
      ],
      "text/plain": [
       "<IPython.core.display.Javascript object>"
      ]
     },
     "metadata": {},
     "output_type": "display_data"
    }
   ],
   "source": [
    "test.head().T"
   ]
  },
  {
   "cell_type": "markdown",
   "metadata": {},
   "source": [
    "### N-gram analysis"
   ]
  },
  {
   "cell_type": "markdown",
   "metadata": {},
   "source": [
    "Note: zip() in conjunction with the * operator can be used to unzip a list"
   ]
  },
  {
   "cell_type": "code",
   "execution_count": 5,
   "metadata": {
    "scrolled": true
   },
   "outputs": [
    {
     "data": {
      "text/plain": [
       "['i',\n",
       " 'me',\n",
       " 'my',\n",
       " 'myself',\n",
       " 'we',\n",
       " 'our',\n",
       " 'ours',\n",
       " 'ourselves',\n",
       " 'you',\n",
       " \"you're\",\n",
       " \"you've\",\n",
       " \"you'll\",\n",
       " \"you'd\",\n",
       " 'your',\n",
       " 'yours',\n",
       " 'yourself',\n",
       " 'yourselves',\n",
       " 'he',\n",
       " 'him',\n",
       " 'his',\n",
       " 'himself',\n",
       " 'she',\n",
       " \"she's\",\n",
       " 'her',\n",
       " 'hers',\n",
       " 'herself',\n",
       " 'it',\n",
       " \"it's\",\n",
       " 'its',\n",
       " 'itself',\n",
       " 'they',\n",
       " 'them',\n",
       " 'their',\n",
       " 'theirs',\n",
       " 'themselves',\n",
       " 'what',\n",
       " 'which',\n",
       " 'who',\n",
       " 'whom',\n",
       " 'this',\n",
       " 'that',\n",
       " \"that'll\",\n",
       " 'these',\n",
       " 'those',\n",
       " 'am',\n",
       " 'is',\n",
       " 'are',\n",
       " 'was',\n",
       " 'were',\n",
       " 'be',\n",
       " 'been',\n",
       " 'being',\n",
       " 'have',\n",
       " 'has',\n",
       " 'had',\n",
       " 'having',\n",
       " 'do',\n",
       " 'does',\n",
       " 'did',\n",
       " 'doing',\n",
       " 'a',\n",
       " 'an',\n",
       " 'the',\n",
       " 'and',\n",
       " 'but',\n",
       " 'if',\n",
       " 'or',\n",
       " 'because',\n",
       " 'as',\n",
       " 'until',\n",
       " 'while',\n",
       " 'of',\n",
       " 'at',\n",
       " 'by',\n",
       " 'for',\n",
       " 'with',\n",
       " 'about',\n",
       " 'against',\n",
       " 'between',\n",
       " 'into',\n",
       " 'through',\n",
       " 'during',\n",
       " 'before',\n",
       " 'after',\n",
       " 'above',\n",
       " 'below',\n",
       " 'to',\n",
       " 'from',\n",
       " 'up',\n",
       " 'down',\n",
       " 'in',\n",
       " 'out',\n",
       " 'on',\n",
       " 'off',\n",
       " 'over',\n",
       " 'under',\n",
       " 'again',\n",
       " 'further',\n",
       " 'then',\n",
       " 'once',\n",
       " 'here',\n",
       " 'there',\n",
       " 'when',\n",
       " 'where',\n",
       " 'why',\n",
       " 'how',\n",
       " 'all',\n",
       " 'any',\n",
       " 'both',\n",
       " 'each',\n",
       " 'few',\n",
       " 'more',\n",
       " 'most',\n",
       " 'other',\n",
       " 'some',\n",
       " 'such',\n",
       " 'no',\n",
       " 'nor',\n",
       " 'not',\n",
       " 'only',\n",
       " 'own',\n",
       " 'same',\n",
       " 'so',\n",
       " 'than',\n",
       " 'too',\n",
       " 'very',\n",
       " 's',\n",
       " 't',\n",
       " 'can',\n",
       " 'will',\n",
       " 'just',\n",
       " 'don',\n",
       " \"don't\",\n",
       " 'should',\n",
       " \"should've\",\n",
       " 'now',\n",
       " 'd',\n",
       " 'll',\n",
       " 'm',\n",
       " 'o',\n",
       " 're',\n",
       " 've',\n",
       " 'y',\n",
       " 'ain',\n",
       " 'aren',\n",
       " \"aren't\",\n",
       " 'couldn',\n",
       " \"couldn't\",\n",
       " 'didn',\n",
       " \"didn't\",\n",
       " 'doesn',\n",
       " \"doesn't\",\n",
       " 'hadn',\n",
       " \"hadn't\",\n",
       " 'hasn',\n",
       " \"hasn't\",\n",
       " 'haven',\n",
       " \"haven't\",\n",
       " 'isn',\n",
       " \"isn't\",\n",
       " 'ma',\n",
       " 'mightn',\n",
       " \"mightn't\",\n",
       " 'mustn',\n",
       " \"mustn't\",\n",
       " 'needn',\n",
       " \"needn't\",\n",
       " 'shan',\n",
       " \"shan't\",\n",
       " 'shouldn',\n",
       " \"shouldn't\",\n",
       " 'wasn',\n",
       " \"wasn't\",\n",
       " 'weren',\n",
       " \"weren't\",\n",
       " 'won',\n",
       " \"won't\",\n",
       " 'wouldn',\n",
       " \"wouldn't\"]"
      ]
     },
     "execution_count": 5,
     "metadata": {},
     "output_type": "execute_result"
    },
    {
     "data": {
      "application/javascript": [
       "\n",
       "            setTimeout(function() {\n",
       "                var nbb_cell_id = 5;\n",
       "                var nbb_unformatted_code = \"from nltk.corpus import stopwords\\n\\nstopwords.words(\\\"english\\\")\";\n",
       "                var nbb_formatted_code = \"from nltk.corpus import stopwords\\n\\nstopwords.words(\\\"english\\\")\";\n",
       "                var nbb_cells = Jupyter.notebook.get_cells();\n",
       "                for (var i = 0; i < nbb_cells.length; ++i) {\n",
       "                    if (nbb_cells[i].input_prompt_number == nbb_cell_id) {\n",
       "                        if (nbb_cells[i].get_text() == nbb_unformatted_code) {\n",
       "                             nbb_cells[i].set_text(nbb_formatted_code);\n",
       "                        }\n",
       "                        break;\n",
       "                    }\n",
       "                }\n",
       "            }, 500);\n",
       "            "
      ],
      "text/plain": [
       "<IPython.core.display.Javascript object>"
      ]
     },
     "metadata": {},
     "output_type": "display_data"
    }
   ],
   "source": [
    "from nltk.corpus import stopwords\n",
    "\n",
    "stopwords.words(\"english\")"
   ]
  },
  {
   "cell_type": "code",
   "execution_count": 6,
   "metadata": {},
   "outputs": [
    {
     "data": {
      "application/javascript": [
       "\n",
       "            setTimeout(function() {\n",
       "                var nbb_cell_id = 6;\n",
       "                var nbb_unformatted_code = \"from nltk.corpus import stopwords\\n\\n\\ndef generate_ngrams(text, n_gram=1, stop=True):\\n    \\\"\\\"\\\"\\n    Simple n-gram generator.\\n    \\\"\\\"\\\"\\n    stop = set(stopwords.words(\\\"english\\\")) if stop else {}\\n\\n    token = [\\n        token for token in text.lower().split(\\\" \\\") if token != \\\"\\\" if token not in stop\\n    ]\\n    z = zip(*[token[i:] for i in range(n_gram)])\\n    ngrams = [\\\" \\\".join(ngram) for ngram in z]\\n\\n    return ngrams\";\n",
       "                var nbb_formatted_code = \"from nltk.corpus import stopwords\\n\\n\\ndef generate_ngrams(text, n_gram=1, stop=True):\\n    \\\"\\\"\\\"\\n    Simple n-gram generator.\\n    \\\"\\\"\\\"\\n    stop = set(stopwords.words(\\\"english\\\")) if stop else {}\\n\\n    token = [\\n        token for token in text.lower().split(\\\" \\\") if token != \\\"\\\" if token not in stop\\n    ]\\n    z = zip(*[token[i:] for i in range(n_gram)])\\n    ngrams = [\\\" \\\".join(ngram) for ngram in z]\\n\\n    return ngrams\";\n",
       "                var nbb_cells = Jupyter.notebook.get_cells();\n",
       "                for (var i = 0; i < nbb_cells.length; ++i) {\n",
       "                    if (nbb_cells[i].input_prompt_number == nbb_cell_id) {\n",
       "                        if (nbb_cells[i].get_text() == nbb_unformatted_code) {\n",
       "                             nbb_cells[i].set_text(nbb_formatted_code);\n",
       "                        }\n",
       "                        break;\n",
       "                    }\n",
       "                }\n",
       "            }, 500);\n",
       "            "
      ],
      "text/plain": [
       "<IPython.core.display.Javascript object>"
      ]
     },
     "metadata": {},
     "output_type": "display_data"
    }
   ],
   "source": [
    "from nltk.corpus import stopwords\n",
    "\n",
    "\n",
    "def generate_ngrams(text, n_gram=1, stop=True):\n",
    "    \"\"\"\n",
    "    Simple n-gram generator.\n",
    "    \"\"\"\n",
    "    stop = set(stopwords.words(\"english\")) if stop else {}\n",
    "\n",
    "    token = [\n",
    "        token for token in text.lower().split(\" \") if token != \"\" if token not in stop\n",
    "    ]\n",
    "    z = zip(*[token[i:] for i in range(n_gram)])\n",
    "    ngrams = [\" \".join(ngram) for ngram in z]\n",
    "\n",
    "    return ngrams"
   ]
  },
  {
   "cell_type": "markdown",
   "metadata": {},
   "source": [
    "#### Create unigrams"
   ]
  },
  {
   "cell_type": "code",
   "execution_count": 7,
   "metadata": {},
   "outputs": [
    {
     "data": {
      "application/javascript": [
       "\n",
       "            setTimeout(function() {\n",
       "                var nbb_cell_id = 7;\n",
       "                var nbb_unformatted_code = \"from collections import defaultdict\";\n",
       "                var nbb_formatted_code = \"from collections import defaultdict\";\n",
       "                var nbb_cells = Jupyter.notebook.get_cells();\n",
       "                for (var i = 0; i < nbb_cells.length; ++i) {\n",
       "                    if (nbb_cells[i].input_prompt_number == nbb_cell_id) {\n",
       "                        if (nbb_cells[i].get_text() == nbb_unformatted_code) {\n",
       "                             nbb_cells[i].set_text(nbb_formatted_code);\n",
       "                        }\n",
       "                        break;\n",
       "                    }\n",
       "                }\n",
       "            }, 500);\n",
       "            "
      ],
      "text/plain": [
       "<IPython.core.display.Javascript object>"
      ]
     },
     "metadata": {},
     "output_type": "display_data"
    }
   ],
   "source": [
    "from collections import defaultdict"
   ]
  },
  {
   "cell_type": "markdown",
   "metadata": {},
   "source": [
    "In our case when a new word is encountered and is missing from the mapping, the default_factory function calls int() to supply a default count of zero and then, the increment operation builds up the count. \n",
    "\n",
    "Therefore, the default_factory int assign makes the defaultdict useful for counting."
   ]
  },
  {
   "cell_type": "code",
   "execution_count": 8,
   "metadata": {},
   "outputs": [
    {
     "data": {
      "application/javascript": [
       "\n",
       "            setTimeout(function() {\n",
       "                var nbb_cell_id = 8;\n",
       "                var nbb_unformatted_code = \"disaster_unigrams = defaultdict(int)\\nnondisaster_unigrams = defaultdict(int)\";\n",
       "                var nbb_formatted_code = \"disaster_unigrams = defaultdict(int)\\nnondisaster_unigrams = defaultdict(int)\";\n",
       "                var nbb_cells = Jupyter.notebook.get_cells();\n",
       "                for (var i = 0; i < nbb_cells.length; ++i) {\n",
       "                    if (nbb_cells[i].input_prompt_number == nbb_cell_id) {\n",
       "                        if (nbb_cells[i].get_text() == nbb_unformatted_code) {\n",
       "                             nbb_cells[i].set_text(nbb_formatted_code);\n",
       "                        }\n",
       "                        break;\n",
       "                    }\n",
       "                }\n",
       "            }, 500);\n",
       "            "
      ],
      "text/plain": [
       "<IPython.core.display.Javascript object>"
      ]
     },
     "metadata": {},
     "output_type": "display_data"
    }
   ],
   "source": [
    "disaster_unigrams = defaultdict(int)\n",
    "nondisaster_unigrams = defaultdict(int)"
   ]
  },
  {
   "cell_type": "code",
   "execution_count": 9,
   "metadata": {},
   "outputs": [
    {
     "data": {
      "application/javascript": [
       "\n",
       "            setTimeout(function() {\n",
       "                var nbb_cell_id = 9;\n",
       "                var nbb_unformatted_code = \"for text in train[train.target == 1].text:\\n    for word in generate_ngrams(text):\\n        disaster_unigrams[word] += 1\\n\\nfor text in train[train.target == 0].text:\\n    for word in generate_ngrams(text):\\n        nondisaster_unigrams[word] += 1\";\n",
       "                var nbb_formatted_code = \"for text in train[train.target == 1].text:\\n    for word in generate_ngrams(text):\\n        disaster_unigrams[word] += 1\\n\\nfor text in train[train.target == 0].text:\\n    for word in generate_ngrams(text):\\n        nondisaster_unigrams[word] += 1\";\n",
       "                var nbb_cells = Jupyter.notebook.get_cells();\n",
       "                for (var i = 0; i < nbb_cells.length; ++i) {\n",
       "                    if (nbb_cells[i].input_prompt_number == nbb_cell_id) {\n",
       "                        if (nbb_cells[i].get_text() == nbb_unformatted_code) {\n",
       "                             nbb_cells[i].set_text(nbb_formatted_code);\n",
       "                        }\n",
       "                        break;\n",
       "                    }\n",
       "                }\n",
       "            }, 500);\n",
       "            "
      ],
      "text/plain": [
       "<IPython.core.display.Javascript object>"
      ]
     },
     "metadata": {},
     "output_type": "display_data"
    }
   ],
   "source": [
    "for text in train[train.target == 1].text:\n",
    "    for word in generate_ngrams(text):\n",
    "        disaster_unigrams[word] += 1\n",
    "\n",
    "for text in train[train.target == 0].text:\n",
    "    for word in generate_ngrams(text):\n",
    "        nondisaster_unigrams[word] += 1"
   ]
  },
  {
   "cell_type": "code",
   "execution_count": null,
   "metadata": {
    "scrolled": false
   },
   "outputs": [],
   "source": [
    "disaster_unigrams"
   ]
  },
  {
   "cell_type": "code",
   "execution_count": null,
   "metadata": {},
   "outputs": [],
   "source": [
    "disaster_unigrams.items()"
   ]
  },
  {
   "cell_type": "code",
   "execution_count": 12,
   "metadata": {},
   "outputs": [
    {
     "data": {
      "application/javascript": [
       "\n",
       "            setTimeout(function() {\n",
       "                var nbb_cell_id = 12;\n",
       "                var nbb_unformatted_code = \"df_disaster_unigrams = pd.DataFrame(\\n    sorted(disaster_unigrams.items(), key=lambda x: x[1], reverse=True)\\n)\\ndf_nondisaster_unigrams = pd.DataFrame(\\n    sorted(nondisaster_unigrams.items(), key=lambda x: x[1], reverse=True)\\n)\";\n",
       "                var nbb_formatted_code = \"df_disaster_unigrams = pd.DataFrame(\\n    sorted(disaster_unigrams.items(), key=lambda x: x[1], reverse=True)\\n)\\ndf_nondisaster_unigrams = pd.DataFrame(\\n    sorted(nondisaster_unigrams.items(), key=lambda x: x[1], reverse=True)\\n)\";\n",
       "                var nbb_cells = Jupyter.notebook.get_cells();\n",
       "                for (var i = 0; i < nbb_cells.length; ++i) {\n",
       "                    if (nbb_cells[i].input_prompt_number == nbb_cell_id) {\n",
       "                        if (nbb_cells[i].get_text() == nbb_unformatted_code) {\n",
       "                             nbb_cells[i].set_text(nbb_formatted_code);\n",
       "                        }\n",
       "                        break;\n",
       "                    }\n",
       "                }\n",
       "            }, 500);\n",
       "            "
      ],
      "text/plain": [
       "<IPython.core.display.Javascript object>"
      ]
     },
     "metadata": {},
     "output_type": "display_data"
    }
   ],
   "source": [
    "df_disaster_unigrams = pd.DataFrame(\n",
    "    sorted(disaster_unigrams.items(), key=lambda x: x[1], reverse=True)\n",
    ")\n",
    "df_nondisaster_unigrams = pd.DataFrame(\n",
    "    sorted(nondisaster_unigrams.items(), key=lambda x: x[1], reverse=True)\n",
    ")"
   ]
  },
  {
   "cell_type": "code",
   "execution_count": 13,
   "metadata": {
    "scrolled": false
   },
   "outputs": [
    {
     "data": {
      "text/plain": [
       "[('-', 389),\n",
       " ('fire', 150),\n",
       " ('via', 117),\n",
       " ('&amp;', 105),\n",
       " ('...', 105),\n",
       " ('suicide', 103),\n",
       " ('disaster', 97),\n",
       " ('people', 93),\n",
       " ('police', 93),\n",
       " ('killed', 92)]"
      ]
     },
     "execution_count": 13,
     "metadata": {},
     "output_type": "execute_result"
    },
    {
     "data": {
      "application/javascript": [
       "\n",
       "            setTimeout(function() {\n",
       "                var nbb_cell_id = 13;\n",
       "                var nbb_unformatted_code = \"sorted(disaster_unigrams.items(), key=lambda x: x[1], reverse=True)[:10]\";\n",
       "                var nbb_formatted_code = \"sorted(disaster_unigrams.items(), key=lambda x: x[1], reverse=True)[:10]\";\n",
       "                var nbb_cells = Jupyter.notebook.get_cells();\n",
       "                for (var i = 0; i < nbb_cells.length; ++i) {\n",
       "                    if (nbb_cells[i].input_prompt_number == nbb_cell_id) {\n",
       "                        if (nbb_cells[i].get_text() == nbb_unformatted_code) {\n",
       "                             nbb_cells[i].set_text(nbb_formatted_code);\n",
       "                        }\n",
       "                        break;\n",
       "                    }\n",
       "                }\n",
       "            }, 500);\n",
       "            "
      ],
      "text/plain": [
       "<IPython.core.display.Javascript object>"
      ]
     },
     "metadata": {},
     "output_type": "display_data"
    }
   ],
   "source": [
    "sorted(disaster_unigrams.items(), key=lambda x: x[1], reverse=True)[:10]"
   ]
  },
  {
   "cell_type": "code",
   "execution_count": 14,
   "metadata": {},
   "outputs": [
    {
     "data": {
      "text/html": [
       "<div>\n",
       "<style scoped>\n",
       "    .dataframe tbody tr th:only-of-type {\n",
       "        vertical-align: middle;\n",
       "    }\n",
       "\n",
       "    .dataframe tbody tr th {\n",
       "        vertical-align: top;\n",
       "    }\n",
       "\n",
       "    .dataframe thead th {\n",
       "        text-align: right;\n",
       "    }\n",
       "</style>\n",
       "<table border=\"1\" class=\"dataframe\">\n",
       "  <thead>\n",
       "    <tr style=\"text-align: right;\">\n",
       "      <th></th>\n",
       "      <th>0</th>\n",
       "      <th>1</th>\n",
       "    </tr>\n",
       "  </thead>\n",
       "  <tbody>\n",
       "    <tr>\n",
       "      <th>0</th>\n",
       "      <td>-</td>\n",
       "      <td>389</td>\n",
       "    </tr>\n",
       "    <tr>\n",
       "      <th>1</th>\n",
       "      <td>fire</td>\n",
       "      <td>150</td>\n",
       "    </tr>\n",
       "    <tr>\n",
       "      <th>2</th>\n",
       "      <td>via</td>\n",
       "      <td>117</td>\n",
       "    </tr>\n",
       "    <tr>\n",
       "      <th>3</th>\n",
       "      <td>&amp;amp;</td>\n",
       "      <td>105</td>\n",
       "    </tr>\n",
       "    <tr>\n",
       "      <th>4</th>\n",
       "      <td>...</td>\n",
       "      <td>105</td>\n",
       "    </tr>\n",
       "  </tbody>\n",
       "</table>\n",
       "</div>"
      ],
      "text/plain": [
       "       0    1\n",
       "0      -  389\n",
       "1   fire  150\n",
       "2    via  117\n",
       "3  &amp;  105\n",
       "4    ...  105"
      ]
     },
     "execution_count": 14,
     "metadata": {},
     "output_type": "execute_result"
    },
    {
     "data": {
      "application/javascript": [
       "\n",
       "            setTimeout(function() {\n",
       "                var nbb_cell_id = 14;\n",
       "                var nbb_unformatted_code = \"df_disaster_unigrams.head()\";\n",
       "                var nbb_formatted_code = \"df_disaster_unigrams.head()\";\n",
       "                var nbb_cells = Jupyter.notebook.get_cells();\n",
       "                for (var i = 0; i < nbb_cells.length; ++i) {\n",
       "                    if (nbb_cells[i].input_prompt_number == nbb_cell_id) {\n",
       "                        if (nbb_cells[i].get_text() == nbb_unformatted_code) {\n",
       "                             nbb_cells[i].set_text(nbb_formatted_code);\n",
       "                        }\n",
       "                        break;\n",
       "                    }\n",
       "                }\n",
       "            }, 500);\n",
       "            "
      ],
      "text/plain": [
       "<IPython.core.display.Javascript object>"
      ]
     },
     "metadata": {},
     "output_type": "display_data"
    }
   ],
   "source": [
    "df_disaster_unigrams.head()"
   ]
  },
  {
   "cell_type": "code",
   "execution_count": 15,
   "metadata": {
    "scrolled": true
   },
   "outputs": [
    {
     "data": {
      "image/png": "[encoded data removed]",
      "text/plain": [
       "<Figure size 1152x288 with 2 Axes>"
      ]
     },
     "metadata": {
      "needs_background": "light"
     },
     "output_type": "display_data"
    },
    {
     "data": {
      "application/javascript": [
       "\n",
       "            setTimeout(function() {\n",
       "                var nbb_cell_id = 15;\n",
       "                var nbb_unformatted_code = \"d1 = df_disaster_unigrams[0][:10]\\nd2 = df_disaster_unigrams[1][:10]\\n\\nnd1 = df_nondisaster_unigrams[0][:10]\\nnd2 = df_nondisaster_unigrams[1][:10]\\n\\nplt.figure(1, figsize=(16, 4))\\nplt.subplot(2, 1, 1)\\n_ = plt.bar(d1, d2)\\n\\nplt.subplot(2, 1, 2)\\n_ = plt.bar(nd1, nd2)\";\n",
       "                var nbb_formatted_code = \"d1 = df_disaster_unigrams[0][:10]\\nd2 = df_disaster_unigrams[1][:10]\\n\\nnd1 = df_nondisaster_unigrams[0][:10]\\nnd2 = df_nondisaster_unigrams[1][:10]\\n\\nplt.figure(1, figsize=(16, 4))\\nplt.subplot(2, 1, 1)\\n_ = plt.bar(d1, d2)\\n\\nplt.subplot(2, 1, 2)\\n_ = plt.bar(nd1, nd2)\";\n",
       "                var nbb_cells = Jupyter.notebook.get_cells();\n",
       "                for (var i = 0; i < nbb_cells.length; ++i) {\n",
       "                    if (nbb_cells[i].input_prompt_number == nbb_cell_id) {\n",
       "                        if (nbb_cells[i].get_text() == nbb_unformatted_code) {\n",
       "                             nbb_cells[i].set_text(nbb_formatted_code);\n",
       "                        }\n",
       "                        break;\n",
       "                    }\n",
       "                }\n",
       "            }, 500);\n",
       "            "
      ],
      "text/plain": [
       "<IPython.core.display.Javascript object>"
      ]
     },
     "metadata": {},
     "output_type": "display_data"
    }
   ],
   "source": [
    "d1 = df_disaster_unigrams[0][:10]\n",
    "d2 = df_disaster_unigrams[1][:10]\n",
    "\n",
    "nd1 = df_nondisaster_unigrams[0][:10]\n",
    "nd2 = df_nondisaster_unigrams[1][:10]\n",
    "\n",
    "plt.figure(1, figsize=(16, 4))\n",
    "plt.subplot(2, 1, 1)\n",
    "_ = plt.bar(d1, d2)\n",
    "\n",
    "plt.subplot(2, 1, 2)\n",
    "_ = plt.bar(nd1, nd2)"
   ]
  },
  {
   "cell_type": "markdown",
   "metadata": {},
   "source": [
    "Based on the plot above we can see that most common shared unigrams are punctuation and stopwords so it's important to clean them out.\n",
    "\n",
    "Regarding the context, even from the unigrams we can see that we get a lot of context regarding whether the text refers to a disaster or not. "
   ]
  },
  {
   "cell_type": "markdown",
   "metadata": {},
   "source": [
    "#### Create bigrams"
   ]
  },
  {
   "cell_type": "code",
   "execution_count": 16,
   "metadata": {},
   "outputs": [
    {
     "data": {
      "application/javascript": [
       "\n",
       "            setTimeout(function() {\n",
       "                var nbb_cell_id = 16;\n",
       "                var nbb_unformatted_code = \"disaster_bigrams = defaultdict(int)\\nnondisaster_bigrams = defaultdict(int)\\n\\nfor text in train[train.target == 1].text:\\n    for word in generate_ngrams(text, n_gram=2):\\n        disaster_bigrams[word] += 1\\n\\nfor text in train[train.target == 0].text:\\n    for word in generate_ngrams(text, n_gram=2):\\n        nondisaster_bigrams[word] += 1\\n\\ndf_disaster_bigrams = pd.DataFrame(\\n    sorted(disaster_bigrams.items(), key=lambda x: x[1])[::-1]\\n)\\ndf_nondisaster_bigrams = pd.DataFrame(\\n    sorted(nondisaster_bigrams.items(), key=lambda x: x[1])[::-1]\\n)\";\n",
       "                var nbb_formatted_code = \"disaster_bigrams = defaultdict(int)\\nnondisaster_bigrams = defaultdict(int)\\n\\nfor text in train[train.target == 1].text:\\n    for word in generate_ngrams(text, n_gram=2):\\n        disaster_bigrams[word] += 1\\n\\nfor text in train[train.target == 0].text:\\n    for word in generate_ngrams(text, n_gram=2):\\n        nondisaster_bigrams[word] += 1\\n\\ndf_disaster_bigrams = pd.DataFrame(\\n    sorted(disaster_bigrams.items(), key=lambda x: x[1])[::-1]\\n)\\ndf_nondisaster_bigrams = pd.DataFrame(\\n    sorted(nondisaster_bigrams.items(), key=lambda x: x[1])[::-1]\\n)\";\n",
       "                var nbb_cells = Jupyter.notebook.get_cells();\n",
       "                for (var i = 0; i < nbb_cells.length; ++i) {\n",
       "                    if (nbb_cells[i].input_prompt_number == nbb_cell_id) {\n",
       "                        if (nbb_cells[i].get_text() == nbb_unformatted_code) {\n",
       "                             nbb_cells[i].set_text(nbb_formatted_code);\n",
       "                        }\n",
       "                        break;\n",
       "                    }\n",
       "                }\n",
       "            }, 500);\n",
       "            "
      ],
      "text/plain": [
       "<IPython.core.display.Javascript object>"
      ]
     },
     "metadata": {},
     "output_type": "display_data"
    }
   ],
   "source": [
    "disaster_bigrams = defaultdict(int)\n",
    "nondisaster_bigrams = defaultdict(int)\n",
    "\n",
    "for text in train[train.target == 1].text:\n",
    "    for word in generate_ngrams(text, n_gram=2):\n",
    "        disaster_bigrams[word] += 1\n",
    "\n",
    "for text in train[train.target == 0].text:\n",
    "    for word in generate_ngrams(text, n_gram=2):\n",
    "        nondisaster_bigrams[word] += 1\n",
    "\n",
    "df_disaster_bigrams = pd.DataFrame(\n",
    "    sorted(disaster_bigrams.items(), key=lambda x: x[1])[::-1]\n",
    ")\n",
    "df_nondisaster_bigrams = pd.DataFrame(\n",
    "    sorted(nondisaster_bigrams.items(), key=lambda x: x[1])[::-1]\n",
    ")"
   ]
  },
  {
   "cell_type": "code",
   "execution_count": 17,
   "metadata": {
    "scrolled": false
   },
   "outputs": [
    {
     "name": "stderr",
     "output_type": "stream",
     "text": [
      "/Users/radufotolescu/.local/share/virtualenvs/useful-jAUW_uHU/lib/python3.7/site-packages/matplotlib/backends/backend_agg.py:214: RuntimeWarning: Glyph 137 missing from current font.\n",
      "  font.set_text(s, 0.0, flags=flags)\n",
      "/Users/radufotolescu/.local/share/virtualenvs/useful-jAUW_uHU/lib/python3.7/site-packages/matplotlib/backends/backend_agg.py:183: RuntimeWarning: Glyph 137 missing from current font.\n",
      "  font.set_text(s, 0, flags=flags)\n"
     ]
    },
    {
     "data": {
      "image/png": "[encoded data removed]",
      "text/plain": [
       "<Figure size 1152x288 with 2 Axes>"
      ]
     },
     "metadata": {
      "needs_background": "light"
     },
     "output_type": "display_data"
    },
    {
     "data": {
      "application/javascript": [
       "\n",
       "            setTimeout(function() {\n",
       "                var nbb_cell_id = 17;\n",
       "                var nbb_unformatted_code = \"d1 = df_disaster_bigrams[0][:10]\\nd2 = df_disaster_bigrams[1][:10]\\n\\nnd1 = df_nondisaster_bigrams[0][:10]\\nnd2 = df_nondisaster_bigrams[1][:10]\\n\\nplt.figure(1, figsize=(16, 4))\\nplt.subplot(2, 1, 1)\\n_ = plt.bar(d1, d2)\\n\\nplt.subplot(2, 1, 2)\\n_ = plt.bar(nd1, nd2)\";\n",
       "                var nbb_formatted_code = \"d1 = df_disaster_bigrams[0][:10]\\nd2 = df_disaster_bigrams[1][:10]\\n\\nnd1 = df_nondisaster_bigrams[0][:10]\\nnd2 = df_nondisaster_bigrams[1][:10]\\n\\nplt.figure(1, figsize=(16, 4))\\nplt.subplot(2, 1, 1)\\n_ = plt.bar(d1, d2)\\n\\nplt.subplot(2, 1, 2)\\n_ = plt.bar(nd1, nd2)\";\n",
       "                var nbb_cells = Jupyter.notebook.get_cells();\n",
       "                for (var i = 0; i < nbb_cells.length; ++i) {\n",
       "                    if (nbb_cells[i].input_prompt_number == nbb_cell_id) {\n",
       "                        if (nbb_cells[i].get_text() == nbb_unformatted_code) {\n",
       "                             nbb_cells[i].set_text(nbb_formatted_code);\n",
       "                        }\n",
       "                        break;\n",
       "                    }\n",
       "                }\n",
       "            }, 500);\n",
       "            "
      ],
      "text/plain": [
       "<IPython.core.display.Javascript object>"
      ]
     },
     "metadata": {},
     "output_type": "display_data"
    }
   ],
   "source": [
    "d1 = df_disaster_bigrams[0][:10]\n",
    "d2 = df_disaster_bigrams[1][:10]\n",
    "\n",
    "nd1 = df_nondisaster_bigrams[0][:10]\n",
    "nd2 = df_nondisaster_bigrams[1][:10]\n",
    "\n",
    "plt.figure(1, figsize=(16, 4))\n",
    "plt.subplot(2, 1, 1)\n",
    "_ = plt.bar(d1, d2)\n",
    "\n",
    "plt.subplot(2, 1, 2)\n",
    "_ = plt.bar(nd1, nd2)"
   ]
  },
  {
   "cell_type": "markdown",
   "metadata": {},
   "source": [
    "The plot above shows that bigrams give a lot of context to the type of text with regard to whether it's a disaster or not. If we clean the punctuation and stopwords and urls we should get a better understanding."
   ]
  },
  {
   "cell_type": "markdown",
   "metadata": {},
   "source": [
    "Check the most common bigrams in a whole corpus."
   ]
  },
  {
   "cell_type": "code",
   "execution_count": 18,
   "metadata": {},
   "outputs": [
    {
     "data": {
      "application/javascript": [
       "\n",
       "            setTimeout(function() {\n",
       "                var nbb_cell_id = 18;\n",
       "                var nbb_unformatted_code = \"from sklearn.feature_extraction.text import CountVectorizer\\n\\n\\ndef get_top_text_ngrams(corpus, ngrams=(1, 1), nr=None):\\n    \\\"\\\"\\\"\\n    Creates a bag of ngrams and counts ngram frequency.\\n    \\n    Returns a sorted list of tuples: (ngram, count)\\n    \\\"\\\"\\\"\\n    vec = CountVectorizer(ngram_range=ngrams).fit(corpus)\\n    bag_of_words = vec.transform(corpus)\\n    sum_words = bag_of_words.sum(axis=0)\\n    words_freq = [(word, sum_words[0, idx]) for word, idx in vec.vocabulary_.items()]\\n    words_freq = sorted(words_freq, key=lambda x: x[1], reverse=True)\\n    return words_freq[:nr]\";\n",
       "                var nbb_formatted_code = \"from sklearn.feature_extraction.text import CountVectorizer\\n\\n\\ndef get_top_text_ngrams(corpus, ngrams=(1, 1), nr=None):\\n    \\\"\\\"\\\"\\n    Creates a bag of ngrams and counts ngram frequency.\\n    \\n    Returns a sorted list of tuples: (ngram, count)\\n    \\\"\\\"\\\"\\n    vec = CountVectorizer(ngram_range=ngrams).fit(corpus)\\n    bag_of_words = vec.transform(corpus)\\n    sum_words = bag_of_words.sum(axis=0)\\n    words_freq = [(word, sum_words[0, idx]) for word, idx in vec.vocabulary_.items()]\\n    words_freq = sorted(words_freq, key=lambda x: x[1], reverse=True)\\n    return words_freq[:nr]\";\n",
       "                var nbb_cells = Jupyter.notebook.get_cells();\n",
       "                for (var i = 0; i < nbb_cells.length; ++i) {\n",
       "                    if (nbb_cells[i].input_prompt_number == nbb_cell_id) {\n",
       "                        if (nbb_cells[i].get_text() == nbb_unformatted_code) {\n",
       "                             nbb_cells[i].set_text(nbb_formatted_code);\n",
       "                        }\n",
       "                        break;\n",
       "                    }\n",
       "                }\n",
       "            }, 500);\n",
       "            "
      ],
      "text/plain": [
       "<IPython.core.display.Javascript object>"
      ]
     },
     "metadata": {},
     "output_type": "display_data"
    }
   ],
   "source": [
    "from sklearn.feature_extraction.text import CountVectorizer\n",
    "\n",
    "\n",
    "def get_top_text_ngrams(corpus, ngrams=(1, 1), nr=None):\n",
    "    \"\"\"\n",
    "    Creates a bag of ngrams and counts ngram frequency.\n",
    "    \n",
    "    Returns a sorted list of tuples: (ngram, count)\n",
    "    \"\"\"\n",
    "    vec = CountVectorizer(ngram_range=ngrams).fit(corpus)\n",
    "    bag_of_words = vec.transform(corpus)\n",
    "    sum_words = bag_of_words.sum(axis=0)\n",
    "    words_freq = [(word, sum_words[0, idx]) for word, idx in vec.vocabulary_.items()]\n",
    "    words_freq = sorted(words_freq, key=lambda x: x[1], reverse=True)\n",
    "    return words_freq[:nr]"
   ]
  },
  {
   "cell_type": "code",
   "execution_count": 19,
   "metadata": {},
   "outputs": [
    {
     "data": {
      "application/javascript": [
       "\n",
       "            setTimeout(function() {\n",
       "                var nbb_cell_id = 19;\n",
       "                var nbb_unformatted_code = \"top_text_bigrams = get_top_text_ngrams(train.text, ngrams=(2, 2), nr=10)\";\n",
       "                var nbb_formatted_code = \"top_text_bigrams = get_top_text_ngrams(train.text, ngrams=(2, 2), nr=10)\";\n",
       "                var nbb_cells = Jupyter.notebook.get_cells();\n",
       "                for (var i = 0; i < nbb_cells.length; ++i) {\n",
       "                    if (nbb_cells[i].input_prompt_number == nbb_cell_id) {\n",
       "                        if (nbb_cells[i].get_text() == nbb_unformatted_code) {\n",
       "                             nbb_cells[i].set_text(nbb_formatted_code);\n",
       "                        }\n",
       "                        break;\n",
       "                    }\n",
       "                }\n",
       "            }, 500);\n",
       "            "
      ],
      "text/plain": [
       "<IPython.core.display.Javascript object>"
      ]
     },
     "metadata": {},
     "output_type": "display_data"
    }
   ],
   "source": [
    "top_text_bigrams = get_top_text_ngrams(train.text, ngrams=(2, 2), nr=10)"
   ]
  },
  {
   "cell_type": "code",
   "execution_count": 20,
   "metadata": {},
   "outputs": [
    {
     "data": {
      "text/plain": [
       "[('http co', 4306),\n",
       " ('https co', 410),\n",
       " ('in the', 308),\n",
       " ('of the', 256),\n",
       " ('û_ http', 217),\n",
       " ('on the', 129),\n",
       " ('to the', 126),\n",
       " ('to be', 108),\n",
       " ('for the', 97),\n",
       " ('at the', 85)]"
      ]
     },
     "execution_count": 20,
     "metadata": {},
     "output_type": "execute_result"
    },
    {
     "data": {
      "application/javascript": [
       "\n",
       "            setTimeout(function() {\n",
       "                var nbb_cell_id = 20;\n",
       "                var nbb_unformatted_code = \"top_text_bigrams\";\n",
       "                var nbb_formatted_code = \"top_text_bigrams\";\n",
       "                var nbb_cells = Jupyter.notebook.get_cells();\n",
       "                for (var i = 0; i < nbb_cells.length; ++i) {\n",
       "                    if (nbb_cells[i].input_prompt_number == nbb_cell_id) {\n",
       "                        if (nbb_cells[i].get_text() == nbb_unformatted_code) {\n",
       "                             nbb_cells[i].set_text(nbb_formatted_code);\n",
       "                        }\n",
       "                        break;\n",
       "                    }\n",
       "                }\n",
       "            }, 500);\n",
       "            "
      ],
      "text/plain": [
       "<IPython.core.display.Javascript object>"
      ]
     },
     "metadata": {},
     "output_type": "display_data"
    }
   ],
   "source": [
    "top_text_bigrams"
   ]
  },
  {
   "cell_type": "code",
   "execution_count": 21,
   "metadata": {},
   "outputs": [
    {
     "data": {
      "text/plain": [
       "<BarContainer object of 10 artists>"
      ]
     },
     "execution_count": 21,
     "metadata": {},
     "output_type": "execute_result"
    },
    {
     "data": {
      "image/png": "[encoded data removed]",
      "text/plain": [
       "<Figure size 1152x576 with 1 Axes>"
      ]
     },
     "metadata": {
      "needs_background": "light"
     },
     "output_type": "display_data"
    },
    {
     "data": {
      "application/javascript": [
       "\n",
       "            setTimeout(function() {\n",
       "                var nbb_cell_id = 21;\n",
       "                var nbb_unformatted_code = \"x, y = zip(*top_text_bigrams)\\nplt.figure(1, figsize=(16, 8))\\nplt.subplot(1, 1, 1)\\nplt.bar(x, y)\";\n",
       "                var nbb_formatted_code = \"x, y = zip(*top_text_bigrams)\\nplt.figure(1, figsize=(16, 8))\\nplt.subplot(1, 1, 1)\\nplt.bar(x, y)\";\n",
       "                var nbb_cells = Jupyter.notebook.get_cells();\n",
       "                for (var i = 0; i < nbb_cells.length; ++i) {\n",
       "                    if (nbb_cells[i].input_prompt_number == nbb_cell_id) {\n",
       "                        if (nbb_cells[i].get_text() == nbb_unformatted_code) {\n",
       "                             nbb_cells[i].set_text(nbb_formatted_code);\n",
       "                        }\n",
       "                        break;\n",
       "                    }\n",
       "                }\n",
       "            }, 500);\n",
       "            "
      ],
      "text/plain": [
       "<IPython.core.display.Javascript object>"
      ]
     },
     "metadata": {},
     "output_type": "display_data"
    }
   ],
   "source": [
    "x, y = zip(*top_text_bigrams)\n",
    "plt.figure(1, figsize=(16, 8))\n",
    "plt.subplot(1, 1, 1)\n",
    "plt.bar(x, y)"
   ]
  },
  {
   "cell_type": "code",
   "execution_count": null,
   "metadata": {},
   "outputs": [],
   "source": []
  }
 ],
 "metadata": {
  "kernelspec": {
   "display_name": "Python 3",
   "language": "python",
   "name": "python3"
  },
  "language_info": {
   "codemirror_mode": {
    "name": "ipython",
    "version": 3
   },
   "file_extension": ".py",
   "mimetype": "text/x-python",
   "name": "python",
   "nbconvert_exporter": "python",
   "pygments_lexer": "ipython3",
   "version": "3.7.3"
  }
 },
 "nbformat": 4,
 "nbformat_minor": 4
}
