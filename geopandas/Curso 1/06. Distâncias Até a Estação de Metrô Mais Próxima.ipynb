{
 "cells": [
  {
   "cell_type": "markdown",
   "metadata": {},
   "source": [
    "# Distâncias Até a Estação de Metrô Mais Próxima"
   ]
  },
  {
   "cell_type": "markdown",
   "metadata": {},
   "source": [
    "## Fonte de Dados"
   ]
  },
  {
   "cell_type": "markdown",
   "metadata": {},
   "source": [
    "http://www.data.rio/\n",
    "\n",
    "http://www.data.rio/datasets/esta%C3%A7%C3%B5es-metr%C3%B4\n",
    "\n",
    "https://opendata.arcgis.com/datasets/7a0b22723c5a458faaae79f046163504_19.geojson"
   ]
  },
  {
   "cell_type": "code",
   "execution_count": 3,
   "metadata": {},
   "outputs": [
    {
     "data": {
      "application/javascript": [
       "\n",
       "            setTimeout(function() {\n",
       "                var nbb_cell_id = 3;\n",
       "                var nbb_unformatted_code = \"%matplotlib inline\\n%load_ext nb_black\\nimport geopandas as gpd\";\n",
       "                var nbb_formatted_code = \"%matplotlib inline\\n%load_ext nb_black\\nimport geopandas as gpd\";\n",
       "                var nbb_cells = Jupyter.notebook.get_cells();\n",
       "                for (var i = 0; i < nbb_cells.length; ++i) {\n",
       "                    if (nbb_cells[i].input_prompt_number == nbb_cell_id) {\n",
       "                        if (nbb_cells[i].get_text() == nbb_unformatted_code) {\n",
       "                             nbb_cells[i].set_text(nbb_formatted_code);\n",
       "                        }\n",
       "                        break;\n",
       "                    }\n",
       "                }\n",
       "            }, 500);\n",
       "            "
      ],
      "text/plain": [
       "<IPython.core.display.Javascript object>"
      ]
     },
     "metadata": {},
     "output_type": "display_data"
    }
   ],
   "source": [
    "%matplotlib inline\n",
    "%load_ext nb_black\n",
    "import geopandas as gpd"
   ]
  },
  {
   "cell_type": "code",
   "execution_count": 4,
   "metadata": {},
   "outputs": [
    {
     "data": {
      "application/javascript": [
       "\n",
       "            setTimeout(function() {\n",
       "                var nbb_cell_id = 4;\n",
       "                var nbb_unformatted_code = \"metro = gpd.read_file('../Dados/Transporte/Metr\\u00f4/Esta\\u00e7\\u00f5es_Metr\\u00f4.geojson')\";\n",
       "                var nbb_formatted_code = \"metro = gpd.read_file(\\\"../Dados/Transporte/Metr\\u00f4/Esta\\u00e7\\u00f5es_Metr\\u00f4.geojson\\\")\";\n",
       "                var nbb_cells = Jupyter.notebook.get_cells();\n",
       "                for (var i = 0; i < nbb_cells.length; ++i) {\n",
       "                    if (nbb_cells[i].input_prompt_number == nbb_cell_id) {\n",
       "                        if (nbb_cells[i].get_text() == nbb_unformatted_code) {\n",
       "                             nbb_cells[i].set_text(nbb_formatted_code);\n",
       "                        }\n",
       "                        break;\n",
       "                    }\n",
       "                }\n",
       "            }, 500);\n",
       "            "
      ],
      "text/plain": [
       "<IPython.core.display.Javascript object>"
      ]
     },
     "metadata": {},
     "output_type": "display_data"
    }
   ],
   "source": [
    "#carrega arquivo de localialçao das estações de metrô\n",
    "metro = gpd.read_file('../Dados/Transporte/Metrô/Estações_Metrô.geojson')"
   ]
  },
  {
   "cell_type": "code",
   "execution_count": 5,
   "metadata": {},
   "outputs": [
    {
     "data": {
      "text/html": [
       "<div>\n",
       "<style scoped>\n",
       "    .dataframe tbody tr th:only-of-type {\n",
       "        vertical-align: middle;\n",
       "    }\n",
       "\n",
       "    .dataframe tbody tr th {\n",
       "        vertical-align: top;\n",
       "    }\n",
       "\n",
       "    .dataframe thead th {\n",
       "        text-align: right;\n",
       "    }\n",
       "</style>\n",
       "<table border=\"1\" class=\"dataframe\">\n",
       "  <thead>\n",
       "    <tr style=\"text-align: right;\">\n",
       "      <th></th>\n",
       "      <th>OBJECTID</th>\n",
       "      <th>Cod</th>\n",
       "      <th>Nome</th>\n",
       "      <th>Flg_ATM</th>\n",
       "      <th>Flg_Bicicletario</th>\n",
       "      <th>Flg_Elevador</th>\n",
       "      <th>Flg_Linha1</th>\n",
       "      <th>Flg_Linha2</th>\n",
       "      <th>Obs</th>\n",
       "      <th>Flg_Ativa</th>\n",
       "      <th>...</th>\n",
       "      <th>Integra_Trem</th>\n",
       "      <th>Integra_Onibus</th>\n",
       "      <th>Integra_BRT</th>\n",
       "      <th>Corredor</th>\n",
       "      <th>Integra_VLT</th>\n",
       "      <th>Onibus</th>\n",
       "      <th>Flg_Metro_Superficie</th>\n",
       "      <th>Metro_Superficie</th>\n",
       "      <th>Data_Inauguracao</th>\n",
       "      <th>geometry</th>\n",
       "    </tr>\n",
       "  </thead>\n",
       "  <tbody>\n",
       "    <tr>\n",
       "      <th>0</th>\n",
       "      <td>1</td>\n",
       "      <td>1</td>\n",
       "      <td>Pavuna</td>\n",
       "      <td>1</td>\n",
       "      <td>1.0</td>\n",
       "      <td>1.0</td>\n",
       "      <td>0</td>\n",
       "      <td>1</td>\n",
       "      <td>None</td>\n",
       "      <td>1</td>\n",
       "      <td>...</td>\n",
       "      <td>1</td>\n",
       "      <td>0</td>\n",
       "      <td>0</td>\n",
       "      <td>None</td>\n",
       "      <td>0</td>\n",
       "      <td>None</td>\n",
       "      <td>0</td>\n",
       "      <td>None</td>\n",
       "      <td>1998</td>\n",
       "      <td>POINT (-43.36485 -22.80662)</td>\n",
       "    </tr>\n",
       "    <tr>\n",
       "      <th>1</th>\n",
       "      <td>2</td>\n",
       "      <td>2</td>\n",
       "      <td>Engenheiro Rubens Paiva</td>\n",
       "      <td>1</td>\n",
       "      <td>1.0</td>\n",
       "      <td>1.0</td>\n",
       "      <td>0</td>\n",
       "      <td>1</td>\n",
       "      <td>None</td>\n",
       "      <td>1</td>\n",
       "      <td>...</td>\n",
       "      <td>0</td>\n",
       "      <td>0</td>\n",
       "      <td>0</td>\n",
       "      <td>None</td>\n",
       "      <td>0</td>\n",
       "      <td>None</td>\n",
       "      <td>0</td>\n",
       "      <td>None</td>\n",
       "      <td>1998</td>\n",
       "      <td>POINT (-43.35845 -22.81627)</td>\n",
       "    </tr>\n",
       "    <tr>\n",
       "      <th>2</th>\n",
       "      <td>3</td>\n",
       "      <td>3</td>\n",
       "      <td>Acari / Fazenda Botafogo</td>\n",
       "      <td>0</td>\n",
       "      <td>0.0</td>\n",
       "      <td>0.0</td>\n",
       "      <td>0</td>\n",
       "      <td>1</td>\n",
       "      <td>None</td>\n",
       "      <td>1</td>\n",
       "      <td>...</td>\n",
       "      <td>0</td>\n",
       "      <td>0</td>\n",
       "      <td>0</td>\n",
       "      <td>None</td>\n",
       "      <td>0</td>\n",
       "      <td>None</td>\n",
       "      <td>0</td>\n",
       "      <td>None</td>\n",
       "      <td>1998</td>\n",
       "      <td>POINT (-43.34964 -22.82452)</td>\n",
       "    </tr>\n",
       "    <tr>\n",
       "      <th>3</th>\n",
       "      <td>4</td>\n",
       "      <td>4</td>\n",
       "      <td>Coelho Neto</td>\n",
       "      <td>1</td>\n",
       "      <td>0.0</td>\n",
       "      <td>0.0</td>\n",
       "      <td>0</td>\n",
       "      <td>1</td>\n",
       "      <td>None</td>\n",
       "      <td>1</td>\n",
       "      <td>...</td>\n",
       "      <td>0</td>\n",
       "      <td>0</td>\n",
       "      <td>0</td>\n",
       "      <td>None</td>\n",
       "      <td>0</td>\n",
       "      <td>None</td>\n",
       "      <td>0</td>\n",
       "      <td>None</td>\n",
       "      <td>1998</td>\n",
       "      <td>POINT (-43.34326 -22.83148)</td>\n",
       "    </tr>\n",
       "    <tr>\n",
       "      <th>4</th>\n",
       "      <td>5</td>\n",
       "      <td>5</td>\n",
       "      <td>Colégio</td>\n",
       "      <td>1</td>\n",
       "      <td>1.0</td>\n",
       "      <td>0.0</td>\n",
       "      <td>0</td>\n",
       "      <td>1</td>\n",
       "      <td>None</td>\n",
       "      <td>1</td>\n",
       "      <td>...</td>\n",
       "      <td>0</td>\n",
       "      <td>0</td>\n",
       "      <td>0</td>\n",
       "      <td>None</td>\n",
       "      <td>0</td>\n",
       "      <td>None</td>\n",
       "      <td>0</td>\n",
       "      <td>None</td>\n",
       "      <td>1998</td>\n",
       "      <td>POINT (-43.33386 -22.84269)</td>\n",
       "    </tr>\n",
       "  </tbody>\n",
       "</table>\n",
       "<p>5 rows × 23 columns</p>\n",
       "</div>"
      ],
      "text/plain": [
       "   OBJECTID  Cod                      Nome  Flg_ATM  Flg_Bicicletario  \\\n",
       "0         1    1                    Pavuna        1               1.0   \n",
       "1         2    2   Engenheiro Rubens Paiva        1               1.0   \n",
       "2         3    3  Acari / Fazenda Botafogo        0               0.0   \n",
       "3         4    4               Coelho Neto        1               0.0   \n",
       "4         5    5                   Colégio        1               1.0   \n",
       "\n",
       "   Flg_Elevador  Flg_Linha1  Flg_Linha2   Obs  Flg_Ativa  ... Integra_Trem  \\\n",
       "0           1.0           0           1  None          1  ...            1   \n",
       "1           1.0           0           1  None          1  ...            0   \n",
       "2           0.0           0           1  None          1  ...            0   \n",
       "3           0.0           0           1  None          1  ...            0   \n",
       "4           0.0           0           1  None          1  ...            0   \n",
       "\n",
       "  Integra_Onibus  Integra_BRT  Corredor  Integra_VLT  Onibus  \\\n",
       "0              0            0      None            0    None   \n",
       "1              0            0      None            0    None   \n",
       "2              0            0      None            0    None   \n",
       "3              0            0      None            0    None   \n",
       "4              0            0      None            0    None   \n",
       "\n",
       "  Flg_Metro_Superficie  Metro_Superficie Data_Inauguracao  \\\n",
       "0                    0              None             1998   \n",
       "1                    0              None             1998   \n",
       "2                    0              None             1998   \n",
       "3                    0              None             1998   \n",
       "4                    0              None             1998   \n",
       "\n",
       "                      geometry  \n",
       "0  POINT (-43.36485 -22.80662)  \n",
       "1  POINT (-43.35845 -22.81627)  \n",
       "2  POINT (-43.34964 -22.82452)  \n",
       "3  POINT (-43.34326 -22.83148)  \n",
       "4  POINT (-43.33386 -22.84269)  \n",
       "\n",
       "[5 rows x 23 columns]"
      ]
     },
     "execution_count": 5,
     "metadata": {},
     "output_type": "execute_result"
    },
    {
     "data": {
      "application/javascript": [
       "\n",
       "            setTimeout(function() {\n",
       "                var nbb_cell_id = 5;\n",
       "                var nbb_unformatted_code = \"metro.head()\";\n",
       "                var nbb_formatted_code = \"metro.head()\";\n",
       "                var nbb_cells = Jupyter.notebook.get_cells();\n",
       "                for (var i = 0; i < nbb_cells.length; ++i) {\n",
       "                    if (nbb_cells[i].input_prompt_number == nbb_cell_id) {\n",
       "                        if (nbb_cells[i].get_text() == nbb_unformatted_code) {\n",
       "                             nbb_cells[i].set_text(nbb_formatted_code);\n",
       "                        }\n",
       "                        break;\n",
       "                    }\n",
       "                }\n",
       "            }, 500);\n",
       "            "
      ],
      "text/plain": [
       "<IPython.core.display.Javascript object>"
      ]
     },
     "metadata": {},
     "output_type": "display_data"
    }
   ],
   "source": [
    "metro.head()"
   ]
  },
  {
   "cell_type": "code",
   "execution_count": 6,
   "metadata": {},
   "outputs": [
    {
     "data": {
      "text/plain": [
       "{'init': 'epsg:4326'}"
      ]
     },
     "execution_count": 6,
     "metadata": {},
     "output_type": "execute_result"
    },
    {
     "data": {
      "application/javascript": [
       "\n",
       "            setTimeout(function() {\n",
       "                var nbb_cell_id = 6;\n",
       "                var nbb_unformatted_code = \"metro.crs\";\n",
       "                var nbb_formatted_code = \"metro.crs\";\n",
       "                var nbb_cells = Jupyter.notebook.get_cells();\n",
       "                for (var i = 0; i < nbb_cells.length; ++i) {\n",
       "                    if (nbb_cells[i].input_prompt_number == nbb_cell_id) {\n",
       "                        if (nbb_cells[i].get_text() == nbb_unformatted_code) {\n",
       "                             nbb_cells[i].set_text(nbb_formatted_code);\n",
       "                        }\n",
       "                        break;\n",
       "                    }\n",
       "                }\n",
       "            }, 500);\n",
       "            "
      ],
      "text/plain": [
       "<IPython.core.display.Javascript object>"
      ]
     },
     "metadata": {},
     "output_type": "display_data"
    }
   ],
   "source": [
    "metro.crs"
   ]
  },
  {
   "cell_type": "code",
   "execution_count": 7,
   "metadata": {},
   "outputs": [
    {
     "data": {
      "application/javascript": [
       "\n",
       "            setTimeout(function() {\n",
       "                var nbb_cell_id = 7;\n",
       "                var nbb_unformatted_code = \"metro = metro.to_crs('+proj=utm +zone=23 +south +ellps=GRS80 +towgs84=0,0,0,0,0,0,0 +units=km +no_defs')\";\n",
       "                var nbb_formatted_code = \"metro = metro.to_crs(\\n    \\\"+proj=utm +zone=23 +south +ellps=GRS80 +towgs84=0,0,0,0,0,0,0 +units=km +no_defs\\\"\\n)\";\n",
       "                var nbb_cells = Jupyter.notebook.get_cells();\n",
       "                for (var i = 0; i < nbb_cells.length; ++i) {\n",
       "                    if (nbb_cells[i].input_prompt_number == nbb_cell_id) {\n",
       "                        if (nbb_cells[i].get_text() == nbb_unformatted_code) {\n",
       "                             nbb_cells[i].set_text(nbb_formatted_code);\n",
       "                        }\n",
       "                        break;\n",
       "                    }\n",
       "                }\n",
       "            }, 500);\n",
       "            "
      ],
      "text/plain": [
       "<IPython.core.display.Javascript object>"
      ]
     },
     "metadata": {},
     "output_type": "display_data"
    }
   ],
   "source": [
    "#converte o sistema de coordanadas do arquivo de estações para UTM para usar a unidade KM\n",
    "metro = metro.to_crs('+proj=utm +zone=23 +south +ellps=GRS80 +towgs84=0,0,0,0,0,0,0 +units=km +no_defs')"
   ]
  },
  {
   "cell_type": "code",
   "execution_count": 6,
   "metadata": {},
   "outputs": [
    {
     "data": {
      "text/plain": [
       "'+proj=utm +zone=23 +south +ellps=GRS80 +towgs84=0,0,0,0,0,0,0 +units=km +no_defs'"
      ]
     },
     "execution_count": 6,
     "metadata": {},
     "output_type": "execute_result"
    }
   ],
   "source": [
    "metro.crs"
   ]
  },
  {
   "cell_type": "code",
   "execution_count": 9,
   "metadata": {},
   "outputs": [
    {
     "data": {
      "text/html": [
       "<div>\n",
       "<style scoped>\n",
       "    .dataframe tbody tr th:only-of-type {\n",
       "        vertical-align: middle;\n",
       "    }\n",
       "\n",
       "    .dataframe tbody tr th {\n",
       "        vertical-align: top;\n",
       "    }\n",
       "\n",
       "    .dataframe thead th {\n",
       "        text-align: right;\n",
       "    }\n",
       "</style>\n",
       "<table border=\"1\" class=\"dataframe\">\n",
       "  <thead>\n",
       "    <tr style=\"text-align: right;\">\n",
       "      <th></th>\n",
       "      <th>OBJECTID</th>\n",
       "      <th>Cod</th>\n",
       "      <th>Nome</th>\n",
       "      <th>Flg_ATM</th>\n",
       "      <th>Flg_Bicicletario</th>\n",
       "      <th>Flg_Elevador</th>\n",
       "      <th>Flg_Linha1</th>\n",
       "      <th>Flg_Linha2</th>\n",
       "      <th>Obs</th>\n",
       "      <th>Flg_Ativa</th>\n",
       "      <th>...</th>\n",
       "      <th>Integra_Trem</th>\n",
       "      <th>Integra_Onibus</th>\n",
       "      <th>Integra_BRT</th>\n",
       "      <th>Corredor</th>\n",
       "      <th>Integra_VLT</th>\n",
       "      <th>Onibus</th>\n",
       "      <th>Flg_Metro_Superficie</th>\n",
       "      <th>Metro_Superficie</th>\n",
       "      <th>Data_Inauguracao</th>\n",
       "      <th>geometry</th>\n",
       "    </tr>\n",
       "  </thead>\n",
       "  <tbody>\n",
       "    <tr>\n",
       "      <th>0</th>\n",
       "      <td>1</td>\n",
       "      <td>1</td>\n",
       "      <td>Pavuna</td>\n",
       "      <td>1</td>\n",
       "      <td>1.0</td>\n",
       "      <td>1.0</td>\n",
       "      <td>0</td>\n",
       "      <td>1</td>\n",
       "      <td>None</td>\n",
       "      <td>1</td>\n",
       "      <td>...</td>\n",
       "      <td>1</td>\n",
       "      <td>0</td>\n",
       "      <td>0</td>\n",
       "      <td>None</td>\n",
       "      <td>0</td>\n",
       "      <td>None</td>\n",
       "      <td>0</td>\n",
       "      <td>None</td>\n",
       "      <td>1998</td>\n",
       "      <td>POINT (667.827 7476.959)</td>\n",
       "    </tr>\n",
       "    <tr>\n",
       "      <th>1</th>\n",
       "      <td>2</td>\n",
       "      <td>2</td>\n",
       "      <td>Engenheiro Rubens Paiva</td>\n",
       "      <td>1</td>\n",
       "      <td>1.0</td>\n",
       "      <td>1.0</td>\n",
       "      <td>0</td>\n",
       "      <td>1</td>\n",
       "      <td>None</td>\n",
       "      <td>1</td>\n",
       "      <td>...</td>\n",
       "      <td>0</td>\n",
       "      <td>0</td>\n",
       "      <td>0</td>\n",
       "      <td>None</td>\n",
       "      <td>0</td>\n",
       "      <td>None</td>\n",
       "      <td>0</td>\n",
       "      <td>None</td>\n",
       "      <td>1998</td>\n",
       "      <td>POINT (668.471 7475.883)</td>\n",
       "    </tr>\n",
       "    <tr>\n",
       "      <th>2</th>\n",
       "      <td>3</td>\n",
       "      <td>3</td>\n",
       "      <td>Acari / Fazenda Botafogo</td>\n",
       "      <td>0</td>\n",
       "      <td>0.0</td>\n",
       "      <td>0.0</td>\n",
       "      <td>0</td>\n",
       "      <td>1</td>\n",
       "      <td>None</td>\n",
       "      <td>1</td>\n",
       "      <td>...</td>\n",
       "      <td>0</td>\n",
       "      <td>0</td>\n",
       "      <td>0</td>\n",
       "      <td>None</td>\n",
       "      <td>0</td>\n",
       "      <td>None</td>\n",
       "      <td>0</td>\n",
       "      <td>None</td>\n",
       "      <td>1998</td>\n",
       "      <td>POINT (669.365 7474.959)</td>\n",
       "    </tr>\n",
       "    <tr>\n",
       "      <th>3</th>\n",
       "      <td>4</td>\n",
       "      <td>4</td>\n",
       "      <td>Coelho Neto</td>\n",
       "      <td>1</td>\n",
       "      <td>0.0</td>\n",
       "      <td>0.0</td>\n",
       "      <td>0</td>\n",
       "      <td>1</td>\n",
       "      <td>None</td>\n",
       "      <td>1</td>\n",
       "      <td>...</td>\n",
       "      <td>0</td>\n",
       "      <td>0</td>\n",
       "      <td>0</td>\n",
       "      <td>None</td>\n",
       "      <td>0</td>\n",
       "      <td>None</td>\n",
       "      <td>0</td>\n",
       "      <td>None</td>\n",
       "      <td>1998</td>\n",
       "      <td>POINT (670.012 7474.182)</td>\n",
       "    </tr>\n",
       "    <tr>\n",
       "      <th>4</th>\n",
       "      <td>5</td>\n",
       "      <td>5</td>\n",
       "      <td>Colégio</td>\n",
       "      <td>1</td>\n",
       "      <td>1.0</td>\n",
       "      <td>0.0</td>\n",
       "      <td>0</td>\n",
       "      <td>1</td>\n",
       "      <td>None</td>\n",
       "      <td>1</td>\n",
       "      <td>...</td>\n",
       "      <td>0</td>\n",
       "      <td>0</td>\n",
       "      <td>0</td>\n",
       "      <td>None</td>\n",
       "      <td>0</td>\n",
       "      <td>None</td>\n",
       "      <td>0</td>\n",
       "      <td>None</td>\n",
       "      <td>1998</td>\n",
       "      <td>POINT (670.963 7472.930)</td>\n",
       "    </tr>\n",
       "  </tbody>\n",
       "</table>\n",
       "<p>5 rows × 23 columns</p>\n",
       "</div>"
      ],
      "text/plain": [
       "   OBJECTID  Cod                      Nome  Flg_ATM  Flg_Bicicletario  \\\n",
       "0         1    1                    Pavuna        1               1.0   \n",
       "1         2    2   Engenheiro Rubens Paiva        1               1.0   \n",
       "2         3    3  Acari / Fazenda Botafogo        0               0.0   \n",
       "3         4    4               Coelho Neto        1               0.0   \n",
       "4         5    5                   Colégio        1               1.0   \n",
       "\n",
       "   Flg_Elevador  Flg_Linha1  Flg_Linha2   Obs  Flg_Ativa  ... Integra_Trem  \\\n",
       "0           1.0           0           1  None          1  ...            1   \n",
       "1           1.0           0           1  None          1  ...            0   \n",
       "2           0.0           0           1  None          1  ...            0   \n",
       "3           0.0           0           1  None          1  ...            0   \n",
       "4           0.0           0           1  None          1  ...            0   \n",
       "\n",
       "  Integra_Onibus  Integra_BRT  Corredor  Integra_VLT  Onibus  \\\n",
       "0              0            0      None            0    None   \n",
       "1              0            0      None            0    None   \n",
       "2              0            0      None            0    None   \n",
       "3              0            0      None            0    None   \n",
       "4              0            0      None            0    None   \n",
       "\n",
       "  Flg_Metro_Superficie  Metro_Superficie Data_Inauguracao  \\\n",
       "0                    0              None             1998   \n",
       "1                    0              None             1998   \n",
       "2                    0              None             1998   \n",
       "3                    0              None             1998   \n",
       "4                    0              None             1998   \n",
       "\n",
       "                   geometry  \n",
       "0  POINT (667.827 7476.959)  \n",
       "1  POINT (668.471 7475.883)  \n",
       "2  POINT (669.365 7474.959)  \n",
       "3  POINT (670.012 7474.182)  \n",
       "4  POINT (670.963 7472.930)  \n",
       "\n",
       "[5 rows x 23 columns]"
      ]
     },
     "execution_count": 9,
     "metadata": {},
     "output_type": "execute_result"
    },
    {
     "data": {
      "application/javascript": [
       "\n",
       "            setTimeout(function() {\n",
       "                var nbb_cell_id = 9;\n",
       "                var nbb_unformatted_code = \"metro.head()\";\n",
       "                var nbb_formatted_code = \"metro.head()\";\n",
       "                var nbb_cells = Jupyter.notebook.get_cells();\n",
       "                for (var i = 0; i < nbb_cells.length; ++i) {\n",
       "                    if (nbb_cells[i].input_prompt_number == nbb_cell_id) {\n",
       "                        if (nbb_cells[i].get_text() == nbb_unformatted_code) {\n",
       "                             nbb_cells[i].set_text(nbb_formatted_code);\n",
       "                        }\n",
       "                        break;\n",
       "                    }\n",
       "                }\n",
       "            }, 500);\n",
       "            "
      ],
      "text/plain": [
       "<IPython.core.display.Javascript object>"
      ]
     },
     "metadata": {},
     "output_type": "display_data"
    }
   ],
   "source": [
    "#dados convertidos\n",
    "metro.head()"
   ]
  },
  {
   "cell_type": "code",
   "execution_count": 10,
   "metadata": {},
   "outputs": [
    {
     "data": {
      "application/javascript": [
       "\n",
       "            setTimeout(function() {\n",
       "                var nbb_cell_id = 10;\n",
       "                var nbb_unformatted_code = \"rj = gpd.read_file('../Dados/Mapas/RJ-MUNIC/RJ-MUNIC.shp')\\ngeo_dados = gpd.read_file('../Dados/Mapas/RJ-DATASET/RJ-DATASET-CORRETO.shp')\";\n",
       "                var nbb_formatted_code = \"rj = gpd.read_file(\\\"../Dados/Mapas/RJ-MUNIC/RJ-MUNIC.shp\\\")\\ngeo_dados = gpd.read_file(\\\"../Dados/Mapas/RJ-DATASET/RJ-DATASET-CORRETO.shp\\\")\";\n",
       "                var nbb_cells = Jupyter.notebook.get_cells();\n",
       "                for (var i = 0; i < nbb_cells.length; ++i) {\n",
       "                    if (nbb_cells[i].input_prompt_number == nbb_cell_id) {\n",
       "                        if (nbb_cells[i].get_text() == nbb_unformatted_code) {\n",
       "                             nbb_cells[i].set_text(nbb_formatted_code);\n",
       "                        }\n",
       "                        break;\n",
       "                    }\n",
       "                }\n",
       "            }, 500);\n",
       "            "
      ],
      "text/plain": [
       "<IPython.core.display.Javascript object>"
      ]
     },
     "metadata": {},
     "output_type": "display_data"
    }
   ],
   "source": [
    "#carrega o mapa da cidade e o dataset de imóveis sem os outliers\n",
    "rj = gpd.read_file('../Dados/Mapas/RJ-MUNIC/RJ-MUNIC.shp')\n",
    "geo_dados = gpd.read_file('../Dados/Mapas/RJ-DATASET/RJ-DATASET-CORRETO.shp')"
   ]
  },
  {
   "cell_type": "code",
   "execution_count": 13,
   "metadata": {},
   "outputs": [
    {
     "data": {
      "text/plain": [
       "<matplotlib.axes._subplots.AxesSubplot at 0x1de5b75eca0>"
      ]
     },
     "execution_count": 13,
     "metadata": {},
     "output_type": "execute_result"
    },
    {
     "data": {
      "image/png": "[encoded data removed]",
      "text/plain": [
       "<Figure size 1080x576 with 1 Axes>"
      ]
     },
     "metadata": {
      "needs_background": "light"
     },
     "output_type": "display_data"
    },
    {
     "data": {
      "application/javascript": [
       "\n",
       "            setTimeout(function() {\n",
       "                var nbb_cell_id = 13;\n",
       "                var nbb_unformatted_code = \"base = rj.plot(color='white', edgecolor='black', figsize=(15, 8))\\ngeo_dados.plot(ax=base, color='orange', alpha=0.2)\\nmetro.plot(ax=base, color='blue', markersize = 50)\";\n",
       "                var nbb_formatted_code = \"base = rj.plot(color=\\\"white\\\", edgecolor=\\\"black\\\", figsize=(15, 8))\\ngeo_dados.plot(ax=base, color=\\\"orange\\\", alpha=0.2)\\nmetro.plot(ax=base, color=\\\"blue\\\", markersize=50)\";\n",
       "                var nbb_cells = Jupyter.notebook.get_cells();\n",
       "                for (var i = 0; i < nbb_cells.length; ++i) {\n",
       "                    if (nbb_cells[i].input_prompt_number == nbb_cell_id) {\n",
       "                        if (nbb_cells[i].get_text() == nbb_unformatted_code) {\n",
       "                             nbb_cells[i].set_text(nbb_formatted_code);\n",
       "                        }\n",
       "                        break;\n",
       "                    }\n",
       "                }\n",
       "            }, 500);\n",
       "            "
      ],
      "text/plain": [
       "<IPython.core.display.Javascript object>"
      ]
     },
     "metadata": {},
     "output_type": "display_data"
    }
   ],
   "source": [
    "#cria o gráfico base com o mapa da cidade\n",
    "base = rj.plot(color='white', edgecolor='black', figsize=(15, 8))\n",
    "# usa o mapa básico como entrada para plotar os dados dos imóveis\n",
    "geo_dados.plot(ax=base, color='orange', alpha=0.2)\n",
    "# usa o mapa básico para plotar os markadores das estações com tamanho 50\n",
    "metro.plot(ax=base, color='blue', markersize = 50)"
   ]
  },
  {
   "cell_type": "code",
   "execution_count": 22,
   "metadata": {},
   "outputs": [
    {
     "data": {
      "text/plain": [
       "Area                                                  138\n",
       "Bairro                           Recreio dos Bandeirantes\n",
       "Cidade                                     Rio de Janeiro\n",
       "Endereco                              Rua Vicente Scofano\n",
       "Estado                                                 RJ\n",
       "Latitude                                         -23.0165\n",
       "Longitude                                        -43.4629\n",
       "Quartos                                                 3\n",
       "Suites                                                  1\n",
       "Vagas                                                   3\n",
       "Tipo                                          Apartamento\n",
       "Transacao                                           Venda\n",
       "Valor                                             1095000\n",
       "geometry      POINT (657.5137068691058 7453.832425203198)\n",
       "Dist_Metro                                        15.6229\n",
       "Name: 0, dtype: object"
      ]
     },
     "metadata": {},
     "output_type": "display_data"
    },
    {
     "data": {
      "image/svg+xml": [
       "<svg xmlns=\"http://www.w3.org/2000/svg\" xmlns:xlink=\"http://www.w3.org/1999/xlink\" width=\"100.0\" height=\"100.0\" viewBox=\"656.5137068691058 7452.832425203198 2.0 2.0\" preserveAspectRatio=\"xMinYMin meet\"><g transform=\"matrix(1,0,0,-1,0,14907.664850406396)\"><circle cx=\"657.5137068691058\" cy=\"7453.832425203198\" r=\"0.06\" stroke=\"#555555\" stroke-width=\"0.02\" fill=\"#66cc99\" opacity=\"0.6\" /></g></svg>"
      ],
      "text/plain": [
       "<shapely.geometry.point.Point at 0x1de58d0fe50>"
      ]
     },
     "metadata": {},
     "output_type": "display_data"
    },
    {
     "data": {
      "application/javascript": [
       "\n",
       "            setTimeout(function() {\n",
       "                var nbb_cell_id = 22;\n",
       "                var nbb_unformatted_code = \"#seleciona um im\\u00f3vel para teste e confere seu ponto\\ndisplay(geo_dados.iloc[0])\\ndisplay(geo_dados.iloc[0].geometry)\";\n",
       "                var nbb_formatted_code = \"# seleciona um im\\u00f3vel para teste e confere seu ponto\\ndisplay(geo_dados.iloc[0])\\ndisplay(geo_dados.iloc[0].geometry)\";\n",
       "                var nbb_cells = Jupyter.notebook.get_cells();\n",
       "                for (var i = 0; i < nbb_cells.length; ++i) {\n",
       "                    if (nbb_cells[i].input_prompt_number == nbb_cell_id) {\n",
       "                        if (nbb_cells[i].get_text() == nbb_unformatted_code) {\n",
       "                             nbb_cells[i].set_text(nbb_formatted_code);\n",
       "                        }\n",
       "                        break;\n",
       "                    }\n",
       "                }\n",
       "            }, 500);\n",
       "            "
      ],
      "text/plain": [
       "<IPython.core.display.Javascript object>"
      ]
     },
     "metadata": {},
     "output_type": "display_data"
    }
   ],
   "source": [
    "#seleciona um imóvel para teste e confere seu ponto\n",
    "display(geo_dados.iloc[0])\n",
    "display(geo_dados.iloc[0].geometry)"
   ]
  },
  {
   "cell_type": "code",
   "execution_count": 23,
   "metadata": {},
   "outputs": [
    {
     "data": {
      "text/plain": [
       "pandas.core.series.Series"
      ]
     },
     "execution_count": 23,
     "metadata": {},
     "output_type": "execute_result"
    },
    {
     "data": {
      "application/javascript": [
       "\n",
       "            setTimeout(function() {\n",
       "                var nbb_cell_id = 23;\n",
       "                var nbb_unformatted_code = \"#calcula as dist\\u00e2ncias em linha RETA de todas esta\\u00e7\\u00f5es de metro at\\u00e9 o im\\u00f3vel do ponto iloc[0] de teste\\ndistances = metro.distance(geo_dados.iloc[0].geometry)\\ntype(distances)\";\n",
       "                var nbb_formatted_code = \"# calcula as dist\\u00e2ncias em linha RETA de todas esta\\u00e7\\u00f5es de metro at\\u00e9 o im\\u00f3vel do ponto iloc[0] de teste\\ndistances = metro.distance(geo_dados.iloc[0].geometry)\\ntype(distances)\";\n",
       "                var nbb_cells = Jupyter.notebook.get_cells();\n",
       "                for (var i = 0; i < nbb_cells.length; ++i) {\n",
       "                    if (nbb_cells[i].input_prompt_number == nbb_cell_id) {\n",
       "                        if (nbb_cells[i].get_text() == nbb_unformatted_code) {\n",
       "                             nbb_cells[i].set_text(nbb_formatted_code);\n",
       "                        }\n",
       "                        break;\n",
       "                    }\n",
       "                }\n",
       "            }, 500);\n",
       "            "
      ],
      "text/plain": [
       "<IPython.core.display.Javascript object>"
      ]
     },
     "metadata": {},
     "output_type": "display_data"
    }
   ],
   "source": [
    "#calcula as distâncias em linha RETA de todas estações de metro até o imóvel do ponto iloc[0] de teste\n",
    "distances = metro.distance(geo_dados.iloc[0].geometry)\n",
    "type(distances)"
   ]
  },
  {
   "cell_type": "code",
   "execution_count": 18,
   "metadata": {},
   "outputs": [
    {
     "data": {
      "text/plain": [
       "0    25.321516\n",
       "1    24.623350\n",
       "2    24.224237\n",
       "3    23.881158\n",
       "4    23.357575\n",
       "5    23.523396\n",
       "6    23.658163\n",
       "7    23.401048\n",
       "8    23.644084\n",
       "9    24.209373\n",
       "dtype: float64"
      ]
     },
     "execution_count": 18,
     "metadata": {},
     "output_type": "execute_result"
    },
    {
     "data": {
      "application/javascript": [
       "\n",
       "            setTimeout(function() {\n",
       "                var nbb_cell_id = 18;\n",
       "                var nbb_unformatted_code = \"distances[0:10]\";\n",
       "                var nbb_formatted_code = \"distances[0:10]\";\n",
       "                var nbb_cells = Jupyter.notebook.get_cells();\n",
       "                for (var i = 0; i < nbb_cells.length; ++i) {\n",
       "                    if (nbb_cells[i].input_prompt_number == nbb_cell_id) {\n",
       "                        if (nbb_cells[i].get_text() == nbb_unformatted_code) {\n",
       "                             nbb_cells[i].set_text(nbb_formatted_code);\n",
       "                        }\n",
       "                        break;\n",
       "                    }\n",
       "                }\n",
       "            }, 500);\n",
       "            "
      ],
      "text/plain": [
       "<IPython.core.display.Javascript object>"
      ]
     },
     "metadata": {},
     "output_type": "display_data"
    }
   ],
   "source": [
    "#10 primeiras distancias calculadas\n",
    "distances[0:10]"
   ]
  },
  {
   "cell_type": "code",
   "execution_count": 19,
   "metadata": {},
   "outputs": [
    {
     "data": {
      "text/plain": [
       "15.62293882499506"
      ]
     },
     "execution_count": 19,
     "metadata": {},
     "output_type": "execute_result"
    },
    {
     "data": {
      "application/javascript": [
       "\n",
       "            setTimeout(function() {\n",
       "                var nbb_cell_id = 19;\n",
       "                var nbb_unformatted_code = \"distances.min()\";\n",
       "                var nbb_formatted_code = \"distances.min()\";\n",
       "                var nbb_cells = Jupyter.notebook.get_cells();\n",
       "                for (var i = 0; i < nbb_cells.length; ++i) {\n",
       "                    if (nbb_cells[i].input_prompt_number == nbb_cell_id) {\n",
       "                        if (nbb_cells[i].get_text() == nbb_unformatted_code) {\n",
       "                             nbb_cells[i].set_text(nbb_formatted_code);\n",
       "                        }\n",
       "                        break;\n",
       "                    }\n",
       "                }\n",
       "            }, 500);\n",
       "            "
      ],
      "text/plain": [
       "<IPython.core.display.Javascript object>"
      ]
     },
     "metadata": {},
     "output_type": "display_data"
    }
   ],
   "source": [
    "# imprime a menor distancia\n",
    "distances.min()"
   ]
  },
  {
   "cell_type": "code",
   "execution_count": 24,
   "metadata": {},
   "outputs": [
    {
     "data": {
      "application/javascript": [
       "\n",
       "            setTimeout(function() {\n",
       "                var nbb_cell_id = 24;\n",
       "                var nbb_unformatted_code = \"#gera coluna no dataset de im\\u00f3veis com a distancia de cada ponto at\\u00e9 a esta\\u00e7\\u00e3o mais pr\\u00f3xima\\ngeo_dados['Dist_Metro'] = geo_dados['geometry'].apply(lambda x: metro.distance(x).min())\";\n",
       "                var nbb_formatted_code = \"# gera coluna no dataset de im\\u00f3veis com a distancia de cada ponto at\\u00e9 a esta\\u00e7\\u00e3o mais pr\\u00f3xima\\ngeo_dados[\\\"Dist_Metro\\\"] = geo_dados[\\\"geometry\\\"].apply(lambda x: metro.distance(x).min())\";\n",
       "                var nbb_cells = Jupyter.notebook.get_cells();\n",
       "                for (var i = 0; i < nbb_cells.length; ++i) {\n",
       "                    if (nbb_cells[i].input_prompt_number == nbb_cell_id) {\n",
       "                        if (nbb_cells[i].get_text() == nbb_unformatted_code) {\n",
       "                             nbb_cells[i].set_text(nbb_formatted_code);\n",
       "                        }\n",
       "                        break;\n",
       "                    }\n",
       "                }\n",
       "            }, 500);\n",
       "            "
      ],
      "text/plain": [
       "<IPython.core.display.Javascript object>"
      ]
     },
     "metadata": {},
     "output_type": "display_data"
    }
   ],
   "source": [
    "#gera coluna no dataset de imóveis com a distancia de cada ponto até a estação mais próxima\n",
    "geo_dados['Dist_Metro'] = geo_dados['geometry'].apply(lambda x: metro.distance(x).min())"
   ]
  },
  {
   "cell_type": "code",
   "execution_count": 25,
   "metadata": {},
   "outputs": [
    {
     "data": {
      "text/html": [
       "<div>\n",
       "<style scoped>\n",
       "    .dataframe tbody tr th:only-of-type {\n",
       "        vertical-align: middle;\n",
       "    }\n",
       "\n",
       "    .dataframe tbody tr th {\n",
       "        vertical-align: top;\n",
       "    }\n",
       "\n",
       "    .dataframe thead th {\n",
       "        text-align: right;\n",
       "    }\n",
       "</style>\n",
       "<table border=\"1\" class=\"dataframe\">\n",
       "  <thead>\n",
       "    <tr style=\"text-align: right;\">\n",
       "      <th></th>\n",
       "      <th>Area</th>\n",
       "      <th>Bairro</th>\n",
       "      <th>Cidade</th>\n",
       "      <th>Endereco</th>\n",
       "      <th>Estado</th>\n",
       "      <th>Latitude</th>\n",
       "      <th>Longitude</th>\n",
       "      <th>Quartos</th>\n",
       "      <th>Suites</th>\n",
       "      <th>Vagas</th>\n",
       "      <th>Tipo</th>\n",
       "      <th>Transacao</th>\n",
       "      <th>Valor</th>\n",
       "      <th>geometry</th>\n",
       "      <th>Dist_Metro</th>\n",
       "    </tr>\n",
       "  </thead>\n",
       "  <tbody>\n",
       "    <tr>\n",
       "      <th>0</th>\n",
       "      <td>138</td>\n",
       "      <td>Recreio dos Bandeirantes</td>\n",
       "      <td>Rio de Janeiro</td>\n",
       "      <td>Rua Vicente Scofano</td>\n",
       "      <td>RJ</td>\n",
       "      <td>-23.016455</td>\n",
       "      <td>-43.462946</td>\n",
       "      <td>3</td>\n",
       "      <td>1</td>\n",
       "      <td>3</td>\n",
       "      <td>Apartamento</td>\n",
       "      <td>Venda</td>\n",
       "      <td>1095000</td>\n",
       "      <td>POINT (657.514 7453.832)</td>\n",
       "      <td>15.622939</td>\n",
       "    </tr>\n",
       "    <tr>\n",
       "      <th>1</th>\n",
       "      <td>133</td>\n",
       "      <td>Freguesia (Jacarepaguá)</td>\n",
       "      <td>Rio de Janeiro</td>\n",
       "      <td>Rua Potiguara</td>\n",
       "      <td>RJ</td>\n",
       "      <td>-22.943199</td>\n",
       "      <td>-43.336911</td>\n",
       "      <td>3</td>\n",
       "      <td>1</td>\n",
       "      <td>2</td>\n",
       "      <td>Apartamento</td>\n",
       "      <td>Venda</td>\n",
       "      <td>650000</td>\n",
       "      <td>POINT (670.524 7461.803)</td>\n",
       "      <td>7.530741</td>\n",
       "    </tr>\n",
       "    <tr>\n",
       "      <th>2</th>\n",
       "      <td>46</td>\n",
       "      <td>Pilares</td>\n",
       "      <td>Rio de Janeiro</td>\n",
       "      <td>Rua Professor Carneiro Felipe</td>\n",
       "      <td>RJ</td>\n",
       "      <td>-22.873849</td>\n",
       "      <td>-43.300517</td>\n",
       "      <td>1</td>\n",
       "      <td>0</td>\n",
       "      <td>0</td>\n",
       "      <td>Apartamento</td>\n",
       "      <td>Venda</td>\n",
       "      <td>150000</td>\n",
       "      <td>POINT (674.345 7469.440)</td>\n",
       "      <td>0.736973</td>\n",
       "    </tr>\n",
       "    <tr>\n",
       "      <th>3</th>\n",
       "      <td>65</td>\n",
       "      <td>Barra da Tijuca</td>\n",
       "      <td>Rio de Janeiro</td>\n",
       "      <td>Avenida Salvador Allende</td>\n",
       "      <td>RJ</td>\n",
       "      <td>-22.984787</td>\n",
       "      <td>-43.412703</td>\n",
       "      <td>2</td>\n",
       "      <td>1</td>\n",
       "      <td>1</td>\n",
       "      <td>Apartamento</td>\n",
       "      <td>Venda</td>\n",
       "      <td>430000</td>\n",
       "      <td>POINT (662.701 7457.284)</td>\n",
       "      <td>10.718039</td>\n",
       "    </tr>\n",
       "    <tr>\n",
       "      <th>4</th>\n",
       "      <td>260</td>\n",
       "      <td>Recreio dos Bandeirantes</td>\n",
       "      <td>Rio de Janeiro</td>\n",
       "      <td>Rua Desembargador Paulo Alonso</td>\n",
       "      <td>RJ</td>\n",
       "      <td>-23.018927</td>\n",
       "      <td>-43.477505</td>\n",
       "      <td>3</td>\n",
       "      <td>1</td>\n",
       "      <td>2</td>\n",
       "      <td>Apartamento</td>\n",
       "      <td>Venda</td>\n",
       "      <td>1160000</td>\n",
       "      <td>POINT (656.019 7453.574)</td>\n",
       "      <td>17.131159</td>\n",
       "    </tr>\n",
       "  </tbody>\n",
       "</table>\n",
       "</div>"
      ],
      "text/plain": [
       "   Area                    Bairro          Cidade  \\\n",
       "0   138  Recreio dos Bandeirantes  Rio de Janeiro   \n",
       "1   133   Freguesia (Jacarepaguá)  Rio de Janeiro   \n",
       "2    46                   Pilares  Rio de Janeiro   \n",
       "3    65           Barra da Tijuca  Rio de Janeiro   \n",
       "4   260  Recreio dos Bandeirantes  Rio de Janeiro   \n",
       "\n",
       "                         Endereco Estado   Latitude  Longitude  Quartos  \\\n",
       "0             Rua Vicente Scofano     RJ -23.016455 -43.462946        3   \n",
       "1                   Rua Potiguara     RJ -22.943199 -43.336911        3   \n",
       "2   Rua Professor Carneiro Felipe     RJ -22.873849 -43.300517        1   \n",
       "3        Avenida Salvador Allende     RJ -22.984787 -43.412703        2   \n",
       "4  Rua Desembargador Paulo Alonso     RJ -23.018927 -43.477505        3   \n",
       "\n",
       "   Suites  Vagas         Tipo Transacao    Valor                  geometry  \\\n",
       "0       1      3  Apartamento     Venda  1095000  POINT (657.514 7453.832)   \n",
       "1       1      2  Apartamento     Venda   650000  POINT (670.524 7461.803)   \n",
       "2       0      0  Apartamento     Venda   150000  POINT (674.345 7469.440)   \n",
       "3       1      1  Apartamento     Venda   430000  POINT (662.701 7457.284)   \n",
       "4       1      2  Apartamento     Venda  1160000  POINT (656.019 7453.574)   \n",
       "\n",
       "   Dist_Metro  \n",
       "0   15.622939  \n",
       "1    7.530741  \n",
       "2    0.736973  \n",
       "3   10.718039  \n",
       "4   17.131159  "
      ]
     },
     "execution_count": 25,
     "metadata": {},
     "output_type": "execute_result"
    },
    {
     "data": {
      "application/javascript": [
       "\n",
       "            setTimeout(function() {\n",
       "                var nbb_cell_id = 25;\n",
       "                var nbb_unformatted_code = \"geo_dados.head()\";\n",
       "                var nbb_formatted_code = \"geo_dados.head()\";\n",
       "                var nbb_cells = Jupyter.notebook.get_cells();\n",
       "                for (var i = 0; i < nbb_cells.length; ++i) {\n",
       "                    if (nbb_cells[i].input_prompt_number == nbb_cell_id) {\n",
       "                        if (nbb_cells[i].get_text() == nbb_unformatted_code) {\n",
       "                             nbb_cells[i].set_text(nbb_formatted_code);\n",
       "                        }\n",
       "                        break;\n",
       "                    }\n",
       "                }\n",
       "            }, 500);\n",
       "            "
      ],
      "text/plain": [
       "<IPython.core.display.Javascript object>"
      ]
     },
     "metadata": {},
     "output_type": "display_data"
    }
   ],
   "source": [
    "geo_dados.head()"
   ]
  },
  {
   "cell_type": "code",
   "execution_count": 26,
   "metadata": {},
   "outputs": [
    {
     "data": {
      "text/html": [
       "<div>\n",
       "<style scoped>\n",
       "    .dataframe tbody tr th:only-of-type {\n",
       "        vertical-align: middle;\n",
       "    }\n",
       "\n",
       "    .dataframe tbody tr th {\n",
       "        vertical-align: top;\n",
       "    }\n",
       "\n",
       "    .dataframe thead th {\n",
       "        text-align: right;\n",
       "    }\n",
       "</style>\n",
       "<table border=\"1\" class=\"dataframe\">\n",
       "  <thead>\n",
       "    <tr style=\"text-align: right;\">\n",
       "      <th></th>\n",
       "      <th>Area</th>\n",
       "      <th>Latitude</th>\n",
       "      <th>Longitude</th>\n",
       "      <th>Quartos</th>\n",
       "      <th>Suites</th>\n",
       "      <th>Vagas</th>\n",
       "      <th>Valor</th>\n",
       "      <th>Dist_Metro</th>\n",
       "    </tr>\n",
       "  </thead>\n",
       "  <tbody>\n",
       "    <tr>\n",
       "      <th>Area</th>\n",
       "      <td>1.000000</td>\n",
       "      <td>-0.289299</td>\n",
       "      <td>0.029982</td>\n",
       "      <td>0.681112</td>\n",
       "      <td>0.585817</td>\n",
       "      <td>0.594699</td>\n",
       "      <td>0.724397</td>\n",
       "      <td>-0.036671</td>\n",
       "    </tr>\n",
       "    <tr>\n",
       "      <th>Latitude</th>\n",
       "      <td>-0.289299</td>\n",
       "      <td>1.000000</td>\n",
       "      <td>0.292822</td>\n",
       "      <td>-0.225226</td>\n",
       "      <td>-0.346480</td>\n",
       "      <td>-0.274707</td>\n",
       "      <td>-0.299038</td>\n",
       "      <td>-0.217864</td>\n",
       "    </tr>\n",
       "    <tr>\n",
       "      <th>Longitude</th>\n",
       "      <td>0.029982</td>\n",
       "      <td>0.292822</td>\n",
       "      <td>1.000000</td>\n",
       "      <td>-0.016882</td>\n",
       "      <td>-0.221548</td>\n",
       "      <td>-0.283960</td>\n",
       "      <td>0.191868</td>\n",
       "      <td>-0.874788</td>\n",
       "    </tr>\n",
       "    <tr>\n",
       "      <th>Quartos</th>\n",
       "      <td>0.681112</td>\n",
       "      <td>-0.225226</td>\n",
       "      <td>-0.016882</td>\n",
       "      <td>1.000000</td>\n",
       "      <td>0.529611</td>\n",
       "      <td>0.520499</td>\n",
       "      <td>0.481216</td>\n",
       "      <td>0.021794</td>\n",
       "    </tr>\n",
       "    <tr>\n",
       "      <th>Suites</th>\n",
       "      <td>0.585817</td>\n",
       "      <td>-0.346480</td>\n",
       "      <td>-0.221548</td>\n",
       "      <td>0.529611</td>\n",
       "      <td>1.000000</td>\n",
       "      <td>0.621140</td>\n",
       "      <td>0.464075</td>\n",
       "      <td>0.188521</td>\n",
       "    </tr>\n",
       "    <tr>\n",
       "      <th>Vagas</th>\n",
       "      <td>0.594699</td>\n",
       "      <td>-0.274707</td>\n",
       "      <td>-0.283960</td>\n",
       "      <td>0.520499</td>\n",
       "      <td>0.621140</td>\n",
       "      <td>1.000000</td>\n",
       "      <td>0.456596</td>\n",
       "      <td>0.215787</td>\n",
       "    </tr>\n",
       "    <tr>\n",
       "      <th>Valor</th>\n",
       "      <td>0.724397</td>\n",
       "      <td>-0.299038</td>\n",
       "      <td>0.191868</td>\n",
       "      <td>0.481216</td>\n",
       "      <td>0.464075</td>\n",
       "      <td>0.456596</td>\n",
       "      <td>1.000000</td>\n",
       "      <td>-0.195641</td>\n",
       "    </tr>\n",
       "    <tr>\n",
       "      <th>Dist_Metro</th>\n",
       "      <td>-0.036671</td>\n",
       "      <td>-0.217864</td>\n",
       "      <td>-0.874788</td>\n",
       "      <td>0.021794</td>\n",
       "      <td>0.188521</td>\n",
       "      <td>0.215787</td>\n",
       "      <td>-0.195641</td>\n",
       "      <td>1.000000</td>\n",
       "    </tr>\n",
       "  </tbody>\n",
       "</table>\n",
       "</div>"
      ],
      "text/plain": [
       "                Area  Latitude  Longitude   Quartos    Suites     Vagas  \\\n",
       "Area        1.000000 -0.289299   0.029982  0.681112  0.585817  0.594699   \n",
       "Latitude   -0.289299  1.000000   0.292822 -0.225226 -0.346480 -0.274707   \n",
       "Longitude   0.029982  0.292822   1.000000 -0.016882 -0.221548 -0.283960   \n",
       "Quartos     0.681112 -0.225226  -0.016882  1.000000  0.529611  0.520499   \n",
       "Suites      0.585817 -0.346480  -0.221548  0.529611  1.000000  0.621140   \n",
       "Vagas       0.594699 -0.274707  -0.283960  0.520499  0.621140  1.000000   \n",
       "Valor       0.724397 -0.299038   0.191868  0.481216  0.464075  0.456596   \n",
       "Dist_Metro -0.036671 -0.217864  -0.874788  0.021794  0.188521  0.215787   \n",
       "\n",
       "               Valor  Dist_Metro  \n",
       "Area        0.724397   -0.036671  \n",
       "Latitude   -0.299038   -0.217864  \n",
       "Longitude   0.191868   -0.874788  \n",
       "Quartos     0.481216    0.021794  \n",
       "Suites      0.464075    0.188521  \n",
       "Vagas       0.456596    0.215787  \n",
       "Valor       1.000000   -0.195641  \n",
       "Dist_Metro -0.195641    1.000000  "
      ]
     },
     "execution_count": 26,
     "metadata": {},
     "output_type": "execute_result"
    },
    {
     "data": {
      "application/javascript": [
       "\n",
       "            setTimeout(function() {\n",
       "                var nbb_cell_id = 26;\n",
       "                var nbb_unformatted_code = \"#exibe o coeficiente de correla\\u00e7\\u00e3o de pearson de todas colunas\\ngeo_dados.corr()\";\n",
       "                var nbb_formatted_code = \"# exibe o coeficiente de correla\\u00e7\\u00e3o de pearson de todas colunas\\ngeo_dados.corr()\";\n",
       "                var nbb_cells = Jupyter.notebook.get_cells();\n",
       "                for (var i = 0; i < nbb_cells.length; ++i) {\n",
       "                    if (nbb_cells[i].input_prompt_number == nbb_cell_id) {\n",
       "                        if (nbb_cells[i].get_text() == nbb_unformatted_code) {\n",
       "                             nbb_cells[i].set_text(nbb_formatted_code);\n",
       "                        }\n",
       "                        break;\n",
       "                    }\n",
       "                }\n",
       "            }, 500);\n",
       "            "
      ],
      "text/plain": [
       "<IPython.core.display.Javascript object>"
      ]
     },
     "metadata": {},
     "output_type": "display_data"
    }
   ],
   "source": [
    "#exibe o coeficiente de correlação de pearson de todas colunas\n",
    "geo_dados.corr()"
   ]
  },
  {
   "cell_type": "code",
   "execution_count": 29,
   "metadata": {},
   "outputs": [
    {
     "data": {
      "text/plain": [
       "-0.19564083161686813"
      ]
     },
     "execution_count": 29,
     "metadata": {},
     "output_type": "execute_result"
    },
    {
     "data": {
      "application/javascript": [
       "\n",
       "            setTimeout(function() {\n",
       "                var nbb_cell_id = 29;\n",
       "                var nbb_unformatted_code = \"#identifica apenas o coeficiente de correla\\u00e7\\u00e3o da coluna target (VALOR), com a nova coluna de dist\\u00e2ncia at\\u00e9 a esta\\u00e7\\u00e3o mais pr\\u00f3xima\\ncoef = geo_dados['Valor'].corr(geo_dados['Dist_Metro'])\\n\\n#dado que o valor resultante do coeficiente \\u00e9 negativo, quer dizer que conforme maior a distancia da esta\\u00e7\\u00e3o, o n\\u00famero fica um negativo maior e consequentemente, \\n#reduz o valor do im\\u00f3vel, revisar coeficiente de corre\\u00e7\\u00e3o de pearson\\ncoef\";\n",
       "                var nbb_formatted_code = \"# identifica apenas o coeficiente de correla\\u00e7\\u00e3o da coluna target (VALOR), com a nova coluna de dist\\u00e2ncia at\\u00e9 a esta\\u00e7\\u00e3o mais pr\\u00f3xima\\ncoef = geo_dados[\\\"Valor\\\"].corr(geo_dados[\\\"Dist_Metro\\\"])\\n\\n# dado que o valor resultante do coeficiente \\u00e9 negativo, quer dizer que conforme maior a distancia da esta\\u00e7\\u00e3o, o n\\u00famero fica um negativo maior e consequentemente,\\n# reduz o valor do im\\u00f3vel, revisar coeficiente de corre\\u00e7\\u00e3o de pearson\\ncoef\";\n",
       "                var nbb_cells = Jupyter.notebook.get_cells();\n",
       "                for (var i = 0; i < nbb_cells.length; ++i) {\n",
       "                    if (nbb_cells[i].input_prompt_number == nbb_cell_id) {\n",
       "                        if (nbb_cells[i].get_text() == nbb_unformatted_code) {\n",
       "                             nbb_cells[i].set_text(nbb_formatted_code);\n",
       "                        }\n",
       "                        break;\n",
       "                    }\n",
       "                }\n",
       "            }, 500);\n",
       "            "
      ],
      "text/plain": [
       "<IPython.core.display.Javascript object>"
      ]
     },
     "metadata": {},
     "output_type": "display_data"
    }
   ],
   "source": [
    "#identifica apenas o coeficiente de correlação da coluna target (VALOR), com a nova coluna de distância até a estação mais próxima\n",
    "coef = geo_dados['Valor'].corr(geo_dados['Dist_Metro'])\n",
    "\n",
    "#dado que o valor resultante do coeficiente é negativo, quer dizer que conforme maior a distancia da estação, o número fica um negativo maior e consequentemente, \n",
    "#reduz o valor do imóvel, revisar coeficiente de correção de pearson\n",
    "coef"
   ]
  },
  {
   "cell_type": "code",
   "execution_count": 31,
   "metadata": {},
   "outputs": [
    {
     "data": {
      "text/plain": [
       "-0.19564083161686813"
      ]
     },
     "metadata": {},
     "output_type": "display_data"
    },
    {
     "data": {
      "text/plain": [
       "-1.9564083161686812"
      ]
     },
     "metadata": {},
     "output_type": "display_data"
    },
    {
     "data": {
      "application/javascript": [
       "\n",
       "            setTimeout(function() {\n",
       "                var nbb_cell_id = 31;\n",
       "                var nbb_unformatted_code = \"display(1 * coef) #1 km\\ndisplay(10 * coef) #10 km\";\n",
       "                var nbb_formatted_code = \"display(1 * coef)  # 1 km\\ndisplay(10 * coef)  # 10 km\";\n",
       "                var nbb_cells = Jupyter.notebook.get_cells();\n",
       "                for (var i = 0; i < nbb_cells.length; ++i) {\n",
       "                    if (nbb_cells[i].input_prompt_number == nbb_cell_id) {\n",
       "                        if (nbb_cells[i].get_text() == nbb_unformatted_code) {\n",
       "                             nbb_cells[i].set_text(nbb_formatted_code);\n",
       "                        }\n",
       "                        break;\n",
       "                    }\n",
       "                }\n",
       "            }, 500);\n",
       "            "
      ],
      "text/plain": [
       "<IPython.core.display.Javascript object>"
      ]
     },
     "metadata": {},
     "output_type": "display_data"
    }
   ],
   "source": [
    "display(1 * coef) #1 km\n",
    "display(10 * coef) #10 km"
   ]
  },
  {
   "cell_type": "code",
   "execution_count": 32,
   "metadata": {},
   "outputs": [
    {
     "data": {
      "application/javascript": [
       "\n",
       "            setTimeout(function() {\n",
       "                var nbb_cell_id = 32;\n",
       "                var nbb_unformatted_code = \"geo_dados.to_file('../Dados/Mapas/RJ-DATASET/RJ-DATASET-DIST.shp')\";\n",
       "                var nbb_formatted_code = \"geo_dados.to_file(\\\"../Dados/Mapas/RJ-DATASET/RJ-DATASET-DIST.shp\\\")\";\n",
       "                var nbb_cells = Jupyter.notebook.get_cells();\n",
       "                for (var i = 0; i < nbb_cells.length; ++i) {\n",
       "                    if (nbb_cells[i].input_prompt_number == nbb_cell_id) {\n",
       "                        if (nbb_cells[i].get_text() == nbb_unformatted_code) {\n",
       "                             nbb_cells[i].set_text(nbb_formatted_code);\n",
       "                        }\n",
       "                        break;\n",
       "                    }\n",
       "                }\n",
       "            }, 500);\n",
       "            "
      ],
      "text/plain": [
       "<IPython.core.display.Javascript object>"
      ]
     },
     "metadata": {},
     "output_type": "display_data"
    }
   ],
   "source": [
    "geo_dados.to_file('../Dados/Mapas/RJ-DATASET/RJ-DATASET-DIST.shp')"
   ]
  }
 ],
 "metadata": {
  "kernelspec": {
   "display_name": "Python 3",
   "language": "python",
   "name": "python3"
  },
  "language_info": {
   "codemirror_mode": {
    "name": "ipython",
    "version": 3
   },
   "file_extension": ".py",
   "mimetype": "text/x-python",
   "name": "python",
   "nbconvert_exporter": "python",
   "pygments_lexer": "ipython3",
   "version": "3.8.1"
  }
 },
 "nbformat": 4,
 "nbformat_minor": 4
}
