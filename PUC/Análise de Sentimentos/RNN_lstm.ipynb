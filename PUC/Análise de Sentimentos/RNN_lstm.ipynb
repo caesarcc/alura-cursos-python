{
  "nbformat": 4,
  "nbformat_minor": 0,
  "metadata": {
    "colab": {
      "name": "w2v_lstm.ipynb",
      "provenance": [],
      "collapsed_sections": []
    },
    "kernelspec": {
      "name": "python3",
      "display_name": "Python 3"
    },
    "accelerator": "GPU"
  },
  "cells": [
    {
      "cell_type": "code",
      "metadata": {
        "id": "ZhQGsjzz8cUw",
        "colab_type": "code",
        "outputId": "67b84a6f-e06e-4abd-9df4-1048477a2fbe",
        "colab": {
          "base_uri": "https://localhost:8080/",
          "height": 35
        }
      },
      "source": [
        "import tensorflow as tf\n",
        "tf.config.experimental.list_physical_devices('GPU')"
      ],
      "execution_count": 0,
      "outputs": [
        {
          "output_type": "execute_result",
          "data": {
            "text/plain": [
              "[PhysicalDevice(name='/physical_device:GPU:0', device_type='GPU')]"
            ]
          },
          "metadata": {
            "tags": []
          },
          "execution_count": 499
        }
      ]
    },
    {
      "cell_type": "code",
      "metadata": {
        "id": "PYSrKL_D_ixu",
        "colab_type": "code",
        "colab": {}
      },
      "source": [
        "from keras.preprocessing.sequence import pad_sequences\n",
        "from sklearn.metrics import confusion_matrix, roc_curve,  roc_auc_score, classification_report\n",
        "import matplotlib.pyplot as plt\n",
        "%matplotlib inline\n",
        "import keras\n",
        "from keras.datasets import imdb\n",
        "\n",
        "from keras import Sequential\n",
        "from keras.layers import Embedding, Dense, LSTM, Dropout, SpatialDropout1D, SimpleRNN\n",
        "from keras.callbacks import ModelCheckpoint\n",
        "import os\n",
        "import numpy as np\n",
        "\n",
        "from pydrive.auth import GoogleAuth\n",
        "from pydrive.drive import GoogleDrive\n",
        "from google.colab import auth\n",
        "from oauth2client.client import GoogleCredentials\n",
        "import gensim.models.keyedvectors as word2vec\n",
        "from keras.datasets import imdb\n",
        "\n",
        "from numpy.random import seed\n",
        "seed(1)"
      ],
      "execution_count": 0,
      "outputs": []
    },
    {
      "cell_type": "markdown",
      "metadata": {
        "id": "iTQGTndChWkZ",
        "colab_type": "text"
      },
      "source": [
        "Download dos dados do word2vec \n",
        "*Disponível* em https://code.google.com/archive/p/word2vec/"
      ]
    },
    {
      "cell_type": "code",
      "metadata": {
        "id": "1Kcd2NKVmH9a",
        "colab_type": "code",
        "colab": {}
      },
      "source": [
        "auth.authenticate_user()\n",
        "gauth = GoogleAuth()\n",
        "gauth.credentials = GoogleCredentials.get_application_default()\n",
        "drive = GoogleDrive(gauth)\n",
        "\n",
        "downloaded = drive.CreateFile({'id':\"id_de_seu_arquivo\"})   # replace the id with id of file you want to access\n",
        "downloaded.GetContentFile('GoogleNews-vectors-negative300.bin.gz')        # replace the file name with your file\n"
      ],
      "execution_count": 0,
      "outputs": []
    },
    {
      "cell_type": "markdown",
      "metadata": {
        "id": "ULteQQSef5hI",
        "colab_type": "text"
      },
      "source": [
        "**Carregar modelo de word embeddings word2vec**"
      ]
    },
    {
      "cell_type": "code",
      "metadata": {
        "id": "GLkrZ_7JD6qI",
        "colab_type": "code",
        "outputId": "d84d0f87-65c1-41e3-fb0d-787b6d2f0d0c",
        "colab": {
          "base_uri": "https://localhost:8080/",
          "height": 74
        }
      },
      "source": [
        "w2vModel = word2vec.KeyedVectors.load_word2vec_format('GoogleNews-vectors-negative300.bin.gz', binary=True, limit=10000)"
      ],
      "execution_count": 0,
      "outputs": [
        {
          "output_type": "stream",
          "text": [
            "/usr/local/lib/python3.6/dist-packages/smart_open/smart_open_lib.py:253: UserWarning: This function is deprecated, use smart_open.open instead. See the migration notes for details: https://github.com/RaRe-Technologies/smart_open/blob/master/README.rst#migrating-to-the-new-open-function\n",
            "  'See the migration notes for details: %s' % _MIGRATION_NOTES_URL\n"
          ],
          "name": "stderr"
        }
      ]
    },
    {
      "cell_type": "code",
      "metadata": {
        "id": "Eb69jV0FCNgn",
        "colab_type": "code",
        "colab": {}
      },
      "source": [
        "\n"
      ],
      "execution_count": 0,
      "outputs": []
    },
    {
      "cell_type": "markdown",
      "metadata": {
        "id": "CwBs2ahbgI_U",
        "colab_type": "text"
      },
      "source": [
        "**Carregar IMDB dataset** \n",
        "\n",
        "25mil instâncias preprocessadas"
      ]
    },
    {
      "cell_type": "code",
      "metadata": {
        "id": "ZziBmL8zrYaL",
        "colab_type": "code",
        "colab": {}
      },
      "source": [
        "nwords = 10e5\n",
        "(x_train, y_train), (x_valid, y_valid) = imdb.load_data(num_words=nwords)"
      ],
      "execution_count": 0,
      "outputs": []
    },
    {
      "cell_type": "code",
      "metadata": {
        "id": "23SdgQz2rYfZ",
        "colab_type": "code",
        "colab": {}
      },
      "source": [
        "max_len=100\n",
        "X_train = pad_sequences(x_train, maxlen=max_len, padding='post' )\n",
        "X_test = pad_sequences(x_valid, maxlen=max_len, padding='post')"
      ],
      "execution_count": 0,
      "outputs": []
    },
    {
      "cell_type": "code",
      "metadata": {
        "id": "6XRNxWXagj5B",
        "colab_type": "code",
        "outputId": "1d6aa564-b91f-4c1f-a977-dca4ddfbd37c",
        "colab": {
          "base_uri": "https://localhost:8080/",
          "height": 90
        }
      },
      "source": [
        "sequence = [[1], [2, 3], [4, 5, 6]]\n",
        "print(sequence)\n",
        "print(tf.keras.preprocessing.sequence.pad_sequences(sequence, padding='post', maxlen=2))\n"
      ],
      "execution_count": 0,
      "outputs": [
        {
          "output_type": "stream",
          "text": [
            "[[1], [2, 3], [4, 5, 6]]\n",
            "[[1 0]\n",
            " [2 3]\n",
            " [5 6]]\n"
          ],
          "name": "stdout"
        }
      ]
    },
    {
      "cell_type": "code",
      "metadata": {
        "id": "2DFUlE_QhvaQ",
        "colab_type": "code",
        "outputId": "9fb5a26a-0b7f-4bc4-cb7c-f753cc6235ce",
        "colab": {
          "base_uri": "https://localhost:8080/",
          "height": 302
        }
      },
      "source": [
        "text_len = [len(x_train[i]) for i in range(len(x_train))]\n",
        "print(\" Média de tamanho das reviews\", np.mean(text_len))\n",
        "print(\" Desvio padrãão do tamanho das reviews\", np.std(text_len))\n",
        "plt.boxplot(text_len)\n",
        "plt.show()"
      ],
      "execution_count": 0,
      "outputs": [
        {
          "output_type": "stream",
          "text": [
            " Média de tamanho das reviews 238.71364\n",
            " Desvio padrãão do tamanho das reviews 176.49367364852034\n"
          ],
          "name": "stdout"
        },
        {
          "output_type": "display_data",
          "data": {
            "image/png": "[encoded data removed]",
            "text/plain": [
              "<Figure size 432x288 with 1 Axes>"
            ]
          },
          "metadata": {
            "tags": [],
            "needs_background": "light"
          }
        }
      ]
    },
    {
      "cell_type": "code",
      "metadata": {
        "id": "8DEdXc1yiNXJ",
        "colab_type": "code",
        "outputId": "ffad85de-8a3c-4657-8639-1f72b2c21b40",
        "colab": {
          "base_uri": "https://localhost:8080/",
          "height": 55
        }
      },
      "source": [
        "data_id= imdb.get_word_index()\n",
        "\n",
        "word_and_index={i: word for word, i in data_id.items()}\n",
        "review_words= [word_and_index.get(i, ' ') for i in x_train[0]]\n",
        "print(review_words)"
      ],
      "execution_count": 0,
      "outputs": [
        {
          "output_type": "stream",
          "text": [
            "['the', 'as', 'you', 'with', 'out', 'themselves', 'powerful', 'lets', 'loves', 'their', 'becomes', 'reaching', 'had', 'journalist', 'of', 'lot', 'from', 'anyone', 'to', 'have', 'after', 'out', 'atmosphere', 'never', 'more', 'room', 'titillate', 'it', 'so', 'heart', 'shows', 'to', 'years', 'of', 'every', 'never', 'going', 'villaronga', 'help', 'moments', 'or', 'of', 'every', 'chest', 'visual', 'movie', 'except', 'her', 'was', 'several', 'of', 'enough', 'more', 'with', 'is', 'now', 'current', 'film', 'as', 'you', 'of', 'mine', 'potentially', 'unfortunately', 'of', 'you', 'than', 'him', 'that', 'with', 'out', 'themselves', 'her', 'get', 'for', 'was', 'camp', 'of', 'you', 'movie', 'sometimes', 'movie', 'that', 'with', 'scary', 'but', 'pratfalls', 'to', 'story', 'wonderful', 'that', 'in', 'seeing', 'in', 'character', 'to', 'of', '70s', 'musicians', 'with', 'heart', 'had', 'shadows', 'they', 'of', 'here', 'that', 'with', 'her', 'serious', 'to', 'have', 'does', 'when', 'from', 'why', 'what', 'have', 'critics', 'they', 'is', 'you', 'that', \"isn't\", 'one', 'will', 'very', 'to', 'as', 'itself', 'with', 'other', 'tricky', 'in', 'of', 'seen', 'over', 'landed', 'for', 'anyone', 'of', \"gilmore's\", 'br', \"show's\", 'to', 'whether', 'from', 'than', 'out', 'themselves', 'history', 'he', 'name', 'half', 'some', 'br', 'of', \"'n\", 'odd', 'was', 'two', 'most', 'of', 'mean', 'for', '1', 'any', 'an', 'boat', 'she', 'he', 'should', 'is', 'thought', 'frog', 'but', 'of', 'script', 'you', 'not', 'while', 'history', 'he', 'heart', 'to', 'real', 'at', 'barrel', 'but', 'when', 'from', 'one', 'bit', 'then', 'have', 'two', 'of', 'script', 'their', 'with', 'her', 'nobody', 'most', 'that', 'with', \"wasn't\", 'to', 'with', 'armed', 'acting', 'watch', 'an', 'for', 'with', 'heartfelt', 'film', 'want', 'an']\n"
          ],
          "name": "stdout"
        }
      ]
    },
    {
      "cell_type": "code",
      "metadata": {
        "id": "GbHggqQhPUW7",
        "colab_type": "code",
        "outputId": "71f791a1-a457-4985-cb84-b9d1ba3341dd",
        "colab": {
          "base_uri": "https://localhost:8080/",
          "height": 90
        }
      },
      "source": [
        "embeddings_index = {}\n",
        "for w in w2vModel.wv.vocab.keys():\n",
        "    embeddings_index[w] = w2vModel.wv[w]"
      ],
      "execution_count": 0,
      "outputs": [
        {
          "output_type": "stream",
          "text": [
            "/usr/local/lib/python3.6/dist-packages/ipykernel_launcher.py:2: DeprecationWarning: Call to deprecated `wv` (Attribute will be removed in 4.0.0, use self instead).\n",
            "  \n",
            "/usr/local/lib/python3.6/dist-packages/ipykernel_launcher.py:3: DeprecationWarning: Call to deprecated `wv` (Attribute will be removed in 4.0.0, use self instead).\n",
            "  This is separate from the ipykernel package so we can avoid doing imports until\n"
          ],
          "name": "stderr"
        }
      ]
    },
    {
      "cell_type": "code",
      "metadata": {
        "id": "e79CCBSyPm9z",
        "colab_type": "code",
        "colab": {}
      },
      "source": [
        "num_words = 10000\n",
        "embedding_matrix = np.zeros((num_words, 300))\n",
        "for word, i in imdb.get_word_index().items():\n",
        "    if i >= num_words:\n",
        "        continue\n",
        "    embedding_vector = embeddings_index.get(word)\n",
        "    if embedding_vector is not None:\n",
        "        embedding_matrix[i] = embedding_vector"
      ],
      "execution_count": 0,
      "outputs": []
    },
    {
      "cell_type": "markdown",
      "metadata": {
        "id": "3dv_sRV5swk5",
        "colab_type": "text"
      },
      "source": [
        "**Funções de avaliação dos modelos**"
      ]
    },
    {
      "cell_type": "code",
      "metadata": {
        "id": "orHA7wJzACJe",
        "colab_type": "code",
        "colab": {}
      },
      "source": [
        "import pandas as pd\n",
        "import seaborn as sn\n",
        "\n",
        "def plot_confusion_matrix(y_pred, y_valid):\n",
        "  #Other accuracy metrices\n",
        "  y_pred = (y_pred > 0.5)\n",
        "\n",
        "  #confusion metrix\n",
        "  cm = pd.DataFrame(confusion_matrix(y_valid, y_pred))\n",
        "  sn.heatmap(cm)\n",
        "\n",
        "  #F1 Score, Recall and Precision\n",
        "  print(classification_report(y_valid, y_pred, target_names=['Positive', 'Negative']))\n",
        "\n"
      ],
      "execution_count": 0,
      "outputs": []
    },
    {
      "cell_type": "code",
      "metadata": {
        "id": "dHJnqOfStUdO",
        "colab_type": "code",
        "colab": {}
      },
      "source": [
        "#ROC AUC curve\n",
        "def create_roc(y_valid, y_pred):\n",
        "  rocAuc = roc_auc_score(y_valid, y_pred)\n",
        "  print(rocAuc)\n",
        "  falsePositiveRate, truePositiveRate, _ = roc_curve(y_valid, y_pred)\n",
        "\n",
        "  plt.figure()\n",
        "\n",
        "  plt.plot(falsePositiveRate, truePositiveRate, color='green',\n",
        "          lw=3, label='ROC curve (area = %0.2f)' % rocAuc)\n",
        "  plt.plot([0, 1], [0, 1], color='navy', lw=3, linestyle='--')\n",
        "  plt.xlim([0.0, 1.0])\n",
        "  plt.ylim([0.0, 1.05])\n",
        "  plt.xlabel('False Positive Rate')\n",
        "  plt.ylabel('True Positive Rate')\n",
        "  plt.title('Receiver Operating Characteristic of Sentiiment Analysis Model')\n",
        "  plt.legend(loc=\"lower right\")\n",
        "  plt.show()"
      ],
      "execution_count": 0,
      "outputs": []
    },
    {
      "cell_type": "code",
      "metadata": {
        "id": "vHuUxhlxzqSa",
        "colab_type": "code",
        "colab": {}
      },
      "source": [
        "def plot_model_certainty(y_pred):\n",
        "  plt.hist(y_pred)\n",
        "  _ = plt.axvline(x=0.5, color='orange')"
      ],
      "execution_count": 0,
      "outputs": []
    },
    {
      "cell_type": "markdown",
      "metadata": {
        "id": "TI97pc8X1znA",
        "colab_type": "text"
      },
      "source": [
        "**Training model**"
      ]
    },
    {
      "cell_type": "markdown",
      "metadata": {
        "id": "hSAFqPy5Bjew",
        "colab_type": "text"
      },
      "source": [
        "Arquitetura"
      ]
    },
    {
      "cell_type": "code",
      "metadata": {
        "id": "s1k8mHPd_8XO",
        "colab_type": "code",
        "colab": {}
      },
      "source": [
        "def create_model(embedding, main_nn):\n",
        "  model = Sequential()\n",
        "  model.add(embedding)\n",
        "  model.add(SpatialDropout1D(0.2))\n",
        "  model.add(main_nn)\n",
        "  model.add(Dense(1, activation='sigmoid'))\n",
        "  model.compile(optimizer='adam', loss='binary_crossentropy', metrics=['accuracy'])\n",
        "\n",
        "  return model"
      ],
      "execution_count": 0,
      "outputs": []
    },
    {
      "cell_type": "code",
      "metadata": {
        "id": "rHw_nQAB_9yg",
        "colab_type": "code",
        "outputId": "232228cb-21ee-46c0-92f9-f86685531d4f",
        "colab": {
          "base_uri": "https://localhost:8080/",
          "height": 311
        }
      },
      "source": [
        "#simpleRNN\n",
        "embedding = Embedding(input_dim=10000, output_dim=64, input_length=100)\n",
        "main_nn = SimpleRNN(128, dropout=0.2)\n",
        "model = create_model(embedding, main_nn)\n",
        "model.summary()"
      ],
      "execution_count": 0,
      "outputs": [
        {
          "output_type": "stream",
          "text": [
            "Model: \"sequential_59\"\n",
            "_________________________________________________________________\n",
            "Layer (type)                 Output Shape              Param #   \n",
            "=================================================================\n",
            "embedding_63 (Embedding)     (None, 100, 64)           640000    \n",
            "_________________________________________________________________\n",
            "spatial_dropout1d_14 (Spatia (None, 100, 64)           0         \n",
            "_________________________________________________________________\n",
            "simple_rnn_28 (SimpleRNN)    (None, 128)               24704     \n",
            "_________________________________________________________________\n",
            "dense_47 (Dense)             (None, 1)                 129       \n",
            "=================================================================\n",
            "Total params: 664,833\n",
            "Trainable params: 664,833\n",
            "Non-trainable params: 0\n",
            "_________________________________________________________________\n"
          ],
          "name": "stdout"
        }
      ]
    },
    {
      "cell_type": "code",
      "metadata": {
        "id": "O6NOaPAGzz_7",
        "colab_type": "code",
        "colab": {}
      },
      "source": [
        "outputdir = 'modeloutput/simplernn'\n",
        "modelcheckpoint = ModelCheckpoint(filepath=outputdir+'/weights.{epoch:02d}.hdf5')\n",
        "if not os.path.exists(outputdir):\n",
        "  os.makedirs(outputdir)"
      ],
      "execution_count": 0,
      "outputs": []
    },
    {
      "cell_type": "code",
      "metadata": {
        "id": "5Sr5IuIs__ay",
        "colab_type": "code",
        "outputId": "95dd9efb-2b65-4925-950a-ba2737b57beb",
        "colab": {
          "base_uri": "https://localhost:8080/",
          "height": 276
        }
      },
      "source": [
        "result= model.fit(X_train, y_train, batch_size=256, epochs=5, validation_data=(X_test, y_valid), callbacks=[modelcheckpoint])"
      ],
      "execution_count": 0,
      "outputs": [
        {
          "output_type": "stream",
          "text": [
            "/usr/local/lib/python3.6/dist-packages/tensorflow/python/framework/indexed_slices.py:434: UserWarning: Converting sparse IndexedSlices to a dense Tensor of unknown shape. This may consume a large amount of memory.\n",
            "  \"Converting sparse IndexedSlices to a dense Tensor of unknown shape. \"\n"
          ],
          "name": "stderr"
        },
        {
          "output_type": "stream",
          "text": [
            "Train on 25000 samples, validate on 25000 samples\n",
            "Epoch 1/5\n",
            "25000/25000 [==============================] - 16s 623us/step - loss: 0.6810 - accuracy: 0.5546 - val_loss: 0.6422 - val_accuracy: 0.6340\n",
            "Epoch 2/5\n",
            "25000/25000 [==============================] - 15s 610us/step - loss: 0.4795 - accuracy: 0.7729 - val_loss: 0.3830 - val_accuracy: 0.8362\n",
            "Epoch 3/5\n",
            "25000/25000 [==============================] - 15s 603us/step - loss: 0.3111 - accuracy: 0.8739 - val_loss: 0.4296 - val_accuracy: 0.8049\n",
            "Epoch 4/5\n",
            "25000/25000 [==============================] - 15s 603us/step - loss: 0.2402 - accuracy: 0.9080 - val_loss: 0.3750 - val_accuracy: 0.8403\n",
            "Epoch 5/5\n",
            "25000/25000 [==============================] - 15s 604us/step - loss: 0.1762 - accuracy: 0.9359 - val_loss: 0.4269 - val_accuracy: 0.8407\n"
          ],
          "name": "stdout"
        }
      ]
    },
    {
      "cell_type": "code",
      "metadata": {
        "id": "J1N1Gnq22Okb",
        "colab_type": "code",
        "colab": {}
      },
      "source": [
        "model.load_weights(outputdir+'/weights.05.hdf5')"
      ],
      "execution_count": 0,
      "outputs": []
    },
    {
      "cell_type": "code",
      "metadata": {
        "id": "Ke7qXmiK2Y2Q",
        "colab_type": "code",
        "colab": {}
      },
      "source": [
        "y_pred = model.predict_proba(X_test)"
      ],
      "execution_count": 0,
      "outputs": []
    },
    {
      "cell_type": "code",
      "metadata": {
        "id": "mUH8iR4qSXMi",
        "colab_type": "code",
        "outputId": "dbe8c107-8b83-4780-e34e-adb635a8a475",
        "colab": {
          "base_uri": "https://localhost:8080/",
          "height": 313
        }
      },
      "source": [
        "create_roc(y_valid, y_pred)"
      ],
      "execution_count": 0,
      "outputs": [
        {
          "output_type": "stream",
          "text": [
            "0.9122037087999999\n"
          ],
          "name": "stdout"
        },
        {
          "output_type": "display_data",
          "data": {
            "image/png": "[encoded data removed]",
            "text/plain": [
              "<Figure size 432x288 with 1 Axes>"
            ]
          },
          "metadata": {
            "tags": [],
            "needs_background": "light"
          }
        }
      ]
    },
    {
      "cell_type": "code",
      "metadata": {
        "id": "CwHKUNs3SatI",
        "colab_type": "code",
        "outputId": "a91a56ab-8a18-4233-d866-d1a23815ceab",
        "colab": {
          "base_uri": "https://localhost:8080/",
          "height": 265
        }
      },
      "source": [
        "plot_model_certainty(y_pred)"
      ],
      "execution_count": 0,
      "outputs": [
        {
          "output_type": "display_data",
          "data": {
            "image/png": "[encoded data removed]",
            "text/plain": [
              "<Figure size 432x288 with 1 Axes>"
            ]
          },
          "metadata": {
            "tags": [],
            "needs_background": "light"
          }
        }
      ]
    },
    {
      "cell_type": "code",
      "metadata": {
        "id": "Qiq9crWGSggp",
        "colab_type": "code",
        "outputId": "06e3f2fa-b1ef-4603-c625-718c9425435a",
        "colab": {
          "base_uri": "https://localhost:8080/",
          "height": 430
        }
      },
      "source": [
        "plot_confusion_matrix(y_pred, y_valid)"
      ],
      "execution_count": 0,
      "outputs": [
        {
          "output_type": "stream",
          "text": [
            "              precision    recall  f1-score   support\n",
            "\n",
            "    Positive       0.83      0.85      0.84     12500\n",
            "    Negative       0.85      0.83      0.84     12500\n",
            "\n",
            "    accuracy                           0.84     25000\n",
            "   macro avg       0.84      0.84      0.84     25000\n",
            "weighted avg       0.84      0.84      0.84     25000\n",
            "\n"
          ],
          "name": "stdout"
        },
        {
          "output_type": "display_data",
          "data": {
            "image/png": "[encoded data removed]",
            "text/plain": [
              "<Figure size 432x288 with 2 Axes>"
            ]
          },
          "metadata": {
            "tags": [],
            "needs_background": "light"
          }
        }
      ]
    },
    {
      "cell_type": "code",
      "metadata": {
        "id": "d8oPYtKiSiFz",
        "colab_type": "code",
        "colab": {}
      },
      "source": [
        ""
      ],
      "execution_count": 0,
      "outputs": []
    },
    {
      "cell_type": "markdown",
      "metadata": {
        "id": "2F5vJxtVSich",
        "colab_type": "text"
      },
      "source": [
        "**SimpleRNN com embedding**"
      ]
    },
    {
      "cell_type": "code",
      "metadata": {
        "id": "jSAGLAW2EFKV",
        "colab_type": "code",
        "outputId": "2b5e84cb-65b0-4fa7-f16f-42a746e9d8e1",
        "colab": {
          "base_uri": "https://localhost:8080/",
          "height": 348
        }
      },
      "source": [
        "#simpleRNN com embedding\n",
        "outputdir = 'modeloutput/simplernn_emb'\n",
        "modelcheckpoint = ModelCheckpoint(filepath=outputdir+'/weights.{epoch:02d}.hdf5')\n",
        "if not os.path.exists(outputdir):\n",
        "  os.makedirs(outputdir)\n",
        "\n",
        "embedding = Embedding(input_dim=w2vModel.syn0.shape[0], \n",
        "                            output_dim=w2vModel.syn0.shape[1], \n",
        "                            weights=[embedding_matrix], \n",
        "                            input_length=X_train.shape[1])\n",
        "main_nn = SimpleRNN(256,dropout=0.2)\n",
        "model = create_model(embedding, main_nn)\n",
        "model.summary()"
      ],
      "execution_count": 0,
      "outputs": [
        {
          "output_type": "stream",
          "text": [
            "/usr/local/lib/python3.6/dist-packages/ipykernel_launcher.py:7: DeprecationWarning: Call to deprecated `syn0` (Attribute will be removed in 4.0.0, use self.wv.vectors instead).\n",
            "  import sys\n",
            "/usr/local/lib/python3.6/dist-packages/ipykernel_launcher.py:8: DeprecationWarning: Call to deprecated `syn0` (Attribute will be removed in 4.0.0, use self.wv.vectors instead).\n",
            "  \n"
          ],
          "name": "stderr"
        },
        {
          "output_type": "stream",
          "text": [
            "Model: \"sequential_61\"\n",
            "_________________________________________________________________\n",
            "Layer (type)                 Output Shape              Param #   \n",
            "=================================================================\n",
            "embedding_65 (Embedding)     (None, 100, 300)          3000000   \n",
            "_________________________________________________________________\n",
            "simple_rnn_30 (SimpleRNN)    (None, 256)               142592    \n",
            "_________________________________________________________________\n",
            "dense_49 (Dense)             (None, 1)                 257       \n",
            "=================================================================\n",
            "Total params: 3,142,849\n",
            "Trainable params: 3,142,849\n",
            "Non-trainable params: 0\n",
            "_________________________________________________________________\n"
          ],
          "name": "stdout"
        }
      ]
    },
    {
      "cell_type": "code",
      "metadata": {
        "id": "f2Kmh9UtSHT9",
        "colab_type": "code",
        "outputId": "358b55b6-d7e8-4637-f732-83c34bd05e3d",
        "colab": {
          "base_uri": "https://localhost:8080/",
          "height": 276
        }
      },
      "source": [
        "result= model.fit(X_train, y_train, batch_size=256, epochs=5, validation_data=(X_test, y_valid), callbacks=[modelcheckpoint])"
      ],
      "execution_count": 0,
      "outputs": [
        {
          "output_type": "stream",
          "text": [
            "/usr/local/lib/python3.6/dist-packages/tensorflow/python/framework/indexed_slices.py:434: UserWarning: Converting sparse IndexedSlices to a dense Tensor of unknown shape. This may consume a large amount of memory.\n",
            "  \"Converting sparse IndexedSlices to a dense Tensor of unknown shape. \"\n"
          ],
          "name": "stderr"
        },
        {
          "output_type": "stream",
          "text": [
            "Train on 25000 samples, validate on 25000 samples\n",
            "Epoch 1/5\n",
            "25000/25000 [==============================] - 17s 675us/step - loss: 0.6675 - accuracy: 0.5822 - val_loss: 0.6447 - val_accuracy: 0.6084\n",
            "Epoch 2/5\n",
            "25000/25000 [==============================] - 16s 648us/step - loss: 0.5796 - accuracy: 0.6945 - val_loss: 0.5949 - val_accuracy: 0.6653\n",
            "Epoch 3/5\n",
            "25000/25000 [==============================] - 16s 635us/step - loss: 0.4459 - accuracy: 0.7946 - val_loss: 0.5924 - val_accuracy: 0.6868\n",
            "Epoch 4/5\n",
            "25000/25000 [==============================] - 16s 638us/step - loss: 0.3896 - accuracy: 0.8251 - val_loss: 0.6583 - val_accuracy: 0.6646\n",
            "Epoch 5/5\n",
            "25000/25000 [==============================] - 16s 621us/step - loss: 0.4183 - accuracy: 0.7992 - val_loss: 0.7022 - val_accuracy: 0.6502\n"
          ],
          "name": "stdout"
        }
      ]
    },
    {
      "cell_type": "code",
      "metadata": {
        "id": "_53iP5A8n8H7",
        "colab_type": "code",
        "colab": {}
      },
      "source": [
        "model.load_weights(outputdir+'/weights.05.hdf5')\n",
        "y_pred = model.predict_proba(X_test)"
      ],
      "execution_count": 0,
      "outputs": []
    },
    {
      "cell_type": "code",
      "metadata": {
        "id": "OmB7we_OS4FU",
        "colab_type": "code",
        "outputId": "23471b55-ac89-4af1-a875-f84ee023943f",
        "colab": {
          "base_uri": "https://localhost:8080/",
          "height": 313
        }
      },
      "source": [
        "create_roc(y_valid, y_pred)"
      ],
      "execution_count": 0,
      "outputs": [
        {
          "output_type": "stream",
          "text": [
            "0.7204006623999999\n"
          ],
          "name": "stdout"
        },
        {
          "output_type": "display_data",
          "data": {
            "image/png": "[encoded data removed]",
            "text/plain": [
              "<Figure size 432x288 with 1 Axes>"
            ]
          },
          "metadata": {
            "tags": [],
            "needs_background": "light"
          }
        }
      ]
    },
    {
      "cell_type": "code",
      "metadata": {
        "id": "XKa07rZtS7nn",
        "colab_type": "code",
        "outputId": "e08b3992-a94a-4f4c-89e0-bacac35e5126",
        "colab": {
          "base_uri": "https://localhost:8080/",
          "height": 265
        }
      },
      "source": [
        "plot_model_certainty(y_pred)"
      ],
      "execution_count": 0,
      "outputs": [
        {
          "output_type": "display_data",
          "data": {
            "image/png": "[encoded data removed]",
            "text/plain": [
              "<Figure size 432x288 with 1 Axes>"
            ]
          },
          "metadata": {
            "tags": [],
            "needs_background": "light"
          }
        }
      ]
    },
    {
      "cell_type": "code",
      "metadata": {
        "id": "FKwmYJFPS_Wo",
        "colab_type": "code",
        "outputId": "c78662c2-7e56-4f36-ec7d-8a98f3383489",
        "colab": {
          "base_uri": "https://localhost:8080/",
          "height": 430
        }
      },
      "source": [
        "plot_confusion_matrix(y_pred, y_valid)"
      ],
      "execution_count": 0,
      "outputs": [
        {
          "output_type": "stream",
          "text": [
            "              precision    recall  f1-score   support\n",
            "\n",
            "    Positive       0.64      0.70      0.67     12500\n",
            "    Negative       0.67      0.60      0.63     12500\n",
            "\n",
            "    accuracy                           0.65     25000\n",
            "   macro avg       0.65      0.65      0.65     25000\n",
            "weighted avg       0.65      0.65      0.65     25000\n",
            "\n"
          ],
          "name": "stdout"
        },
        {
          "output_type": "display_data",
          "data": {
            "image/png": "[encoded data removed]",
            "text/plain": [
              "<Figure size 432x288 with 2 Axes>"
            ]
          },
          "metadata": {
            "tags": [],
            "needs_background": "light"
          }
        }
      ]
    },
    {
      "cell_type": "code",
      "metadata": {
        "id": "NXCTTl1GlhpJ",
        "colab_type": "code",
        "outputId": "301bb7ec-46fc-4fb1-8423-1bdfce0e1b84",
        "colab": {
          "base_uri": "https://localhost:8080/",
          "height": 384
        }
      },
      "source": [
        "#LSTM com embedding\n",
        "outputdir = 'modeloutput/lstm_emb'\n",
        "modelcheckpoint = ModelCheckpoint(filepath=outputdir+'/weights.{epoch:02d}.hdf5')\n",
        "if not os.path.exists(outputdir):\n",
        "  os.makedirs(outputdir)\n",
        "\n",
        "embedding = Embedding(input_dim=w2vModel.syn0.shape[0], \n",
        "                            output_dim=w2vModel.syn0.shape[1], \n",
        "                            weights=[embedding_matrix], \n",
        "                            input_length=X_train.shape[1])\n",
        "main_nn = LSTM(units=128, dropout=0.2, recurrent_dropout=0.2)\n",
        "model = create_model(embedding, main_nn)\n",
        "model.summary()"
      ],
      "execution_count": 0,
      "outputs": [
        {
          "output_type": "stream",
          "text": [
            "/usr/local/lib/python3.6/dist-packages/ipykernel_launcher.py:7: DeprecationWarning: Call to deprecated `syn0` (Attribute will be removed in 4.0.0, use self.wv.vectors instead).\n",
            "  import sys\n",
            "/usr/local/lib/python3.6/dist-packages/ipykernel_launcher.py:8: DeprecationWarning: Call to deprecated `syn0` (Attribute will be removed in 4.0.0, use self.wv.vectors instead).\n",
            "  \n"
          ],
          "name": "stderr"
        },
        {
          "output_type": "stream",
          "text": [
            "Model: \"sequential_62\"\n",
            "_________________________________________________________________\n",
            "Layer (type)                 Output Shape              Param #   \n",
            "=================================================================\n",
            "embedding_66 (Embedding)     (None, 100, 300)          3000000   \n",
            "_________________________________________________________________\n",
            "spatial_dropout1d_16 (Spatia (None, 100, 300)          0         \n",
            "_________________________________________________________________\n",
            "lstm_33 (LSTM)               (None, 128)               219648    \n",
            "_________________________________________________________________\n",
            "dense_50 (Dense)             (None, 1)                 129       \n",
            "=================================================================\n",
            "Total params: 3,219,777\n",
            "Trainable params: 3,219,777\n",
            "Non-trainable params: 0\n",
            "_________________________________________________________________\n"
          ],
          "name": "stdout"
        }
      ]
    },
    {
      "cell_type": "code",
      "metadata": {
        "id": "w4skskRNlc3Z",
        "colab_type": "code",
        "outputId": "447da5da-3971-47e2-a946-d4dac9c1b892",
        "colab": {
          "base_uri": "https://localhost:8080/",
          "height": 770
        }
      },
      "source": [
        "result= model.fit(X_train, y_train, batch_size=256, epochs=20, validation_data=(X_test, y_valid), callbacks=[modelcheckpoint])"
      ],
      "execution_count": 0,
      "outputs": [
        {
          "output_type": "stream",
          "text": [
            "Train on 25000 samples, validate on 25000 samples\n",
            "Epoch 1/20\n",
            "25000/25000 [==============================] - 36s 1ms/step - loss: 0.2202 - accuracy: 0.9167 - val_loss: 0.4076 - val_accuracy: 0.8440\n",
            "Epoch 2/20\n",
            "25000/25000 [==============================] - 36s 1ms/step - loss: 0.2074 - accuracy: 0.9223 - val_loss: 0.4018 - val_accuracy: 0.8385\n",
            "Epoch 3/20\n",
            "25000/25000 [==============================] - 35s 1ms/step - loss: 0.1902 - accuracy: 0.9299 - val_loss: 0.4148 - val_accuracy: 0.8328\n",
            "Epoch 4/20\n",
            "25000/25000 [==============================] - 35s 1ms/step - loss: 0.1657 - accuracy: 0.9408 - val_loss: 0.4346 - val_accuracy: 0.8391\n",
            "Epoch 5/20\n",
            "25000/25000 [==============================] - 35s 1ms/step - loss: 0.1385 - accuracy: 0.9525 - val_loss: 0.5380 - val_accuracy: 0.8348\n",
            "Epoch 6/20\n",
            "25000/25000 [==============================] - 36s 1ms/step - loss: 0.1240 - accuracy: 0.9565 - val_loss: 0.4837 - val_accuracy: 0.8324\n",
            "Epoch 7/20\n",
            "25000/25000 [==============================] - 35s 1ms/step - loss: 0.1042 - accuracy: 0.9649 - val_loss: 0.5928 - val_accuracy: 0.8314\n",
            "Epoch 8/20\n",
            "25000/25000 [==============================] - 35s 1ms/step - loss: 0.0926 - accuracy: 0.9686 - val_loss: 0.5569 - val_accuracy: 0.8291\n",
            "Epoch 9/20\n",
            "25000/25000 [==============================] - 35s 1ms/step - loss: 0.0757 - accuracy: 0.9752 - val_loss: 0.5979 - val_accuracy: 0.8284\n",
            "Epoch 10/20\n",
            "25000/25000 [==============================] - 35s 1ms/step - loss: 0.0677 - accuracy: 0.9782 - val_loss: 0.6562 - val_accuracy: 0.8257\n",
            "Epoch 11/20\n",
            "25000/25000 [==============================] - 35s 1ms/step - loss: 0.0628 - accuracy: 0.9794 - val_loss: 0.6487 - val_accuracy: 0.8286\n",
            "Epoch 12/20\n",
            "25000/25000 [==============================] - 34s 1ms/step - loss: 0.0506 - accuracy: 0.9844 - val_loss: 0.7176 - val_accuracy: 0.8268\n",
            "Epoch 13/20\n",
            "25000/25000 [==============================] - 36s 1ms/step - loss: 0.0435 - accuracy: 0.9873 - val_loss: 0.7390 - val_accuracy: 0.8264\n",
            "Epoch 14/20\n",
            "25000/25000 [==============================] - 35s 1ms/step - loss: 0.0421 - accuracy: 0.9867 - val_loss: 0.7916 - val_accuracy: 0.8220\n",
            "Epoch 15/20\n",
            "25000/25000 [==============================] - 34s 1ms/step - loss: 0.0377 - accuracy: 0.9888 - val_loss: 0.8294 - val_accuracy: 0.8264\n",
            "Epoch 16/20\n",
            "25000/25000 [==============================] - 34s 1ms/step - loss: 0.0303 - accuracy: 0.9912 - val_loss: 0.8390 - val_accuracy: 0.8216\n",
            "Epoch 17/20\n",
            "25000/25000 [==============================] - 34s 1ms/step - loss: 0.0306 - accuracy: 0.9916 - val_loss: 0.8800 - val_accuracy: 0.8223\n",
            "Epoch 18/20\n",
            "25000/25000 [==============================] - 34s 1ms/step - loss: 0.0291 - accuracy: 0.9916 - val_loss: 0.9199 - val_accuracy: 0.8209\n",
            "Epoch 19/20\n",
            "25000/25000 [==============================] - 35s 1ms/step - loss: 0.0244 - accuracy: 0.9924 - val_loss: 0.9286 - val_accuracy: 0.8209\n",
            "Epoch 20/20\n",
            "25000/25000 [==============================] - 35s 1ms/step - loss: 0.0236 - accuracy: 0.9927 - val_loss: 0.9107 - val_accuracy: 0.8200\n"
          ],
          "name": "stdout"
        }
      ]
    },
    {
      "cell_type": "code",
      "metadata": {
        "id": "DPE2D7-R44pw",
        "colab_type": "code",
        "outputId": "ad0e6bcd-5f94-4735-9616-ff0b96f859b0",
        "colab": {
          "base_uri": "https://localhost:8080/",
          "height": 295
        }
      },
      "source": [
        "plt.plot(result.history['accuracy'])\n",
        "plt.plot(result.history['val_accuracy'])\n",
        "plt.title('model accuracy')\n",
        "plt.ylabel('accuracy')\n",
        "plt.xlabel('epoch')\n",
        "plt.legend(['train', 'val'], loc='upper left')\n",
        "plt.show()"
      ],
      "execution_count": 0,
      "outputs": [
        {
          "output_type": "display_data",
          "data": {
            "image/png": "[encoded data removed]",
            "text/plain": [
              "<Figure size 432x288 with 1 Axes>"
            ]
          },
          "metadata": {
            "tags": [],
            "needs_background": "light"
          }
        }
      ]
    },
    {
      "cell_type": "code",
      "metadata": {
        "id": "nEgUbGUIQH2p",
        "colab_type": "code",
        "colab": {}
      },
      "source": [
        "model.load_weights(outputdir+'/weights.05.hdf5')\n",
        "y_pred = model.predict_proba(X_test)"
      ],
      "execution_count": 0,
      "outputs": []
    },
    {
      "cell_type": "code",
      "metadata": {
        "id": "_EGKAqXztQiF",
        "colab_type": "code",
        "outputId": "bfb3c814-b48e-48f5-a95f-41471c0276e1",
        "colab": {
          "base_uri": "https://localhost:8080/",
          "height": 313
        }
      },
      "source": [
        "create_roc(y_valid, y_pred)"
      ],
      "execution_count": 0,
      "outputs": [
        {
          "output_type": "stream",
          "text": [
            "0.92204008\n"
          ],
          "name": "stdout"
        },
        {
          "output_type": "display_data",
          "data": {
            "image/png": "[encoded data removed]",
            "text/plain": [
              "<Figure size 432x288 with 1 Axes>"
            ]
          },
          "metadata": {
            "tags": [],
            "needs_background": "light"
          }
        }
      ]
    },
    {
      "cell_type": "code",
      "metadata": {
        "id": "AsiG7B7jsvje",
        "colab_type": "code",
        "outputId": "757df018-3d35-4f35-c7b5-5b6ad7eb672a",
        "colab": {
          "base_uri": "https://localhost:8080/",
          "height": 265
        }
      },
      "source": [
        "plot_model_certainty(y_pred)"
      ],
      "execution_count": 0,
      "outputs": [
        {
          "output_type": "display_data",
          "data": {
            "image/png": "[encoded data removed]",
            "text/plain": [
              "<Figure size 432x288 with 1 Axes>"
            ]
          },
          "metadata": {
            "tags": [],
            "needs_background": "light"
          }
        }
      ]
    },
    {
      "cell_type": "code",
      "metadata": {
        "id": "2NVn8E8z2__a",
        "colab_type": "code",
        "outputId": "f2a4d012-1834-4e41-bebf-35b67ed16de6",
        "colab": {
          "base_uri": "https://localhost:8080/",
          "height": 430
        }
      },
      "source": [
        "plot_confusion_matrix(y_pred, y_valid)"
      ],
      "execution_count": 0,
      "outputs": [
        {
          "output_type": "stream",
          "text": [
            "              precision    recall  f1-score   support\n",
            "\n",
            "    Positive       0.87      0.82      0.84     12500\n",
            "    Negative       0.83      0.88      0.85     12500\n",
            "\n",
            "    accuracy                           0.85     25000\n",
            "   macro avg       0.85      0.85      0.85     25000\n",
            "weighted avg       0.85      0.85      0.85     25000\n",
            "\n"
          ],
          "name": "stdout"
        },
        {
          "output_type": "display_data",
          "data": {
            "image/png": "[encoded data removed]",
            "text/plain": [
              "<Figure size 432x288 with 2 Axes>"
            ]
          },
          "metadata": {
            "tags": [],
            "needs_background": "light"
          }
        }
      ]
    },
    {
      "cell_type": "code",
      "metadata": {
        "id": "_fdWALQg5c3b",
        "colab_type": "code",
        "colab": {}
      },
      "source": [
        ""
      ],
      "execution_count": 0,
      "outputs": []
    }
  ]
}