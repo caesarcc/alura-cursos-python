{
 "cells": [
  {
   "cell_type": "markdown",
   "metadata": {},
   "source": [
    "# Model-based CF"
   ]
  },
  {
   "cell_type": "markdown",
   "metadata": {},
   "source": [
    "In this step we will implement the PureSVD, one approach of the Collaborative Filtering methods.\n",
    "For this reason, you must do:\n",
    "\n",
    "- Read the train file extracted from the dataset \n",
    "- Create a sparse matrix to them\n",
    "- Extract the eigenvalues and eigenvectors of this matrix via SVD\n",
    "- Combine these latent factors to predict an user-item rating\n",
    "- Recommend the items with the highest score"
   ]
  },
  {
   "cell_type": "code",
   "execution_count": 1,
   "metadata": {},
   "outputs": [],
   "source": [
    "# import libs\n",
    "import operator\n",
    "import scipy\n",
    "import numpy as np\n",
    "import pandas as pd\n",
    "import matplotlib.pyplot as plt\n",
    "\n",
    "from scipy.sparse import csr_matrix\n",
    "from collections import OrderedDict\n",
    "from scipy.sparse import linalg \n",
    "\n",
    "# useful command\n",
    "from IPython.core.interactiveshell import InteractiveShell\n",
    "InteractiveShell.ast_node_interactivity = \"all\"\n",
    "\n",
    "plt.rcParams.update({'font.size': 14})"
   ]
  },
  {
   "cell_type": "markdown",
   "metadata": {},
   "source": [
    "## Reading train and test files"
   ]
  },
  {
   "cell_type": "markdown",
   "metadata": {},
   "source": [
    "You can read this file as you prefer. I propose to read the files by the pandas' library and create the sparse matrix after it."
   ]
  },
  {
   "cell_type": "code",
   "execution_count": 2,
   "metadata": {},
   "outputs": [
    {
     "output_type": "execute_result",
     "data": {
      "text/plain": [
       "   userId  itemId  rating    timestamp\n",
       "0       1    1193     5.0  978300760.0\n",
       "1       1     661     3.0  978302109.0\n",
       "2       1     914     3.0  978301968.0\n",
       "3       1    3408     4.0  978300275.0\n",
       "4       1    1197     3.0  978302268.0"
      ],
      "text/html": "<div>\n<style scoped>\n    .dataframe tbody tr th:only-of-type {\n        vertical-align: middle;\n    }\n\n    .dataframe tbody tr th {\n        vertical-align: top;\n    }\n\n    .dataframe thead th {\n        text-align: right;\n    }\n</style>\n<table border=\"1\" class=\"dataframe\">\n  <thead>\n    <tr style=\"text-align: right;\">\n      <th></th>\n      <th>userId</th>\n      <th>itemId</th>\n      <th>rating</th>\n      <th>timestamp</th>\n    </tr>\n  </thead>\n  <tbody>\n    <tr>\n      <th>0</th>\n      <td>1</td>\n      <td>1193</td>\n      <td>5.0</td>\n      <td>978300760.0</td>\n    </tr>\n    <tr>\n      <th>1</th>\n      <td>1</td>\n      <td>661</td>\n      <td>3.0</td>\n      <td>978302109.0</td>\n    </tr>\n    <tr>\n      <th>2</th>\n      <td>1</td>\n      <td>914</td>\n      <td>3.0</td>\n      <td>978301968.0</td>\n    </tr>\n    <tr>\n      <th>3</th>\n      <td>1</td>\n      <td>3408</td>\n      <td>4.0</td>\n      <td>978300275.0</td>\n    </tr>\n    <tr>\n      <th>4</th>\n      <td>1</td>\n      <td>1197</td>\n      <td>3.0</td>\n      <td>978302268.0</td>\n    </tr>\n  </tbody>\n</table>\n</div>"
     },
     "metadata": {},
     "execution_count": 2
    },
    {
     "output_type": "execute_result",
     "data": {
      "text/plain": [
       "   userId  itemId  rating    timestamp\n",
       "0       1    2355     5.0  978824291.0\n",
       "1       1     595     5.0  978824268.0\n",
       "2       1    2687     3.0  978824268.0\n",
       "3       1      48     5.0  978824351.0\n",
       "4       1     745     3.0  978824268.0"
      ],
      "text/html": "<div>\n<style scoped>\n    .dataframe tbody tr th:only-of-type {\n        vertical-align: middle;\n    }\n\n    .dataframe tbody tr th {\n        vertical-align: top;\n    }\n\n    .dataframe thead th {\n        text-align: right;\n    }\n</style>\n<table border=\"1\" class=\"dataframe\">\n  <thead>\n    <tr style=\"text-align: right;\">\n      <th></th>\n      <th>userId</th>\n      <th>itemId</th>\n      <th>rating</th>\n      <th>timestamp</th>\n    </tr>\n  </thead>\n  <tbody>\n    <tr>\n      <th>0</th>\n      <td>1</td>\n      <td>2355</td>\n      <td>5.0</td>\n      <td>978824291.0</td>\n    </tr>\n    <tr>\n      <th>1</th>\n      <td>1</td>\n      <td>595</td>\n      <td>5.0</td>\n      <td>978824268.0</td>\n    </tr>\n    <tr>\n      <th>2</th>\n      <td>1</td>\n      <td>2687</td>\n      <td>3.0</td>\n      <td>978824268.0</td>\n    </tr>\n    <tr>\n      <th>3</th>\n      <td>1</td>\n      <td>48</td>\n      <td>5.0</td>\n      <td>978824351.0</td>\n    </tr>\n    <tr>\n      <th>4</th>\n      <td>1</td>\n      <td>745</td>\n      <td>3.0</td>\n      <td>978824268.0</td>\n    </tr>\n  </tbody>\n</table>\n</div>"
     },
     "metadata": {},
     "execution_count": 2
    }
   ],
   "source": [
    "df_train = pd.read_csv('./Dataset/ML-1M/trainSet.txt', sep='::', names=['userId', 'itemId', 'rating', 'timestamp'])\n",
    "df_test = pd.read_csv('./Dataset/ML-1M/testSet.txt', sep='::', names=['userId', 'itemId', 'rating', 'timestamp'])\n",
    "\n",
    "df_train.head()\n",
    "df_test.head()"
   ]
  },
  {
   "cell_type": "markdown",
   "metadata": {},
   "source": [
    "## Creating Sparse Matrix"
   ]
  },
  {
   "cell_type": "markdown",
   "metadata": {},
   "source": [
    "I propose to use the csr_matrix from scipy."
   ]
  },
  {
   "cell_type": "code",
   "execution_count": 3,
   "metadata": {},
   "outputs": [],
   "source": [
    "# Select users, items and ratings logs (i.e., all information from each column)\n",
    "users = df_train['userId']\n",
    "items = df_train['itemId']\n",
    "ratings = df_train['rating']"
   ]
  },
  {
   "cell_type": "code",
   "execution_count": 4,
   "metadata": {},
   "outputs": [],
   "source": [
    "# Define the matrix dimensions based on the max index related to users and items\n",
    "nb_users = max(users)\n",
    "nb_items = max(items)"
   ]
  },
  {
   "cell_type": "code",
   "execution_count": 5,
   "metadata": {},
   "outputs": [
    {
     "output_type": "execute_result",
     "data": {
      "text/plain": [
       "(6041, 3953)"
      ]
     },
     "metadata": {},
     "execution_count": 5
    }
   ],
   "source": [
    "# Creating matrix of ratings\n",
    "ratings_matrix = csr_matrix((ratings, (users, items)), shape=(nb_users+1, nb_items+1))\n",
    "\n",
    "ratings_matrix.shape"
   ]
  },
  {
   "cell_type": "markdown",
   "metadata": {},
   "source": [
    "## An useful function"
   ]
  },
  {
   "cell_type": "markdown",
   "metadata": {},
   "source": [
    "This function is used to save the recommendations in a file."
   ]
  },
  {
   "cell_type": "code",
   "execution_count": 6,
   "metadata": {},
   "outputs": [],
   "source": [
    "def dumpRecommendation(recommendation, users_targets, file_name):\n",
    "    \n",
    "    file_out = open(file_name, 'w')\n",
    "    \n",
    "    # for each user target\n",
    "    for userId in users_targets:\n",
    "        issuedItems = \"\"\n",
    "        # for each item in the previous order\n",
    "        for itemId in recommendation[userId]:\n",
    "            issuedItems += str(itemId) + \":\" + str(0.0) + \",\"\n",
    "        # saving in file in correct format\n",
    "        string_s = str(userId) + \"\\t\" + \"[\" + issuedItems\n",
    "        string_out = string_s[:-1] + ']'\n",
    "        file_out.write(string_out + \"\\n\")\n",
    "    \n",
    "    file_out.close()"
   ]
  },
  {
   "cell_type": "markdown",
   "metadata": {},
   "source": [
    "## PureSVD Recommendation"
   ]
  },
  {
   "cell_type": "markdown",
   "metadata": {},
   "source": [
    "In PureSVD model, the prediction is based on the latent factors extracted via SVD.\n",
    "\n",
    "- Let a ratings matrix, we apply the SVD to extract three matrices:\n",
    "    - *U* represents the users factors *(m x f)*\n",
    "    - *S* the eigenvalues associated to each eigenvector *(f x f)*\n",
    "    - *Q* represents the items factors *(f x n)*\n",
    "\n",
    "\n",
    "- The prediction is similar to:\n",
    "$\n",
    "\\begin{align}\n",
    "\\widehat{r}_{ui} = r_u \\cdot Q^T \\cdot q_i\n",
    "\\end{align}\n",
    "$"
   ]
  },
  {
   "cell_type": "markdown",
   "metadata": {},
   "source": [
    "### Extracting users and items latent factors"
   ]
  },
  {
   "cell_type": "markdown",
   "metadata": {},
   "source": [
    "Define the number of latent factors and use it to run the SVD method."
   ]
  },
  {
   "cell_type": "code",
   "execution_count": 8,
   "metadata": {},
   "outputs": [],
   "source": [
    "numFactors = 10"
   ]
  },
  {
   "cell_type": "code",
   "execution_count": 9,
   "metadata": {},
   "outputs": [],
   "source": [
    "[U, S, Q_t] = scipy.sparse.linalg.svds(ratings_matrix, numFactors, return_singular_vectors=True)"
   ]
  },
  {
   "cell_type": "code",
   "execution_count": 10,
   "metadata": {},
   "outputs": [
    {
     "output_type": "execute_result",
     "data": {
      "text/plain": [
       "(6041, 10)"
      ]
     },
     "metadata": {},
     "execution_count": 10
    },
    {
     "output_type": "execute_result",
     "data": {
      "text/plain": [
       "(10,)"
      ]
     },
     "metadata": {},
     "execution_count": 10
    },
    {
     "output_type": "execute_result",
     "data": {
      "text/plain": [
       "(10, 3953)"
      ]
     },
     "metadata": {},
     "execution_count": 10
    }
   ],
   "source": [
    "U.shape\n",
    "S.shape\n",
    "Q_t.shape"
   ]
  },
  {
   "cell_type": "markdown",
   "metadata": {},
   "source": [
    "### Predicting items ratings"
   ]
  },
  {
   "cell_type": "markdown",
   "metadata": {},
   "source": [
    "Predict ratings for each user-item based on the PureSVD rules."
   ]
  },
  {
   "cell_type": "code",
   "execution_count": 11,
   "metadata": {},
   "outputs": [
    {
     "output_type": "execute_result",
     "data": {
      "text/plain": [
       "(6041, 3953)"
      ]
     },
     "metadata": {},
     "execution_count": 11
    }
   ],
   "source": [
    "prediction_matrix = csr_matrix((nb_users+1, nb_items+1))\n",
    "\n",
    "prediction_matrix.shape"
   ]
  },
  {
   "cell_type": "code",
   "execution_count": 12,
   "metadata": {},
   "outputs": [
    {
     "output_type": "error",
     "ename": "Error",
     "evalue": "Pip module Unable to parse debugpy output, please log an issue with https://github.com/microsoft/vscode-jupyter is required for debugging cells. You will need to install it to debug cells.",
     "traceback": [
      "Error: Pip module Unable to parse debugpy output, please log an issue with https://github.com/microsoft/vscode-jupyter is required for debugging cells. You will need to install it to debug cells.",
      "at b.parseConnectInfo (c:\\Users\\caesa\\.vscode\\extensions\\ms-toolsai.jupyter-2020.12.414227025\\out\\client\\extension.js:49:486311)",
      "at b.connectToLocal (c:\\Users\\caesa\\.vscode\\extensions\\ms-toolsai.jupyter-2020.12.414227025\\out\\client\\extension.js:49:486838)",
      "at async b.connect (c:\\Users\\caesa\\.vscode\\extensions\\ms-toolsai.jupyter-2020.12.414227025\\out\\client\\extension.js:49:484715)",
      "at async b.startDebugSession (c:\\Users\\caesa\\.vscode\\extensions\\ms-toolsai.jupyter-2020.12.414227025\\out\\client\\extension.js:49:483862)",
      "at async f.submitCode (c:\\Users\\caesa\\.vscode\\extensions\\ms-toolsai.jupyter-2020.12.414227025\\out\\client\\extension.js:32:585464)",
      "at async f.handleRunByLine (c:\\Users\\caesa\\.vscode\\extensions\\ms-toolsai.jupyter-2020.12.414227025\\out\\client\\extension.js:9:173871)"
     ]
    }
   ],
   "source": [
    "# Realize a prediction for each user\n",
    "Q = Q_t.transpose() # n x 10\n",
    "\n",
    "for u in range(ratings_matrix.shape[0]):\n",
    "    r_u = ratings_matrix[u,:] # 1 x n\n",
    "    # optimization: instead to do 'q_i', we can use all Q\n",
    "    aux = r_u.dot(Q)\n",
    "    prediction_matrix[u,:] = aux.dot(Q_t) # 10 x 3953 => 1 x 3953\n",
    "    \n",
    "prediction_matrix.shape"
   ]
  },
  {
   "cell_type": "code",
   "execution_count": 14,
   "metadata": {},
   "outputs": [],
   "source": [
    "# Optimized way\n",
    "prediction_matrix = csr_matrix((nb_users+1, nb_items+1))\n",
    "\n",
    "Q = Q_t.transpose() # n x 10\n",
    "\n",
    "aux_matrix = ratings_matrix.dot(Q) # (6041 x 3953) x (3953 x 10) => (6041 x 10)\n",
    "prediction_matrix = aux_matrix.dot(Q_t) # (6041 x 10) x (10 x 3953) => (6041 x 3953)"
   ]
  },
  {
   "cell_type": "code",
   "execution_count": 15,
   "metadata": {},
   "outputs": [
    {
     "output_type": "execute_result",
     "data": {
      "text/plain": [
       "(6041, 3953)"
      ]
     },
     "metadata": {},
     "execution_count": 15
    }
   ],
   "source": [
    "prediction_matrix.shape"
   ]
  },
  {
   "cell_type": "markdown",
   "metadata": {},
   "source": [
    "### Recommending items"
   ]
  },
  {
   "cell_type": "markdown",
   "metadata": {},
   "source": [
    "The recommendation is related to the cosine similarity of users and items vectors."
   ]
  },
  {
   "cell_type": "code",
   "execution_count": 16,
   "metadata": {},
   "outputs": [],
   "source": [
    "# Size of each recommendation\n",
    "top_k = 10"
   ]
  },
  {
   "cell_type": "code",
   "execution_count": 17,
   "metadata": {},
   "outputs": [],
   "source": [
    "# Setting the recommendations for each user\n",
    "recommendation = {}\n",
    "\n",
    "for u in range(ratings_matrix.shape[0]):\n",
    "    recommendation[u] = []\n",
    "    cont = 0\n",
    "    # sorting items by relevance\n",
    "    order = np.argsort(prediction_matrix[u,:])[::-1]\n",
    "    # recommending the best items that have never seen by users\n",
    "    for i in order:\n",
    "        # recommending the top-k items \n",
    "        if (cont < top_k):\n",
    "            if (ratings_matrix[u,i] == 0):\n",
    "                recommendation[u].append(i)\n",
    "                cont += 1\n",
    "        else:\n",
    "            break"
   ]
  },
  {
   "cell_type": "code",
   "execution_count": 18,
   "metadata": {},
   "outputs": [],
   "source": [
    "# Save in a file\n",
    "users_targets = df_test['userId'].unique()\n",
    "dumpRecommendation(recommendation, users_targets, \"recList_PureSVD.txt\")"
   ]
  },
  {
   "cell_type": "code",
   "execution_count": 19,
   "metadata": {},
   "outputs": [
    {
     "output_type": "execute_result",
     "data": {
      "text/plain": [
       "[260, 527, 1210, 1097, 1304, 1961, 1220, 1208, 1222, 296]"
      ]
     },
     "metadata": {},
     "execution_count": 19
    },
    {
     "output_type": "execute_result",
     "data": {
      "text/plain": [
       "[2628, 1127, 750, 1527, 2396, 2028, 780, 2985, 1, 1372]"
      ]
     },
     "metadata": {},
     "execution_count": 19
    },
    {
     "output_type": "execute_result",
     "data": {
      "text/plain": [
       "[589, 2791, 1079, 480, 3256, 2797, 1200, 2571, 2947, 1968]"
      ]
     },
     "metadata": {},
     "execution_count": 19
    }
   ],
   "source": [
    "recommendation[300]\n",
    "recommendation[3000]\n",
    "recommendation[6010]"
   ]
  },
  {
   "cell_type": "code",
   "execution_count": null,
   "metadata": {},
   "outputs": [],
   "source": []
  }
 ],
 "metadata": {
  "kernelspec": {
   "display_name": "Python 3",
   "language": "python",
   "name": "python3"
  },
  "language_info": {
   "codemirror_mode": {
    "name": "ipython",
    "version": 3
   },
   "file_extension": ".py",
   "mimetype": "text/x-python",
   "name": "python",
   "nbconvert_exporter": "python",
   "pygments_lexer": "ipython3",
   "version": "3.8.5-final"
  }
 },
 "nbformat": 4,
 "nbformat_minor": 2
}