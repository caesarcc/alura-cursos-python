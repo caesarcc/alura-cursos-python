{
 "cells": [
  {
   "cell_type": "markdown",
   "metadata": {},
   "source": [
    "#### What are joins?\n",
    "\n",
    "A join brings together two sets of data, the left and the right by comparing the value of one or more keys from the left and right and evaluating the result that determines whether Spark should bring the left and right sets of data."
   ]
  },
  {
   "cell_type": "code",
   "execution_count": 1,
   "metadata": {},
   "outputs": [
    {
     "data": {
      "application/javascript": [
       "\n",
       "            setTimeout(function() {\n",
       "                var nbb_cell_id = 1;\n",
       "                var nbb_unformatted_code = \"%load_ext nb_black\";\n",
       "                var nbb_formatted_code = \"%load_ext nb_black\";\n",
       "                var nbb_cells = Jupyter.notebook.get_cells();\n",
       "                for (var i = 0; i < nbb_cells.length; ++i) {\n",
       "                    if (nbb_cells[i].input_prompt_number == nbb_cell_id) {\n",
       "                        if (nbb_cells[i].get_text() == nbb_unformatted_code) {\n",
       "                             nbb_cells[i].set_text(nbb_formatted_code);\n",
       "                        }\n",
       "                        break;\n",
       "                    }\n",
       "                }\n",
       "            }, 500);\n",
       "            "
      ],
      "text/plain": [
       "<IPython.core.display.Javascript object>"
      ]
     },
     "metadata": {},
     "output_type": "display_data"
    }
   ],
   "source": [
    "%load_ext nb_black"
   ]
  },
  {
   "cell_type": "markdown",
   "metadata": {},
   "source": [
    "#### Start a SparkSession where we can try out different dataframe joins."
   ]
  },
  {
   "cell_type": "code",
   "execution_count": 2,
   "metadata": {},
   "outputs": [
    {
     "data": {
      "application/javascript": [
       "\n",
       "            setTimeout(function() {\n",
       "                var nbb_cell_id = 2;\n",
       "                var nbb_unformatted_code = \"from pyspark.sql import SparkSession\\nimport pyspark.sql.functions as F\\nfrom pyspark.sql import types as T\\n\\nspark = SparkSession.builder.appName(\\\"DataFrame Joins - UFC data\\\").getOrCreate()\";\n",
       "                var nbb_formatted_code = \"from pyspark.sql import SparkSession\\nimport pyspark.sql.functions as F\\nfrom pyspark.sql import types as T\\n\\nspark = SparkSession.builder.appName(\\\"DataFrame Joins - UFC data\\\").getOrCreate()\";\n",
       "                var nbb_cells = Jupyter.notebook.get_cells();\n",
       "                for (var i = 0; i < nbb_cells.length; ++i) {\n",
       "                    if (nbb_cells[i].input_prompt_number == nbb_cell_id) {\n",
       "                        if (nbb_cells[i].get_text() == nbb_unformatted_code) {\n",
       "                             nbb_cells[i].set_text(nbb_formatted_code);\n",
       "                        }\n",
       "                        break;\n",
       "                    }\n",
       "                }\n",
       "            }, 500);\n",
       "            "
      ],
      "text/plain": [
       "<IPython.core.display.Javascript object>"
      ]
     },
     "metadata": {},
     "output_type": "display_data"
    }
   ],
   "source": [
    "from pyspark.sql import SparkSession\n",
    "import pyspark.sql.functions as F\n",
    "from pyspark.sql import types as T\n",
    "\n",
    "spark = SparkSession.builder.appName(\"DataFrame Joins - UFC data\").getOrCreate()"
   ]
  },
  {
   "cell_type": "code",
   "execution_count": 3,
   "metadata": {},
   "outputs": [
    {
     "data": {
      "text/html": [
       "\n",
       "            <div>\n",
       "                <p><b>SparkSession - in-memory</b></p>\n",
       "                \n",
       "        <div>\n",
       "            <p><b>SparkContext</b></p>\n",
       "\n",
       "            <p><a href=\"http://localhost:4040\">Spark UI</a></p>\n",
       "\n",
       "            <dl>\n",
       "              <dt>Version</dt>\n",
       "                <dd><code>v2.4.4</code></dd>\n",
       "              <dt>Master</dt>\n",
       "                <dd><code>local[*]</code></dd>\n",
       "              <dt>AppName</dt>\n",
       "                <dd><code>DataFrame Joins - UFC data</code></dd>\n",
       "            </dl>\n",
       "        </div>\n",
       "        \n",
       "            </div>\n",
       "        "
      ],
      "text/plain": [
       "<pyspark.sql.session.SparkSession at 0x7fd9486b8b38>"
      ]
     },
     "execution_count": 3,
     "metadata": {},
     "output_type": "execute_result"
    },
    {
     "data": {
      "application/javascript": [
       "\n",
       "            setTimeout(function() {\n",
       "                var nbb_cell_id = 3;\n",
       "                var nbb_unformatted_code = \"spark\";\n",
       "                var nbb_formatted_code = \"spark\";\n",
       "                var nbb_cells = Jupyter.notebook.get_cells();\n",
       "                for (var i = 0; i < nbb_cells.length; ++i) {\n",
       "                    if (nbb_cells[i].input_prompt_number == nbb_cell_id) {\n",
       "                        if (nbb_cells[i].get_text() == nbb_unformatted_code) {\n",
       "                             nbb_cells[i].set_text(nbb_formatted_code);\n",
       "                        }\n",
       "                        break;\n",
       "                    }\n",
       "                }\n",
       "            }, 500);\n",
       "            "
      ],
      "text/plain": [
       "<IPython.core.display.Javascript object>"
      ]
     },
     "metadata": {},
     "output_type": "display_data"
    }
   ],
   "source": [
    "spark"
   ]
  },
  {
   "cell_type": "markdown",
   "metadata": {},
   "source": [
    "#### Load data"
   ]
  },
  {
   "cell_type": "code",
   "execution_count": 4,
   "metadata": {},
   "outputs": [
    {
     "name": "stdout",
     "output_type": "stream",
     "text": [
      "['raw_total_fight_data.csv', 'raw_fighter_details.csv', 'data.csv']\n"
     ]
    },
    {
     "data": {
      "application/javascript": [
       "\n",
       "            setTimeout(function() {\n",
       "                var nbb_cell_id = 4;\n",
       "                var nbb_unformatted_code = \"import os\\nfrom os.path import isfile, join\\n\\nloc = os.path.abspath(\\\"\\\")\\ndata_loc = f\\\"{loc}/data/ufcdata/\\\"\\ndata_files = [f for f in os.listdir(data_loc) if isfile(join(data_loc, f))]\\nprint(data_files)\";\n",
       "                var nbb_formatted_code = \"import os\\nfrom os.path import isfile, join\\n\\nloc = os.path.abspath(\\\"\\\")\\ndata_loc = f\\\"{loc}/data/ufcdata/\\\"\\ndata_files = [f for f in os.listdir(data_loc) if isfile(join(data_loc, f))]\\nprint(data_files)\";\n",
       "                var nbb_cells = Jupyter.notebook.get_cells();\n",
       "                for (var i = 0; i < nbb_cells.length; ++i) {\n",
       "                    if (nbb_cells[i].input_prompt_number == nbb_cell_id) {\n",
       "                        if (nbb_cells[i].get_text() == nbb_unformatted_code) {\n",
       "                             nbb_cells[i].set_text(nbb_formatted_code);\n",
       "                        }\n",
       "                        break;\n",
       "                    }\n",
       "                }\n",
       "            }, 500);\n",
       "            "
      ],
      "text/plain": [
       "<IPython.core.display.Javascript object>"
      ]
     },
     "metadata": {},
     "output_type": "display_data"
    }
   ],
   "source": [
    "import os\n",
    "from os.path import isfile, join\n",
    "\n",
    "loc = os.path.abspath(\"\")\n",
    "data_loc = f\"{loc}/data/ufcdata/\"\n",
    "data_files = [f for f in os.listdir(data_loc) if isfile(join(data_loc, f))]\n",
    "print(data_files)"
   ]
  },
  {
   "cell_type": "markdown",
   "metadata": {},
   "source": [
    "Load all the files in a dictionary and set the keys as the file names (for easy access)."
   ]
  },
  {
   "cell_type": "code",
   "execution_count": 5,
   "metadata": {
    "scrolled": true
   },
   "outputs": [
    {
     "name": "stdout",
     "output_type": "stream",
     "text": [
      "dict_keys(['raw_total_fight_data', 'raw_fighter_details', 'data'])\n"
     ]
    },
    {
     "data": {
      "application/javascript": [
       "\n",
       "            setTimeout(function() {\n",
       "                var nbb_cell_id = 5;\n",
       "                var nbb_unformatted_code = \"data = {}\\nfor file in data_files:\\n    data[file[:-4]] = spark.read.csv(f\\\"{data_loc}{file}\\\", inferSchema=True, header=True)\\n    data[file[:-4]].createOrReplaceTempView(f\\\"data_{file[:-4]}\\\")\\nprint(data.keys())\";\n",
       "                var nbb_formatted_code = \"data = {}\\nfor file in data_files:\\n    data[file[:-4]] = spark.read.csv(f\\\"{data_loc}{file}\\\", inferSchema=True, header=True)\\n    data[file[:-4]].createOrReplaceTempView(f\\\"data_{file[:-4]}\\\")\\nprint(data.keys())\";\n",
       "                var nbb_cells = Jupyter.notebook.get_cells();\n",
       "                for (var i = 0; i < nbb_cells.length; ++i) {\n",
       "                    if (nbb_cells[i].input_prompt_number == nbb_cell_id) {\n",
       "                        if (nbb_cells[i].get_text() == nbb_unformatted_code) {\n",
       "                             nbb_cells[i].set_text(nbb_formatted_code);\n",
       "                        }\n",
       "                        break;\n",
       "                    }\n",
       "                }\n",
       "            }, 500);\n",
       "            "
      ],
      "text/plain": [
       "<IPython.core.display.Javascript object>"
      ]
     },
     "metadata": {},
     "output_type": "display_data"
    }
   ],
   "source": [
    "data = {}\n",
    "for file in data_files:\n",
    "    data[file[:-4]] = spark.read.csv(f\"{data_loc}{file}\", inferSchema=True, header=True)\n",
    "    data[file[:-4]].createOrReplaceTempView(f\"data_{file[:-4]}\")\n",
    "print(data.keys())"
   ]
  },
  {
   "cell_type": "markdown",
   "metadata": {},
   "source": [
    "We want to use only the data from the 2017 onwards and we'll create two new columns, with the Winner name and the Loser name rather than have Red and Blue as we have currently."
   ]
  },
  {
   "cell_type": "code",
   "execution_count": 6,
   "metadata": {},
   "outputs": [
    {
     "data": {
      "application/javascript": [
       "\n",
       "            setTimeout(function() {\n",
       "                var nbb_cell_id = 6;\n",
       "                var nbb_unformatted_code = \"data[\\\"data\\\"] = (\\n    data[\\\"data\\\"]\\n    .where(F.col(\\\"date\\\") > \\\"2017-01-01\\\")\\n    .withColumn(\\n        \\\"Winner_name\\\",\\n        F.when(F.col(\\\"Winner\\\") == \\\"Red\\\", F.col(\\\"R_fighter\\\")).otherwise(\\n            F.col(\\\"B_fighter\\\")\\n        ),\\n    )\\n    .withColumn(\\n        \\\"Loser_name\\\",\\n        F.when(F.col(\\\"Winner\\\") == \\\"Red\\\", F.col(\\\"B_fighter\\\")).otherwise(\\n            F.col(\\\"R_fighter\\\")\\n        ),\\n    )\\n)\";\n",
       "                var nbb_formatted_code = \"data[\\\"data\\\"] = (\\n    data[\\\"data\\\"]\\n    .where(F.col(\\\"date\\\") > \\\"2017-01-01\\\")\\n    .withColumn(\\n        \\\"Winner_name\\\",\\n        F.when(F.col(\\\"Winner\\\") == \\\"Red\\\", F.col(\\\"R_fighter\\\")).otherwise(\\n            F.col(\\\"B_fighter\\\")\\n        ),\\n    )\\n    .withColumn(\\n        \\\"Loser_name\\\",\\n        F.when(F.col(\\\"Winner\\\") == \\\"Red\\\", F.col(\\\"B_fighter\\\")).otherwise(\\n            F.col(\\\"R_fighter\\\")\\n        ),\\n    )\\n)\";\n",
       "                var nbb_cells = Jupyter.notebook.get_cells();\n",
       "                for (var i = 0; i < nbb_cells.length; ++i) {\n",
       "                    if (nbb_cells[i].input_prompt_number == nbb_cell_id) {\n",
       "                        if (nbb_cells[i].get_text() == nbb_unformatted_code) {\n",
       "                             nbb_cells[i].set_text(nbb_formatted_code);\n",
       "                        }\n",
       "                        break;\n",
       "                    }\n",
       "                }\n",
       "            }, 500);\n",
       "            "
      ],
      "text/plain": [
       "<IPython.core.display.Javascript object>"
      ]
     },
     "metadata": {},
     "output_type": "display_data"
    }
   ],
   "source": [
    "data[\"data\"] = (\n",
    "    data[\"data\"]\n",
    "    .where(F.col(\"date\") > \"2017-01-01\")\n",
    "    .withColumn(\n",
    "        \"Winner_name\",\n",
    "        F.when(F.col(\"Winner\") == \"Red\", F.col(\"R_fighter\")).otherwise(\n",
    "            F.col(\"B_fighter\")\n",
    "        ),\n",
    "    )\n",
    "    .withColumn(\n",
    "        \"Loser_name\",\n",
    "        F.when(F.col(\"Winner\") == \"Red\", F.col(\"B_fighter\")).otherwise(\n",
    "            F.col(\"R_fighter\")\n",
    "        ),\n",
    "    )\n",
    ")"
   ]
  },
  {
   "cell_type": "markdown",
   "metadata": {},
   "source": [
    "Now we can group by the winner and the loser name, we create two dataframes where we count the number of wins and losses for each fighter.\n",
    "\n",
    "I renamed the columns Winner_name and Loser_name to a common name so we can join the two in the next step. \n"
   ]
  },
  {
   "cell_type": "code",
   "execution_count": 7,
   "metadata": {},
   "outputs": [
    {
     "data": {
      "application/javascript": [
       "\n",
       "            setTimeout(function() {\n",
       "                var nbb_cell_id = 7;\n",
       "                var nbb_unformatted_code = \"losses = (\\n    data[\\\"data\\\"]\\n    .withColumnRenamed(\\\"Loser_name\\\", \\\"name\\\")\\n    .groupBy(\\\"name\\\")\\n    .count()\\n    .select(\\\"name\\\", F.col(\\\"count\\\").alias(\\\"losses\\\"))\\n)\\n\\nwins = (\\n    data[\\\"data\\\"]\\n    .withColumnRenamed(\\\"Winner_name\\\", \\\"name\\\")\\n    .groupBy(\\\"name\\\")\\n    .count()\\n    .select(\\\"name\\\", F.col(\\\"count\\\").alias(\\\"wins\\\"))\\n)\";\n",
       "                var nbb_formatted_code = \"losses = (\\n    data[\\\"data\\\"]\\n    .withColumnRenamed(\\\"Loser_name\\\", \\\"name\\\")\\n    .groupBy(\\\"name\\\")\\n    .count()\\n    .select(\\\"name\\\", F.col(\\\"count\\\").alias(\\\"losses\\\"))\\n)\\n\\nwins = (\\n    data[\\\"data\\\"]\\n    .withColumnRenamed(\\\"Winner_name\\\", \\\"name\\\")\\n    .groupBy(\\\"name\\\")\\n    .count()\\n    .select(\\\"name\\\", F.col(\\\"count\\\").alias(\\\"wins\\\"))\\n)\";\n",
       "                var nbb_cells = Jupyter.notebook.get_cells();\n",
       "                for (var i = 0; i < nbb_cells.length; ++i) {\n",
       "                    if (nbb_cells[i].input_prompt_number == nbb_cell_id) {\n",
       "                        if (nbb_cells[i].get_text() == nbb_unformatted_code) {\n",
       "                             nbb_cells[i].set_text(nbb_formatted_code);\n",
       "                        }\n",
       "                        break;\n",
       "                    }\n",
       "                }\n",
       "            }, 500);\n",
       "            "
      ],
      "text/plain": [
       "<IPython.core.display.Javascript object>"
      ]
     },
     "metadata": {},
     "output_type": "display_data"
    }
   ],
   "source": [
    "losses = (\n",
    "    data[\"data\"]\n",
    "    .withColumnRenamed(\"Loser_name\", \"name\")\n",
    "    .groupBy(\"name\")\n",
    "    .count()\n",
    "    .select(\"name\", F.col(\"count\").alias(\"losses\"))\n",
    ")\n",
    "\n",
    "wins = (\n",
    "    data[\"data\"]\n",
    "    .withColumnRenamed(\"Winner_name\", \"name\")\n",
    "    .groupBy(\"name\")\n",
    "    .count()\n",
    "    .select(\"name\", F.col(\"count\").alias(\"wins\"))\n",
    ")"
   ]
  },
  {
   "cell_type": "markdown",
   "metadata": {},
   "source": [
    "Before we start the join we need to count the total distinct number of figthers that fought in any of the red or blue corners.\n",
    "\n",
    "This number servers as a check for when we do our join, we need to make sure that they match. \n",
    "\n",
    "The reason is that we need to make sure we include all the fighters regardless whether they won or lost any fights."
   ]
  },
  {
   "cell_type": "code",
   "execution_count": 8,
   "metadata": {},
   "outputs": [
    {
     "name": "stdout",
     "output_type": "stream",
     "text": [
      "763\n"
     ]
    },
    {
     "data": {
      "application/javascript": [
       "\n",
       "            setTimeout(function() {\n",
       "                var nbb_cell_id = 8;\n",
       "                var nbb_unformatted_code = \"red = data[\\\"data\\\"].select(\\\"R_fighter\\\").distinct()\\nblue = data[\\\"data\\\"].select(\\\"B_fighter\\\").distinct()\\ncheck = red.union(blue).distinct().count()\\nprint(check)\";\n",
       "                var nbb_formatted_code = \"red = data[\\\"data\\\"].select(\\\"R_fighter\\\").distinct()\\nblue = data[\\\"data\\\"].select(\\\"B_fighter\\\").distinct()\\ncheck = red.union(blue).distinct().count()\\nprint(check)\";\n",
       "                var nbb_cells = Jupyter.notebook.get_cells();\n",
       "                for (var i = 0; i < nbb_cells.length; ++i) {\n",
       "                    if (nbb_cells[i].input_prompt_number == nbb_cell_id) {\n",
       "                        if (nbb_cells[i].get_text() == nbb_unformatted_code) {\n",
       "                             nbb_cells[i].set_text(nbb_formatted_code);\n",
       "                        }\n",
       "                        break;\n",
       "                    }\n",
       "                }\n",
       "            }, 500);\n",
       "            "
      ],
      "text/plain": [
       "<IPython.core.display.Javascript object>"
      ]
     },
     "metadata": {},
     "output_type": "display_data"
    }
   ],
   "source": [
    "red = data[\"data\"].select(\"R_fighter\").distinct()\n",
    "blue = data[\"data\"].select(\"B_fighter\").distinct()\n",
    "check = red.union(blue).distinct().count()\n",
    "print(check)"
   ]
  },
  {
   "cell_type": "markdown",
   "metadata": {},
   "source": [
    "And here are the distinct counts for each of the wins and losses dataframes."
   ]
  },
  {
   "cell_type": "code",
   "execution_count": 9,
   "metadata": {},
   "outputs": [
    {
     "name": "stdout",
     "output_type": "stream",
     "text": [
      "535\n",
      "645\n"
     ]
    },
    {
     "data": {
      "application/javascript": [
       "\n",
       "            setTimeout(function() {\n",
       "                var nbb_cell_id = 9;\n",
       "                var nbb_unformatted_code = \"print(wins.distinct().count())\\nprint(losses.distinct().count())\";\n",
       "                var nbb_formatted_code = \"print(wins.distinct().count())\\nprint(losses.distinct().count())\";\n",
       "                var nbb_cells = Jupyter.notebook.get_cells();\n",
       "                for (var i = 0; i < nbb_cells.length; ++i) {\n",
       "                    if (nbb_cells[i].input_prompt_number == nbb_cell_id) {\n",
       "                        if (nbb_cells[i].get_text() == nbb_unformatted_code) {\n",
       "                             nbb_cells[i].set_text(nbb_formatted_code);\n",
       "                        }\n",
       "                        break;\n",
       "                    }\n",
       "                }\n",
       "            }, 500);\n",
       "            "
      ],
      "text/plain": [
       "<IPython.core.display.Javascript object>"
      ]
     },
     "metadata": {},
     "output_type": "display_data"
    }
   ],
   "source": [
    "print(wins.distinct().count())\n",
    "print(losses.distinct().count())"
   ]
  },
  {
   "cell_type": "markdown",
   "metadata": {},
   "source": [
    "#### Join types\n"
   ]
  },
  {
   "cell_type": "markdown",
   "metadata": {},
   "source": [
    "1. **Inner joins** (default) - keep the rows that exist in both left and right dataframes"
   ]
  },
  {
   "cell_type": "markdown",
   "metadata": {},
   "source": [
    "In this scenario, we keep only the fighters that have at least a win and a loss. If the fighter doesn't have any wins or losses he won't be included in the new dataframe.\n",
    "\n",
    "Inner joins are the default behaviour, the intersection, and they aren't useful in our case as we want to include fighters regardless whether they had losses or wins or not. "
   ]
  },
  {
   "cell_type": "code",
   "execution_count": 10,
   "metadata": {},
   "outputs": [
    {
     "name": "stdout",
     "output_type": "stream",
     "text": [
      "417\n"
     ]
    },
    {
     "data": {
      "application/javascript": [
       "\n",
       "            setTimeout(function() {\n",
       "                var nbb_cell_id = 10;\n",
       "                var nbb_unformatted_code = \"win_loss_data = wins.join(losses, \\\"name\\\")\\nprint(win_loss_data.distinct().count())\";\n",
       "                var nbb_formatted_code = \"win_loss_data = wins.join(losses, \\\"name\\\")\\nprint(win_loss_data.distinct().count())\";\n",
       "                var nbb_cells = Jupyter.notebook.get_cells();\n",
       "                for (var i = 0; i < nbb_cells.length; ++i) {\n",
       "                    if (nbb_cells[i].input_prompt_number == nbb_cell_id) {\n",
       "                        if (nbb_cells[i].get_text() == nbb_unformatted_code) {\n",
       "                             nbb_cells[i].set_text(nbb_formatted_code);\n",
       "                        }\n",
       "                        break;\n",
       "                    }\n",
       "                }\n",
       "            }, 500);\n",
       "            "
      ],
      "text/plain": [
       "<IPython.core.display.Javascript object>"
      ]
     },
     "metadata": {},
     "output_type": "display_data"
    }
   ],
   "source": [
    "win_loss_data = wins.join(losses, \"name\")\n",
    "print(win_loss_data.distinct().count())"
   ]
  },
  {
   "cell_type": "markdown",
   "metadata": {},
   "source": [
    "2. **Left joins** - keep the rows with keys in the left dataframe"
   ]
  },
  {
   "cell_type": "markdown",
   "metadata": {},
   "source": [
    "In this scenario we keep only the fighters that had at least a win. \n",
    "\n",
    "Again, it's not useful to us as we ignore the figthers that only lost, 215 fighters in this case."
   ]
  },
  {
   "cell_type": "code",
   "execution_count": 11,
   "metadata": {
    "scrolled": true
   },
   "outputs": [
    {
     "name": "stdout",
     "output_type": "stream",
     "text": [
      "535\n"
     ]
    },
    {
     "data": {
      "application/javascript": [
       "\n",
       "            setTimeout(function() {\n",
       "                var nbb_cell_id = 11;\n",
       "                var nbb_unformatted_code = \"win_loss_data = wins.join(losses, \\\"name\\\", \\\"left\\\")\\nprint(win_loss_data.distinct().count())\";\n",
       "                var nbb_formatted_code = \"win_loss_data = wins.join(losses, \\\"name\\\", \\\"left\\\")\\nprint(win_loss_data.distinct().count())\";\n",
       "                var nbb_cells = Jupyter.notebook.get_cells();\n",
       "                for (var i = 0; i < nbb_cells.length; ++i) {\n",
       "                    if (nbb_cells[i].input_prompt_number == nbb_cell_id) {\n",
       "                        if (nbb_cells[i].get_text() == nbb_unformatted_code) {\n",
       "                             nbb_cells[i].set_text(nbb_formatted_code);\n",
       "                        }\n",
       "                        break;\n",
       "                    }\n",
       "                }\n",
       "            }, 500);\n",
       "            "
      ],
      "text/plain": [
       "<IPython.core.display.Javascript object>"
      ]
     },
     "metadata": {},
     "output_type": "display_data"
    }
   ],
   "source": [
    "win_loss_data = wins.join(losses, \"name\", \"left\")\n",
    "print(win_loss_data.distinct().count())"
   ]
  },
  {
   "cell_type": "markdown",
   "metadata": {},
   "source": [
    "3. **Right joins** - keep the rows with keys in the right dataframe"
   ]
  },
  {
   "cell_type": "markdown",
   "metadata": {},
   "source": [
    "In this scenario we keep only the fighters that had at least a loss. \n"
   ]
  },
  {
   "cell_type": "code",
   "execution_count": 12,
   "metadata": {},
   "outputs": [
    {
     "name": "stdout",
     "output_type": "stream",
     "text": [
      "645\n"
     ]
    },
    {
     "data": {
      "application/javascript": [
       "\n",
       "            setTimeout(function() {\n",
       "                var nbb_cell_id = 12;\n",
       "                var nbb_unformatted_code = \"win_loss_data = wins.join(losses, \\\"name\\\", \\\"right\\\")\\nprint(win_loss_data.distinct().count())\";\n",
       "                var nbb_formatted_code = \"win_loss_data = wins.join(losses, \\\"name\\\", \\\"right\\\")\\nprint(win_loss_data.distinct().count())\";\n",
       "                var nbb_cells = Jupyter.notebook.get_cells();\n",
       "                for (var i = 0; i < nbb_cells.length; ++i) {\n",
       "                    if (nbb_cells[i].input_prompt_number == nbb_cell_id) {\n",
       "                        if (nbb_cells[i].get_text() == nbb_unformatted_code) {\n",
       "                             nbb_cells[i].set_text(nbb_formatted_code);\n",
       "                        }\n",
       "                        break;\n",
       "                    }\n",
       "                }\n",
       "            }, 500);\n",
       "            "
      ],
      "text/plain": [
       "<IPython.core.display.Javascript object>"
      ]
     },
     "metadata": {},
     "output_type": "display_data"
    }
   ],
   "source": [
    "win_loss_data = wins.join(losses, \"name\", \"right\")\n",
    "print(win_loss_data.distinct().count())"
   ]
  },
  {
   "cell_type": "markdown",
   "metadata": {},
   "source": [
    "4. **Outer joins** - keep rows with keys in either the left or right dataframe"
   ]
  },
  {
   "cell_type": "markdown",
   "metadata": {},
   "source": [
    "This is the behaviour we want in this case, to make sure we include all fighters."
   ]
  },
  {
   "cell_type": "code",
   "execution_count": 13,
   "metadata": {},
   "outputs": [
    {
     "name": "stdout",
     "output_type": "stream",
     "text": [
      "763\n"
     ]
    },
    {
     "data": {
      "application/javascript": [
       "\n",
       "            setTimeout(function() {\n",
       "                var nbb_cell_id = 13;\n",
       "                var nbb_unformatted_code = \"win_loss_data = wins.join(losses, \\\"name\\\", \\\"outer\\\")\\nprint(win_loss_data.distinct().count())\";\n",
       "                var nbb_formatted_code = \"win_loss_data = wins.join(losses, \\\"name\\\", \\\"outer\\\")\\nprint(win_loss_data.distinct().count())\";\n",
       "                var nbb_cells = Jupyter.notebook.get_cells();\n",
       "                for (var i = 0; i < nbb_cells.length; ++i) {\n",
       "                    if (nbb_cells[i].input_prompt_number == nbb_cell_id) {\n",
       "                        if (nbb_cells[i].get_text() == nbb_unformatted_code) {\n",
       "                             nbb_cells[i].set_text(nbb_formatted_code);\n",
       "                        }\n",
       "                        break;\n",
       "                    }\n",
       "                }\n",
       "            }, 500);\n",
       "            "
      ],
      "text/plain": [
       "<IPython.core.display.Javascript object>"
      ]
     },
     "metadata": {},
     "output_type": "display_data"
    }
   ],
   "source": [
    "win_loss_data = wins.join(losses, \"name\", \"outer\")\n",
    "print(win_loss_data.distinct().count())"
   ]
  },
  {
   "cell_type": "code",
   "execution_count": 14,
   "metadata": {
    "scrolled": true
   },
   "outputs": [
    {
     "name": "stdout",
     "output_type": "stream",
     "text": [
      "+--------------------+----+------+\n",
      "|                name|wins|losses|\n",
      "+--------------------+----+------+\n",
      "|       Thiago Santos|   8|     1|\n",
      "|     Israel Adesanya|   6|  null|\n",
      "|Alexander Volkano...|   6|  null|\n",
      "|Anthony Rocco Martin|   6|     1|\n",
      "|   Aljamain Sterling|   6|     2|\n",
      "+--------------------+----+------+\n",
      "only showing top 5 rows\n",
      "\n"
     ]
    },
    {
     "data": {
      "application/javascript": [
       "\n",
       "            setTimeout(function() {\n",
       "                var nbb_cell_id = 14;\n",
       "                var nbb_unformatted_code = \"win_loss_data.orderBy(F.desc(\\\"wins\\\")).show(5)\";\n",
       "                var nbb_formatted_code = \"win_loss_data.orderBy(F.desc(\\\"wins\\\")).show(5)\";\n",
       "                var nbb_cells = Jupyter.notebook.get_cells();\n",
       "                for (var i = 0; i < nbb_cells.length; ++i) {\n",
       "                    if (nbb_cells[i].input_prompt_number == nbb_cell_id) {\n",
       "                        if (nbb_cells[i].get_text() == nbb_unformatted_code) {\n",
       "                             nbb_cells[i].set_text(nbb_formatted_code);\n",
       "                        }\n",
       "                        break;\n",
       "                    }\n",
       "                }\n",
       "            }, 500);\n",
       "            "
      ],
      "text/plain": [
       "<IPython.core.display.Javascript object>"
      ]
     },
     "metadata": {},
     "output_type": "display_data"
    }
   ],
   "source": [
    "win_loss_data.orderBy(F.desc(\"wins\")).show(5)"
   ]
  },
  {
   "cell_type": "markdown",
   "metadata": {},
   "source": [
    "Now let's join this newly created dataframe with the raw_fighter_details dataframe. \n",
    "\n",
    "We're going to use a left join as we only want to keep the keys from the left dataframe."
   ]
  },
  {
   "cell_type": "code",
   "execution_count": 15,
   "metadata": {},
   "outputs": [
    {
     "data": {
      "application/javascript": [
       "\n",
       "            setTimeout(function() {\n",
       "                var nbb_cell_id = 15;\n",
       "                var nbb_unformatted_code = \"win_loss_data = win_loss_data.join(\\n    data[\\\"raw_fighter_details\\\"].withColumnRenamed(\\\"fighter_name\\\", \\\"name\\\"),\\n    \\\"name\\\",\\n    \\\"left\\\",\\n)\";\n",
       "                var nbb_formatted_code = \"win_loss_data = win_loss_data.join(\\n    data[\\\"raw_fighter_details\\\"].withColumnRenamed(\\\"fighter_name\\\", \\\"name\\\"),\\n    \\\"name\\\",\\n    \\\"left\\\",\\n)\";\n",
       "                var nbb_cells = Jupyter.notebook.get_cells();\n",
       "                for (var i = 0; i < nbb_cells.length; ++i) {\n",
       "                    if (nbb_cells[i].input_prompt_number == nbb_cell_id) {\n",
       "                        if (nbb_cells[i].get_text() == nbb_unformatted_code) {\n",
       "                             nbb_cells[i].set_text(nbb_formatted_code);\n",
       "                        }\n",
       "                        break;\n",
       "                    }\n",
       "                }\n",
       "            }, 500);\n",
       "            "
      ],
      "text/plain": [
       "<IPython.core.display.Javascript object>"
      ]
     },
     "metadata": {},
     "output_type": "display_data"
    }
   ],
   "source": [
    "win_loss_data = win_loss_data.join(\n",
    "    data[\"raw_fighter_details\"].withColumnRenamed(\"fighter_name\", \"name\"),\n",
    "    \"name\",\n",
    "    \"left\",\n",
    ")"
   ]
  },
  {
   "cell_type": "markdown",
   "metadata": {},
   "source": [
    "Let's calculate each fighter's age and just select the name, wins or losses and age. "
   ]
  },
  {
   "cell_type": "code",
   "execution_count": 16,
   "metadata": {
    "scrolled": false
   },
   "outputs": [
    {
     "data": {
      "application/javascript": [
       "\n",
       "            setTimeout(function() {\n",
       "                var nbb_cell_id = 16;\n",
       "                var nbb_unformatted_code = \"win_loss_data = (\\n    win_loss_data.withColumn(\\\"birthday\\\", F.to_date(F.col(\\\"DOB\\\"), \\\"MMM dd, yyyy\\\"))\\n    .withColumn(\\n        \\\"age\\\", F.round(F.months_between(F.current_date(), F.col(\\\"birthday\\\")) / 12, 1)\\n    )\\n    .select(\\\"name\\\", \\\"wins\\\", \\\"losses\\\", \\\"age\\\")\\n)\";\n",
       "                var nbb_formatted_code = \"win_loss_data = (\\n    win_loss_data.withColumn(\\\"birthday\\\", F.to_date(F.col(\\\"DOB\\\"), \\\"MMM dd, yyyy\\\"))\\n    .withColumn(\\n        \\\"age\\\", F.round(F.months_between(F.current_date(), F.col(\\\"birthday\\\")) / 12, 1)\\n    )\\n    .select(\\\"name\\\", \\\"wins\\\", \\\"losses\\\", \\\"age\\\")\\n)\";\n",
       "                var nbb_cells = Jupyter.notebook.get_cells();\n",
       "                for (var i = 0; i < nbb_cells.length; ++i) {\n",
       "                    if (nbb_cells[i].input_prompt_number == nbb_cell_id) {\n",
       "                        if (nbb_cells[i].get_text() == nbb_unformatted_code) {\n",
       "                             nbb_cells[i].set_text(nbb_formatted_code);\n",
       "                        }\n",
       "                        break;\n",
       "                    }\n",
       "                }\n",
       "            }, 500);\n",
       "            "
      ],
      "text/plain": [
       "<IPython.core.display.Javascript object>"
      ]
     },
     "metadata": {},
     "output_type": "display_data"
    }
   ],
   "source": [
    "win_loss_data = (\n",
    "    win_loss_data.withColumn(\"birthday\", F.to_date(F.col(\"DOB\"), \"MMM dd, yyyy\"))\n",
    "    .withColumn(\n",
    "        \"age\", F.round(F.months_between(F.current_date(), F.col(\"birthday\")) / 12, 1)\n",
    "    )\n",
    "    .select(\"name\", \"wins\", \"losses\", \"age\")\n",
    ")"
   ]
  },
  {
   "cell_type": "markdown",
   "metadata": {},
   "source": [
    "Order by age and the number of wins to be higher than an arbitrary 5."
   ]
  },
  {
   "cell_type": "code",
   "execution_count": 17,
   "metadata": {},
   "outputs": [
    {
     "name": "stdout",
     "output_type": "stream",
     "text": [
      "+--------------------+----+------+----+\n",
      "|                name|wins|losses| age|\n",
      "+--------------------+----+------+----+\n",
      "|     Israel Adesanya|   6|  null|30.5|\n",
      "|      Dustin Poirier|   6|  null|31.0|\n",
      "|Alexander Volkano...|   6|  null|31.3|\n",
      "|        Kamaru Usman|   6|  null|32.7|\n",
      "+--------------------+----+------+----+\n",
      "\n"
     ]
    },
    {
     "data": {
      "application/javascript": [
       "\n",
       "            setTimeout(function() {\n",
       "                var nbb_cell_id = 17;\n",
       "                var nbb_unformatted_code = \"win_loss_data.where(F.col(\\\"losses\\\").isNull()).orderBy(\\n    F.asc(\\\"age\\\"), F.desc(\\\"wins\\\")\\n).where(\\\"wins > 5\\\").show()\";\n",
       "                var nbb_formatted_code = \"win_loss_data.where(F.col(\\\"losses\\\").isNull()).orderBy(\\n    F.asc(\\\"age\\\"), F.desc(\\\"wins\\\")\\n).where(\\\"wins > 5\\\").show()\";\n",
       "                var nbb_cells = Jupyter.notebook.get_cells();\n",
       "                for (var i = 0; i < nbb_cells.length; ++i) {\n",
       "                    if (nbb_cells[i].input_prompt_number == nbb_cell_id) {\n",
       "                        if (nbb_cells[i].get_text() == nbb_unformatted_code) {\n",
       "                             nbb_cells[i].set_text(nbb_formatted_code);\n",
       "                        }\n",
       "                        break;\n",
       "                    }\n",
       "                }\n",
       "            }, 500);\n",
       "            "
      ],
      "text/plain": [
       "<IPython.core.display.Javascript object>"
      ]
     },
     "metadata": {},
     "output_type": "display_data"
    }
   ],
   "source": [
    "win_loss_data.where(F.col(\"losses\").isNull()).orderBy(\n",
    "    F.asc(\"age\"), F.desc(\"wins\")\n",
    ").where(\"wins > 5\").show()"
   ]
  },
  {
   "cell_type": "code",
   "execution_count": null,
   "metadata": {},
   "outputs": [],
   "source": []
  }
 ],
 "metadata": {
  "kernelspec": {
   "display_name": "Python 3",
   "language": "python",
   "name": "python3"
  },
  "language_info": {
   "codemirror_mode": {
    "name": "ipython",
    "version": 3
   },
   "file_extension": ".py",
   "mimetype": "text/x-python",
   "name": "python",
   "nbconvert_exporter": "python",
   "pygments_lexer": "ipython3",
   "version": "3.7.3"
  }
 },
 "nbformat": 4,
 "nbformat_minor": 2
}
